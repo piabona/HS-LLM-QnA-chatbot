{
  "nbformat": 4,
  "nbformat_minor": 0,
  "metadata": {
    "colab": {
      "provenance": [],
      "machine_shape": "hm",
      "gpuType": "A100",
      "toc_visible": true
    },
    "kernelspec": {
      "name": "python3",
      "display_name": "Python 3"
    },
    "language_info": {
      "name": "python"
    },
    "accelerator": "GPU",
    "widgets": {
      "application/vnd.jupyter.widget-state+json": {
        "ebdd3d2814424b53a0f868f59cb37171": {
          "model_module": "@jupyter-widgets/controls",
          "model_name": "HBoxModel",
          "model_module_version": "1.5.0",
          "state": {
            "_dom_classes": [],
            "_model_module": "@jupyter-widgets/controls",
            "_model_module_version": "1.5.0",
            "_model_name": "HBoxModel",
            "_view_count": null,
            "_view_module": "@jupyter-widgets/controls",
            "_view_module_version": "1.5.0",
            "_view_name": "HBoxView",
            "box_style": "",
            "children": [
              "IPY_MODEL_a66d1f127cc5414bae684171821640f2",
              "IPY_MODEL_22b6e7e9ec024f7695b9dbd528801408",
              "IPY_MODEL_e4464c229cd545b898691d5d4a2e38fb"
            ],
            "layout": "IPY_MODEL_7796b3ade6d64c11b232204137167d27"
          }
        },
        "a66d1f127cc5414bae684171821640f2": {
          "model_module": "@jupyter-widgets/controls",
          "model_name": "HTMLModel",
          "model_module_version": "1.5.0",
          "state": {
            "_dom_classes": [],
            "_model_module": "@jupyter-widgets/controls",
            "_model_module_version": "1.5.0",
            "_model_name": "HTMLModel",
            "_view_count": null,
            "_view_module": "@jupyter-widgets/controls",
            "_view_module_version": "1.5.0",
            "_view_name": "HTMLView",
            "description": "",
            "description_tooltip": null,
            "layout": "IPY_MODEL_c5bf80b8ff6b4012ab58853634580379",
            "placeholder": "​",
            "style": "IPY_MODEL_ea0111553d0149409a61c9f4ae990319",
            "value": "model.safetensors.index.json: 100%"
          }
        },
        "22b6e7e9ec024f7695b9dbd528801408": {
          "model_module": "@jupyter-widgets/controls",
          "model_name": "FloatProgressModel",
          "model_module_version": "1.5.0",
          "state": {
            "_dom_classes": [],
            "_model_module": "@jupyter-widgets/controls",
            "_model_module_version": "1.5.0",
            "_model_name": "FloatProgressModel",
            "_view_count": null,
            "_view_module": "@jupyter-widgets/controls",
            "_view_module_version": "1.5.0",
            "_view_name": "ProgressView",
            "bar_style": "success",
            "description": "",
            "description_tooltip": null,
            "layout": "IPY_MODEL_ba5a0190ad24487397fa82dc60b097f0",
            "max": 35838,
            "min": 0,
            "orientation": "horizontal",
            "style": "IPY_MODEL_9795f657166c43018137bcea7a7a5595",
            "value": 35838
          }
        },
        "e4464c229cd545b898691d5d4a2e38fb": {
          "model_module": "@jupyter-widgets/controls",
          "model_name": "HTMLModel",
          "model_module_version": "1.5.0",
          "state": {
            "_dom_classes": [],
            "_model_module": "@jupyter-widgets/controls",
            "_model_module_version": "1.5.0",
            "_model_name": "HTMLModel",
            "_view_count": null,
            "_view_module": "@jupyter-widgets/controls",
            "_view_module_version": "1.5.0",
            "_view_name": "HTMLView",
            "description": "",
            "description_tooltip": null,
            "layout": "IPY_MODEL_943ddb49c0124023bf1aec6c8c4f0d87",
            "placeholder": "​",
            "style": "IPY_MODEL_a371b2d14f474a22af15f561ed97b254",
            "value": " 35.8k/35.8k [00:00&lt;00:00, 2.85MB/s]"
          }
        },
        "7796b3ade6d64c11b232204137167d27": {
          "model_module": "@jupyter-widgets/base",
          "model_name": "LayoutModel",
          "model_module_version": "1.2.0",
          "state": {
            "_model_module": "@jupyter-widgets/base",
            "_model_module_version": "1.2.0",
            "_model_name": "LayoutModel",
            "_view_count": null,
            "_view_module": "@jupyter-widgets/base",
            "_view_module_version": "1.2.0",
            "_view_name": "LayoutView",
            "align_content": null,
            "align_items": null,
            "align_self": null,
            "border": null,
            "bottom": null,
            "display": null,
            "flex": null,
            "flex_flow": null,
            "grid_area": null,
            "grid_auto_columns": null,
            "grid_auto_flow": null,
            "grid_auto_rows": null,
            "grid_column": null,
            "grid_gap": null,
            "grid_row": null,
            "grid_template_areas": null,
            "grid_template_columns": null,
            "grid_template_rows": null,
            "height": null,
            "justify_content": null,
            "justify_items": null,
            "left": null,
            "margin": null,
            "max_height": null,
            "max_width": null,
            "min_height": null,
            "min_width": null,
            "object_fit": null,
            "object_position": null,
            "order": null,
            "overflow": null,
            "overflow_x": null,
            "overflow_y": null,
            "padding": null,
            "right": null,
            "top": null,
            "visibility": null,
            "width": null
          }
        },
        "c5bf80b8ff6b4012ab58853634580379": {
          "model_module": "@jupyter-widgets/base",
          "model_name": "LayoutModel",
          "model_module_version": "1.2.0",
          "state": {
            "_model_module": "@jupyter-widgets/base",
            "_model_module_version": "1.2.0",
            "_model_name": "LayoutModel",
            "_view_count": null,
            "_view_module": "@jupyter-widgets/base",
            "_view_module_version": "1.2.0",
            "_view_name": "LayoutView",
            "align_content": null,
            "align_items": null,
            "align_self": null,
            "border": null,
            "bottom": null,
            "display": null,
            "flex": null,
            "flex_flow": null,
            "grid_area": null,
            "grid_auto_columns": null,
            "grid_auto_flow": null,
            "grid_auto_rows": null,
            "grid_column": null,
            "grid_gap": null,
            "grid_row": null,
            "grid_template_areas": null,
            "grid_template_columns": null,
            "grid_template_rows": null,
            "height": null,
            "justify_content": null,
            "justify_items": null,
            "left": null,
            "margin": null,
            "max_height": null,
            "max_width": null,
            "min_height": null,
            "min_width": null,
            "object_fit": null,
            "object_position": null,
            "order": null,
            "overflow": null,
            "overflow_x": null,
            "overflow_y": null,
            "padding": null,
            "right": null,
            "top": null,
            "visibility": null,
            "width": null
          }
        },
        "ea0111553d0149409a61c9f4ae990319": {
          "model_module": "@jupyter-widgets/controls",
          "model_name": "DescriptionStyleModel",
          "model_module_version": "1.5.0",
          "state": {
            "_model_module": "@jupyter-widgets/controls",
            "_model_module_version": "1.5.0",
            "_model_name": "DescriptionStyleModel",
            "_view_count": null,
            "_view_module": "@jupyter-widgets/base",
            "_view_module_version": "1.2.0",
            "_view_name": "StyleView",
            "description_width": ""
          }
        },
        "ba5a0190ad24487397fa82dc60b097f0": {
          "model_module": "@jupyter-widgets/base",
          "model_name": "LayoutModel",
          "model_module_version": "1.2.0",
          "state": {
            "_model_module": "@jupyter-widgets/base",
            "_model_module_version": "1.2.0",
            "_model_name": "LayoutModel",
            "_view_count": null,
            "_view_module": "@jupyter-widgets/base",
            "_view_module_version": "1.2.0",
            "_view_name": "LayoutView",
            "align_content": null,
            "align_items": null,
            "align_self": null,
            "border": null,
            "bottom": null,
            "display": null,
            "flex": null,
            "flex_flow": null,
            "grid_area": null,
            "grid_auto_columns": null,
            "grid_auto_flow": null,
            "grid_auto_rows": null,
            "grid_column": null,
            "grid_gap": null,
            "grid_row": null,
            "grid_template_areas": null,
            "grid_template_columns": null,
            "grid_template_rows": null,
            "height": null,
            "justify_content": null,
            "justify_items": null,
            "left": null,
            "margin": null,
            "max_height": null,
            "max_width": null,
            "min_height": null,
            "min_width": null,
            "object_fit": null,
            "object_position": null,
            "order": null,
            "overflow": null,
            "overflow_x": null,
            "overflow_y": null,
            "padding": null,
            "right": null,
            "top": null,
            "visibility": null,
            "width": null
          }
        },
        "9795f657166c43018137bcea7a7a5595": {
          "model_module": "@jupyter-widgets/controls",
          "model_name": "ProgressStyleModel",
          "model_module_version": "1.5.0",
          "state": {
            "_model_module": "@jupyter-widgets/controls",
            "_model_module_version": "1.5.0",
            "_model_name": "ProgressStyleModel",
            "_view_count": null,
            "_view_module": "@jupyter-widgets/base",
            "_view_module_version": "1.2.0",
            "_view_name": "StyleView",
            "bar_color": null,
            "description_width": ""
          }
        },
        "943ddb49c0124023bf1aec6c8c4f0d87": {
          "model_module": "@jupyter-widgets/base",
          "model_name": "LayoutModel",
          "model_module_version": "1.2.0",
          "state": {
            "_model_module": "@jupyter-widgets/base",
            "_model_module_version": "1.2.0",
            "_model_name": "LayoutModel",
            "_view_count": null,
            "_view_module": "@jupyter-widgets/base",
            "_view_module_version": "1.2.0",
            "_view_name": "LayoutView",
            "align_content": null,
            "align_items": null,
            "align_self": null,
            "border": null,
            "bottom": null,
            "display": null,
            "flex": null,
            "flex_flow": null,
            "grid_area": null,
            "grid_auto_columns": null,
            "grid_auto_flow": null,
            "grid_auto_rows": null,
            "grid_column": null,
            "grid_gap": null,
            "grid_row": null,
            "grid_template_areas": null,
            "grid_template_columns": null,
            "grid_template_rows": null,
            "height": null,
            "justify_content": null,
            "justify_items": null,
            "left": null,
            "margin": null,
            "max_height": null,
            "max_width": null,
            "min_height": null,
            "min_width": null,
            "object_fit": null,
            "object_position": null,
            "order": null,
            "overflow": null,
            "overflow_x": null,
            "overflow_y": null,
            "padding": null,
            "right": null,
            "top": null,
            "visibility": null,
            "width": null
          }
        },
        "a371b2d14f474a22af15f561ed97b254": {
          "model_module": "@jupyter-widgets/controls",
          "model_name": "DescriptionStyleModel",
          "model_module_version": "1.5.0",
          "state": {
            "_model_module": "@jupyter-widgets/controls",
            "_model_module_version": "1.5.0",
            "_model_name": "DescriptionStyleModel",
            "_view_count": null,
            "_view_module": "@jupyter-widgets/base",
            "_view_module_version": "1.2.0",
            "_view_name": "StyleView",
            "description_width": ""
          }
        },
        "be73107f895a47389845d4974d8c4f18": {
          "model_module": "@jupyter-widgets/controls",
          "model_name": "HBoxModel",
          "model_module_version": "1.5.0",
          "state": {
            "_dom_classes": [],
            "_model_module": "@jupyter-widgets/controls",
            "_model_module_version": "1.5.0",
            "_model_name": "HBoxModel",
            "_view_count": null,
            "_view_module": "@jupyter-widgets/controls",
            "_view_module_version": "1.5.0",
            "_view_name": "HBoxView",
            "box_style": "",
            "children": [
              "IPY_MODEL_91c9c8c5c85340958d928a9a23dabca5",
              "IPY_MODEL_c1db534428f84105821c7e79bd666ef0",
              "IPY_MODEL_4387f5181553453f83f1b04e21b95a05"
            ],
            "layout": "IPY_MODEL_626e686f9609441b8148d3628e5a8317"
          }
        },
        "91c9c8c5c85340958d928a9a23dabca5": {
          "model_module": "@jupyter-widgets/controls",
          "model_name": "HTMLModel",
          "model_module_version": "1.5.0",
          "state": {
            "_dom_classes": [],
            "_model_module": "@jupyter-widgets/controls",
            "_model_module_version": "1.5.0",
            "_model_name": "HTMLModel",
            "_view_count": null,
            "_view_module": "@jupyter-widgets/controls",
            "_view_module_version": "1.5.0",
            "_view_name": "HTMLView",
            "description": "",
            "description_tooltip": null,
            "layout": "IPY_MODEL_edbe79881f7f4a03a7435cf92f4da46f",
            "placeholder": "​",
            "style": "IPY_MODEL_332518b37d7c4f938e06aefb4ecb79b9",
            "value": "Downloading shards: 100%"
          }
        },
        "c1db534428f84105821c7e79bd666ef0": {
          "model_module": "@jupyter-widgets/controls",
          "model_name": "FloatProgressModel",
          "model_module_version": "1.5.0",
          "state": {
            "_dom_classes": [],
            "_model_module": "@jupyter-widgets/controls",
            "_model_module_version": "1.5.0",
            "_model_name": "FloatProgressModel",
            "_view_count": null,
            "_view_module": "@jupyter-widgets/controls",
            "_view_module_version": "1.5.0",
            "_view_name": "ProgressView",
            "bar_style": "success",
            "description": "",
            "description_tooltip": null,
            "layout": "IPY_MODEL_30b037bc880e4e7e8c485248fc2fd1af",
            "max": 5,
            "min": 0,
            "orientation": "horizontal",
            "style": "IPY_MODEL_32e81b67c8124453b7738f0a7504bb32",
            "value": 5
          }
        },
        "4387f5181553453f83f1b04e21b95a05": {
          "model_module": "@jupyter-widgets/controls",
          "model_name": "HTMLModel",
          "model_module_version": "1.5.0",
          "state": {
            "_dom_classes": [],
            "_model_module": "@jupyter-widgets/controls",
            "_model_module_version": "1.5.0",
            "_model_name": "HTMLModel",
            "_view_count": null,
            "_view_module": "@jupyter-widgets/controls",
            "_view_module_version": "1.5.0",
            "_view_name": "HTMLView",
            "description": "",
            "description_tooltip": null,
            "layout": "IPY_MODEL_92d9c17e4b3a47bc91bb344fa8991f8e",
            "placeholder": "​",
            "style": "IPY_MODEL_fd87c920d090485b86aad7c4c311e3d0",
            "value": " 5/5 [01:02&lt;00:00, 11.04s/it]"
          }
        },
        "626e686f9609441b8148d3628e5a8317": {
          "model_module": "@jupyter-widgets/base",
          "model_name": "LayoutModel",
          "model_module_version": "1.2.0",
          "state": {
            "_model_module": "@jupyter-widgets/base",
            "_model_module_version": "1.2.0",
            "_model_name": "LayoutModel",
            "_view_count": null,
            "_view_module": "@jupyter-widgets/base",
            "_view_module_version": "1.2.0",
            "_view_name": "LayoutView",
            "align_content": null,
            "align_items": null,
            "align_self": null,
            "border": null,
            "bottom": null,
            "display": null,
            "flex": null,
            "flex_flow": null,
            "grid_area": null,
            "grid_auto_columns": null,
            "grid_auto_flow": null,
            "grid_auto_rows": null,
            "grid_column": null,
            "grid_gap": null,
            "grid_row": null,
            "grid_template_areas": null,
            "grid_template_columns": null,
            "grid_template_rows": null,
            "height": null,
            "justify_content": null,
            "justify_items": null,
            "left": null,
            "margin": null,
            "max_height": null,
            "max_width": null,
            "min_height": null,
            "min_width": null,
            "object_fit": null,
            "object_position": null,
            "order": null,
            "overflow": null,
            "overflow_x": null,
            "overflow_y": null,
            "padding": null,
            "right": null,
            "top": null,
            "visibility": null,
            "width": null
          }
        },
        "edbe79881f7f4a03a7435cf92f4da46f": {
          "model_module": "@jupyter-widgets/base",
          "model_name": "LayoutModel",
          "model_module_version": "1.2.0",
          "state": {
            "_model_module": "@jupyter-widgets/base",
            "_model_module_version": "1.2.0",
            "_model_name": "LayoutModel",
            "_view_count": null,
            "_view_module": "@jupyter-widgets/base",
            "_view_module_version": "1.2.0",
            "_view_name": "LayoutView",
            "align_content": null,
            "align_items": null,
            "align_self": null,
            "border": null,
            "bottom": null,
            "display": null,
            "flex": null,
            "flex_flow": null,
            "grid_area": null,
            "grid_auto_columns": null,
            "grid_auto_flow": null,
            "grid_auto_rows": null,
            "grid_column": null,
            "grid_gap": null,
            "grid_row": null,
            "grid_template_areas": null,
            "grid_template_columns": null,
            "grid_template_rows": null,
            "height": null,
            "justify_content": null,
            "justify_items": null,
            "left": null,
            "margin": null,
            "max_height": null,
            "max_width": null,
            "min_height": null,
            "min_width": null,
            "object_fit": null,
            "object_position": null,
            "order": null,
            "overflow": null,
            "overflow_x": null,
            "overflow_y": null,
            "padding": null,
            "right": null,
            "top": null,
            "visibility": null,
            "width": null
          }
        },
        "332518b37d7c4f938e06aefb4ecb79b9": {
          "model_module": "@jupyter-widgets/controls",
          "model_name": "DescriptionStyleModel",
          "model_module_version": "1.5.0",
          "state": {
            "_model_module": "@jupyter-widgets/controls",
            "_model_module_version": "1.5.0",
            "_model_name": "DescriptionStyleModel",
            "_view_count": null,
            "_view_module": "@jupyter-widgets/base",
            "_view_module_version": "1.2.0",
            "_view_name": "StyleView",
            "description_width": ""
          }
        },
        "30b037bc880e4e7e8c485248fc2fd1af": {
          "model_module": "@jupyter-widgets/base",
          "model_name": "LayoutModel",
          "model_module_version": "1.2.0",
          "state": {
            "_model_module": "@jupyter-widgets/base",
            "_model_module_version": "1.2.0",
            "_model_name": "LayoutModel",
            "_view_count": null,
            "_view_module": "@jupyter-widgets/base",
            "_view_module_version": "1.2.0",
            "_view_name": "LayoutView",
            "align_content": null,
            "align_items": null,
            "align_self": null,
            "border": null,
            "bottom": null,
            "display": null,
            "flex": null,
            "flex_flow": null,
            "grid_area": null,
            "grid_auto_columns": null,
            "grid_auto_flow": null,
            "grid_auto_rows": null,
            "grid_column": null,
            "grid_gap": null,
            "grid_row": null,
            "grid_template_areas": null,
            "grid_template_columns": null,
            "grid_template_rows": null,
            "height": null,
            "justify_content": null,
            "justify_items": null,
            "left": null,
            "margin": null,
            "max_height": null,
            "max_width": null,
            "min_height": null,
            "min_width": null,
            "object_fit": null,
            "object_position": null,
            "order": null,
            "overflow": null,
            "overflow_x": null,
            "overflow_y": null,
            "padding": null,
            "right": null,
            "top": null,
            "visibility": null,
            "width": null
          }
        },
        "32e81b67c8124453b7738f0a7504bb32": {
          "model_module": "@jupyter-widgets/controls",
          "model_name": "ProgressStyleModel",
          "model_module_version": "1.5.0",
          "state": {
            "_model_module": "@jupyter-widgets/controls",
            "_model_module_version": "1.5.0",
            "_model_name": "ProgressStyleModel",
            "_view_count": null,
            "_view_module": "@jupyter-widgets/base",
            "_view_module_version": "1.2.0",
            "_view_name": "StyleView",
            "bar_color": null,
            "description_width": ""
          }
        },
        "92d9c17e4b3a47bc91bb344fa8991f8e": {
          "model_module": "@jupyter-widgets/base",
          "model_name": "LayoutModel",
          "model_module_version": "1.2.0",
          "state": {
            "_model_module": "@jupyter-widgets/base",
            "_model_module_version": "1.2.0",
            "_model_name": "LayoutModel",
            "_view_count": null,
            "_view_module": "@jupyter-widgets/base",
            "_view_module_version": "1.2.0",
            "_view_name": "LayoutView",
            "align_content": null,
            "align_items": null,
            "align_self": null,
            "border": null,
            "bottom": null,
            "display": null,
            "flex": null,
            "flex_flow": null,
            "grid_area": null,
            "grid_auto_columns": null,
            "grid_auto_flow": null,
            "grid_auto_rows": null,
            "grid_column": null,
            "grid_gap": null,
            "grid_row": null,
            "grid_template_areas": null,
            "grid_template_columns": null,
            "grid_template_rows": null,
            "height": null,
            "justify_content": null,
            "justify_items": null,
            "left": null,
            "margin": null,
            "max_height": null,
            "max_width": null,
            "min_height": null,
            "min_width": null,
            "object_fit": null,
            "object_position": null,
            "order": null,
            "overflow": null,
            "overflow_x": null,
            "overflow_y": null,
            "padding": null,
            "right": null,
            "top": null,
            "visibility": null,
            "width": null
          }
        },
        "fd87c920d090485b86aad7c4c311e3d0": {
          "model_module": "@jupyter-widgets/controls",
          "model_name": "DescriptionStyleModel",
          "model_module_version": "1.5.0",
          "state": {
            "_model_module": "@jupyter-widgets/controls",
            "_model_module_version": "1.5.0",
            "_model_name": "DescriptionStyleModel",
            "_view_count": null,
            "_view_module": "@jupyter-widgets/base",
            "_view_module_version": "1.2.0",
            "_view_name": "StyleView",
            "description_width": ""
          }
        },
        "99a55baf9d034eeaa2e48c4540b9989c": {
          "model_module": "@jupyter-widgets/controls",
          "model_name": "HBoxModel",
          "model_module_version": "1.5.0",
          "state": {
            "_dom_classes": [],
            "_model_module": "@jupyter-widgets/controls",
            "_model_module_version": "1.5.0",
            "_model_name": "HBoxModel",
            "_view_count": null,
            "_view_module": "@jupyter-widgets/controls",
            "_view_module_version": "1.5.0",
            "_view_name": "HBoxView",
            "box_style": "",
            "children": [
              "IPY_MODEL_0e85feffcef34a31b7d5b71eb6a8ce3c",
              "IPY_MODEL_1df07a7bdcb3428da4aa041ff6f5ba01",
              "IPY_MODEL_8a623f5ceb544b2b9d5cd64887f8bb1e"
            ],
            "layout": "IPY_MODEL_2790a7ffa77e4da5840f2359b08393fc"
          }
        },
        "0e85feffcef34a31b7d5b71eb6a8ce3c": {
          "model_module": "@jupyter-widgets/controls",
          "model_name": "HTMLModel",
          "model_module_version": "1.5.0",
          "state": {
            "_dom_classes": [],
            "_model_module": "@jupyter-widgets/controls",
            "_model_module_version": "1.5.0",
            "_model_name": "HTMLModel",
            "_view_count": null,
            "_view_module": "@jupyter-widgets/controls",
            "_view_module_version": "1.5.0",
            "_view_name": "HTMLView",
            "description": "",
            "description_tooltip": null,
            "layout": "IPY_MODEL_75d29a03261f488b91ed1fef679ff384",
            "placeholder": "​",
            "style": "IPY_MODEL_6831a061652f4a7b87460e7b7dbb03f2",
            "value": "model-00001-of-00005.safetensors: 100%"
          }
        },
        "1df07a7bdcb3428da4aa041ff6f5ba01": {
          "model_module": "@jupyter-widgets/controls",
          "model_name": "FloatProgressModel",
          "model_module_version": "1.5.0",
          "state": {
            "_dom_classes": [],
            "_model_module": "@jupyter-widgets/controls",
            "_model_module_version": "1.5.0",
            "_model_name": "FloatProgressModel",
            "_view_count": null,
            "_view_module": "@jupyter-widgets/controls",
            "_view_module_version": "1.5.0",
            "_view_name": "ProgressView",
            "bar_style": "success",
            "description": "",
            "description_tooltip": null,
            "layout": "IPY_MODEL_bbf608640e954e2ba5bc3d6d149bb6cb",
            "max": 4943162336,
            "min": 0,
            "orientation": "horizontal",
            "style": "IPY_MODEL_80aee33d345b4e518a5233aef5c8ec24",
            "value": 4943162336
          }
        },
        "8a623f5ceb544b2b9d5cd64887f8bb1e": {
          "model_module": "@jupyter-widgets/controls",
          "model_name": "HTMLModel",
          "model_module_version": "1.5.0",
          "state": {
            "_dom_classes": [],
            "_model_module": "@jupyter-widgets/controls",
            "_model_module_version": "1.5.0",
            "_model_name": "HTMLModel",
            "_view_count": null,
            "_view_module": "@jupyter-widgets/controls",
            "_view_module_version": "1.5.0",
            "_view_name": "HTMLView",
            "description": "",
            "description_tooltip": null,
            "layout": "IPY_MODEL_7b5a844b582145248e096df0e58f0432",
            "placeholder": "​",
            "style": "IPY_MODEL_98552509577446c392fff46797eef5c0",
            "value": " 4.94G/4.94G [00:12&lt;00:00, 427MB/s]"
          }
        },
        "2790a7ffa77e4da5840f2359b08393fc": {
          "model_module": "@jupyter-widgets/base",
          "model_name": "LayoutModel",
          "model_module_version": "1.2.0",
          "state": {
            "_model_module": "@jupyter-widgets/base",
            "_model_module_version": "1.2.0",
            "_model_name": "LayoutModel",
            "_view_count": null,
            "_view_module": "@jupyter-widgets/base",
            "_view_module_version": "1.2.0",
            "_view_name": "LayoutView",
            "align_content": null,
            "align_items": null,
            "align_self": null,
            "border": null,
            "bottom": null,
            "display": null,
            "flex": null,
            "flex_flow": null,
            "grid_area": null,
            "grid_auto_columns": null,
            "grid_auto_flow": null,
            "grid_auto_rows": null,
            "grid_column": null,
            "grid_gap": null,
            "grid_row": null,
            "grid_template_areas": null,
            "grid_template_columns": null,
            "grid_template_rows": null,
            "height": null,
            "justify_content": null,
            "justify_items": null,
            "left": null,
            "margin": null,
            "max_height": null,
            "max_width": null,
            "min_height": null,
            "min_width": null,
            "object_fit": null,
            "object_position": null,
            "order": null,
            "overflow": null,
            "overflow_x": null,
            "overflow_y": null,
            "padding": null,
            "right": null,
            "top": null,
            "visibility": null,
            "width": null
          }
        },
        "75d29a03261f488b91ed1fef679ff384": {
          "model_module": "@jupyter-widgets/base",
          "model_name": "LayoutModel",
          "model_module_version": "1.2.0",
          "state": {
            "_model_module": "@jupyter-widgets/base",
            "_model_module_version": "1.2.0",
            "_model_name": "LayoutModel",
            "_view_count": null,
            "_view_module": "@jupyter-widgets/base",
            "_view_module_version": "1.2.0",
            "_view_name": "LayoutView",
            "align_content": null,
            "align_items": null,
            "align_self": null,
            "border": null,
            "bottom": null,
            "display": null,
            "flex": null,
            "flex_flow": null,
            "grid_area": null,
            "grid_auto_columns": null,
            "grid_auto_flow": null,
            "grid_auto_rows": null,
            "grid_column": null,
            "grid_gap": null,
            "grid_row": null,
            "grid_template_areas": null,
            "grid_template_columns": null,
            "grid_template_rows": null,
            "height": null,
            "justify_content": null,
            "justify_items": null,
            "left": null,
            "margin": null,
            "max_height": null,
            "max_width": null,
            "min_height": null,
            "min_width": null,
            "object_fit": null,
            "object_position": null,
            "order": null,
            "overflow": null,
            "overflow_x": null,
            "overflow_y": null,
            "padding": null,
            "right": null,
            "top": null,
            "visibility": null,
            "width": null
          }
        },
        "6831a061652f4a7b87460e7b7dbb03f2": {
          "model_module": "@jupyter-widgets/controls",
          "model_name": "DescriptionStyleModel",
          "model_module_version": "1.5.0",
          "state": {
            "_model_module": "@jupyter-widgets/controls",
            "_model_module_version": "1.5.0",
            "_model_name": "DescriptionStyleModel",
            "_view_count": null,
            "_view_module": "@jupyter-widgets/base",
            "_view_module_version": "1.2.0",
            "_view_name": "StyleView",
            "description_width": ""
          }
        },
        "bbf608640e954e2ba5bc3d6d149bb6cb": {
          "model_module": "@jupyter-widgets/base",
          "model_name": "LayoutModel",
          "model_module_version": "1.2.0",
          "state": {
            "_model_module": "@jupyter-widgets/base",
            "_model_module_version": "1.2.0",
            "_model_name": "LayoutModel",
            "_view_count": null,
            "_view_module": "@jupyter-widgets/base",
            "_view_module_version": "1.2.0",
            "_view_name": "LayoutView",
            "align_content": null,
            "align_items": null,
            "align_self": null,
            "border": null,
            "bottom": null,
            "display": null,
            "flex": null,
            "flex_flow": null,
            "grid_area": null,
            "grid_auto_columns": null,
            "grid_auto_flow": null,
            "grid_auto_rows": null,
            "grid_column": null,
            "grid_gap": null,
            "grid_row": null,
            "grid_template_areas": null,
            "grid_template_columns": null,
            "grid_template_rows": null,
            "height": null,
            "justify_content": null,
            "justify_items": null,
            "left": null,
            "margin": null,
            "max_height": null,
            "max_width": null,
            "min_height": null,
            "min_width": null,
            "object_fit": null,
            "object_position": null,
            "order": null,
            "overflow": null,
            "overflow_x": null,
            "overflow_y": null,
            "padding": null,
            "right": null,
            "top": null,
            "visibility": null,
            "width": null
          }
        },
        "80aee33d345b4e518a5233aef5c8ec24": {
          "model_module": "@jupyter-widgets/controls",
          "model_name": "ProgressStyleModel",
          "model_module_version": "1.5.0",
          "state": {
            "_model_module": "@jupyter-widgets/controls",
            "_model_module_version": "1.5.0",
            "_model_name": "ProgressStyleModel",
            "_view_count": null,
            "_view_module": "@jupyter-widgets/base",
            "_view_module_version": "1.2.0",
            "_view_name": "StyleView",
            "bar_color": null,
            "description_width": ""
          }
        },
        "7b5a844b582145248e096df0e58f0432": {
          "model_module": "@jupyter-widgets/base",
          "model_name": "LayoutModel",
          "model_module_version": "1.2.0",
          "state": {
            "_model_module": "@jupyter-widgets/base",
            "_model_module_version": "1.2.0",
            "_model_name": "LayoutModel",
            "_view_count": null,
            "_view_module": "@jupyter-widgets/base",
            "_view_module_version": "1.2.0",
            "_view_name": "LayoutView",
            "align_content": null,
            "align_items": null,
            "align_self": null,
            "border": null,
            "bottom": null,
            "display": null,
            "flex": null,
            "flex_flow": null,
            "grid_area": null,
            "grid_auto_columns": null,
            "grid_auto_flow": null,
            "grid_auto_rows": null,
            "grid_column": null,
            "grid_gap": null,
            "grid_row": null,
            "grid_template_areas": null,
            "grid_template_columns": null,
            "grid_template_rows": null,
            "height": null,
            "justify_content": null,
            "justify_items": null,
            "left": null,
            "margin": null,
            "max_height": null,
            "max_width": null,
            "min_height": null,
            "min_width": null,
            "object_fit": null,
            "object_position": null,
            "order": null,
            "overflow": null,
            "overflow_x": null,
            "overflow_y": null,
            "padding": null,
            "right": null,
            "top": null,
            "visibility": null,
            "width": null
          }
        },
        "98552509577446c392fff46797eef5c0": {
          "model_module": "@jupyter-widgets/controls",
          "model_name": "DescriptionStyleModel",
          "model_module_version": "1.5.0",
          "state": {
            "_model_module": "@jupyter-widgets/controls",
            "_model_module_version": "1.5.0",
            "_model_name": "DescriptionStyleModel",
            "_view_count": null,
            "_view_module": "@jupyter-widgets/base",
            "_view_module_version": "1.2.0",
            "_view_name": "StyleView",
            "description_width": ""
          }
        },
        "d366b5d6abe04f23918ae2e68bec9533": {
          "model_module": "@jupyter-widgets/controls",
          "model_name": "HBoxModel",
          "model_module_version": "1.5.0",
          "state": {
            "_dom_classes": [],
            "_model_module": "@jupyter-widgets/controls",
            "_model_module_version": "1.5.0",
            "_model_name": "HBoxModel",
            "_view_count": null,
            "_view_module": "@jupyter-widgets/controls",
            "_view_module_version": "1.5.0",
            "_view_name": "HBoxView",
            "box_style": "",
            "children": [
              "IPY_MODEL_73d6b0ebada048e39f01b3118f9cad36",
              "IPY_MODEL_75f1bae88ad14074aa7b45bcb4d65401",
              "IPY_MODEL_b011dc6f1bad4ad9a124225bce413360"
            ],
            "layout": "IPY_MODEL_74b84f902ccb45d5ade9d730c80dce08"
          }
        },
        "73d6b0ebada048e39f01b3118f9cad36": {
          "model_module": "@jupyter-widgets/controls",
          "model_name": "HTMLModel",
          "model_module_version": "1.5.0",
          "state": {
            "_dom_classes": [],
            "_model_module": "@jupyter-widgets/controls",
            "_model_module_version": "1.5.0",
            "_model_name": "HTMLModel",
            "_view_count": null,
            "_view_module": "@jupyter-widgets/controls",
            "_view_module_version": "1.5.0",
            "_view_name": "HTMLView",
            "description": "",
            "description_tooltip": null,
            "layout": "IPY_MODEL_a61a6a05052042019bce245a5d62efd3",
            "placeholder": "​",
            "style": "IPY_MODEL_cd5f46a1c9c741769f7bcfa79ef7c07a",
            "value": "model-00002-of-00005.safetensors: 100%"
          }
        },
        "75f1bae88ad14074aa7b45bcb4d65401": {
          "model_module": "@jupyter-widgets/controls",
          "model_name": "FloatProgressModel",
          "model_module_version": "1.5.0",
          "state": {
            "_dom_classes": [],
            "_model_module": "@jupyter-widgets/controls",
            "_model_module_version": "1.5.0",
            "_model_name": "FloatProgressModel",
            "_view_count": null,
            "_view_module": "@jupyter-widgets/controls",
            "_view_module_version": "1.5.0",
            "_view_name": "ProgressView",
            "bar_style": "success",
            "description": "",
            "description_tooltip": null,
            "layout": "IPY_MODEL_60d2c0265b9c42fa9792ba30fb9e7742",
            "max": 4999819336,
            "min": 0,
            "orientation": "horizontal",
            "style": "IPY_MODEL_4cec2be31a344c3f8b1d14778056e00b",
            "value": 4999819336
          }
        },
        "b011dc6f1bad4ad9a124225bce413360": {
          "model_module": "@jupyter-widgets/controls",
          "model_name": "HTMLModel",
          "model_module_version": "1.5.0",
          "state": {
            "_dom_classes": [],
            "_model_module": "@jupyter-widgets/controls",
            "_model_module_version": "1.5.0",
            "_model_name": "HTMLModel",
            "_view_count": null,
            "_view_module": "@jupyter-widgets/controls",
            "_view_module_version": "1.5.0",
            "_view_name": "HTMLView",
            "description": "",
            "description_tooltip": null,
            "layout": "IPY_MODEL_b955f572d514485f8f003a013ff5af70",
            "placeholder": "​",
            "style": "IPY_MODEL_29f9162c9a6f4903940edac17541272b",
            "value": " 5.00G/5.00G [00:12&lt;00:00, 357MB/s]"
          }
        },
        "74b84f902ccb45d5ade9d730c80dce08": {
          "model_module": "@jupyter-widgets/base",
          "model_name": "LayoutModel",
          "model_module_version": "1.2.0",
          "state": {
            "_model_module": "@jupyter-widgets/base",
            "_model_module_version": "1.2.0",
            "_model_name": "LayoutModel",
            "_view_count": null,
            "_view_module": "@jupyter-widgets/base",
            "_view_module_version": "1.2.0",
            "_view_name": "LayoutView",
            "align_content": null,
            "align_items": null,
            "align_self": null,
            "border": null,
            "bottom": null,
            "display": null,
            "flex": null,
            "flex_flow": null,
            "grid_area": null,
            "grid_auto_columns": null,
            "grid_auto_flow": null,
            "grid_auto_rows": null,
            "grid_column": null,
            "grid_gap": null,
            "grid_row": null,
            "grid_template_areas": null,
            "grid_template_columns": null,
            "grid_template_rows": null,
            "height": null,
            "justify_content": null,
            "justify_items": null,
            "left": null,
            "margin": null,
            "max_height": null,
            "max_width": null,
            "min_height": null,
            "min_width": null,
            "object_fit": null,
            "object_position": null,
            "order": null,
            "overflow": null,
            "overflow_x": null,
            "overflow_y": null,
            "padding": null,
            "right": null,
            "top": null,
            "visibility": null,
            "width": null
          }
        },
        "a61a6a05052042019bce245a5d62efd3": {
          "model_module": "@jupyter-widgets/base",
          "model_name": "LayoutModel",
          "model_module_version": "1.2.0",
          "state": {
            "_model_module": "@jupyter-widgets/base",
            "_model_module_version": "1.2.0",
            "_model_name": "LayoutModel",
            "_view_count": null,
            "_view_module": "@jupyter-widgets/base",
            "_view_module_version": "1.2.0",
            "_view_name": "LayoutView",
            "align_content": null,
            "align_items": null,
            "align_self": null,
            "border": null,
            "bottom": null,
            "display": null,
            "flex": null,
            "flex_flow": null,
            "grid_area": null,
            "grid_auto_columns": null,
            "grid_auto_flow": null,
            "grid_auto_rows": null,
            "grid_column": null,
            "grid_gap": null,
            "grid_row": null,
            "grid_template_areas": null,
            "grid_template_columns": null,
            "grid_template_rows": null,
            "height": null,
            "justify_content": null,
            "justify_items": null,
            "left": null,
            "margin": null,
            "max_height": null,
            "max_width": null,
            "min_height": null,
            "min_width": null,
            "object_fit": null,
            "object_position": null,
            "order": null,
            "overflow": null,
            "overflow_x": null,
            "overflow_y": null,
            "padding": null,
            "right": null,
            "top": null,
            "visibility": null,
            "width": null
          }
        },
        "cd5f46a1c9c741769f7bcfa79ef7c07a": {
          "model_module": "@jupyter-widgets/controls",
          "model_name": "DescriptionStyleModel",
          "model_module_version": "1.5.0",
          "state": {
            "_model_module": "@jupyter-widgets/controls",
            "_model_module_version": "1.5.0",
            "_model_name": "DescriptionStyleModel",
            "_view_count": null,
            "_view_module": "@jupyter-widgets/base",
            "_view_module_version": "1.2.0",
            "_view_name": "StyleView",
            "description_width": ""
          }
        },
        "60d2c0265b9c42fa9792ba30fb9e7742": {
          "model_module": "@jupyter-widgets/base",
          "model_name": "LayoutModel",
          "model_module_version": "1.2.0",
          "state": {
            "_model_module": "@jupyter-widgets/base",
            "_model_module_version": "1.2.0",
            "_model_name": "LayoutModel",
            "_view_count": null,
            "_view_module": "@jupyter-widgets/base",
            "_view_module_version": "1.2.0",
            "_view_name": "LayoutView",
            "align_content": null,
            "align_items": null,
            "align_self": null,
            "border": null,
            "bottom": null,
            "display": null,
            "flex": null,
            "flex_flow": null,
            "grid_area": null,
            "grid_auto_columns": null,
            "grid_auto_flow": null,
            "grid_auto_rows": null,
            "grid_column": null,
            "grid_gap": null,
            "grid_row": null,
            "grid_template_areas": null,
            "grid_template_columns": null,
            "grid_template_rows": null,
            "height": null,
            "justify_content": null,
            "justify_items": null,
            "left": null,
            "margin": null,
            "max_height": null,
            "max_width": null,
            "min_height": null,
            "min_width": null,
            "object_fit": null,
            "object_position": null,
            "order": null,
            "overflow": null,
            "overflow_x": null,
            "overflow_y": null,
            "padding": null,
            "right": null,
            "top": null,
            "visibility": null,
            "width": null
          }
        },
        "4cec2be31a344c3f8b1d14778056e00b": {
          "model_module": "@jupyter-widgets/controls",
          "model_name": "ProgressStyleModel",
          "model_module_version": "1.5.0",
          "state": {
            "_model_module": "@jupyter-widgets/controls",
            "_model_module_version": "1.5.0",
            "_model_name": "ProgressStyleModel",
            "_view_count": null,
            "_view_module": "@jupyter-widgets/base",
            "_view_module_version": "1.2.0",
            "_view_name": "StyleView",
            "bar_color": null,
            "description_width": ""
          }
        },
        "b955f572d514485f8f003a013ff5af70": {
          "model_module": "@jupyter-widgets/base",
          "model_name": "LayoutModel",
          "model_module_version": "1.2.0",
          "state": {
            "_model_module": "@jupyter-widgets/base",
            "_model_module_version": "1.2.0",
            "_model_name": "LayoutModel",
            "_view_count": null,
            "_view_module": "@jupyter-widgets/base",
            "_view_module_version": "1.2.0",
            "_view_name": "LayoutView",
            "align_content": null,
            "align_items": null,
            "align_self": null,
            "border": null,
            "bottom": null,
            "display": null,
            "flex": null,
            "flex_flow": null,
            "grid_area": null,
            "grid_auto_columns": null,
            "grid_auto_flow": null,
            "grid_auto_rows": null,
            "grid_column": null,
            "grid_gap": null,
            "grid_row": null,
            "grid_template_areas": null,
            "grid_template_columns": null,
            "grid_template_rows": null,
            "height": null,
            "justify_content": null,
            "justify_items": null,
            "left": null,
            "margin": null,
            "max_height": null,
            "max_width": null,
            "min_height": null,
            "min_width": null,
            "object_fit": null,
            "object_position": null,
            "order": null,
            "overflow": null,
            "overflow_x": null,
            "overflow_y": null,
            "padding": null,
            "right": null,
            "top": null,
            "visibility": null,
            "width": null
          }
        },
        "29f9162c9a6f4903940edac17541272b": {
          "model_module": "@jupyter-widgets/controls",
          "model_name": "DescriptionStyleModel",
          "model_module_version": "1.5.0",
          "state": {
            "_model_module": "@jupyter-widgets/controls",
            "_model_module_version": "1.5.0",
            "_model_name": "DescriptionStyleModel",
            "_view_count": null,
            "_view_module": "@jupyter-widgets/base",
            "_view_module_version": "1.2.0",
            "_view_name": "StyleView",
            "description_width": ""
          }
        },
        "52cc44f725fc46828f04de840682c4a1": {
          "model_module": "@jupyter-widgets/controls",
          "model_name": "HBoxModel",
          "model_module_version": "1.5.0",
          "state": {
            "_dom_classes": [],
            "_model_module": "@jupyter-widgets/controls",
            "_model_module_version": "1.5.0",
            "_model_name": "HBoxModel",
            "_view_count": null,
            "_view_module": "@jupyter-widgets/controls",
            "_view_module_version": "1.5.0",
            "_view_name": "HBoxView",
            "box_style": "",
            "children": [
              "IPY_MODEL_17710f83d0d4439d9e709ddfdf4028a9",
              "IPY_MODEL_351f37969932422ba50e5062c3f7e5d2",
              "IPY_MODEL_0c59771c1a104bb6a715e1cc9c2656be"
            ],
            "layout": "IPY_MODEL_a47479b956624c74bf08560b6ec22bc3"
          }
        },
        "17710f83d0d4439d9e709ddfdf4028a9": {
          "model_module": "@jupyter-widgets/controls",
          "model_name": "HTMLModel",
          "model_module_version": "1.5.0",
          "state": {
            "_dom_classes": [],
            "_model_module": "@jupyter-widgets/controls",
            "_model_module_version": "1.5.0",
            "_model_name": "HTMLModel",
            "_view_count": null,
            "_view_module": "@jupyter-widgets/controls",
            "_view_module_version": "1.5.0",
            "_view_name": "HTMLView",
            "description": "",
            "description_tooltip": null,
            "layout": "IPY_MODEL_2ffe5f5eff7b43ac828cca8e13a095c6",
            "placeholder": "​",
            "style": "IPY_MODEL_e1bbaf2d37e74cd8895f4140bd32c718",
            "value": "model-00003-of-00005.safetensors: 100%"
          }
        },
        "351f37969932422ba50e5062c3f7e5d2": {
          "model_module": "@jupyter-widgets/controls",
          "model_name": "FloatProgressModel",
          "model_module_version": "1.5.0",
          "state": {
            "_dom_classes": [],
            "_model_module": "@jupyter-widgets/controls",
            "_model_module_version": "1.5.0",
            "_model_name": "FloatProgressModel",
            "_view_count": null,
            "_view_module": "@jupyter-widgets/controls",
            "_view_module_version": "1.5.0",
            "_view_name": "ProgressView",
            "bar_style": "success",
            "description": "",
            "description_tooltip": null,
            "layout": "IPY_MODEL_c4a2343aada340569d310182fde29e75",
            "max": 4915916184,
            "min": 0,
            "orientation": "horizontal",
            "style": "IPY_MODEL_9a10f61996fc42c795f83ac4f164c1f7",
            "value": 4915916184
          }
        },
        "0c59771c1a104bb6a715e1cc9c2656be": {
          "model_module": "@jupyter-widgets/controls",
          "model_name": "HTMLModel",
          "model_module_version": "1.5.0",
          "state": {
            "_dom_classes": [],
            "_model_module": "@jupyter-widgets/controls",
            "_model_module_version": "1.5.0",
            "_model_name": "HTMLModel",
            "_view_count": null,
            "_view_module": "@jupyter-widgets/controls",
            "_view_module_version": "1.5.0",
            "_view_name": "HTMLView",
            "description": "",
            "description_tooltip": null,
            "layout": "IPY_MODEL_79230f3af63141e9a36f766e1216874e",
            "placeholder": "​",
            "style": "IPY_MODEL_6db9168e0080452da788a932abd932e3",
            "value": " 4.92G/4.92G [00:17&lt;00:00, 406MB/s]"
          }
        },
        "a47479b956624c74bf08560b6ec22bc3": {
          "model_module": "@jupyter-widgets/base",
          "model_name": "LayoutModel",
          "model_module_version": "1.2.0",
          "state": {
            "_model_module": "@jupyter-widgets/base",
            "_model_module_version": "1.2.0",
            "_model_name": "LayoutModel",
            "_view_count": null,
            "_view_module": "@jupyter-widgets/base",
            "_view_module_version": "1.2.0",
            "_view_name": "LayoutView",
            "align_content": null,
            "align_items": null,
            "align_self": null,
            "border": null,
            "bottom": null,
            "display": null,
            "flex": null,
            "flex_flow": null,
            "grid_area": null,
            "grid_auto_columns": null,
            "grid_auto_flow": null,
            "grid_auto_rows": null,
            "grid_column": null,
            "grid_gap": null,
            "grid_row": null,
            "grid_template_areas": null,
            "grid_template_columns": null,
            "grid_template_rows": null,
            "height": null,
            "justify_content": null,
            "justify_items": null,
            "left": null,
            "margin": null,
            "max_height": null,
            "max_width": null,
            "min_height": null,
            "min_width": null,
            "object_fit": null,
            "object_position": null,
            "order": null,
            "overflow": null,
            "overflow_x": null,
            "overflow_y": null,
            "padding": null,
            "right": null,
            "top": null,
            "visibility": null,
            "width": null
          }
        },
        "2ffe5f5eff7b43ac828cca8e13a095c6": {
          "model_module": "@jupyter-widgets/base",
          "model_name": "LayoutModel",
          "model_module_version": "1.2.0",
          "state": {
            "_model_module": "@jupyter-widgets/base",
            "_model_module_version": "1.2.0",
            "_model_name": "LayoutModel",
            "_view_count": null,
            "_view_module": "@jupyter-widgets/base",
            "_view_module_version": "1.2.0",
            "_view_name": "LayoutView",
            "align_content": null,
            "align_items": null,
            "align_self": null,
            "border": null,
            "bottom": null,
            "display": null,
            "flex": null,
            "flex_flow": null,
            "grid_area": null,
            "grid_auto_columns": null,
            "grid_auto_flow": null,
            "grid_auto_rows": null,
            "grid_column": null,
            "grid_gap": null,
            "grid_row": null,
            "grid_template_areas": null,
            "grid_template_columns": null,
            "grid_template_rows": null,
            "height": null,
            "justify_content": null,
            "justify_items": null,
            "left": null,
            "margin": null,
            "max_height": null,
            "max_width": null,
            "min_height": null,
            "min_width": null,
            "object_fit": null,
            "object_position": null,
            "order": null,
            "overflow": null,
            "overflow_x": null,
            "overflow_y": null,
            "padding": null,
            "right": null,
            "top": null,
            "visibility": null,
            "width": null
          }
        },
        "e1bbaf2d37e74cd8895f4140bd32c718": {
          "model_module": "@jupyter-widgets/controls",
          "model_name": "DescriptionStyleModel",
          "model_module_version": "1.5.0",
          "state": {
            "_model_module": "@jupyter-widgets/controls",
            "_model_module_version": "1.5.0",
            "_model_name": "DescriptionStyleModel",
            "_view_count": null,
            "_view_module": "@jupyter-widgets/base",
            "_view_module_version": "1.2.0",
            "_view_name": "StyleView",
            "description_width": ""
          }
        },
        "c4a2343aada340569d310182fde29e75": {
          "model_module": "@jupyter-widgets/base",
          "model_name": "LayoutModel",
          "model_module_version": "1.2.0",
          "state": {
            "_model_module": "@jupyter-widgets/base",
            "_model_module_version": "1.2.0",
            "_model_name": "LayoutModel",
            "_view_count": null,
            "_view_module": "@jupyter-widgets/base",
            "_view_module_version": "1.2.0",
            "_view_name": "LayoutView",
            "align_content": null,
            "align_items": null,
            "align_self": null,
            "border": null,
            "bottom": null,
            "display": null,
            "flex": null,
            "flex_flow": null,
            "grid_area": null,
            "grid_auto_columns": null,
            "grid_auto_flow": null,
            "grid_auto_rows": null,
            "grid_column": null,
            "grid_gap": null,
            "grid_row": null,
            "grid_template_areas": null,
            "grid_template_columns": null,
            "grid_template_rows": null,
            "height": null,
            "justify_content": null,
            "justify_items": null,
            "left": null,
            "margin": null,
            "max_height": null,
            "max_width": null,
            "min_height": null,
            "min_width": null,
            "object_fit": null,
            "object_position": null,
            "order": null,
            "overflow": null,
            "overflow_x": null,
            "overflow_y": null,
            "padding": null,
            "right": null,
            "top": null,
            "visibility": null,
            "width": null
          }
        },
        "9a10f61996fc42c795f83ac4f164c1f7": {
          "model_module": "@jupyter-widgets/controls",
          "model_name": "ProgressStyleModel",
          "model_module_version": "1.5.0",
          "state": {
            "_model_module": "@jupyter-widgets/controls",
            "_model_module_version": "1.5.0",
            "_model_name": "ProgressStyleModel",
            "_view_count": null,
            "_view_module": "@jupyter-widgets/base",
            "_view_module_version": "1.2.0",
            "_view_name": "StyleView",
            "bar_color": null,
            "description_width": ""
          }
        },
        "79230f3af63141e9a36f766e1216874e": {
          "model_module": "@jupyter-widgets/base",
          "model_name": "LayoutModel",
          "model_module_version": "1.2.0",
          "state": {
            "_model_module": "@jupyter-widgets/base",
            "_model_module_version": "1.2.0",
            "_model_name": "LayoutModel",
            "_view_count": null,
            "_view_module": "@jupyter-widgets/base",
            "_view_module_version": "1.2.0",
            "_view_name": "LayoutView",
            "align_content": null,
            "align_items": null,
            "align_self": null,
            "border": null,
            "bottom": null,
            "display": null,
            "flex": null,
            "flex_flow": null,
            "grid_area": null,
            "grid_auto_columns": null,
            "grid_auto_flow": null,
            "grid_auto_rows": null,
            "grid_column": null,
            "grid_gap": null,
            "grid_row": null,
            "grid_template_areas": null,
            "grid_template_columns": null,
            "grid_template_rows": null,
            "height": null,
            "justify_content": null,
            "justify_items": null,
            "left": null,
            "margin": null,
            "max_height": null,
            "max_width": null,
            "min_height": null,
            "min_width": null,
            "object_fit": null,
            "object_position": null,
            "order": null,
            "overflow": null,
            "overflow_x": null,
            "overflow_y": null,
            "padding": null,
            "right": null,
            "top": null,
            "visibility": null,
            "width": null
          }
        },
        "6db9168e0080452da788a932abd932e3": {
          "model_module": "@jupyter-widgets/controls",
          "model_name": "DescriptionStyleModel",
          "model_module_version": "1.5.0",
          "state": {
            "_model_module": "@jupyter-widgets/controls",
            "_model_module_version": "1.5.0",
            "_model_name": "DescriptionStyleModel",
            "_view_count": null,
            "_view_module": "@jupyter-widgets/base",
            "_view_module_version": "1.2.0",
            "_view_name": "StyleView",
            "description_width": ""
          }
        },
        "ff9ba95079c14d38befc54bb1e05d358": {
          "model_module": "@jupyter-widgets/controls",
          "model_name": "HBoxModel",
          "model_module_version": "1.5.0",
          "state": {
            "_dom_classes": [],
            "_model_module": "@jupyter-widgets/controls",
            "_model_module_version": "1.5.0",
            "_model_name": "HBoxModel",
            "_view_count": null,
            "_view_module": "@jupyter-widgets/controls",
            "_view_module_version": "1.5.0",
            "_view_name": "HBoxView",
            "box_style": "",
            "children": [
              "IPY_MODEL_b173a4fdd87941cdb95b19fddb7195a4",
              "IPY_MODEL_b3088548a6e149b794b29593b6d7bd47",
              "IPY_MODEL_831257ec8089404f84603449d0a67140"
            ],
            "layout": "IPY_MODEL_dd1f8e69fa8347ce9cbc58fbd021ca01"
          }
        },
        "b173a4fdd87941cdb95b19fddb7195a4": {
          "model_module": "@jupyter-widgets/controls",
          "model_name": "HTMLModel",
          "model_module_version": "1.5.0",
          "state": {
            "_dom_classes": [],
            "_model_module": "@jupyter-widgets/controls",
            "_model_module_version": "1.5.0",
            "_model_name": "HTMLModel",
            "_view_count": null,
            "_view_module": "@jupyter-widgets/controls",
            "_view_module_version": "1.5.0",
            "_view_name": "HTMLView",
            "description": "",
            "description_tooltip": null,
            "layout": "IPY_MODEL_e47ae71235fc451e907d34fb9a47df47",
            "placeholder": "​",
            "style": "IPY_MODEL_addc200b6617482888de06608346b28f",
            "value": "model-00004-of-00005.safetensors: 100%"
          }
        },
        "b3088548a6e149b794b29593b6d7bd47": {
          "model_module": "@jupyter-widgets/controls",
          "model_name": "FloatProgressModel",
          "model_module_version": "1.5.0",
          "state": {
            "_dom_classes": [],
            "_model_module": "@jupyter-widgets/controls",
            "_model_module_version": "1.5.0",
            "_model_name": "FloatProgressModel",
            "_view_count": null,
            "_view_module": "@jupyter-widgets/controls",
            "_view_module_version": "1.5.0",
            "_view_name": "ProgressView",
            "bar_style": "success",
            "description": "",
            "description_tooltip": null,
            "layout": "IPY_MODEL_9d4df8d8912e4e71984b09aaea2c264a",
            "max": 4915916176,
            "min": 0,
            "orientation": "horizontal",
            "style": "IPY_MODEL_a9fd88af02444ad19c985e383465f8b2",
            "value": 4915916176
          }
        },
        "831257ec8089404f84603449d0a67140": {
          "model_module": "@jupyter-widgets/controls",
          "model_name": "HTMLModel",
          "model_module_version": "1.5.0",
          "state": {
            "_dom_classes": [],
            "_model_module": "@jupyter-widgets/controls",
            "_model_module_version": "1.5.0",
            "_model_name": "HTMLModel",
            "_view_count": null,
            "_view_module": "@jupyter-widgets/controls",
            "_view_module_version": "1.5.0",
            "_view_name": "HTMLView",
            "description": "",
            "description_tooltip": null,
            "layout": "IPY_MODEL_d890d5e433b6452593431c180c0ce51b",
            "placeholder": "​",
            "style": "IPY_MODEL_9e029b6cf55743a0abfa3652fba75f7c",
            "value": " 4.92G/4.92G [00:12&lt;00:00, 318MB/s]"
          }
        },
        "dd1f8e69fa8347ce9cbc58fbd021ca01": {
          "model_module": "@jupyter-widgets/base",
          "model_name": "LayoutModel",
          "model_module_version": "1.2.0",
          "state": {
            "_model_module": "@jupyter-widgets/base",
            "_model_module_version": "1.2.0",
            "_model_name": "LayoutModel",
            "_view_count": null,
            "_view_module": "@jupyter-widgets/base",
            "_view_module_version": "1.2.0",
            "_view_name": "LayoutView",
            "align_content": null,
            "align_items": null,
            "align_self": null,
            "border": null,
            "bottom": null,
            "display": null,
            "flex": null,
            "flex_flow": null,
            "grid_area": null,
            "grid_auto_columns": null,
            "grid_auto_flow": null,
            "grid_auto_rows": null,
            "grid_column": null,
            "grid_gap": null,
            "grid_row": null,
            "grid_template_areas": null,
            "grid_template_columns": null,
            "grid_template_rows": null,
            "height": null,
            "justify_content": null,
            "justify_items": null,
            "left": null,
            "margin": null,
            "max_height": null,
            "max_width": null,
            "min_height": null,
            "min_width": null,
            "object_fit": null,
            "object_position": null,
            "order": null,
            "overflow": null,
            "overflow_x": null,
            "overflow_y": null,
            "padding": null,
            "right": null,
            "top": null,
            "visibility": null,
            "width": null
          }
        },
        "e47ae71235fc451e907d34fb9a47df47": {
          "model_module": "@jupyter-widgets/base",
          "model_name": "LayoutModel",
          "model_module_version": "1.2.0",
          "state": {
            "_model_module": "@jupyter-widgets/base",
            "_model_module_version": "1.2.0",
            "_model_name": "LayoutModel",
            "_view_count": null,
            "_view_module": "@jupyter-widgets/base",
            "_view_module_version": "1.2.0",
            "_view_name": "LayoutView",
            "align_content": null,
            "align_items": null,
            "align_self": null,
            "border": null,
            "bottom": null,
            "display": null,
            "flex": null,
            "flex_flow": null,
            "grid_area": null,
            "grid_auto_columns": null,
            "grid_auto_flow": null,
            "grid_auto_rows": null,
            "grid_column": null,
            "grid_gap": null,
            "grid_row": null,
            "grid_template_areas": null,
            "grid_template_columns": null,
            "grid_template_rows": null,
            "height": null,
            "justify_content": null,
            "justify_items": null,
            "left": null,
            "margin": null,
            "max_height": null,
            "max_width": null,
            "min_height": null,
            "min_width": null,
            "object_fit": null,
            "object_position": null,
            "order": null,
            "overflow": null,
            "overflow_x": null,
            "overflow_y": null,
            "padding": null,
            "right": null,
            "top": null,
            "visibility": null,
            "width": null
          }
        },
        "addc200b6617482888de06608346b28f": {
          "model_module": "@jupyter-widgets/controls",
          "model_name": "DescriptionStyleModel",
          "model_module_version": "1.5.0",
          "state": {
            "_model_module": "@jupyter-widgets/controls",
            "_model_module_version": "1.5.0",
            "_model_name": "DescriptionStyleModel",
            "_view_count": null,
            "_view_module": "@jupyter-widgets/base",
            "_view_module_version": "1.2.0",
            "_view_name": "StyleView",
            "description_width": ""
          }
        },
        "9d4df8d8912e4e71984b09aaea2c264a": {
          "model_module": "@jupyter-widgets/base",
          "model_name": "LayoutModel",
          "model_module_version": "1.2.0",
          "state": {
            "_model_module": "@jupyter-widgets/base",
            "_model_module_version": "1.2.0",
            "_model_name": "LayoutModel",
            "_view_count": null,
            "_view_module": "@jupyter-widgets/base",
            "_view_module_version": "1.2.0",
            "_view_name": "LayoutView",
            "align_content": null,
            "align_items": null,
            "align_self": null,
            "border": null,
            "bottom": null,
            "display": null,
            "flex": null,
            "flex_flow": null,
            "grid_area": null,
            "grid_auto_columns": null,
            "grid_auto_flow": null,
            "grid_auto_rows": null,
            "grid_column": null,
            "grid_gap": null,
            "grid_row": null,
            "grid_template_areas": null,
            "grid_template_columns": null,
            "grid_template_rows": null,
            "height": null,
            "justify_content": null,
            "justify_items": null,
            "left": null,
            "margin": null,
            "max_height": null,
            "max_width": null,
            "min_height": null,
            "min_width": null,
            "object_fit": null,
            "object_position": null,
            "order": null,
            "overflow": null,
            "overflow_x": null,
            "overflow_y": null,
            "padding": null,
            "right": null,
            "top": null,
            "visibility": null,
            "width": null
          }
        },
        "a9fd88af02444ad19c985e383465f8b2": {
          "model_module": "@jupyter-widgets/controls",
          "model_name": "ProgressStyleModel",
          "model_module_version": "1.5.0",
          "state": {
            "_model_module": "@jupyter-widgets/controls",
            "_model_module_version": "1.5.0",
            "_model_name": "ProgressStyleModel",
            "_view_count": null,
            "_view_module": "@jupyter-widgets/base",
            "_view_module_version": "1.2.0",
            "_view_name": "StyleView",
            "bar_color": null,
            "description_width": ""
          }
        },
        "d890d5e433b6452593431c180c0ce51b": {
          "model_module": "@jupyter-widgets/base",
          "model_name": "LayoutModel",
          "model_module_version": "1.2.0",
          "state": {
            "_model_module": "@jupyter-widgets/base",
            "_model_module_version": "1.2.0",
            "_model_name": "LayoutModel",
            "_view_count": null,
            "_view_module": "@jupyter-widgets/base",
            "_view_module_version": "1.2.0",
            "_view_name": "LayoutView",
            "align_content": null,
            "align_items": null,
            "align_self": null,
            "border": null,
            "bottom": null,
            "display": null,
            "flex": null,
            "flex_flow": null,
            "grid_area": null,
            "grid_auto_columns": null,
            "grid_auto_flow": null,
            "grid_auto_rows": null,
            "grid_column": null,
            "grid_gap": null,
            "grid_row": null,
            "grid_template_areas": null,
            "grid_template_columns": null,
            "grid_template_rows": null,
            "height": null,
            "justify_content": null,
            "justify_items": null,
            "left": null,
            "margin": null,
            "max_height": null,
            "max_width": null,
            "min_height": null,
            "min_width": null,
            "object_fit": null,
            "object_position": null,
            "order": null,
            "overflow": null,
            "overflow_x": null,
            "overflow_y": null,
            "padding": null,
            "right": null,
            "top": null,
            "visibility": null,
            "width": null
          }
        },
        "9e029b6cf55743a0abfa3652fba75f7c": {
          "model_module": "@jupyter-widgets/controls",
          "model_name": "DescriptionStyleModel",
          "model_module_version": "1.5.0",
          "state": {
            "_model_module": "@jupyter-widgets/controls",
            "_model_module_version": "1.5.0",
            "_model_name": "DescriptionStyleModel",
            "_view_count": null,
            "_view_module": "@jupyter-widgets/base",
            "_view_module_version": "1.2.0",
            "_view_name": "StyleView",
            "description_width": ""
          }
        },
        "400708419efd4f69aefd0bdcffd857f6": {
          "model_module": "@jupyter-widgets/controls",
          "model_name": "HBoxModel",
          "model_module_version": "1.5.0",
          "state": {
            "_dom_classes": [],
            "_model_module": "@jupyter-widgets/controls",
            "_model_module_version": "1.5.0",
            "_model_name": "HBoxModel",
            "_view_count": null,
            "_view_module": "@jupyter-widgets/controls",
            "_view_module_version": "1.5.0",
            "_view_name": "HBoxView",
            "box_style": "",
            "children": [
              "IPY_MODEL_b936722cd6c34c368e3e96915baef87f",
              "IPY_MODEL_b21dcd6232dc4678bc0bb804b23f5dc4",
              "IPY_MODEL_0e90d9645f82499ca10997b1cf3f2514"
            ],
            "layout": "IPY_MODEL_eb735ebc52b448ea87f353cf5398a9bf"
          }
        },
        "b936722cd6c34c368e3e96915baef87f": {
          "model_module": "@jupyter-widgets/controls",
          "model_name": "HTMLModel",
          "model_module_version": "1.5.0",
          "state": {
            "_dom_classes": [],
            "_model_module": "@jupyter-widgets/controls",
            "_model_module_version": "1.5.0",
            "_model_name": "HTMLModel",
            "_view_count": null,
            "_view_module": "@jupyter-widgets/controls",
            "_view_module_version": "1.5.0",
            "_view_name": "HTMLView",
            "description": "",
            "description_tooltip": null,
            "layout": "IPY_MODEL_7ae05b0f1c73428ba09185e275fe9545",
            "placeholder": "​",
            "style": "IPY_MODEL_9b57689418c0439285fd831c53e4eac2",
            "value": "model-00005-of-00005.safetensors: 100%"
          }
        },
        "b21dcd6232dc4678bc0bb804b23f5dc4": {
          "model_module": "@jupyter-widgets/controls",
          "model_name": "FloatProgressModel",
          "model_module_version": "1.5.0",
          "state": {
            "_dom_classes": [],
            "_model_module": "@jupyter-widgets/controls",
            "_model_module_version": "1.5.0",
            "_model_name": "FloatProgressModel",
            "_view_count": null,
            "_view_module": "@jupyter-widgets/controls",
            "_view_module_version": "1.5.0",
            "_view_name": "ProgressView",
            "bar_style": "success",
            "description": "",
            "description_tooltip": null,
            "layout": "IPY_MODEL_34c93a411cc84843bff76a39fc587a71",
            "max": 1688284776,
            "min": 0,
            "orientation": "horizontal",
            "style": "IPY_MODEL_a14d23d20fea48549c6e8cd5c897c8e8",
            "value": 1688284776
          }
        },
        "0e90d9645f82499ca10997b1cf3f2514": {
          "model_module": "@jupyter-widgets/controls",
          "model_name": "HTMLModel",
          "model_module_version": "1.5.0",
          "state": {
            "_dom_classes": [],
            "_model_module": "@jupyter-widgets/controls",
            "_model_module_version": "1.5.0",
            "_model_name": "HTMLModel",
            "_view_count": null,
            "_view_module": "@jupyter-widgets/controls",
            "_view_module_version": "1.5.0",
            "_view_name": "HTMLView",
            "description": "",
            "description_tooltip": null,
            "layout": "IPY_MODEL_5924fe5e25864d89ab36dd39a0f5d670",
            "placeholder": "​",
            "style": "IPY_MODEL_12fdfed4eba043108006b7f7922e91d3",
            "value": " 1.69G/1.69G [00:04&lt;00:00, 437MB/s]"
          }
        },
        "eb735ebc52b448ea87f353cf5398a9bf": {
          "model_module": "@jupyter-widgets/base",
          "model_name": "LayoutModel",
          "model_module_version": "1.2.0",
          "state": {
            "_model_module": "@jupyter-widgets/base",
            "_model_module_version": "1.2.0",
            "_model_name": "LayoutModel",
            "_view_count": null,
            "_view_module": "@jupyter-widgets/base",
            "_view_module_version": "1.2.0",
            "_view_name": "LayoutView",
            "align_content": null,
            "align_items": null,
            "align_self": null,
            "border": null,
            "bottom": null,
            "display": null,
            "flex": null,
            "flex_flow": null,
            "grid_area": null,
            "grid_auto_columns": null,
            "grid_auto_flow": null,
            "grid_auto_rows": null,
            "grid_column": null,
            "grid_gap": null,
            "grid_row": null,
            "grid_template_areas": null,
            "grid_template_columns": null,
            "grid_template_rows": null,
            "height": null,
            "justify_content": null,
            "justify_items": null,
            "left": null,
            "margin": null,
            "max_height": null,
            "max_width": null,
            "min_height": null,
            "min_width": null,
            "object_fit": null,
            "object_position": null,
            "order": null,
            "overflow": null,
            "overflow_x": null,
            "overflow_y": null,
            "padding": null,
            "right": null,
            "top": null,
            "visibility": null,
            "width": null
          }
        },
        "7ae05b0f1c73428ba09185e275fe9545": {
          "model_module": "@jupyter-widgets/base",
          "model_name": "LayoutModel",
          "model_module_version": "1.2.0",
          "state": {
            "_model_module": "@jupyter-widgets/base",
            "_model_module_version": "1.2.0",
            "_model_name": "LayoutModel",
            "_view_count": null,
            "_view_module": "@jupyter-widgets/base",
            "_view_module_version": "1.2.0",
            "_view_name": "LayoutView",
            "align_content": null,
            "align_items": null,
            "align_self": null,
            "border": null,
            "bottom": null,
            "display": null,
            "flex": null,
            "flex_flow": null,
            "grid_area": null,
            "grid_auto_columns": null,
            "grid_auto_flow": null,
            "grid_auto_rows": null,
            "grid_column": null,
            "grid_gap": null,
            "grid_row": null,
            "grid_template_areas": null,
            "grid_template_columns": null,
            "grid_template_rows": null,
            "height": null,
            "justify_content": null,
            "justify_items": null,
            "left": null,
            "margin": null,
            "max_height": null,
            "max_width": null,
            "min_height": null,
            "min_width": null,
            "object_fit": null,
            "object_position": null,
            "order": null,
            "overflow": null,
            "overflow_x": null,
            "overflow_y": null,
            "padding": null,
            "right": null,
            "top": null,
            "visibility": null,
            "width": null
          }
        },
        "9b57689418c0439285fd831c53e4eac2": {
          "model_module": "@jupyter-widgets/controls",
          "model_name": "DescriptionStyleModel",
          "model_module_version": "1.5.0",
          "state": {
            "_model_module": "@jupyter-widgets/controls",
            "_model_module_version": "1.5.0",
            "_model_name": "DescriptionStyleModel",
            "_view_count": null,
            "_view_module": "@jupyter-widgets/base",
            "_view_module_version": "1.2.0",
            "_view_name": "StyleView",
            "description_width": ""
          }
        },
        "34c93a411cc84843bff76a39fc587a71": {
          "model_module": "@jupyter-widgets/base",
          "model_name": "LayoutModel",
          "model_module_version": "1.2.0",
          "state": {
            "_model_module": "@jupyter-widgets/base",
            "_model_module_version": "1.2.0",
            "_model_name": "LayoutModel",
            "_view_count": null,
            "_view_module": "@jupyter-widgets/base",
            "_view_module_version": "1.2.0",
            "_view_name": "LayoutView",
            "align_content": null,
            "align_items": null,
            "align_self": null,
            "border": null,
            "bottom": null,
            "display": null,
            "flex": null,
            "flex_flow": null,
            "grid_area": null,
            "grid_auto_columns": null,
            "grid_auto_flow": null,
            "grid_auto_rows": null,
            "grid_column": null,
            "grid_gap": null,
            "grid_row": null,
            "grid_template_areas": null,
            "grid_template_columns": null,
            "grid_template_rows": null,
            "height": null,
            "justify_content": null,
            "justify_items": null,
            "left": null,
            "margin": null,
            "max_height": null,
            "max_width": null,
            "min_height": null,
            "min_width": null,
            "object_fit": null,
            "object_position": null,
            "order": null,
            "overflow": null,
            "overflow_x": null,
            "overflow_y": null,
            "padding": null,
            "right": null,
            "top": null,
            "visibility": null,
            "width": null
          }
        },
        "a14d23d20fea48549c6e8cd5c897c8e8": {
          "model_module": "@jupyter-widgets/controls",
          "model_name": "ProgressStyleModel",
          "model_module_version": "1.5.0",
          "state": {
            "_model_module": "@jupyter-widgets/controls",
            "_model_module_version": "1.5.0",
            "_model_name": "ProgressStyleModel",
            "_view_count": null,
            "_view_module": "@jupyter-widgets/base",
            "_view_module_version": "1.2.0",
            "_view_name": "StyleView",
            "bar_color": null,
            "description_width": ""
          }
        },
        "5924fe5e25864d89ab36dd39a0f5d670": {
          "model_module": "@jupyter-widgets/base",
          "model_name": "LayoutModel",
          "model_module_version": "1.2.0",
          "state": {
            "_model_module": "@jupyter-widgets/base",
            "_model_module_version": "1.2.0",
            "_model_name": "LayoutModel",
            "_view_count": null,
            "_view_module": "@jupyter-widgets/base",
            "_view_module_version": "1.2.0",
            "_view_name": "LayoutView",
            "align_content": null,
            "align_items": null,
            "align_self": null,
            "border": null,
            "bottom": null,
            "display": null,
            "flex": null,
            "flex_flow": null,
            "grid_area": null,
            "grid_auto_columns": null,
            "grid_auto_flow": null,
            "grid_auto_rows": null,
            "grid_column": null,
            "grid_gap": null,
            "grid_row": null,
            "grid_template_areas": null,
            "grid_template_columns": null,
            "grid_template_rows": null,
            "height": null,
            "justify_content": null,
            "justify_items": null,
            "left": null,
            "margin": null,
            "max_height": null,
            "max_width": null,
            "min_height": null,
            "min_width": null,
            "object_fit": null,
            "object_position": null,
            "order": null,
            "overflow": null,
            "overflow_x": null,
            "overflow_y": null,
            "padding": null,
            "right": null,
            "top": null,
            "visibility": null,
            "width": null
          }
        },
        "12fdfed4eba043108006b7f7922e91d3": {
          "model_module": "@jupyter-widgets/controls",
          "model_name": "DescriptionStyleModel",
          "model_module_version": "1.5.0",
          "state": {
            "_model_module": "@jupyter-widgets/controls",
            "_model_module_version": "1.5.0",
            "_model_name": "DescriptionStyleModel",
            "_view_count": null,
            "_view_module": "@jupyter-widgets/base",
            "_view_module_version": "1.2.0",
            "_view_name": "StyleView",
            "description_width": ""
          }
        },
        "f765c02b18cf4dc59ff5e61a2bf2af89": {
          "model_module": "@jupyter-widgets/controls",
          "model_name": "HBoxModel",
          "model_module_version": "1.5.0",
          "state": {
            "_dom_classes": [],
            "_model_module": "@jupyter-widgets/controls",
            "_model_module_version": "1.5.0",
            "_model_name": "HBoxModel",
            "_view_count": null,
            "_view_module": "@jupyter-widgets/controls",
            "_view_module_version": "1.5.0",
            "_view_name": "HBoxView",
            "box_style": "",
            "children": [
              "IPY_MODEL_2e331a18bb7144ffa80dc2998ac4a31a",
              "IPY_MODEL_e49d4b8c8fbb438eb045b2cf4f389cda",
              "IPY_MODEL_f81df91f7174454fb65b2db33f15deca"
            ],
            "layout": "IPY_MODEL_b4c6785431154ae08ca238cc4098e6ac"
          }
        },
        "2e331a18bb7144ffa80dc2998ac4a31a": {
          "model_module": "@jupyter-widgets/controls",
          "model_name": "HTMLModel",
          "model_module_version": "1.5.0",
          "state": {
            "_dom_classes": [],
            "_model_module": "@jupyter-widgets/controls",
            "_model_module_version": "1.5.0",
            "_model_name": "HTMLModel",
            "_view_count": null,
            "_view_module": "@jupyter-widgets/controls",
            "_view_module_version": "1.5.0",
            "_view_name": "HTMLView",
            "description": "",
            "description_tooltip": null,
            "layout": "IPY_MODEL_791726ec14c240a4b4b304ca4b59aed0",
            "placeholder": "​",
            "style": "IPY_MODEL_8a06a4460bb545d5849d45cae7079bd1",
            "value": "Loading checkpoint shards: 100%"
          }
        },
        "e49d4b8c8fbb438eb045b2cf4f389cda": {
          "model_module": "@jupyter-widgets/controls",
          "model_name": "FloatProgressModel",
          "model_module_version": "1.5.0",
          "state": {
            "_dom_classes": [],
            "_model_module": "@jupyter-widgets/controls",
            "_model_module_version": "1.5.0",
            "_model_name": "FloatProgressModel",
            "_view_count": null,
            "_view_module": "@jupyter-widgets/controls",
            "_view_module_version": "1.5.0",
            "_view_name": "ProgressView",
            "bar_style": "success",
            "description": "",
            "description_tooltip": null,
            "layout": "IPY_MODEL_521cc18498db44c791c6144fd623c95d",
            "max": 5,
            "min": 0,
            "orientation": "horizontal",
            "style": "IPY_MODEL_a149c3e3114c47fb866d71da1c00cf41",
            "value": 5
          }
        },
        "f81df91f7174454fb65b2db33f15deca": {
          "model_module": "@jupyter-widgets/controls",
          "model_name": "HTMLModel",
          "model_module_version": "1.5.0",
          "state": {
            "_dom_classes": [],
            "_model_module": "@jupyter-widgets/controls",
            "_model_module_version": "1.5.0",
            "_model_name": "HTMLModel",
            "_view_count": null,
            "_view_module": "@jupyter-widgets/controls",
            "_view_module_version": "1.5.0",
            "_view_name": "HTMLView",
            "description": "",
            "description_tooltip": null,
            "layout": "IPY_MODEL_e6a409126de54554bffb339f52201614",
            "placeholder": "​",
            "style": "IPY_MODEL_e2c475ec39af41b4b64cd75ac25c3010",
            "value": " 5/5 [00:12&lt;00:00,  2.19s/it]"
          }
        },
        "b4c6785431154ae08ca238cc4098e6ac": {
          "model_module": "@jupyter-widgets/base",
          "model_name": "LayoutModel",
          "model_module_version": "1.2.0",
          "state": {
            "_model_module": "@jupyter-widgets/base",
            "_model_module_version": "1.2.0",
            "_model_name": "LayoutModel",
            "_view_count": null,
            "_view_module": "@jupyter-widgets/base",
            "_view_module_version": "1.2.0",
            "_view_name": "LayoutView",
            "align_content": null,
            "align_items": null,
            "align_self": null,
            "border": null,
            "bottom": null,
            "display": null,
            "flex": null,
            "flex_flow": null,
            "grid_area": null,
            "grid_auto_columns": null,
            "grid_auto_flow": null,
            "grid_auto_rows": null,
            "grid_column": null,
            "grid_gap": null,
            "grid_row": null,
            "grid_template_areas": null,
            "grid_template_columns": null,
            "grid_template_rows": null,
            "height": null,
            "justify_content": null,
            "justify_items": null,
            "left": null,
            "margin": null,
            "max_height": null,
            "max_width": null,
            "min_height": null,
            "min_width": null,
            "object_fit": null,
            "object_position": null,
            "order": null,
            "overflow": null,
            "overflow_x": null,
            "overflow_y": null,
            "padding": null,
            "right": null,
            "top": null,
            "visibility": null,
            "width": null
          }
        },
        "791726ec14c240a4b4b304ca4b59aed0": {
          "model_module": "@jupyter-widgets/base",
          "model_name": "LayoutModel",
          "model_module_version": "1.2.0",
          "state": {
            "_model_module": "@jupyter-widgets/base",
            "_model_module_version": "1.2.0",
            "_model_name": "LayoutModel",
            "_view_count": null,
            "_view_module": "@jupyter-widgets/base",
            "_view_module_version": "1.2.0",
            "_view_name": "LayoutView",
            "align_content": null,
            "align_items": null,
            "align_self": null,
            "border": null,
            "bottom": null,
            "display": null,
            "flex": null,
            "flex_flow": null,
            "grid_area": null,
            "grid_auto_columns": null,
            "grid_auto_flow": null,
            "grid_auto_rows": null,
            "grid_column": null,
            "grid_gap": null,
            "grid_row": null,
            "grid_template_areas": null,
            "grid_template_columns": null,
            "grid_template_rows": null,
            "height": null,
            "justify_content": null,
            "justify_items": null,
            "left": null,
            "margin": null,
            "max_height": null,
            "max_width": null,
            "min_height": null,
            "min_width": null,
            "object_fit": null,
            "object_position": null,
            "order": null,
            "overflow": null,
            "overflow_x": null,
            "overflow_y": null,
            "padding": null,
            "right": null,
            "top": null,
            "visibility": null,
            "width": null
          }
        },
        "8a06a4460bb545d5849d45cae7079bd1": {
          "model_module": "@jupyter-widgets/controls",
          "model_name": "DescriptionStyleModel",
          "model_module_version": "1.5.0",
          "state": {
            "_model_module": "@jupyter-widgets/controls",
            "_model_module_version": "1.5.0",
            "_model_name": "DescriptionStyleModel",
            "_view_count": null,
            "_view_module": "@jupyter-widgets/base",
            "_view_module_version": "1.2.0",
            "_view_name": "StyleView",
            "description_width": ""
          }
        },
        "521cc18498db44c791c6144fd623c95d": {
          "model_module": "@jupyter-widgets/base",
          "model_name": "LayoutModel",
          "model_module_version": "1.2.0",
          "state": {
            "_model_module": "@jupyter-widgets/base",
            "_model_module_version": "1.2.0",
            "_model_name": "LayoutModel",
            "_view_count": null,
            "_view_module": "@jupyter-widgets/base",
            "_view_module_version": "1.2.0",
            "_view_name": "LayoutView",
            "align_content": null,
            "align_items": null,
            "align_self": null,
            "border": null,
            "bottom": null,
            "display": null,
            "flex": null,
            "flex_flow": null,
            "grid_area": null,
            "grid_auto_columns": null,
            "grid_auto_flow": null,
            "grid_auto_rows": null,
            "grid_column": null,
            "grid_gap": null,
            "grid_row": null,
            "grid_template_areas": null,
            "grid_template_columns": null,
            "grid_template_rows": null,
            "height": null,
            "justify_content": null,
            "justify_items": null,
            "left": null,
            "margin": null,
            "max_height": null,
            "max_width": null,
            "min_height": null,
            "min_width": null,
            "object_fit": null,
            "object_position": null,
            "order": null,
            "overflow": null,
            "overflow_x": null,
            "overflow_y": null,
            "padding": null,
            "right": null,
            "top": null,
            "visibility": null,
            "width": null
          }
        },
        "a149c3e3114c47fb866d71da1c00cf41": {
          "model_module": "@jupyter-widgets/controls",
          "model_name": "ProgressStyleModel",
          "model_module_version": "1.5.0",
          "state": {
            "_model_module": "@jupyter-widgets/controls",
            "_model_module_version": "1.5.0",
            "_model_name": "ProgressStyleModel",
            "_view_count": null,
            "_view_module": "@jupyter-widgets/base",
            "_view_module_version": "1.2.0",
            "_view_name": "StyleView",
            "bar_color": null,
            "description_width": ""
          }
        },
        "e6a409126de54554bffb339f52201614": {
          "model_module": "@jupyter-widgets/base",
          "model_name": "LayoutModel",
          "model_module_version": "1.2.0",
          "state": {
            "_model_module": "@jupyter-widgets/base",
            "_model_module_version": "1.2.0",
            "_model_name": "LayoutModel",
            "_view_count": null,
            "_view_module": "@jupyter-widgets/base",
            "_view_module_version": "1.2.0",
            "_view_name": "LayoutView",
            "align_content": null,
            "align_items": null,
            "align_self": null,
            "border": null,
            "bottom": null,
            "display": null,
            "flex": null,
            "flex_flow": null,
            "grid_area": null,
            "grid_auto_columns": null,
            "grid_auto_flow": null,
            "grid_auto_rows": null,
            "grid_column": null,
            "grid_gap": null,
            "grid_row": null,
            "grid_template_areas": null,
            "grid_template_columns": null,
            "grid_template_rows": null,
            "height": null,
            "justify_content": null,
            "justify_items": null,
            "left": null,
            "margin": null,
            "max_height": null,
            "max_width": null,
            "min_height": null,
            "min_width": null,
            "object_fit": null,
            "object_position": null,
            "order": null,
            "overflow": null,
            "overflow_x": null,
            "overflow_y": null,
            "padding": null,
            "right": null,
            "top": null,
            "visibility": null,
            "width": null
          }
        },
        "e2c475ec39af41b4b64cd75ac25c3010": {
          "model_module": "@jupyter-widgets/controls",
          "model_name": "DescriptionStyleModel",
          "model_module_version": "1.5.0",
          "state": {
            "_model_module": "@jupyter-widgets/controls",
            "_model_module_version": "1.5.0",
            "_model_name": "DescriptionStyleModel",
            "_view_count": null,
            "_view_module": "@jupyter-widgets/base",
            "_view_module_version": "1.2.0",
            "_view_name": "StyleView",
            "description_width": ""
          }
        },
        "3936399357f94bf6976142b53afff404": {
          "model_module": "@jupyter-widgets/controls",
          "model_name": "HBoxModel",
          "model_module_version": "1.5.0",
          "state": {
            "_dom_classes": [],
            "_model_module": "@jupyter-widgets/controls",
            "_model_module_version": "1.5.0",
            "_model_name": "HBoxModel",
            "_view_count": null,
            "_view_module": "@jupyter-widgets/controls",
            "_view_module_version": "1.5.0",
            "_view_name": "HBoxView",
            "box_style": "",
            "children": [
              "IPY_MODEL_fb13beb5d574453a953d9ccc9629aefe",
              "IPY_MODEL_39efe2aee03543e395e334726999d111",
              "IPY_MODEL_3221e06b03ec47218604a472d14cce30"
            ],
            "layout": "IPY_MODEL_06611fb5becb4e24a37d7005e683136a"
          }
        },
        "fb13beb5d574453a953d9ccc9629aefe": {
          "model_module": "@jupyter-widgets/controls",
          "model_name": "HTMLModel",
          "model_module_version": "1.5.0",
          "state": {
            "_dom_classes": [],
            "_model_module": "@jupyter-widgets/controls",
            "_model_module_version": "1.5.0",
            "_model_name": "HTMLModel",
            "_view_count": null,
            "_view_module": "@jupyter-widgets/controls",
            "_view_module_version": "1.5.0",
            "_view_name": "HTMLView",
            "description": "",
            "description_tooltip": null,
            "layout": "IPY_MODEL_4e18b10450d5424f96892cf7ceef2ecb",
            "placeholder": "​",
            "style": "IPY_MODEL_e6e08fa63b02412983b3e942b86ae21c",
            "value": "generation_config.json: 100%"
          }
        },
        "39efe2aee03543e395e334726999d111": {
          "model_module": "@jupyter-widgets/controls",
          "model_name": "FloatProgressModel",
          "model_module_version": "1.5.0",
          "state": {
            "_dom_classes": [],
            "_model_module": "@jupyter-widgets/controls",
            "_model_module_version": "1.5.0",
            "_model_name": "FloatProgressModel",
            "_view_count": null,
            "_view_module": "@jupyter-widgets/controls",
            "_view_module_version": "1.5.0",
            "_view_name": "ProgressView",
            "bar_style": "success",
            "description": "",
            "description_tooltip": null,
            "layout": "IPY_MODEL_7f5a6f984d964b109b7c347c5418dcb8",
            "max": 159,
            "min": 0,
            "orientation": "horizontal",
            "style": "IPY_MODEL_7d5e55c9fe0845ee9c89c0cf18904b6b",
            "value": 159
          }
        },
        "3221e06b03ec47218604a472d14cce30": {
          "model_module": "@jupyter-widgets/controls",
          "model_name": "HTMLModel",
          "model_module_version": "1.5.0",
          "state": {
            "_dom_classes": [],
            "_model_module": "@jupyter-widgets/controls",
            "_model_module_version": "1.5.0",
            "_model_name": "HTMLModel",
            "_view_count": null,
            "_view_module": "@jupyter-widgets/controls",
            "_view_module_version": "1.5.0",
            "_view_name": "HTMLView",
            "description": "",
            "description_tooltip": null,
            "layout": "IPY_MODEL_5bd272cd9b214c2eb0bb24f83173136a",
            "placeholder": "​",
            "style": "IPY_MODEL_b6353293a75c495fb8c9c38db94c2ca0",
            "value": " 159/159 [00:00&lt;00:00, 14.0kB/s]"
          }
        },
        "06611fb5becb4e24a37d7005e683136a": {
          "model_module": "@jupyter-widgets/base",
          "model_name": "LayoutModel",
          "model_module_version": "1.2.0",
          "state": {
            "_model_module": "@jupyter-widgets/base",
            "_model_module_version": "1.2.0",
            "_model_name": "LayoutModel",
            "_view_count": null,
            "_view_module": "@jupyter-widgets/base",
            "_view_module_version": "1.2.0",
            "_view_name": "LayoutView",
            "align_content": null,
            "align_items": null,
            "align_self": null,
            "border": null,
            "bottom": null,
            "display": null,
            "flex": null,
            "flex_flow": null,
            "grid_area": null,
            "grid_auto_columns": null,
            "grid_auto_flow": null,
            "grid_auto_rows": null,
            "grid_column": null,
            "grid_gap": null,
            "grid_row": null,
            "grid_template_areas": null,
            "grid_template_columns": null,
            "grid_template_rows": null,
            "height": null,
            "justify_content": null,
            "justify_items": null,
            "left": null,
            "margin": null,
            "max_height": null,
            "max_width": null,
            "min_height": null,
            "min_width": null,
            "object_fit": null,
            "object_position": null,
            "order": null,
            "overflow": null,
            "overflow_x": null,
            "overflow_y": null,
            "padding": null,
            "right": null,
            "top": null,
            "visibility": null,
            "width": null
          }
        },
        "4e18b10450d5424f96892cf7ceef2ecb": {
          "model_module": "@jupyter-widgets/base",
          "model_name": "LayoutModel",
          "model_module_version": "1.2.0",
          "state": {
            "_model_module": "@jupyter-widgets/base",
            "_model_module_version": "1.2.0",
            "_model_name": "LayoutModel",
            "_view_count": null,
            "_view_module": "@jupyter-widgets/base",
            "_view_module_version": "1.2.0",
            "_view_name": "LayoutView",
            "align_content": null,
            "align_items": null,
            "align_self": null,
            "border": null,
            "bottom": null,
            "display": null,
            "flex": null,
            "flex_flow": null,
            "grid_area": null,
            "grid_auto_columns": null,
            "grid_auto_flow": null,
            "grid_auto_rows": null,
            "grid_column": null,
            "grid_gap": null,
            "grid_row": null,
            "grid_template_areas": null,
            "grid_template_columns": null,
            "grid_template_rows": null,
            "height": null,
            "justify_content": null,
            "justify_items": null,
            "left": null,
            "margin": null,
            "max_height": null,
            "max_width": null,
            "min_height": null,
            "min_width": null,
            "object_fit": null,
            "object_position": null,
            "order": null,
            "overflow": null,
            "overflow_x": null,
            "overflow_y": null,
            "padding": null,
            "right": null,
            "top": null,
            "visibility": null,
            "width": null
          }
        },
        "e6e08fa63b02412983b3e942b86ae21c": {
          "model_module": "@jupyter-widgets/controls",
          "model_name": "DescriptionStyleModel",
          "model_module_version": "1.5.0",
          "state": {
            "_model_module": "@jupyter-widgets/controls",
            "_model_module_version": "1.5.0",
            "_model_name": "DescriptionStyleModel",
            "_view_count": null,
            "_view_module": "@jupyter-widgets/base",
            "_view_module_version": "1.2.0",
            "_view_name": "StyleView",
            "description_width": ""
          }
        },
        "7f5a6f984d964b109b7c347c5418dcb8": {
          "model_module": "@jupyter-widgets/base",
          "model_name": "LayoutModel",
          "model_module_version": "1.2.0",
          "state": {
            "_model_module": "@jupyter-widgets/base",
            "_model_module_version": "1.2.0",
            "_model_name": "LayoutModel",
            "_view_count": null,
            "_view_module": "@jupyter-widgets/base",
            "_view_module_version": "1.2.0",
            "_view_name": "LayoutView",
            "align_content": null,
            "align_items": null,
            "align_self": null,
            "border": null,
            "bottom": null,
            "display": null,
            "flex": null,
            "flex_flow": null,
            "grid_area": null,
            "grid_auto_columns": null,
            "grid_auto_flow": null,
            "grid_auto_rows": null,
            "grid_column": null,
            "grid_gap": null,
            "grid_row": null,
            "grid_template_areas": null,
            "grid_template_columns": null,
            "grid_template_rows": null,
            "height": null,
            "justify_content": null,
            "justify_items": null,
            "left": null,
            "margin": null,
            "max_height": null,
            "max_width": null,
            "min_height": null,
            "min_width": null,
            "object_fit": null,
            "object_position": null,
            "order": null,
            "overflow": null,
            "overflow_x": null,
            "overflow_y": null,
            "padding": null,
            "right": null,
            "top": null,
            "visibility": null,
            "width": null
          }
        },
        "7d5e55c9fe0845ee9c89c0cf18904b6b": {
          "model_module": "@jupyter-widgets/controls",
          "model_name": "ProgressStyleModel",
          "model_module_version": "1.5.0",
          "state": {
            "_model_module": "@jupyter-widgets/controls",
            "_model_module_version": "1.5.0",
            "_model_name": "ProgressStyleModel",
            "_view_count": null,
            "_view_module": "@jupyter-widgets/base",
            "_view_module_version": "1.2.0",
            "_view_name": "StyleView",
            "bar_color": null,
            "description_width": ""
          }
        },
        "5bd272cd9b214c2eb0bb24f83173136a": {
          "model_module": "@jupyter-widgets/base",
          "model_name": "LayoutModel",
          "model_module_version": "1.2.0",
          "state": {
            "_model_module": "@jupyter-widgets/base",
            "_model_module_version": "1.2.0",
            "_model_name": "LayoutModel",
            "_view_count": null,
            "_view_module": "@jupyter-widgets/base",
            "_view_module_version": "1.2.0",
            "_view_name": "LayoutView",
            "align_content": null,
            "align_items": null,
            "align_self": null,
            "border": null,
            "bottom": null,
            "display": null,
            "flex": null,
            "flex_flow": null,
            "grid_area": null,
            "grid_auto_columns": null,
            "grid_auto_flow": null,
            "grid_auto_rows": null,
            "grid_column": null,
            "grid_gap": null,
            "grid_row": null,
            "grid_template_areas": null,
            "grid_template_columns": null,
            "grid_template_rows": null,
            "height": null,
            "justify_content": null,
            "justify_items": null,
            "left": null,
            "margin": null,
            "max_height": null,
            "max_width": null,
            "min_height": null,
            "min_width": null,
            "object_fit": null,
            "object_position": null,
            "order": null,
            "overflow": null,
            "overflow_x": null,
            "overflow_y": null,
            "padding": null,
            "right": null,
            "top": null,
            "visibility": null,
            "width": null
          }
        },
        "b6353293a75c495fb8c9c38db94c2ca0": {
          "model_module": "@jupyter-widgets/controls",
          "model_name": "DescriptionStyleModel",
          "model_module_version": "1.5.0",
          "state": {
            "_model_module": "@jupyter-widgets/controls",
            "_model_module_version": "1.5.0",
            "_model_name": "DescriptionStyleModel",
            "_view_count": null,
            "_view_module": "@jupyter-widgets/base",
            "_view_module_version": "1.2.0",
            "_view_name": "StyleView",
            "description_width": ""
          }
        },
        "fdce4200897b4dca8e2b20a3c03986b0": {
          "model_module": "@jupyter-widgets/controls",
          "model_name": "HBoxModel",
          "model_module_version": "1.5.0",
          "state": {
            "_dom_classes": [],
            "_model_module": "@jupyter-widgets/controls",
            "_model_module_version": "1.5.0",
            "_model_name": "HBoxModel",
            "_view_count": null,
            "_view_module": "@jupyter-widgets/controls",
            "_view_module_version": "1.5.0",
            "_view_name": "HBoxView",
            "box_style": "",
            "children": [
              "IPY_MODEL_6d24c2d58e2c4842bb508c0e0a28499d",
              "IPY_MODEL_ce556e757ec844928425e9e16dffbdc6",
              "IPY_MODEL_60d8fbf1106e4de0bc1367e4274919d6"
            ],
            "layout": "IPY_MODEL_fe85c6f649794445a2e329f1a6e18014"
          }
        },
        "6d24c2d58e2c4842bb508c0e0a28499d": {
          "model_module": "@jupyter-widgets/controls",
          "model_name": "HTMLModel",
          "model_module_version": "1.5.0",
          "state": {
            "_dom_classes": [],
            "_model_module": "@jupyter-widgets/controls",
            "_model_module_version": "1.5.0",
            "_model_name": "HTMLModel",
            "_view_count": null,
            "_view_module": "@jupyter-widgets/controls",
            "_view_module_version": "1.5.0",
            "_view_name": "HTMLView",
            "description": "",
            "description_tooltip": null,
            "layout": "IPY_MODEL_55dc1e688ec44f1d9b965c45d1b71259",
            "placeholder": "​",
            "style": "IPY_MODEL_b41c0801ca424df198fdf3c68e0720e5",
            "value": "Loading checkpoint shards: 100%"
          }
        },
        "ce556e757ec844928425e9e16dffbdc6": {
          "model_module": "@jupyter-widgets/controls",
          "model_name": "FloatProgressModel",
          "model_module_version": "1.5.0",
          "state": {
            "_dom_classes": [],
            "_model_module": "@jupyter-widgets/controls",
            "_model_module_version": "1.5.0",
            "_model_name": "FloatProgressModel",
            "_view_count": null,
            "_view_module": "@jupyter-widgets/controls",
            "_view_module_version": "1.5.0",
            "_view_name": "ProgressView",
            "bar_style": "success",
            "description": "",
            "description_tooltip": null,
            "layout": "IPY_MODEL_933a883278de49da8bd177213048574b",
            "max": 5,
            "min": 0,
            "orientation": "horizontal",
            "style": "IPY_MODEL_c1faf977301445f58b67221d8fc90bf1",
            "value": 5
          }
        },
        "60d8fbf1106e4de0bc1367e4274919d6": {
          "model_module": "@jupyter-widgets/controls",
          "model_name": "HTMLModel",
          "model_module_version": "1.5.0",
          "state": {
            "_dom_classes": [],
            "_model_module": "@jupyter-widgets/controls",
            "_model_module_version": "1.5.0",
            "_model_name": "HTMLModel",
            "_view_count": null,
            "_view_module": "@jupyter-widgets/controls",
            "_view_module_version": "1.5.0",
            "_view_name": "HTMLView",
            "description": "",
            "description_tooltip": null,
            "layout": "IPY_MODEL_8301b1d88fca41a3b8688718ecd733c2",
            "placeholder": "​",
            "style": "IPY_MODEL_f70a6ba6bb7b48e4aef8608bd38f212d",
            "value": " 5/5 [00:09&lt;00:00,  1.68s/it]"
          }
        },
        "fe85c6f649794445a2e329f1a6e18014": {
          "model_module": "@jupyter-widgets/base",
          "model_name": "LayoutModel",
          "model_module_version": "1.2.0",
          "state": {
            "_model_module": "@jupyter-widgets/base",
            "_model_module_version": "1.2.0",
            "_model_name": "LayoutModel",
            "_view_count": null,
            "_view_module": "@jupyter-widgets/base",
            "_view_module_version": "1.2.0",
            "_view_name": "LayoutView",
            "align_content": null,
            "align_items": null,
            "align_self": null,
            "border": null,
            "bottom": null,
            "display": null,
            "flex": null,
            "flex_flow": null,
            "grid_area": null,
            "grid_auto_columns": null,
            "grid_auto_flow": null,
            "grid_auto_rows": null,
            "grid_column": null,
            "grid_gap": null,
            "grid_row": null,
            "grid_template_areas": null,
            "grid_template_columns": null,
            "grid_template_rows": null,
            "height": null,
            "justify_content": null,
            "justify_items": null,
            "left": null,
            "margin": null,
            "max_height": null,
            "max_width": null,
            "min_height": null,
            "min_width": null,
            "object_fit": null,
            "object_position": null,
            "order": null,
            "overflow": null,
            "overflow_x": null,
            "overflow_y": null,
            "padding": null,
            "right": null,
            "top": null,
            "visibility": null,
            "width": null
          }
        },
        "55dc1e688ec44f1d9b965c45d1b71259": {
          "model_module": "@jupyter-widgets/base",
          "model_name": "LayoutModel",
          "model_module_version": "1.2.0",
          "state": {
            "_model_module": "@jupyter-widgets/base",
            "_model_module_version": "1.2.0",
            "_model_name": "LayoutModel",
            "_view_count": null,
            "_view_module": "@jupyter-widgets/base",
            "_view_module_version": "1.2.0",
            "_view_name": "LayoutView",
            "align_content": null,
            "align_items": null,
            "align_self": null,
            "border": null,
            "bottom": null,
            "display": null,
            "flex": null,
            "flex_flow": null,
            "grid_area": null,
            "grid_auto_columns": null,
            "grid_auto_flow": null,
            "grid_auto_rows": null,
            "grid_column": null,
            "grid_gap": null,
            "grid_row": null,
            "grid_template_areas": null,
            "grid_template_columns": null,
            "grid_template_rows": null,
            "height": null,
            "justify_content": null,
            "justify_items": null,
            "left": null,
            "margin": null,
            "max_height": null,
            "max_width": null,
            "min_height": null,
            "min_width": null,
            "object_fit": null,
            "object_position": null,
            "order": null,
            "overflow": null,
            "overflow_x": null,
            "overflow_y": null,
            "padding": null,
            "right": null,
            "top": null,
            "visibility": null,
            "width": null
          }
        },
        "b41c0801ca424df198fdf3c68e0720e5": {
          "model_module": "@jupyter-widgets/controls",
          "model_name": "DescriptionStyleModel",
          "model_module_version": "1.5.0",
          "state": {
            "_model_module": "@jupyter-widgets/controls",
            "_model_module_version": "1.5.0",
            "_model_name": "DescriptionStyleModel",
            "_view_count": null,
            "_view_module": "@jupyter-widgets/base",
            "_view_module_version": "1.2.0",
            "_view_name": "StyleView",
            "description_width": ""
          }
        },
        "933a883278de49da8bd177213048574b": {
          "model_module": "@jupyter-widgets/base",
          "model_name": "LayoutModel",
          "model_module_version": "1.2.0",
          "state": {
            "_model_module": "@jupyter-widgets/base",
            "_model_module_version": "1.2.0",
            "_model_name": "LayoutModel",
            "_view_count": null,
            "_view_module": "@jupyter-widgets/base",
            "_view_module_version": "1.2.0",
            "_view_name": "LayoutView",
            "align_content": null,
            "align_items": null,
            "align_self": null,
            "border": null,
            "bottom": null,
            "display": null,
            "flex": null,
            "flex_flow": null,
            "grid_area": null,
            "grid_auto_columns": null,
            "grid_auto_flow": null,
            "grid_auto_rows": null,
            "grid_column": null,
            "grid_gap": null,
            "grid_row": null,
            "grid_template_areas": null,
            "grid_template_columns": null,
            "grid_template_rows": null,
            "height": null,
            "justify_content": null,
            "justify_items": null,
            "left": null,
            "margin": null,
            "max_height": null,
            "max_width": null,
            "min_height": null,
            "min_width": null,
            "object_fit": null,
            "object_position": null,
            "order": null,
            "overflow": null,
            "overflow_x": null,
            "overflow_y": null,
            "padding": null,
            "right": null,
            "top": null,
            "visibility": null,
            "width": null
          }
        },
        "c1faf977301445f58b67221d8fc90bf1": {
          "model_module": "@jupyter-widgets/controls",
          "model_name": "ProgressStyleModel",
          "model_module_version": "1.5.0",
          "state": {
            "_model_module": "@jupyter-widgets/controls",
            "_model_module_version": "1.5.0",
            "_model_name": "ProgressStyleModel",
            "_view_count": null,
            "_view_module": "@jupyter-widgets/base",
            "_view_module_version": "1.2.0",
            "_view_name": "StyleView",
            "bar_color": null,
            "description_width": ""
          }
        },
        "8301b1d88fca41a3b8688718ecd733c2": {
          "model_module": "@jupyter-widgets/base",
          "model_name": "LayoutModel",
          "model_module_version": "1.2.0",
          "state": {
            "_model_module": "@jupyter-widgets/base",
            "_model_module_version": "1.2.0",
            "_model_name": "LayoutModel",
            "_view_count": null,
            "_view_module": "@jupyter-widgets/base",
            "_view_module_version": "1.2.0",
            "_view_name": "LayoutView",
            "align_content": null,
            "align_items": null,
            "align_self": null,
            "border": null,
            "bottom": null,
            "display": null,
            "flex": null,
            "flex_flow": null,
            "grid_area": null,
            "grid_auto_columns": null,
            "grid_auto_flow": null,
            "grid_auto_rows": null,
            "grid_column": null,
            "grid_gap": null,
            "grid_row": null,
            "grid_template_areas": null,
            "grid_template_columns": null,
            "grid_template_rows": null,
            "height": null,
            "justify_content": null,
            "justify_items": null,
            "left": null,
            "margin": null,
            "max_height": null,
            "max_width": null,
            "min_height": null,
            "min_width": null,
            "object_fit": null,
            "object_position": null,
            "order": null,
            "overflow": null,
            "overflow_x": null,
            "overflow_y": null,
            "padding": null,
            "right": null,
            "top": null,
            "visibility": null,
            "width": null
          }
        },
        "f70a6ba6bb7b48e4aef8608bd38f212d": {
          "model_module": "@jupyter-widgets/controls",
          "model_name": "DescriptionStyleModel",
          "model_module_version": "1.5.0",
          "state": {
            "_model_module": "@jupyter-widgets/controls",
            "_model_module_version": "1.5.0",
            "_model_name": "DescriptionStyleModel",
            "_view_count": null,
            "_view_module": "@jupyter-widgets/base",
            "_view_module_version": "1.2.0",
            "_view_name": "StyleView",
            "description_width": ""
          }
        },
        "bc7ace46417c4919b5a1c563dc7fa49c": {
          "model_module": "@jupyter-widgets/controls",
          "model_name": "HBoxModel",
          "model_module_version": "1.5.0",
          "state": {
            "_dom_classes": [],
            "_model_module": "@jupyter-widgets/controls",
            "_model_module_version": "1.5.0",
            "_model_name": "HBoxModel",
            "_view_count": null,
            "_view_module": "@jupyter-widgets/controls",
            "_view_module_version": "1.5.0",
            "_view_name": "HBoxView",
            "box_style": "",
            "children": [
              "IPY_MODEL_d8316f1be92d4d2da2daa4e7c4283de3",
              "IPY_MODEL_0a818652bc9744cb912ef66dd9e14ab1",
              "IPY_MODEL_6c69a7363fde424c8083516d7d13db47"
            ],
            "layout": "IPY_MODEL_a2017a11e04c4bdc85404efb5ed55d91"
          }
        },
        "d8316f1be92d4d2da2daa4e7c4283de3": {
          "model_module": "@jupyter-widgets/controls",
          "model_name": "HTMLModel",
          "model_module_version": "1.5.0",
          "state": {
            "_dom_classes": [],
            "_model_module": "@jupyter-widgets/controls",
            "_model_module_version": "1.5.0",
            "_model_name": "HTMLModel",
            "_view_count": null,
            "_view_module": "@jupyter-widgets/controls",
            "_view_module_version": "1.5.0",
            "_view_name": "HTMLView",
            "description": "",
            "description_tooltip": null,
            "layout": "IPY_MODEL_87d9c1614a1a469680a55f131d42feb5",
            "placeholder": "​",
            "style": "IPY_MODEL_505870f1ae6d421c940e8f0a84491231",
            "value": "tokenizer_config.json: 100%"
          }
        },
        "0a818652bc9744cb912ef66dd9e14ab1": {
          "model_module": "@jupyter-widgets/controls",
          "model_name": "FloatProgressModel",
          "model_module_version": "1.5.0",
          "state": {
            "_dom_classes": [],
            "_model_module": "@jupyter-widgets/controls",
            "_model_module_version": "1.5.0",
            "_model_name": "FloatProgressModel",
            "_view_count": null,
            "_view_module": "@jupyter-widgets/controls",
            "_view_module_version": "1.5.0",
            "_view_name": "ProgressView",
            "bar_style": "success",
            "description": "",
            "description_tooltip": null,
            "layout": "IPY_MODEL_dba2969447c8447a89aca40b9412feb4",
            "max": 1458,
            "min": 0,
            "orientation": "horizontal",
            "style": "IPY_MODEL_39409affe8fb499f99763cec1d24fea8",
            "value": 1458
          }
        },
        "6c69a7363fde424c8083516d7d13db47": {
          "model_module": "@jupyter-widgets/controls",
          "model_name": "HTMLModel",
          "model_module_version": "1.5.0",
          "state": {
            "_dom_classes": [],
            "_model_module": "@jupyter-widgets/controls",
            "_model_module_version": "1.5.0",
            "_model_name": "HTMLModel",
            "_view_count": null,
            "_view_module": "@jupyter-widgets/controls",
            "_view_module_version": "1.5.0",
            "_view_name": "HTMLView",
            "description": "",
            "description_tooltip": null,
            "layout": "IPY_MODEL_8d46363fa6c24bf0803efe13734a83f4",
            "placeholder": "​",
            "style": "IPY_MODEL_aa4f62f6ad294c1f826472e500f10562",
            "value": " 1.46k/1.46k [00:00&lt;00:00, 116kB/s]"
          }
        },
        "a2017a11e04c4bdc85404efb5ed55d91": {
          "model_module": "@jupyter-widgets/base",
          "model_name": "LayoutModel",
          "model_module_version": "1.2.0",
          "state": {
            "_model_module": "@jupyter-widgets/base",
            "_model_module_version": "1.2.0",
            "_model_name": "LayoutModel",
            "_view_count": null,
            "_view_module": "@jupyter-widgets/base",
            "_view_module_version": "1.2.0",
            "_view_name": "LayoutView",
            "align_content": null,
            "align_items": null,
            "align_self": null,
            "border": null,
            "bottom": null,
            "display": null,
            "flex": null,
            "flex_flow": null,
            "grid_area": null,
            "grid_auto_columns": null,
            "grid_auto_flow": null,
            "grid_auto_rows": null,
            "grid_column": null,
            "grid_gap": null,
            "grid_row": null,
            "grid_template_areas": null,
            "grid_template_columns": null,
            "grid_template_rows": null,
            "height": null,
            "justify_content": null,
            "justify_items": null,
            "left": null,
            "margin": null,
            "max_height": null,
            "max_width": null,
            "min_height": null,
            "min_width": null,
            "object_fit": null,
            "object_position": null,
            "order": null,
            "overflow": null,
            "overflow_x": null,
            "overflow_y": null,
            "padding": null,
            "right": null,
            "top": null,
            "visibility": null,
            "width": null
          }
        },
        "87d9c1614a1a469680a55f131d42feb5": {
          "model_module": "@jupyter-widgets/base",
          "model_name": "LayoutModel",
          "model_module_version": "1.2.0",
          "state": {
            "_model_module": "@jupyter-widgets/base",
            "_model_module_version": "1.2.0",
            "_model_name": "LayoutModel",
            "_view_count": null,
            "_view_module": "@jupyter-widgets/base",
            "_view_module_version": "1.2.0",
            "_view_name": "LayoutView",
            "align_content": null,
            "align_items": null,
            "align_self": null,
            "border": null,
            "bottom": null,
            "display": null,
            "flex": null,
            "flex_flow": null,
            "grid_area": null,
            "grid_auto_columns": null,
            "grid_auto_flow": null,
            "grid_auto_rows": null,
            "grid_column": null,
            "grid_gap": null,
            "grid_row": null,
            "grid_template_areas": null,
            "grid_template_columns": null,
            "grid_template_rows": null,
            "height": null,
            "justify_content": null,
            "justify_items": null,
            "left": null,
            "margin": null,
            "max_height": null,
            "max_width": null,
            "min_height": null,
            "min_width": null,
            "object_fit": null,
            "object_position": null,
            "order": null,
            "overflow": null,
            "overflow_x": null,
            "overflow_y": null,
            "padding": null,
            "right": null,
            "top": null,
            "visibility": null,
            "width": null
          }
        },
        "505870f1ae6d421c940e8f0a84491231": {
          "model_module": "@jupyter-widgets/controls",
          "model_name": "DescriptionStyleModel",
          "model_module_version": "1.5.0",
          "state": {
            "_model_module": "@jupyter-widgets/controls",
            "_model_module_version": "1.5.0",
            "_model_name": "DescriptionStyleModel",
            "_view_count": null,
            "_view_module": "@jupyter-widgets/base",
            "_view_module_version": "1.2.0",
            "_view_name": "StyleView",
            "description_width": ""
          }
        },
        "dba2969447c8447a89aca40b9412feb4": {
          "model_module": "@jupyter-widgets/base",
          "model_name": "LayoutModel",
          "model_module_version": "1.2.0",
          "state": {
            "_model_module": "@jupyter-widgets/base",
            "_model_module_version": "1.2.0",
            "_model_name": "LayoutModel",
            "_view_count": null,
            "_view_module": "@jupyter-widgets/base",
            "_view_module_version": "1.2.0",
            "_view_name": "LayoutView",
            "align_content": null,
            "align_items": null,
            "align_self": null,
            "border": null,
            "bottom": null,
            "display": null,
            "flex": null,
            "flex_flow": null,
            "grid_area": null,
            "grid_auto_columns": null,
            "grid_auto_flow": null,
            "grid_auto_rows": null,
            "grid_column": null,
            "grid_gap": null,
            "grid_row": null,
            "grid_template_areas": null,
            "grid_template_columns": null,
            "grid_template_rows": null,
            "height": null,
            "justify_content": null,
            "justify_items": null,
            "left": null,
            "margin": null,
            "max_height": null,
            "max_width": null,
            "min_height": null,
            "min_width": null,
            "object_fit": null,
            "object_position": null,
            "order": null,
            "overflow": null,
            "overflow_x": null,
            "overflow_y": null,
            "padding": null,
            "right": null,
            "top": null,
            "visibility": null,
            "width": null
          }
        },
        "39409affe8fb499f99763cec1d24fea8": {
          "model_module": "@jupyter-widgets/controls",
          "model_name": "ProgressStyleModel",
          "model_module_version": "1.5.0",
          "state": {
            "_model_module": "@jupyter-widgets/controls",
            "_model_module_version": "1.5.0",
            "_model_name": "ProgressStyleModel",
            "_view_count": null,
            "_view_module": "@jupyter-widgets/base",
            "_view_module_version": "1.2.0",
            "_view_name": "StyleView",
            "bar_color": null,
            "description_width": ""
          }
        },
        "8d46363fa6c24bf0803efe13734a83f4": {
          "model_module": "@jupyter-widgets/base",
          "model_name": "LayoutModel",
          "model_module_version": "1.2.0",
          "state": {
            "_model_module": "@jupyter-widgets/base",
            "_model_module_version": "1.2.0",
            "_model_name": "LayoutModel",
            "_view_count": null,
            "_view_module": "@jupyter-widgets/base",
            "_view_module_version": "1.2.0",
            "_view_name": "LayoutView",
            "align_content": null,
            "align_items": null,
            "align_self": null,
            "border": null,
            "bottom": null,
            "display": null,
            "flex": null,
            "flex_flow": null,
            "grid_area": null,
            "grid_auto_columns": null,
            "grid_auto_flow": null,
            "grid_auto_rows": null,
            "grid_column": null,
            "grid_gap": null,
            "grid_row": null,
            "grid_template_areas": null,
            "grid_template_columns": null,
            "grid_template_rows": null,
            "height": null,
            "justify_content": null,
            "justify_items": null,
            "left": null,
            "margin": null,
            "max_height": null,
            "max_width": null,
            "min_height": null,
            "min_width": null,
            "object_fit": null,
            "object_position": null,
            "order": null,
            "overflow": null,
            "overflow_x": null,
            "overflow_y": null,
            "padding": null,
            "right": null,
            "top": null,
            "visibility": null,
            "width": null
          }
        },
        "aa4f62f6ad294c1f826472e500f10562": {
          "model_module": "@jupyter-widgets/controls",
          "model_name": "DescriptionStyleModel",
          "model_module_version": "1.5.0",
          "state": {
            "_model_module": "@jupyter-widgets/controls",
            "_model_module_version": "1.5.0",
            "_model_name": "DescriptionStyleModel",
            "_view_count": null,
            "_view_module": "@jupyter-widgets/base",
            "_view_module_version": "1.2.0",
            "_view_name": "StyleView",
            "description_width": ""
          }
        },
        "3e80a2da1c8442d9ad005a9ebc15ba57": {
          "model_module": "@jupyter-widgets/controls",
          "model_name": "HBoxModel",
          "model_module_version": "1.5.0",
          "state": {
            "_dom_classes": [],
            "_model_module": "@jupyter-widgets/controls",
            "_model_module_version": "1.5.0",
            "_model_name": "HBoxModel",
            "_view_count": null,
            "_view_module": "@jupyter-widgets/controls",
            "_view_module_version": "1.5.0",
            "_view_name": "HBoxView",
            "box_style": "",
            "children": [
              "IPY_MODEL_88c462addac94d4e9aa84e21524f00c2",
              "IPY_MODEL_3a0c8534f13e4f5da5a361c8b9828388",
              "IPY_MODEL_c57fa088d96247bcab4698918a40dcce"
            ],
            "layout": "IPY_MODEL_222f98b6005543a091480bd0172de15a"
          }
        },
        "88c462addac94d4e9aa84e21524f00c2": {
          "model_module": "@jupyter-widgets/controls",
          "model_name": "HTMLModel",
          "model_module_version": "1.5.0",
          "state": {
            "_dom_classes": [],
            "_model_module": "@jupyter-widgets/controls",
            "_model_module_version": "1.5.0",
            "_model_name": "HTMLModel",
            "_view_count": null,
            "_view_module": "@jupyter-widgets/controls",
            "_view_module_version": "1.5.0",
            "_view_name": "HTMLView",
            "description": "",
            "description_tooltip": null,
            "layout": "IPY_MODEL_623e93c8bc6c497ebf2021b4a562c355",
            "placeholder": "​",
            "style": "IPY_MODEL_87db78cd3b964f9692503e2bd695734b",
            "value": "tokenizer.model: 100%"
          }
        },
        "3a0c8534f13e4f5da5a361c8b9828388": {
          "model_module": "@jupyter-widgets/controls",
          "model_name": "FloatProgressModel",
          "model_module_version": "1.5.0",
          "state": {
            "_dom_classes": [],
            "_model_module": "@jupyter-widgets/controls",
            "_model_module_version": "1.5.0",
            "_model_name": "FloatProgressModel",
            "_view_count": null,
            "_view_module": "@jupyter-widgets/controls",
            "_view_module_version": "1.5.0",
            "_view_name": "ProgressView",
            "bar_style": "success",
            "description": "",
            "description_tooltip": null,
            "layout": "IPY_MODEL_9f9ae2abe1684e1bbca8282b0788256a",
            "max": 493443,
            "min": 0,
            "orientation": "horizontal",
            "style": "IPY_MODEL_bead055a72264a7eb8751af4227f0171",
            "value": 493443
          }
        },
        "c57fa088d96247bcab4698918a40dcce": {
          "model_module": "@jupyter-widgets/controls",
          "model_name": "HTMLModel",
          "model_module_version": "1.5.0",
          "state": {
            "_dom_classes": [],
            "_model_module": "@jupyter-widgets/controls",
            "_model_module_version": "1.5.0",
            "_model_name": "HTMLModel",
            "_view_count": null,
            "_view_module": "@jupyter-widgets/controls",
            "_view_module_version": "1.5.0",
            "_view_name": "HTMLView",
            "description": "",
            "description_tooltip": null,
            "layout": "IPY_MODEL_529352a4208c4f75b81b60be34177cf9",
            "placeholder": "​",
            "style": "IPY_MODEL_67dfeb3ce2ad44eb93163a80c5f2cf85",
            "value": " 493k/493k [00:00&lt;00:00, 38.4MB/s]"
          }
        },
        "222f98b6005543a091480bd0172de15a": {
          "model_module": "@jupyter-widgets/base",
          "model_name": "LayoutModel",
          "model_module_version": "1.2.0",
          "state": {
            "_model_module": "@jupyter-widgets/base",
            "_model_module_version": "1.2.0",
            "_model_name": "LayoutModel",
            "_view_count": null,
            "_view_module": "@jupyter-widgets/base",
            "_view_module_version": "1.2.0",
            "_view_name": "LayoutView",
            "align_content": null,
            "align_items": null,
            "align_self": null,
            "border": null,
            "bottom": null,
            "display": null,
            "flex": null,
            "flex_flow": null,
            "grid_area": null,
            "grid_auto_columns": null,
            "grid_auto_flow": null,
            "grid_auto_rows": null,
            "grid_column": null,
            "grid_gap": null,
            "grid_row": null,
            "grid_template_areas": null,
            "grid_template_columns": null,
            "grid_template_rows": null,
            "height": null,
            "justify_content": null,
            "justify_items": null,
            "left": null,
            "margin": null,
            "max_height": null,
            "max_width": null,
            "min_height": null,
            "min_width": null,
            "object_fit": null,
            "object_position": null,
            "order": null,
            "overflow": null,
            "overflow_x": null,
            "overflow_y": null,
            "padding": null,
            "right": null,
            "top": null,
            "visibility": null,
            "width": null
          }
        },
        "623e93c8bc6c497ebf2021b4a562c355": {
          "model_module": "@jupyter-widgets/base",
          "model_name": "LayoutModel",
          "model_module_version": "1.2.0",
          "state": {
            "_model_module": "@jupyter-widgets/base",
            "_model_module_version": "1.2.0",
            "_model_name": "LayoutModel",
            "_view_count": null,
            "_view_module": "@jupyter-widgets/base",
            "_view_module_version": "1.2.0",
            "_view_name": "LayoutView",
            "align_content": null,
            "align_items": null,
            "align_self": null,
            "border": null,
            "bottom": null,
            "display": null,
            "flex": null,
            "flex_flow": null,
            "grid_area": null,
            "grid_auto_columns": null,
            "grid_auto_flow": null,
            "grid_auto_rows": null,
            "grid_column": null,
            "grid_gap": null,
            "grid_row": null,
            "grid_template_areas": null,
            "grid_template_columns": null,
            "grid_template_rows": null,
            "height": null,
            "justify_content": null,
            "justify_items": null,
            "left": null,
            "margin": null,
            "max_height": null,
            "max_width": null,
            "min_height": null,
            "min_width": null,
            "object_fit": null,
            "object_position": null,
            "order": null,
            "overflow": null,
            "overflow_x": null,
            "overflow_y": null,
            "padding": null,
            "right": null,
            "top": null,
            "visibility": null,
            "width": null
          }
        },
        "87db78cd3b964f9692503e2bd695734b": {
          "model_module": "@jupyter-widgets/controls",
          "model_name": "DescriptionStyleModel",
          "model_module_version": "1.5.0",
          "state": {
            "_model_module": "@jupyter-widgets/controls",
            "_model_module_version": "1.5.0",
            "_model_name": "DescriptionStyleModel",
            "_view_count": null,
            "_view_module": "@jupyter-widgets/base",
            "_view_module_version": "1.2.0",
            "_view_name": "StyleView",
            "description_width": ""
          }
        },
        "9f9ae2abe1684e1bbca8282b0788256a": {
          "model_module": "@jupyter-widgets/base",
          "model_name": "LayoutModel",
          "model_module_version": "1.2.0",
          "state": {
            "_model_module": "@jupyter-widgets/base",
            "_model_module_version": "1.2.0",
            "_model_name": "LayoutModel",
            "_view_count": null,
            "_view_module": "@jupyter-widgets/base",
            "_view_module_version": "1.2.0",
            "_view_name": "LayoutView",
            "align_content": null,
            "align_items": null,
            "align_self": null,
            "border": null,
            "bottom": null,
            "display": null,
            "flex": null,
            "flex_flow": null,
            "grid_area": null,
            "grid_auto_columns": null,
            "grid_auto_flow": null,
            "grid_auto_rows": null,
            "grid_column": null,
            "grid_gap": null,
            "grid_row": null,
            "grid_template_areas": null,
            "grid_template_columns": null,
            "grid_template_rows": null,
            "height": null,
            "justify_content": null,
            "justify_items": null,
            "left": null,
            "margin": null,
            "max_height": null,
            "max_width": null,
            "min_height": null,
            "min_width": null,
            "object_fit": null,
            "object_position": null,
            "order": null,
            "overflow": null,
            "overflow_x": null,
            "overflow_y": null,
            "padding": null,
            "right": null,
            "top": null,
            "visibility": null,
            "width": null
          }
        },
        "bead055a72264a7eb8751af4227f0171": {
          "model_module": "@jupyter-widgets/controls",
          "model_name": "ProgressStyleModel",
          "model_module_version": "1.5.0",
          "state": {
            "_model_module": "@jupyter-widgets/controls",
            "_model_module_version": "1.5.0",
            "_model_name": "ProgressStyleModel",
            "_view_count": null,
            "_view_module": "@jupyter-widgets/base",
            "_view_module_version": "1.2.0",
            "_view_name": "StyleView",
            "bar_color": null,
            "description_width": ""
          }
        },
        "529352a4208c4f75b81b60be34177cf9": {
          "model_module": "@jupyter-widgets/base",
          "model_name": "LayoutModel",
          "model_module_version": "1.2.0",
          "state": {
            "_model_module": "@jupyter-widgets/base",
            "_model_module_version": "1.2.0",
            "_model_name": "LayoutModel",
            "_view_count": null,
            "_view_module": "@jupyter-widgets/base",
            "_view_module_version": "1.2.0",
            "_view_name": "LayoutView",
            "align_content": null,
            "align_items": null,
            "align_self": null,
            "border": null,
            "bottom": null,
            "display": null,
            "flex": null,
            "flex_flow": null,
            "grid_area": null,
            "grid_auto_columns": null,
            "grid_auto_flow": null,
            "grid_auto_rows": null,
            "grid_column": null,
            "grid_gap": null,
            "grid_row": null,
            "grid_template_areas": null,
            "grid_template_columns": null,
            "grid_template_rows": null,
            "height": null,
            "justify_content": null,
            "justify_items": null,
            "left": null,
            "margin": null,
            "max_height": null,
            "max_width": null,
            "min_height": null,
            "min_width": null,
            "object_fit": null,
            "object_position": null,
            "order": null,
            "overflow": null,
            "overflow_x": null,
            "overflow_y": null,
            "padding": null,
            "right": null,
            "top": null,
            "visibility": null,
            "width": null
          }
        },
        "67dfeb3ce2ad44eb93163a80c5f2cf85": {
          "model_module": "@jupyter-widgets/controls",
          "model_name": "DescriptionStyleModel",
          "model_module_version": "1.5.0",
          "state": {
            "_model_module": "@jupyter-widgets/controls",
            "_model_module_version": "1.5.0",
            "_model_name": "DescriptionStyleModel",
            "_view_count": null,
            "_view_module": "@jupyter-widgets/base",
            "_view_module_version": "1.2.0",
            "_view_name": "StyleView",
            "description_width": ""
          }
        },
        "47850b12e31b49b6ae44d5e12b421910": {
          "model_module": "@jupyter-widgets/controls",
          "model_name": "HBoxModel",
          "model_module_version": "1.5.0",
          "state": {
            "_dom_classes": [],
            "_model_module": "@jupyter-widgets/controls",
            "_model_module_version": "1.5.0",
            "_model_name": "HBoxModel",
            "_view_count": null,
            "_view_module": "@jupyter-widgets/controls",
            "_view_module_version": "1.5.0",
            "_view_name": "HBoxView",
            "box_style": "",
            "children": [
              "IPY_MODEL_275fd15023c94162bd0eeef5254fadb8",
              "IPY_MODEL_1f199cd46d194926821e45b6782b3068",
              "IPY_MODEL_07e29bf22a5e435ebf40b5ab15e4c5da"
            ],
            "layout": "IPY_MODEL_519d7551a838401fbc0c650a066b9a46"
          }
        },
        "275fd15023c94162bd0eeef5254fadb8": {
          "model_module": "@jupyter-widgets/controls",
          "model_name": "HTMLModel",
          "model_module_version": "1.5.0",
          "state": {
            "_dom_classes": [],
            "_model_module": "@jupyter-widgets/controls",
            "_model_module_version": "1.5.0",
            "_model_name": "HTMLModel",
            "_view_count": null,
            "_view_module": "@jupyter-widgets/controls",
            "_view_module_version": "1.5.0",
            "_view_name": "HTMLView",
            "description": "",
            "description_tooltip": null,
            "layout": "IPY_MODEL_ed1b6727395349708dcb982a9d0fbc8d",
            "placeholder": "​",
            "style": "IPY_MODEL_af39a8341f5c4a84ac48cb4a4e622475",
            "value": "special_tokens_map.json: 100%"
          }
        },
        "1f199cd46d194926821e45b6782b3068": {
          "model_module": "@jupyter-widgets/controls",
          "model_name": "FloatProgressModel",
          "model_module_version": "1.5.0",
          "state": {
            "_dom_classes": [],
            "_model_module": "@jupyter-widgets/controls",
            "_model_module_version": "1.5.0",
            "_model_name": "FloatProgressModel",
            "_view_count": null,
            "_view_module": "@jupyter-widgets/controls",
            "_view_module_version": "1.5.0",
            "_view_name": "ProgressView",
            "bar_style": "success",
            "description": "",
            "description_tooltip": null,
            "layout": "IPY_MODEL_88698b34fa0f4138ba683eed477fbc3d",
            "max": 551,
            "min": 0,
            "orientation": "horizontal",
            "style": "IPY_MODEL_9aebd18ca7b440269135f0aa45ccb768",
            "value": 551
          }
        },
        "07e29bf22a5e435ebf40b5ab15e4c5da": {
          "model_module": "@jupyter-widgets/controls",
          "model_name": "HTMLModel",
          "model_module_version": "1.5.0",
          "state": {
            "_dom_classes": [],
            "_model_module": "@jupyter-widgets/controls",
            "_model_module_version": "1.5.0",
            "_model_name": "HTMLModel",
            "_view_count": null,
            "_view_module": "@jupyter-widgets/controls",
            "_view_module_version": "1.5.0",
            "_view_name": "HTMLView",
            "description": "",
            "description_tooltip": null,
            "layout": "IPY_MODEL_ddb8ddfa51414aed870881e683bcaff3",
            "placeholder": "​",
            "style": "IPY_MODEL_c913692f00c34ae784050a37f0d738a0",
            "value": " 551/551 [00:00&lt;00:00, 45.0kB/s]"
          }
        },
        "519d7551a838401fbc0c650a066b9a46": {
          "model_module": "@jupyter-widgets/base",
          "model_name": "LayoutModel",
          "model_module_version": "1.2.0",
          "state": {
            "_model_module": "@jupyter-widgets/base",
            "_model_module_version": "1.2.0",
            "_model_name": "LayoutModel",
            "_view_count": null,
            "_view_module": "@jupyter-widgets/base",
            "_view_module_version": "1.2.0",
            "_view_name": "LayoutView",
            "align_content": null,
            "align_items": null,
            "align_self": null,
            "border": null,
            "bottom": null,
            "display": null,
            "flex": null,
            "flex_flow": null,
            "grid_area": null,
            "grid_auto_columns": null,
            "grid_auto_flow": null,
            "grid_auto_rows": null,
            "grid_column": null,
            "grid_gap": null,
            "grid_row": null,
            "grid_template_areas": null,
            "grid_template_columns": null,
            "grid_template_rows": null,
            "height": null,
            "justify_content": null,
            "justify_items": null,
            "left": null,
            "margin": null,
            "max_height": null,
            "max_width": null,
            "min_height": null,
            "min_width": null,
            "object_fit": null,
            "object_position": null,
            "order": null,
            "overflow": null,
            "overflow_x": null,
            "overflow_y": null,
            "padding": null,
            "right": null,
            "top": null,
            "visibility": null,
            "width": null
          }
        },
        "ed1b6727395349708dcb982a9d0fbc8d": {
          "model_module": "@jupyter-widgets/base",
          "model_name": "LayoutModel",
          "model_module_version": "1.2.0",
          "state": {
            "_model_module": "@jupyter-widgets/base",
            "_model_module_version": "1.2.0",
            "_model_name": "LayoutModel",
            "_view_count": null,
            "_view_module": "@jupyter-widgets/base",
            "_view_module_version": "1.2.0",
            "_view_name": "LayoutView",
            "align_content": null,
            "align_items": null,
            "align_self": null,
            "border": null,
            "bottom": null,
            "display": null,
            "flex": null,
            "flex_flow": null,
            "grid_area": null,
            "grid_auto_columns": null,
            "grid_auto_flow": null,
            "grid_auto_rows": null,
            "grid_column": null,
            "grid_gap": null,
            "grid_row": null,
            "grid_template_areas": null,
            "grid_template_columns": null,
            "grid_template_rows": null,
            "height": null,
            "justify_content": null,
            "justify_items": null,
            "left": null,
            "margin": null,
            "max_height": null,
            "max_width": null,
            "min_height": null,
            "min_width": null,
            "object_fit": null,
            "object_position": null,
            "order": null,
            "overflow": null,
            "overflow_x": null,
            "overflow_y": null,
            "padding": null,
            "right": null,
            "top": null,
            "visibility": null,
            "width": null
          }
        },
        "af39a8341f5c4a84ac48cb4a4e622475": {
          "model_module": "@jupyter-widgets/controls",
          "model_name": "DescriptionStyleModel",
          "model_module_version": "1.5.0",
          "state": {
            "_model_module": "@jupyter-widgets/controls",
            "_model_module_version": "1.5.0",
            "_model_name": "DescriptionStyleModel",
            "_view_count": null,
            "_view_module": "@jupyter-widgets/base",
            "_view_module_version": "1.2.0",
            "_view_name": "StyleView",
            "description_width": ""
          }
        },
        "88698b34fa0f4138ba683eed477fbc3d": {
          "model_module": "@jupyter-widgets/base",
          "model_name": "LayoutModel",
          "model_module_version": "1.2.0",
          "state": {
            "_model_module": "@jupyter-widgets/base",
            "_model_module_version": "1.2.0",
            "_model_name": "LayoutModel",
            "_view_count": null,
            "_view_module": "@jupyter-widgets/base",
            "_view_module_version": "1.2.0",
            "_view_name": "LayoutView",
            "align_content": null,
            "align_items": null,
            "align_self": null,
            "border": null,
            "bottom": null,
            "display": null,
            "flex": null,
            "flex_flow": null,
            "grid_area": null,
            "grid_auto_columns": null,
            "grid_auto_flow": null,
            "grid_auto_rows": null,
            "grid_column": null,
            "grid_gap": null,
            "grid_row": null,
            "grid_template_areas": null,
            "grid_template_columns": null,
            "grid_template_rows": null,
            "height": null,
            "justify_content": null,
            "justify_items": null,
            "left": null,
            "margin": null,
            "max_height": null,
            "max_width": null,
            "min_height": null,
            "min_width": null,
            "object_fit": null,
            "object_position": null,
            "order": null,
            "overflow": null,
            "overflow_x": null,
            "overflow_y": null,
            "padding": null,
            "right": null,
            "top": null,
            "visibility": null,
            "width": null
          }
        },
        "9aebd18ca7b440269135f0aa45ccb768": {
          "model_module": "@jupyter-widgets/controls",
          "model_name": "ProgressStyleModel",
          "model_module_version": "1.5.0",
          "state": {
            "_model_module": "@jupyter-widgets/controls",
            "_model_module_version": "1.5.0",
            "_model_name": "ProgressStyleModel",
            "_view_count": null,
            "_view_module": "@jupyter-widgets/base",
            "_view_module_version": "1.2.0",
            "_view_name": "StyleView",
            "bar_color": null,
            "description_width": ""
          }
        },
        "ddb8ddfa51414aed870881e683bcaff3": {
          "model_module": "@jupyter-widgets/base",
          "model_name": "LayoutModel",
          "model_module_version": "1.2.0",
          "state": {
            "_model_module": "@jupyter-widgets/base",
            "_model_module_version": "1.2.0",
            "_model_name": "LayoutModel",
            "_view_count": null,
            "_view_module": "@jupyter-widgets/base",
            "_view_module_version": "1.2.0",
            "_view_name": "LayoutView",
            "align_content": null,
            "align_items": null,
            "align_self": null,
            "border": null,
            "bottom": null,
            "display": null,
            "flex": null,
            "flex_flow": null,
            "grid_area": null,
            "grid_auto_columns": null,
            "grid_auto_flow": null,
            "grid_auto_rows": null,
            "grid_column": null,
            "grid_gap": null,
            "grid_row": null,
            "grid_template_areas": null,
            "grid_template_columns": null,
            "grid_template_rows": null,
            "height": null,
            "justify_content": null,
            "justify_items": null,
            "left": null,
            "margin": null,
            "max_height": null,
            "max_width": null,
            "min_height": null,
            "min_width": null,
            "object_fit": null,
            "object_position": null,
            "order": null,
            "overflow": null,
            "overflow_x": null,
            "overflow_y": null,
            "padding": null,
            "right": null,
            "top": null,
            "visibility": null,
            "width": null
          }
        },
        "c913692f00c34ae784050a37f0d738a0": {
          "model_module": "@jupyter-widgets/controls",
          "model_name": "DescriptionStyleModel",
          "model_module_version": "1.5.0",
          "state": {
            "_model_module": "@jupyter-widgets/controls",
            "_model_module_version": "1.5.0",
            "_model_name": "DescriptionStyleModel",
            "_view_count": null,
            "_view_module": "@jupyter-widgets/base",
            "_view_module_version": "1.2.0",
            "_view_name": "StyleView",
            "description_width": ""
          }
        }
      }
    }
  },
  "cells": [
    {
      "cell_type": "code",
      "source": [
        "!pip install accelerate  # 세션 다시 시작 필요"
      ],
      "metadata": {
        "colab": {
          "base_uri": "https://localhost:8080/"
        },
        "id": "kscBTMGXHkgU",
        "outputId": "0657ef3c-2b82-4f5f-bd9e-98343617803e"
      },
      "execution_count": null,
      "outputs": [
        {
          "output_type": "stream",
          "name": "stdout",
          "text": [
            "Requirement already satisfied: accelerate in /usr/local/lib/python3.10/dist-packages (0.27.2)\n",
            "Requirement already satisfied: numpy>=1.17 in /usr/local/lib/python3.10/dist-packages (from accelerate) (1.25.2)\n",
            "Requirement already satisfied: packaging>=20.0 in /usr/local/lib/python3.10/dist-packages (from accelerate) (23.2)\n",
            "Requirement already satisfied: psutil in /usr/local/lib/python3.10/dist-packages (from accelerate) (5.9.5)\n",
            "Requirement already satisfied: pyyaml in /usr/local/lib/python3.10/dist-packages (from accelerate) (6.0.1)\n",
            "Requirement already satisfied: torch>=1.10.0 in /usr/local/lib/python3.10/dist-packages (from accelerate) (2.1.0+cu121)\n",
            "Requirement already satisfied: huggingface-hub in /usr/local/lib/python3.10/dist-packages (from accelerate) (0.20.3)\n",
            "Requirement already satisfied: safetensors>=0.3.1 in /usr/local/lib/python3.10/dist-packages (from accelerate) (0.4.2)\n",
            "Requirement already satisfied: filelock in /usr/local/lib/python3.10/dist-packages (from torch>=1.10.0->accelerate) (3.13.1)\n",
            "Requirement already satisfied: typing-extensions in /usr/local/lib/python3.10/dist-packages (from torch>=1.10.0->accelerate) (4.10.0)\n",
            "Requirement already satisfied: sympy in /usr/local/lib/python3.10/dist-packages (from torch>=1.10.0->accelerate) (1.12)\n",
            "Requirement already satisfied: networkx in /usr/local/lib/python3.10/dist-packages (from torch>=1.10.0->accelerate) (3.2.1)\n",
            "Requirement already satisfied: jinja2 in /usr/local/lib/python3.10/dist-packages (from torch>=1.10.0->accelerate) (3.1.3)\n",
            "Requirement already satisfied: fsspec in /usr/local/lib/python3.10/dist-packages (from torch>=1.10.0->accelerate) (2023.6.0)\n",
            "Requirement already satisfied: triton==2.1.0 in /usr/local/lib/python3.10/dist-packages (from torch>=1.10.0->accelerate) (2.1.0)\n",
            "Requirement already satisfied: requests in /usr/local/lib/python3.10/dist-packages (from huggingface-hub->accelerate) (2.31.0)\n",
            "Requirement already satisfied: tqdm>=4.42.1 in /usr/local/lib/python3.10/dist-packages (from huggingface-hub->accelerate) (4.66.2)\n",
            "Requirement already satisfied: MarkupSafe>=2.0 in /usr/local/lib/python3.10/dist-packages (from jinja2->torch>=1.10.0->accelerate) (2.1.5)\n",
            "Requirement already satisfied: charset-normalizer<4,>=2 in /usr/local/lib/python3.10/dist-packages (from requests->huggingface-hub->accelerate) (3.3.2)\n",
            "Requirement already satisfied: idna<4,>=2.5 in /usr/local/lib/python3.10/dist-packages (from requests->huggingface-hub->accelerate) (3.6)\n",
            "Requirement already satisfied: urllib3<3,>=1.21.1 in /usr/local/lib/python3.10/dist-packages (from requests->huggingface-hub->accelerate) (2.0.7)\n",
            "Requirement already satisfied: certifi>=2017.4.17 in /usr/local/lib/python3.10/dist-packages (from requests->huggingface-hub->accelerate) (2024.2.2)\n",
            "Requirement already satisfied: mpmath>=0.19 in /usr/local/lib/python3.10/dist-packages (from sympy->torch>=1.10.0->accelerate) (1.3.0)\n"
          ]
        }
      ]
    },
    {
      "cell_type": "code",
      "source": [
        "!pip install peft"
      ],
      "metadata": {
        "colab": {
          "base_uri": "https://localhost:8080/"
        },
        "id": "kNPyxZCMKw2V",
        "outputId": "d7673d0f-e72f-4140-e993-0692bc243804"
      },
      "execution_count": null,
      "outputs": [
        {
          "output_type": "stream",
          "name": "stdout",
          "text": [
            "Requirement already satisfied: peft in /usr/local/lib/python3.10/dist-packages (0.9.0)\n",
            "Requirement already satisfied: numpy>=1.17 in /usr/local/lib/python3.10/dist-packages (from peft) (1.25.2)\n",
            "Requirement already satisfied: packaging>=20.0 in /usr/local/lib/python3.10/dist-packages (from peft) (23.2)\n",
            "Requirement already satisfied: psutil in /usr/local/lib/python3.10/dist-packages (from peft) (5.9.5)\n",
            "Requirement already satisfied: pyyaml in /usr/local/lib/python3.10/dist-packages (from peft) (6.0.1)\n",
            "Requirement already satisfied: torch>=1.13.0 in /usr/local/lib/python3.10/dist-packages (from peft) (2.1.0+cu121)\n",
            "Requirement already satisfied: transformers in /usr/local/lib/python3.10/dist-packages (from peft) (4.38.1)\n",
            "Requirement already satisfied: tqdm in /usr/local/lib/python3.10/dist-packages (from peft) (4.66.2)\n",
            "Requirement already satisfied: accelerate>=0.21.0 in /usr/local/lib/python3.10/dist-packages (from peft) (0.27.2)\n",
            "Requirement already satisfied: safetensors in /usr/local/lib/python3.10/dist-packages (from peft) (0.4.2)\n",
            "Requirement already satisfied: huggingface-hub>=0.17.0 in /usr/local/lib/python3.10/dist-packages (from peft) (0.20.3)\n",
            "Requirement already satisfied: filelock in /usr/local/lib/python3.10/dist-packages (from huggingface-hub>=0.17.0->peft) (3.13.1)\n",
            "Requirement already satisfied: fsspec>=2023.5.0 in /usr/local/lib/python3.10/dist-packages (from huggingface-hub>=0.17.0->peft) (2023.6.0)\n",
            "Requirement already satisfied: requests in /usr/local/lib/python3.10/dist-packages (from huggingface-hub>=0.17.0->peft) (2.31.0)\n",
            "Requirement already satisfied: typing-extensions>=3.7.4.3 in /usr/local/lib/python3.10/dist-packages (from huggingface-hub>=0.17.0->peft) (4.10.0)\n",
            "Requirement already satisfied: sympy in /usr/local/lib/python3.10/dist-packages (from torch>=1.13.0->peft) (1.12)\n",
            "Requirement already satisfied: networkx in /usr/local/lib/python3.10/dist-packages (from torch>=1.13.0->peft) (3.2.1)\n",
            "Requirement already satisfied: jinja2 in /usr/local/lib/python3.10/dist-packages (from torch>=1.13.0->peft) (3.1.3)\n",
            "Requirement already satisfied: triton==2.1.0 in /usr/local/lib/python3.10/dist-packages (from torch>=1.13.0->peft) (2.1.0)\n",
            "Requirement already satisfied: regex!=2019.12.17 in /usr/local/lib/python3.10/dist-packages (from transformers->peft) (2023.12.25)\n",
            "Requirement already satisfied: tokenizers<0.19,>=0.14 in /usr/local/lib/python3.10/dist-packages (from transformers->peft) (0.15.2)\n",
            "Requirement already satisfied: MarkupSafe>=2.0 in /usr/local/lib/python3.10/dist-packages (from jinja2->torch>=1.13.0->peft) (2.1.5)\n",
            "Requirement already satisfied: charset-normalizer<4,>=2 in /usr/local/lib/python3.10/dist-packages (from requests->huggingface-hub>=0.17.0->peft) (3.3.2)\n",
            "Requirement already satisfied: idna<4,>=2.5 in /usr/local/lib/python3.10/dist-packages (from requests->huggingface-hub>=0.17.0->peft) (3.6)\n",
            "Requirement already satisfied: urllib3<3,>=1.21.1 in /usr/local/lib/python3.10/dist-packages (from requests->huggingface-hub>=0.17.0->peft) (2.0.7)\n",
            "Requirement already satisfied: certifi>=2017.4.17 in /usr/local/lib/python3.10/dist-packages (from requests->huggingface-hub>=0.17.0->peft) (2024.2.2)\n",
            "Requirement already satisfied: mpmath>=0.19 in /usr/local/lib/python3.10/dist-packages (from sympy->torch>=1.13.0->peft) (1.3.0)\n"
          ]
        }
      ]
    },
    {
      "cell_type": "code",
      "source": [
        "!pip install bitsandbytes"
      ],
      "metadata": {
        "colab": {
          "base_uri": "https://localhost:8080/"
        },
        "id": "LFZeqot-Kzlw",
        "outputId": "1f6f7265-c392-4ac6-9504-b19a47f28d8d"
      },
      "execution_count": null,
      "outputs": [
        {
          "output_type": "stream",
          "name": "stdout",
          "text": [
            "Collecting bitsandbytes\n",
            "  Downloading bitsandbytes-0.42.0-py3-none-any.whl (105.0 MB)\n",
            "\u001b[2K     \u001b[90m━━━━━━━━━━━━━━━━━━━━━━━━━━━━━━━━━━━━━━━━\u001b[0m \u001b[32m105.0/105.0 MB\u001b[0m \u001b[31m16.6 MB/s\u001b[0m eta \u001b[36m0:00:00\u001b[0m\n",
            "\u001b[?25hRequirement already satisfied: scipy in /usr/local/lib/python3.10/dist-packages (from bitsandbytes) (1.11.4)\n",
            "Requirement already satisfied: numpy<1.28.0,>=1.21.6 in /usr/local/lib/python3.10/dist-packages (from scipy->bitsandbytes) (1.25.2)\n",
            "Installing collected packages: bitsandbytes\n",
            "Successfully installed bitsandbytes-0.42.0\n"
          ]
        }
      ]
    },
    {
      "cell_type": "code",
      "source": [
        "!pip install sentence_transformers"
      ],
      "metadata": {
        "colab": {
          "base_uri": "https://localhost:8080/"
        },
        "id": "XNqcZEvJD0WY",
        "outputId": "5e28a213-52f5-4e4d-8d5a-69c508c3bb3b"
      },
      "execution_count": null,
      "outputs": [
        {
          "output_type": "stream",
          "name": "stdout",
          "text": [
            "Collecting sentence_transformers\n",
            "  Downloading sentence_transformers-2.5.1-py3-none-any.whl (156 kB)\n",
            "\u001b[?25l     \u001b[90m━━━━━━━━━━━━━━━━━━━━━━━━━━━━━━━━━━━━━━━━\u001b[0m \u001b[32m0.0/156.5 kB\u001b[0m \u001b[31m?\u001b[0m eta \u001b[36m-:--:--\u001b[0m\r\u001b[2K     \u001b[90m━━━━━━━━━━━━━━━━━━━━━━━━━━━━━━━━━━━━━━━━\u001b[0m \u001b[32m156.5/156.5 kB\u001b[0m \u001b[31m4.5 MB/s\u001b[0m eta \u001b[36m0:00:00\u001b[0m\n",
            "\u001b[?25hRequirement already satisfied: transformers<5.0.0,>=4.32.0 in /usr/local/lib/python3.10/dist-packages (from sentence_transformers) (4.38.1)\n",
            "Requirement already satisfied: tqdm in /usr/local/lib/python3.10/dist-packages (from sentence_transformers) (4.66.2)\n",
            "Requirement already satisfied: torch>=1.11.0 in /usr/local/lib/python3.10/dist-packages (from sentence_transformers) (2.1.0+cu121)\n",
            "Requirement already satisfied: numpy in /usr/local/lib/python3.10/dist-packages (from sentence_transformers) (1.25.2)\n",
            "Requirement already satisfied: scikit-learn in /usr/local/lib/python3.10/dist-packages (from sentence_transformers) (1.2.2)\n",
            "Requirement already satisfied: scipy in /usr/local/lib/python3.10/dist-packages (from sentence_transformers) (1.11.4)\n",
            "Requirement already satisfied: huggingface-hub>=0.15.1 in /usr/local/lib/python3.10/dist-packages (from sentence_transformers) (0.20.3)\n",
            "Requirement already satisfied: Pillow in /usr/local/lib/python3.10/dist-packages (from sentence_transformers) (9.4.0)\n",
            "Requirement already satisfied: filelock in /usr/local/lib/python3.10/dist-packages (from huggingface-hub>=0.15.1->sentence_transformers) (3.13.1)\n",
            "Requirement already satisfied: fsspec>=2023.5.0 in /usr/local/lib/python3.10/dist-packages (from huggingface-hub>=0.15.1->sentence_transformers) (2023.6.0)\n",
            "Requirement already satisfied: requests in /usr/local/lib/python3.10/dist-packages (from huggingface-hub>=0.15.1->sentence_transformers) (2.31.0)\n",
            "Requirement already satisfied: pyyaml>=5.1 in /usr/local/lib/python3.10/dist-packages (from huggingface-hub>=0.15.1->sentence_transformers) (6.0.1)\n",
            "Requirement already satisfied: typing-extensions>=3.7.4.3 in /usr/local/lib/python3.10/dist-packages (from huggingface-hub>=0.15.1->sentence_transformers) (4.10.0)\n",
            "Requirement already satisfied: packaging>=20.9 in /usr/local/lib/python3.10/dist-packages (from huggingface-hub>=0.15.1->sentence_transformers) (23.2)\n",
            "Requirement already satisfied: sympy in /usr/local/lib/python3.10/dist-packages (from torch>=1.11.0->sentence_transformers) (1.12)\n",
            "Requirement already satisfied: networkx in /usr/local/lib/python3.10/dist-packages (from torch>=1.11.0->sentence_transformers) (3.2.1)\n",
            "Requirement already satisfied: jinja2 in /usr/local/lib/python3.10/dist-packages (from torch>=1.11.0->sentence_transformers) (3.1.3)\n",
            "Requirement already satisfied: triton==2.1.0 in /usr/local/lib/python3.10/dist-packages (from torch>=1.11.0->sentence_transformers) (2.1.0)\n",
            "Requirement already satisfied: regex!=2019.12.17 in /usr/local/lib/python3.10/dist-packages (from transformers<5.0.0,>=4.32.0->sentence_transformers) (2023.12.25)\n",
            "Requirement already satisfied: tokenizers<0.19,>=0.14 in /usr/local/lib/python3.10/dist-packages (from transformers<5.0.0,>=4.32.0->sentence_transformers) (0.15.2)\n",
            "Requirement already satisfied: safetensors>=0.4.1 in /usr/local/lib/python3.10/dist-packages (from transformers<5.0.0,>=4.32.0->sentence_transformers) (0.4.2)\n",
            "Requirement already satisfied: joblib>=1.1.1 in /usr/local/lib/python3.10/dist-packages (from scikit-learn->sentence_transformers) (1.3.2)\n",
            "Requirement already satisfied: threadpoolctl>=2.0.0 in /usr/local/lib/python3.10/dist-packages (from scikit-learn->sentence_transformers) (3.3.0)\n",
            "Requirement already satisfied: MarkupSafe>=2.0 in /usr/local/lib/python3.10/dist-packages (from jinja2->torch>=1.11.0->sentence_transformers) (2.1.5)\n",
            "Requirement already satisfied: charset-normalizer<4,>=2 in /usr/local/lib/python3.10/dist-packages (from requests->huggingface-hub>=0.15.1->sentence_transformers) (3.3.2)\n",
            "Requirement already satisfied: idna<4,>=2.5 in /usr/local/lib/python3.10/dist-packages (from requests->huggingface-hub>=0.15.1->sentence_transformers) (3.6)\n",
            "Requirement already satisfied: urllib3<3,>=1.21.1 in /usr/local/lib/python3.10/dist-packages (from requests->huggingface-hub>=0.15.1->sentence_transformers) (2.0.7)\n",
            "Requirement already satisfied: certifi>=2017.4.17 in /usr/local/lib/python3.10/dist-packages (from requests->huggingface-hub>=0.15.1->sentence_transformers) (2024.2.2)\n",
            "Requirement already satisfied: mpmath>=0.19 in /usr/local/lib/python3.10/dist-packages (from sympy->torch>=1.11.0->sentence_transformers) (1.3.0)\n",
            "Installing collected packages: sentence_transformers\n",
            "Successfully installed sentence_transformers-2.5.1\n"
          ]
        }
      ]
    },
    {
      "cell_type": "code",
      "execution_count": null,
      "metadata": {
        "colab": {
          "base_uri": "https://localhost:8080/"
        },
        "id": "wk6RqMsqLa2Q",
        "outputId": "299725c9-b226-4063-b4f7-2782e90eddb6"
      },
      "outputs": [
        {
          "output_type": "stream",
          "name": "stdout",
          "text": [
            "Drive already mounted at /content/drive; to attempt to forcibly remount, call drive.mount(\"/content/drive\", force_remount=True).\n"
          ]
        }
      ],
      "source": [
        "from google.colab import drive\n",
        "drive.mount('/content/drive')"
      ]
    },
    {
      "cell_type": "code",
      "source": [
        "data_path = '/content/drive/MyDrive/AI ML/DACON HANSOL/data/'"
      ],
      "metadata": {
        "id": "XYcUY0m7AI9S"
      },
      "execution_count": null,
      "outputs": []
    },
    {
      "cell_type": "code",
      "source": [
        "def reset_seeds(seed):\n",
        "    random.seed(seed)\n",
        "    os.environ['PYTHONHASHSEED'] = str(seed)\n",
        "    np.random.seed(seed)\n",
        "    torch.manual_seed(seed)\n",
        "    torch.cuda.manual_seed(seed)\n",
        "    torch.cuda.manual_seed_all(seed)\n",
        "    torch.backends.cudnn.deterministic = True\n",
        "    torch.backends.cudnn.benchmark = False\n",
        "\n",
        "SEED=42"
      ],
      "metadata": {
        "id": "ZtS2ZkTX5GPl"
      },
      "execution_count": null,
      "outputs": []
    },
    {
      "cell_type": "code",
      "source": [
        "import pandas as pd\n",
        "import numpy as np\n",
        "\n",
        "train = pd.read_csv(f'{data_path}train.csv')\n",
        "test = pd.read_csv(f'{data_path}test.csv')\n",
        "sample = pd.read_csv(f'{data_path}sample_submission.csv')\n",
        "train_gpt = pd.read_csv(f'{data_path}train_gpt.csv')\n",
        "\n",
        "\n",
        "train_ft = pd.read_csv(data_path + 'train_80000_rule_based.csv')\n"
      ],
      "metadata": {
        "id": "LEuWMhSFczP7"
      },
      "execution_count": null,
      "outputs": []
    },
    {
      "cell_type": "code",
      "source": [
        "import os, torch, tqdm\n",
        "from sentence_transformers import SentenceTransformer\n",
        "from transformers import AutoTokenizer, AutoModelForCausalLM\n",
        "\n",
        "device = 'cuda' if torch.cuda.is_available() else 'cpu'\n",
        "device"
      ],
      "metadata": {
        "id": "oEvSIyoidM5e",
        "colab": {
          "base_uri": "https://localhost:8080/",
          "height": 36
        },
        "outputId": "2b3ed94a-5d58-408b-a9f0-58b31f5a77a5"
      },
      "execution_count": null,
      "outputs": [
        {
          "output_type": "execute_result",
          "data": {
            "text/plain": [
              "'cuda'"
            ],
            "application/vnd.google.colaboratory.intrinsic+json": {
              "type": "string"
            }
          },
          "metadata": {},
          "execution_count": 4
        }
      ]
    },
    {
      "cell_type": "code",
      "source": [
        "!nvidia-smi"
      ],
      "metadata": {
        "colab": {
          "base_uri": "https://localhost:8080/"
        },
        "id": "QP20T_RQj7mv",
        "outputId": "7a80a46c-912b-43aa-ef69-e42c0400717e"
      },
      "execution_count": null,
      "outputs": [
        {
          "output_type": "stream",
          "name": "stdout",
          "text": [
            "Sun Mar  3 00:51:11 2024       \n",
            "+---------------------------------------------------------------------------------------+\n",
            "| NVIDIA-SMI 535.104.05             Driver Version: 535.104.05   CUDA Version: 12.2     |\n",
            "|-----------------------------------------+----------------------+----------------------+\n",
            "| GPU  Name                 Persistence-M | Bus-Id        Disp.A | Volatile Uncorr. ECC |\n",
            "| Fan  Temp   Perf          Pwr:Usage/Cap |         Memory-Usage | GPU-Util  Compute M. |\n",
            "|                                         |                      |               MIG M. |\n",
            "|=========================================+======================+======================|\n",
            "|   0  NVIDIA A100-SXM4-40GB          Off | 00000000:00:04.0 Off |                    0 |\n",
            "| N/A   31C    P0              48W / 400W |      5MiB / 40960MiB |      0%      Default |\n",
            "|                                         |                      |             Disabled |\n",
            "+-----------------------------------------+----------------------+----------------------+\n",
            "                                                                                         \n",
            "+---------------------------------------------------------------------------------------+\n",
            "| Processes:                                                                            |\n",
            "|  GPU   GI   CI        PID   Type   Process name                            GPU Memory |\n",
            "|        ID   ID                                                             Usage      |\n",
            "|=======================================================================================|\n",
            "|  No running processes found                                                           |\n",
            "+---------------------------------------------------------------------------------------+\n"
          ]
        }
      ]
    },
    {
      "cell_type": "markdown",
      "source": [
        "# PEFT 모델 로드 및 추론\n",
        "- https://huggingface.co/docs/trl/main/en/use_model"
      ],
      "metadata": {
        "id": "LAAhQxYAFM8K"
      }
    },
    {
      "cell_type": "code",
      "source": [
        "from transformers import (\n",
        "    AutoModelForCausalLM,\n",
        "    AutoTokenizer,\n",
        "    BitsAndBytesConfig,\n",
        "    HfArgumentParser,\n",
        "    TrainingArguments,\n",
        "    pipeline,\n",
        "    logging,\n",
        ")\n",
        "# from peft import LoraConfig, PeftModel\n",
        "# from trl import SFTTrainer\n",
        "import json\n",
        "import torch\n",
        "\n",
        "# 모델 식별자\n",
        "model_ID = \"megastudyedu/M-SOLAR-10.7B-v1.3\""
      ],
      "metadata": {
        "id": "ryq8WSAgHu6M"
      },
      "execution_count": null,
      "outputs": []
    },
    {
      "cell_type": "code",
      "source": [
        "data_path = '/content/drive/MyDrive/AI ML/DACON HANSOL/data/'\n",
        "saved_model_path = f'{data_path}models/megast_0302/'"
      ],
      "metadata": {
        "id": "JUO5-2DlXztd"
      },
      "execution_count": null,
      "outputs": []
    },
    {
      "cell_type": "code",
      "source": [
        "!pip install peft"
      ],
      "metadata": {
        "colab": {
          "base_uri": "https://localhost:8080/"
        },
        "id": "PG8p2ptRZZau",
        "outputId": "5c611bed-272a-41ef-fb6e-2dfa53eb0569"
      },
      "execution_count": null,
      "outputs": [
        {
          "output_type": "stream",
          "name": "stdout",
          "text": [
            "Collecting peft\n",
            "  Downloading peft-0.9.0-py3-none-any.whl (190 kB)\n",
            "\u001b[?25l     \u001b[90m━━━━━━━━━━━━━━━━━━━━━━━━━━━━━━━━━━━━━━━━\u001b[0m \u001b[32m0.0/190.9 kB\u001b[0m \u001b[31m?\u001b[0m eta \u001b[36m-:--:--\u001b[0m\r\u001b[2K     \u001b[91m━━━━━━━━━━━━━━━━━━━━━━━━━━━━━━━━━━━━━━\u001b[0m\u001b[91m╸\u001b[0m\u001b[90m━\u001b[0m \u001b[32m184.3/190.9 kB\u001b[0m \u001b[31m6.3 MB/s\u001b[0m eta \u001b[36m0:00:01\u001b[0m\r\u001b[2K     \u001b[90m━━━━━━━━━━━━━━━━━━━━━━━━━━━━━━━━━━━━━━━━\u001b[0m \u001b[32m190.9/190.9 kB\u001b[0m \u001b[31m5.3 MB/s\u001b[0m eta \u001b[36m0:00:00\u001b[0m\n",
            "\u001b[?25hRequirement already satisfied: numpy>=1.17 in /usr/local/lib/python3.10/dist-packages (from peft) (1.25.2)\n",
            "Requirement already satisfied: packaging>=20.0 in /usr/local/lib/python3.10/dist-packages (from peft) (23.2)\n",
            "Requirement already satisfied: psutil in /usr/local/lib/python3.10/dist-packages (from peft) (5.9.5)\n",
            "Requirement already satisfied: pyyaml in /usr/local/lib/python3.10/dist-packages (from peft) (6.0.1)\n",
            "Requirement already satisfied: torch>=1.13.0 in /usr/local/lib/python3.10/dist-packages (from peft) (2.1.0+cu121)\n",
            "Requirement already satisfied: transformers in /usr/local/lib/python3.10/dist-packages (from peft) (4.38.1)\n",
            "Requirement already satisfied: tqdm in /usr/local/lib/python3.10/dist-packages (from peft) (4.66.2)\n",
            "Collecting accelerate>=0.21.0 (from peft)\n",
            "  Downloading accelerate-0.27.2-py3-none-any.whl (279 kB)\n",
            "\u001b[?25l     \u001b[90m━━━━━━━━━━━━━━━━━━━━━━━━━━━━━━━━━━━━━━━━\u001b[0m \u001b[32m0.0/280.0 kB\u001b[0m \u001b[31m?\u001b[0m eta \u001b[36m-:--:--\u001b[0m\r\u001b[2K     \u001b[90m━━━━━━━━━━━━━━━━━━━━━━━━━━━━━━━━━━━━━━━━\u001b[0m \u001b[32m280.0/280.0 kB\u001b[0m \u001b[31m25.2 MB/s\u001b[0m eta \u001b[36m0:00:00\u001b[0m\n",
            "\u001b[?25hRequirement already satisfied: safetensors in /usr/local/lib/python3.10/dist-packages (from peft) (0.4.2)\n",
            "Requirement already satisfied: huggingface-hub>=0.17.0 in /usr/local/lib/python3.10/dist-packages (from peft) (0.20.3)\n",
            "Requirement already satisfied: filelock in /usr/local/lib/python3.10/dist-packages (from huggingface-hub>=0.17.0->peft) (3.13.1)\n",
            "Requirement already satisfied: fsspec>=2023.5.0 in /usr/local/lib/python3.10/dist-packages (from huggingface-hub>=0.17.0->peft) (2023.6.0)\n",
            "Requirement already satisfied: requests in /usr/local/lib/python3.10/dist-packages (from huggingface-hub>=0.17.0->peft) (2.31.0)\n",
            "Requirement already satisfied: typing-extensions>=3.7.4.3 in /usr/local/lib/python3.10/dist-packages (from huggingface-hub>=0.17.0->peft) (4.10.0)\n",
            "Requirement already satisfied: sympy in /usr/local/lib/python3.10/dist-packages (from torch>=1.13.0->peft) (1.12)\n",
            "Requirement already satisfied: networkx in /usr/local/lib/python3.10/dist-packages (from torch>=1.13.0->peft) (3.2.1)\n",
            "Requirement already satisfied: jinja2 in /usr/local/lib/python3.10/dist-packages (from torch>=1.13.0->peft) (3.1.3)\n",
            "Requirement already satisfied: triton==2.1.0 in /usr/local/lib/python3.10/dist-packages (from torch>=1.13.0->peft) (2.1.0)\n",
            "Requirement already satisfied: regex!=2019.12.17 in /usr/local/lib/python3.10/dist-packages (from transformers->peft) (2023.12.25)\n",
            "Requirement already satisfied: tokenizers<0.19,>=0.14 in /usr/local/lib/python3.10/dist-packages (from transformers->peft) (0.15.2)\n",
            "Requirement already satisfied: MarkupSafe>=2.0 in /usr/local/lib/python3.10/dist-packages (from jinja2->torch>=1.13.0->peft) (2.1.5)\n",
            "Requirement already satisfied: charset-normalizer<4,>=2 in /usr/local/lib/python3.10/dist-packages (from requests->huggingface-hub>=0.17.0->peft) (3.3.2)\n",
            "Requirement already satisfied: idna<4,>=2.5 in /usr/local/lib/python3.10/dist-packages (from requests->huggingface-hub>=0.17.0->peft) (3.6)\n",
            "Requirement already satisfied: urllib3<3,>=1.21.1 in /usr/local/lib/python3.10/dist-packages (from requests->huggingface-hub>=0.17.0->peft) (2.0.7)\n",
            "Requirement already satisfied: certifi>=2017.4.17 in /usr/local/lib/python3.10/dist-packages (from requests->huggingface-hub>=0.17.0->peft) (2024.2.2)\n",
            "Requirement already satisfied: mpmath>=0.19 in /usr/local/lib/python3.10/dist-packages (from sympy->torch>=1.13.0->peft) (1.3.0)\n",
            "Installing collected packages: accelerate, peft\n",
            "Successfully installed accelerate-0.27.2 peft-0.9.0\n"
          ]
        }
      ]
    },
    {
      "cell_type": "code",
      "source": [
        "model_ID = 'megastudyedu/M-SOLAR-10.7B-v1.3'"
      ],
      "metadata": {
        "id": "WvUmBLBHdIBv"
      },
      "execution_count": null,
      "outputs": []
    },
    {
      "cell_type": "code",
      "source": [
        "from peft import PeftConfig, PeftModel\n",
        "from transformers import AutoModelForCausalLM, AutoTokenizer, BitsAndBytesConfig\n",
        "\n",
        "# BitsAndBytesConfig\n",
        "bnb_config = BitsAndBytesConfig(\n",
        "    load_in_4bit=True,\n",
        "    bnb_4bit_use_double_quant=True,\n",
        "    bnb_4bit_quant_type=\"nf4\",\n",
        "    bnb_4bit_compute_dtype=torch.bfloat16,\n",
        "    use_nested_quant=False\n",
        ")\n",
        "\n",
        "# AdapterModelForCausalLM 클래스로 모델 정의\n",
        "base_model = AutoModelForCausalLM.from_pretrained(\n",
        "    model_ID,\n",
        "    quantization_config=bnb_config,\n",
        "    torch_dtype=torch.bfloat16,\n",
        "    device_map=\"auto\",\n",
        ")"
      ],
      "metadata": {
        "colab": {
          "base_uri": "https://localhost:8080/",
          "height": 413,
          "referenced_widgets": [
            "ebdd3d2814424b53a0f868f59cb37171",
            "a66d1f127cc5414bae684171821640f2",
            "22b6e7e9ec024f7695b9dbd528801408",
            "e4464c229cd545b898691d5d4a2e38fb",
            "7796b3ade6d64c11b232204137167d27",
            "c5bf80b8ff6b4012ab58853634580379",
            "ea0111553d0149409a61c9f4ae990319",
            "ba5a0190ad24487397fa82dc60b097f0",
            "9795f657166c43018137bcea7a7a5595",
            "943ddb49c0124023bf1aec6c8c4f0d87",
            "a371b2d14f474a22af15f561ed97b254",
            "be73107f895a47389845d4974d8c4f18",
            "91c9c8c5c85340958d928a9a23dabca5",
            "c1db534428f84105821c7e79bd666ef0",
            "4387f5181553453f83f1b04e21b95a05",
            "626e686f9609441b8148d3628e5a8317",
            "edbe79881f7f4a03a7435cf92f4da46f",
            "332518b37d7c4f938e06aefb4ecb79b9",
            "30b037bc880e4e7e8c485248fc2fd1af",
            "32e81b67c8124453b7738f0a7504bb32",
            "92d9c17e4b3a47bc91bb344fa8991f8e",
            "fd87c920d090485b86aad7c4c311e3d0",
            "99a55baf9d034eeaa2e48c4540b9989c",
            "0e85feffcef34a31b7d5b71eb6a8ce3c",
            "1df07a7bdcb3428da4aa041ff6f5ba01",
            "8a623f5ceb544b2b9d5cd64887f8bb1e",
            "2790a7ffa77e4da5840f2359b08393fc",
            "75d29a03261f488b91ed1fef679ff384",
            "6831a061652f4a7b87460e7b7dbb03f2",
            "bbf608640e954e2ba5bc3d6d149bb6cb",
            "80aee33d345b4e518a5233aef5c8ec24",
            "7b5a844b582145248e096df0e58f0432",
            "98552509577446c392fff46797eef5c0",
            "d366b5d6abe04f23918ae2e68bec9533",
            "73d6b0ebada048e39f01b3118f9cad36",
            "75f1bae88ad14074aa7b45bcb4d65401",
            "b011dc6f1bad4ad9a124225bce413360",
            "74b84f902ccb45d5ade9d730c80dce08",
            "a61a6a05052042019bce245a5d62efd3",
            "cd5f46a1c9c741769f7bcfa79ef7c07a",
            "60d2c0265b9c42fa9792ba30fb9e7742",
            "4cec2be31a344c3f8b1d14778056e00b",
            "b955f572d514485f8f003a013ff5af70",
            "29f9162c9a6f4903940edac17541272b",
            "52cc44f725fc46828f04de840682c4a1",
            "17710f83d0d4439d9e709ddfdf4028a9",
            "351f37969932422ba50e5062c3f7e5d2",
            "0c59771c1a104bb6a715e1cc9c2656be",
            "a47479b956624c74bf08560b6ec22bc3",
            "2ffe5f5eff7b43ac828cca8e13a095c6",
            "e1bbaf2d37e74cd8895f4140bd32c718",
            "c4a2343aada340569d310182fde29e75",
            "9a10f61996fc42c795f83ac4f164c1f7",
            "79230f3af63141e9a36f766e1216874e",
            "6db9168e0080452da788a932abd932e3",
            "ff9ba95079c14d38befc54bb1e05d358",
            "b173a4fdd87941cdb95b19fddb7195a4",
            "b3088548a6e149b794b29593b6d7bd47",
            "831257ec8089404f84603449d0a67140",
            "dd1f8e69fa8347ce9cbc58fbd021ca01",
            "e47ae71235fc451e907d34fb9a47df47",
            "addc200b6617482888de06608346b28f",
            "9d4df8d8912e4e71984b09aaea2c264a",
            "a9fd88af02444ad19c985e383465f8b2",
            "d890d5e433b6452593431c180c0ce51b",
            "9e029b6cf55743a0abfa3652fba75f7c",
            "400708419efd4f69aefd0bdcffd857f6",
            "b936722cd6c34c368e3e96915baef87f",
            "b21dcd6232dc4678bc0bb804b23f5dc4",
            "0e90d9645f82499ca10997b1cf3f2514",
            "eb735ebc52b448ea87f353cf5398a9bf",
            "7ae05b0f1c73428ba09185e275fe9545",
            "9b57689418c0439285fd831c53e4eac2",
            "34c93a411cc84843bff76a39fc587a71",
            "a14d23d20fea48549c6e8cd5c897c8e8",
            "5924fe5e25864d89ab36dd39a0f5d670",
            "12fdfed4eba043108006b7f7922e91d3",
            "f765c02b18cf4dc59ff5e61a2bf2af89",
            "2e331a18bb7144ffa80dc2998ac4a31a",
            "e49d4b8c8fbb438eb045b2cf4f389cda",
            "f81df91f7174454fb65b2db33f15deca",
            "b4c6785431154ae08ca238cc4098e6ac",
            "791726ec14c240a4b4b304ca4b59aed0",
            "8a06a4460bb545d5849d45cae7079bd1",
            "521cc18498db44c791c6144fd623c95d",
            "a149c3e3114c47fb866d71da1c00cf41",
            "e6a409126de54554bffb339f52201614",
            "e2c475ec39af41b4b64cd75ac25c3010",
            "3936399357f94bf6976142b53afff404",
            "fb13beb5d574453a953d9ccc9629aefe",
            "39efe2aee03543e395e334726999d111",
            "3221e06b03ec47218604a472d14cce30",
            "06611fb5becb4e24a37d7005e683136a",
            "4e18b10450d5424f96892cf7ceef2ecb",
            "e6e08fa63b02412983b3e942b86ae21c",
            "7f5a6f984d964b109b7c347c5418dcb8",
            "7d5e55c9fe0845ee9c89c0cf18904b6b",
            "5bd272cd9b214c2eb0bb24f83173136a",
            "b6353293a75c495fb8c9c38db94c2ca0"
          ]
        },
        "id": "c283VsqadBHb",
        "outputId": "5e9a989d-e456-4b47-8bbf-804010de2ecb"
      },
      "execution_count": null,
      "outputs": [
        {
          "output_type": "stream",
          "name": "stderr",
          "text": [
            "/usr/local/lib/python3.10/dist-packages/huggingface_hub/utils/_token.py:88: UserWarning: \n",
            "The secret `HF_TOKEN` does not exist in your Colab secrets.\n",
            "To authenticate with the Hugging Face Hub, create a token in your settings tab (https://huggingface.co/settings/tokens), set it as secret in your Google Colab and restart your session.\n",
            "You will be able to reuse this secret in all of your notebooks.\n",
            "Please note that authentication is recommended but still optional to access public models or datasets.\n",
            "  warnings.warn(\n"
          ]
        },
        {
          "output_type": "display_data",
          "data": {
            "text/plain": [
              "model.safetensors.index.json:   0%|          | 0.00/35.8k [00:00<?, ?B/s]"
            ],
            "application/vnd.jupyter.widget-view+json": {
              "version_major": 2,
              "version_minor": 0,
              "model_id": "ebdd3d2814424b53a0f868f59cb37171"
            }
          },
          "metadata": {}
        },
        {
          "output_type": "display_data",
          "data": {
            "text/plain": [
              "Downloading shards:   0%|          | 0/5 [00:00<?, ?it/s]"
            ],
            "application/vnd.jupyter.widget-view+json": {
              "version_major": 2,
              "version_minor": 0,
              "model_id": "be73107f895a47389845d4974d8c4f18"
            }
          },
          "metadata": {}
        },
        {
          "output_type": "display_data",
          "data": {
            "text/plain": [
              "model-00001-of-00005.safetensors:   0%|          | 0.00/4.94G [00:00<?, ?B/s]"
            ],
            "application/vnd.jupyter.widget-view+json": {
              "version_major": 2,
              "version_minor": 0,
              "model_id": "99a55baf9d034eeaa2e48c4540b9989c"
            }
          },
          "metadata": {}
        },
        {
          "output_type": "display_data",
          "data": {
            "text/plain": [
              "model-00002-of-00005.safetensors:   0%|          | 0.00/5.00G [00:00<?, ?B/s]"
            ],
            "application/vnd.jupyter.widget-view+json": {
              "version_major": 2,
              "version_minor": 0,
              "model_id": "d366b5d6abe04f23918ae2e68bec9533"
            }
          },
          "metadata": {}
        },
        {
          "output_type": "display_data",
          "data": {
            "text/plain": [
              "model-00003-of-00005.safetensors:   0%|          | 0.00/4.92G [00:00<?, ?B/s]"
            ],
            "application/vnd.jupyter.widget-view+json": {
              "version_major": 2,
              "version_minor": 0,
              "model_id": "52cc44f725fc46828f04de840682c4a1"
            }
          },
          "metadata": {}
        },
        {
          "output_type": "display_data",
          "data": {
            "text/plain": [
              "model-00004-of-00005.safetensors:   0%|          | 0.00/4.92G [00:00<?, ?B/s]"
            ],
            "application/vnd.jupyter.widget-view+json": {
              "version_major": 2,
              "version_minor": 0,
              "model_id": "ff9ba95079c14d38befc54bb1e05d358"
            }
          },
          "metadata": {}
        },
        {
          "output_type": "display_data",
          "data": {
            "text/plain": [
              "model-00005-of-00005.safetensors:   0%|          | 0.00/1.69G [00:00<?, ?B/s]"
            ],
            "application/vnd.jupyter.widget-view+json": {
              "version_major": 2,
              "version_minor": 0,
              "model_id": "400708419efd4f69aefd0bdcffd857f6"
            }
          },
          "metadata": {}
        },
        {
          "output_type": "display_data",
          "data": {
            "text/plain": [
              "Loading checkpoint shards:   0%|          | 0/5 [00:00<?, ?it/s]"
            ],
            "application/vnd.jupyter.widget-view+json": {
              "version_major": 2,
              "version_minor": 0,
              "model_id": "f765c02b18cf4dc59ff5e61a2bf2af89"
            }
          },
          "metadata": {}
        },
        {
          "output_type": "display_data",
          "data": {
            "text/plain": [
              "generation_config.json:   0%|          | 0.00/159 [00:00<?, ?B/s]"
            ],
            "application/vnd.jupyter.widget-view+json": {
              "version_major": 2,
              "version_minor": 0,
              "model_id": "3936399357f94bf6976142b53afff404"
            }
          },
          "metadata": {}
        }
      ]
    },
    {
      "cell_type": "code",
      "source": [
        "# 기본 모델 hugging face\n",
        "original_model = AutoModelForCausalLM.from_pretrained(model_ID)\n",
        "print(original_model)\n",
        "print('#'*100)\n",
        "\n",
        "# 학습 전 peft 모델\n",
        "print(base_model)\n",
        "print('#'*100)\n",
        "\n",
        "# 학습 후 peft 모델\n",
        "adapter_model_name = '/content/drive/MyDrive/AI ML/DACON HANSOL/data/models/megast_0302/'\n",
        "model = PeftModel.from_pretrained(base_model, adapter_model_name).to(device)\n",
        "print(model)\n",
        "print('#'*100)\n",
        "\n",
        "# 학습 후 merge된 peft 모델\n",
        "merge_model = model.merge_and_unload()\n",
        "print(merge_model)\n"
      ],
      "metadata": {
        "colab": {
          "base_uri": "https://localhost:8080/",
          "height": 1000,
          "referenced_widgets": [
            "fdce4200897b4dca8e2b20a3c03986b0",
            "6d24c2d58e2c4842bb508c0e0a28499d",
            "ce556e757ec844928425e9e16dffbdc6",
            "60d8fbf1106e4de0bc1367e4274919d6",
            "fe85c6f649794445a2e329f1a6e18014",
            "55dc1e688ec44f1d9b965c45d1b71259",
            "b41c0801ca424df198fdf3c68e0720e5",
            "933a883278de49da8bd177213048574b",
            "c1faf977301445f58b67221d8fc90bf1",
            "8301b1d88fca41a3b8688718ecd733c2",
            "f70a6ba6bb7b48e4aef8608bd38f212d"
          ]
        },
        "id": "j-AEpC5Xy3i-",
        "outputId": "e4716404-dff1-48d3-c0e1-34370d4c7884"
      },
      "execution_count": null,
      "outputs": [
        {
          "output_type": "display_data",
          "data": {
            "text/plain": [
              "Loading checkpoint shards:   0%|          | 0/5 [00:00<?, ?it/s]"
            ],
            "application/vnd.jupyter.widget-view+json": {
              "version_major": 2,
              "version_minor": 0,
              "model_id": "fdce4200897b4dca8e2b20a3c03986b0"
            }
          },
          "metadata": {}
        },
        {
          "output_type": "stream",
          "name": "stdout",
          "text": [
            "LlamaForCausalLM(\n",
            "  (model): LlamaModel(\n",
            "    (embed_tokens): Embedding(32000, 4096, padding_idx=2)\n",
            "    (layers): ModuleList(\n",
            "      (0-47): 48 x LlamaDecoderLayer(\n",
            "        (self_attn): LlamaAttention(\n",
            "          (q_proj): Linear(in_features=4096, out_features=4096, bias=False)\n",
            "          (k_proj): Linear(in_features=4096, out_features=1024, bias=False)\n",
            "          (v_proj): Linear(in_features=4096, out_features=1024, bias=False)\n",
            "          (o_proj): Linear(in_features=4096, out_features=4096, bias=False)\n",
            "          (rotary_emb): LlamaRotaryEmbedding()\n",
            "        )\n",
            "        (mlp): LlamaMLP(\n",
            "          (gate_proj): Linear(in_features=4096, out_features=14336, bias=False)\n",
            "          (up_proj): Linear(in_features=4096, out_features=14336, bias=False)\n",
            "          (down_proj): Linear(in_features=14336, out_features=4096, bias=False)\n",
            "          (act_fn): SiLU()\n",
            "        )\n",
            "        (input_layernorm): LlamaRMSNorm()\n",
            "        (post_attention_layernorm): LlamaRMSNorm()\n",
            "      )\n",
            "    )\n",
            "    (norm): LlamaRMSNorm()\n",
            "  )\n",
            "  (lm_head): Linear(in_features=4096, out_features=32000, bias=False)\n",
            ")\n",
            "####################################################################################################\n",
            "LlamaForCausalLM(\n",
            "  (model): LlamaModel(\n",
            "    (embed_tokens): Embedding(32000, 4096, padding_idx=2)\n",
            "    (layers): ModuleList(\n",
            "      (0-47): 48 x LlamaDecoderLayer(\n",
            "        (self_attn): LlamaAttention(\n",
            "          (q_proj): lora.Linear4bit(\n",
            "            (base_layer): Linear4bit(in_features=4096, out_features=4096, bias=False)\n",
            "            (lora_dropout): ModuleDict(\n",
            "              (default): Dropout(p=0.1, inplace=False)\n",
            "            )\n",
            "            (lora_A): ModuleDict(\n",
            "              (default): Linear(in_features=4096, out_features=64, bias=False)\n",
            "            )\n",
            "            (lora_B): ModuleDict(\n",
            "              (default): Linear(in_features=64, out_features=4096, bias=False)\n",
            "            )\n",
            "            (lora_embedding_A): ParameterDict()\n",
            "            (lora_embedding_B): ParameterDict()\n",
            "          )\n",
            "          (k_proj): Linear4bit(in_features=4096, out_features=1024, bias=False)\n",
            "          (v_proj): lora.Linear4bit(\n",
            "            (base_layer): Linear4bit(in_features=4096, out_features=1024, bias=False)\n",
            "            (lora_dropout): ModuleDict(\n",
            "              (default): Dropout(p=0.1, inplace=False)\n",
            "            )\n",
            "            (lora_A): ModuleDict(\n",
            "              (default): Linear(in_features=4096, out_features=64, bias=False)\n",
            "            )\n",
            "            (lora_B): ModuleDict(\n",
            "              (default): Linear(in_features=64, out_features=1024, bias=False)\n",
            "            )\n",
            "            (lora_embedding_A): ParameterDict()\n",
            "            (lora_embedding_B): ParameterDict()\n",
            "          )\n",
            "          (o_proj): Linear4bit(in_features=4096, out_features=4096, bias=False)\n",
            "          (rotary_emb): LlamaRotaryEmbedding()\n",
            "        )\n",
            "        (mlp): LlamaMLP(\n",
            "          (gate_proj): Linear4bit(in_features=4096, out_features=14336, bias=False)\n",
            "          (up_proj): Linear4bit(in_features=4096, out_features=14336, bias=False)\n",
            "          (down_proj): Linear4bit(in_features=14336, out_features=4096, bias=False)\n",
            "          (act_fn): SiLU()\n",
            "        )\n",
            "        (input_layernorm): LlamaRMSNorm()\n",
            "        (post_attention_layernorm): LlamaRMSNorm()\n",
            "      )\n",
            "    )\n",
            "    (norm): LlamaRMSNorm()\n",
            "  )\n",
            "  (lm_head): Linear(in_features=4096, out_features=32000, bias=False)\n",
            ")\n",
            "####################################################################################################\n",
            "PeftModelForCausalLM(\n",
            "  (base_model): LoraModel(\n",
            "    (model): LlamaForCausalLM(\n",
            "      (model): LlamaModel(\n",
            "        (embed_tokens): Embedding(32000, 4096, padding_idx=2)\n",
            "        (layers): ModuleList(\n",
            "          (0-47): 48 x LlamaDecoderLayer(\n",
            "            (self_attn): LlamaAttention(\n",
            "              (q_proj): lora.Linear4bit(\n",
            "                (base_layer): Linear4bit(in_features=4096, out_features=4096, bias=False)\n",
            "                (lora_dropout): ModuleDict(\n",
            "                  (default): Dropout(p=0.1, inplace=False)\n",
            "                )\n",
            "                (lora_A): ModuleDict(\n",
            "                  (default): Linear(in_features=4096, out_features=64, bias=False)\n",
            "                )\n",
            "                (lora_B): ModuleDict(\n",
            "                  (default): Linear(in_features=64, out_features=4096, bias=False)\n",
            "                )\n",
            "                (lora_embedding_A): ParameterDict()\n",
            "                (lora_embedding_B): ParameterDict()\n",
            "              )\n",
            "              (k_proj): Linear4bit(in_features=4096, out_features=1024, bias=False)\n",
            "              (v_proj): lora.Linear4bit(\n",
            "                (base_layer): Linear4bit(in_features=4096, out_features=1024, bias=False)\n",
            "                (lora_dropout): ModuleDict(\n",
            "                  (default): Dropout(p=0.1, inplace=False)\n",
            "                )\n",
            "                (lora_A): ModuleDict(\n",
            "                  (default): Linear(in_features=4096, out_features=64, bias=False)\n",
            "                )\n",
            "                (lora_B): ModuleDict(\n",
            "                  (default): Linear(in_features=64, out_features=1024, bias=False)\n",
            "                )\n",
            "                (lora_embedding_A): ParameterDict()\n",
            "                (lora_embedding_B): ParameterDict()\n",
            "              )\n",
            "              (o_proj): Linear4bit(in_features=4096, out_features=4096, bias=False)\n",
            "              (rotary_emb): LlamaRotaryEmbedding()\n",
            "            )\n",
            "            (mlp): LlamaMLP(\n",
            "              (gate_proj): Linear4bit(in_features=4096, out_features=14336, bias=False)\n",
            "              (up_proj): Linear4bit(in_features=4096, out_features=14336, bias=False)\n",
            "              (down_proj): Linear4bit(in_features=14336, out_features=4096, bias=False)\n",
            "              (act_fn): SiLU()\n",
            "            )\n",
            "            (input_layernorm): LlamaRMSNorm()\n",
            "            (post_attention_layernorm): LlamaRMSNorm()\n",
            "          )\n",
            "        )\n",
            "        (norm): LlamaRMSNorm()\n",
            "      )\n",
            "      (lm_head): Linear(in_features=4096, out_features=32000, bias=False)\n",
            "    )\n",
            "  )\n",
            ")\n"
          ]
        }
      ]
    },
    {
      "cell_type": "code",
      "source": [
        "tokenizer = AutoTokenizer.from_pretrained(model_ID)"
      ],
      "metadata": {
        "colab": {
          "base_uri": "https://localhost:8080/",
          "height": 113,
          "referenced_widgets": [
            "bc7ace46417c4919b5a1c563dc7fa49c",
            "d8316f1be92d4d2da2daa4e7c4283de3",
            "0a818652bc9744cb912ef66dd9e14ab1",
            "6c69a7363fde424c8083516d7d13db47",
            "a2017a11e04c4bdc85404efb5ed55d91",
            "87d9c1614a1a469680a55f131d42feb5",
            "505870f1ae6d421c940e8f0a84491231",
            "dba2969447c8447a89aca40b9412feb4",
            "39409affe8fb499f99763cec1d24fea8",
            "8d46363fa6c24bf0803efe13734a83f4",
            "aa4f62f6ad294c1f826472e500f10562",
            "3e80a2da1c8442d9ad005a9ebc15ba57",
            "88c462addac94d4e9aa84e21524f00c2",
            "3a0c8534f13e4f5da5a361c8b9828388",
            "c57fa088d96247bcab4698918a40dcce",
            "222f98b6005543a091480bd0172de15a",
            "623e93c8bc6c497ebf2021b4a562c355",
            "87db78cd3b964f9692503e2bd695734b",
            "9f9ae2abe1684e1bbca8282b0788256a",
            "bead055a72264a7eb8751af4227f0171",
            "529352a4208c4f75b81b60be34177cf9",
            "67dfeb3ce2ad44eb93163a80c5f2cf85",
            "47850b12e31b49b6ae44d5e12b421910",
            "275fd15023c94162bd0eeef5254fadb8",
            "1f199cd46d194926821e45b6782b3068",
            "07e29bf22a5e435ebf40b5ab15e4c5da",
            "519d7551a838401fbc0c650a066b9a46",
            "ed1b6727395349708dcb982a9d0fbc8d",
            "af39a8341f5c4a84ac48cb4a4e622475",
            "88698b34fa0f4138ba683eed477fbc3d",
            "9aebd18ca7b440269135f0aa45ccb768",
            "ddb8ddfa51414aed870881e683bcaff3",
            "c913692f00c34ae784050a37f0d738a0"
          ]
        },
        "id": "lTa8OwpEzfXl",
        "outputId": "952ddd0b-18a5-4e77-ca19-7e5dc768414a"
      },
      "execution_count": null,
      "outputs": [
        {
          "output_type": "display_data",
          "data": {
            "text/plain": [
              "tokenizer_config.json:   0%|          | 0.00/1.46k [00:00<?, ?B/s]"
            ],
            "application/vnd.jupyter.widget-view+json": {
              "version_major": 2,
              "version_minor": 0,
              "model_id": "bc7ace46417c4919b5a1c563dc7fa49c"
            }
          },
          "metadata": {}
        },
        {
          "output_type": "display_data",
          "data": {
            "text/plain": [
              "tokenizer.model:   0%|          | 0.00/493k [00:00<?, ?B/s]"
            ],
            "application/vnd.jupyter.widget-view+json": {
              "version_major": 2,
              "version_minor": 0,
              "model_id": "3e80a2da1c8442d9ad005a9ebc15ba57"
            }
          },
          "metadata": {}
        },
        {
          "output_type": "display_data",
          "data": {
            "text/plain": [
              "special_tokens_map.json:   0%|          | 0.00/551 [00:00<?, ?B/s]"
            ],
            "application/vnd.jupyter.widget-view+json": {
              "version_major": 2,
              "version_minor": 0,
              "model_id": "47850b12e31b49b6ae44d5e12b421910"
            }
          },
          "metadata": {}
        }
      ]
    },
    {
      "cell_type": "markdown",
      "source": [
        "# 추론 실험"
      ],
      "metadata": {
        "id": "w36kgS78zo4x"
      }
    },
    {
      "cell_type": "code",
      "source": [
        "import pandas as pd\n",
        "test = pd.read_csv(f'{data_path}test.csv')\n",
        "test"
      ],
      "metadata": {
        "colab": {
          "base_uri": "https://localhost:8080/",
          "height": 423
        },
        "id": "AMHJXAjVzhpY",
        "outputId": "76403888-bcfa-4536-c415-1473d6c387ed"
      },
      "execution_count": null,
      "outputs": [
        {
          "output_type": "execute_result",
          "data": {
            "text/plain": [
              "           id                                                 질문\n",
              "0    TEST_000  방청 페인트의 종류에는 어떤 것들이 있는지 알고 계신가요? 또한, 원목사이딩을 사용...\n",
              "1    TEST_001            도배지에 녹은 자국이 발생하는 주된 원인과 그 해결 방법은 무엇인가요?\n",
              "2    TEST_002    큐블럭의 단점을 알려주세요. 또한, 압출법 단열판을 사용하는 것의 장점은 무엇인가요?\n",
              "3    TEST_003  철골구조를 사용하는 고층 건물에서, 단열 효과를 높이기 위한 시공 방법은 무엇이 있...\n",
              "4    TEST_004                   도배지의 완전한 건조를 위해 몇 주 동안 기다려야 하나요?\n",
              "..        ...                                                ...\n",
              "125  TEST_125  분말 소화기를 사용할 때 주의해야 할 사항은 무엇인가요? 그리고 아파트 도배 평수를...\n",
              "126  TEST_126                          압출법 보온판의 가장 큰 장점은 무엇인가요?\"\n",
              "127  TEST_127  평지붕의 누수 문제를 방지하기 위해 수성 벽체용 탄성 방수 도료를 사용하는 것이 어...\n",
              "128  TEST_128  석고수정이 발생하는 가장 큰 원인은 무엇인가요? 그리고 이를 해결하는 방법에 대해 ...\n",
              "129  TEST_129     카페트의 기대 수명은 얼마나 될까요? 그리고 오리지널징크의 장점에는 무엇이 있나요?\n",
              "\n",
              "[130 rows x 2 columns]"
            ],
            "text/html": [
              "\n",
              "  <div id=\"df-188e9fc8-a2e4-4eb6-b50c-bb04871f1b3f\" class=\"colab-df-container\">\n",
              "    <div>\n",
              "<style scoped>\n",
              "    .dataframe tbody tr th:only-of-type {\n",
              "        vertical-align: middle;\n",
              "    }\n",
              "\n",
              "    .dataframe tbody tr th {\n",
              "        vertical-align: top;\n",
              "    }\n",
              "\n",
              "    .dataframe thead th {\n",
              "        text-align: right;\n",
              "    }\n",
              "</style>\n",
              "<table border=\"1\" class=\"dataframe\">\n",
              "  <thead>\n",
              "    <tr style=\"text-align: right;\">\n",
              "      <th></th>\n",
              "      <th>id</th>\n",
              "      <th>질문</th>\n",
              "    </tr>\n",
              "  </thead>\n",
              "  <tbody>\n",
              "    <tr>\n",
              "      <th>0</th>\n",
              "      <td>TEST_000</td>\n",
              "      <td>방청 페인트의 종류에는 어떤 것들이 있는지 알고 계신가요? 또한, 원목사이딩을 사용...</td>\n",
              "    </tr>\n",
              "    <tr>\n",
              "      <th>1</th>\n",
              "      <td>TEST_001</td>\n",
              "      <td>도배지에 녹은 자국이 발생하는 주된 원인과 그 해결 방법은 무엇인가요?</td>\n",
              "    </tr>\n",
              "    <tr>\n",
              "      <th>2</th>\n",
              "      <td>TEST_002</td>\n",
              "      <td>큐블럭의 단점을 알려주세요. 또한, 압출법 단열판을 사용하는 것의 장점은 무엇인가요?</td>\n",
              "    </tr>\n",
              "    <tr>\n",
              "      <th>3</th>\n",
              "      <td>TEST_003</td>\n",
              "      <td>철골구조를 사용하는 고층 건물에서, 단열 효과를 높이기 위한 시공 방법은 무엇이 있...</td>\n",
              "    </tr>\n",
              "    <tr>\n",
              "      <th>4</th>\n",
              "      <td>TEST_004</td>\n",
              "      <td>도배지의 완전한 건조를 위해 몇 주 동안 기다려야 하나요?</td>\n",
              "    </tr>\n",
              "    <tr>\n",
              "      <th>...</th>\n",
              "      <td>...</td>\n",
              "      <td>...</td>\n",
              "    </tr>\n",
              "    <tr>\n",
              "      <th>125</th>\n",
              "      <td>TEST_125</td>\n",
              "      <td>분말 소화기를 사용할 때 주의해야 할 사항은 무엇인가요? 그리고 아파트 도배 평수를...</td>\n",
              "    </tr>\n",
              "    <tr>\n",
              "      <th>126</th>\n",
              "      <td>TEST_126</td>\n",
              "      <td>압출법 보온판의 가장 큰 장점은 무엇인가요?\"</td>\n",
              "    </tr>\n",
              "    <tr>\n",
              "      <th>127</th>\n",
              "      <td>TEST_127</td>\n",
              "      <td>평지붕의 누수 문제를 방지하기 위해 수성 벽체용 탄성 방수 도료를 사용하는 것이 어...</td>\n",
              "    </tr>\n",
              "    <tr>\n",
              "      <th>128</th>\n",
              "      <td>TEST_128</td>\n",
              "      <td>석고수정이 발생하는 가장 큰 원인은 무엇인가요? 그리고 이를 해결하는 방법에 대해 ...</td>\n",
              "    </tr>\n",
              "    <tr>\n",
              "      <th>129</th>\n",
              "      <td>TEST_129</td>\n",
              "      <td>카페트의 기대 수명은 얼마나 될까요? 그리고 오리지널징크의 장점에는 무엇이 있나요?</td>\n",
              "    </tr>\n",
              "  </tbody>\n",
              "</table>\n",
              "<p>130 rows × 2 columns</p>\n",
              "</div>\n",
              "    <div class=\"colab-df-buttons\">\n",
              "\n",
              "  <div class=\"colab-df-container\">\n",
              "    <button class=\"colab-df-convert\" onclick=\"convertToInteractive('df-188e9fc8-a2e4-4eb6-b50c-bb04871f1b3f')\"\n",
              "            title=\"Convert this dataframe to an interactive table.\"\n",
              "            style=\"display:none;\">\n",
              "\n",
              "  <svg xmlns=\"http://www.w3.org/2000/svg\" height=\"24px\" viewBox=\"0 -960 960 960\">\n",
              "    <path d=\"M120-120v-720h720v720H120Zm60-500h600v-160H180v160Zm220 220h160v-160H400v160Zm0 220h160v-160H400v160ZM180-400h160v-160H180v160Zm440 0h160v-160H620v160ZM180-180h160v-160H180v160Zm440 0h160v-160H620v160Z\"/>\n",
              "  </svg>\n",
              "    </button>\n",
              "\n",
              "  <style>\n",
              "    .colab-df-container {\n",
              "      display:flex;\n",
              "      gap: 12px;\n",
              "    }\n",
              "\n",
              "    .colab-df-convert {\n",
              "      background-color: #E8F0FE;\n",
              "      border: none;\n",
              "      border-radius: 50%;\n",
              "      cursor: pointer;\n",
              "      display: none;\n",
              "      fill: #1967D2;\n",
              "      height: 32px;\n",
              "      padding: 0 0 0 0;\n",
              "      width: 32px;\n",
              "    }\n",
              "\n",
              "    .colab-df-convert:hover {\n",
              "      background-color: #E2EBFA;\n",
              "      box-shadow: 0px 1px 2px rgba(60, 64, 67, 0.3), 0px 1px 3px 1px rgba(60, 64, 67, 0.15);\n",
              "      fill: #174EA6;\n",
              "    }\n",
              "\n",
              "    .colab-df-buttons div {\n",
              "      margin-bottom: 4px;\n",
              "    }\n",
              "\n",
              "    [theme=dark] .colab-df-convert {\n",
              "      background-color: #3B4455;\n",
              "      fill: #D2E3FC;\n",
              "    }\n",
              "\n",
              "    [theme=dark] .colab-df-convert:hover {\n",
              "      background-color: #434B5C;\n",
              "      box-shadow: 0px 1px 3px 1px rgba(0, 0, 0, 0.15);\n",
              "      filter: drop-shadow(0px 1px 2px rgba(0, 0, 0, 0.3));\n",
              "      fill: #FFFFFF;\n",
              "    }\n",
              "  </style>\n",
              "\n",
              "    <script>\n",
              "      const buttonEl =\n",
              "        document.querySelector('#df-188e9fc8-a2e4-4eb6-b50c-bb04871f1b3f button.colab-df-convert');\n",
              "      buttonEl.style.display =\n",
              "        google.colab.kernel.accessAllowed ? 'block' : 'none';\n",
              "\n",
              "      async function convertToInteractive(key) {\n",
              "        const element = document.querySelector('#df-188e9fc8-a2e4-4eb6-b50c-bb04871f1b3f');\n",
              "        const dataTable =\n",
              "          await google.colab.kernel.invokeFunction('convertToInteractive',\n",
              "                                                    [key], {});\n",
              "        if (!dataTable) return;\n",
              "\n",
              "        const docLinkHtml = 'Like what you see? Visit the ' +\n",
              "          '<a target=\"_blank\" href=https://colab.research.google.com/notebooks/data_table.ipynb>data table notebook</a>'\n",
              "          + ' to learn more about interactive tables.';\n",
              "        element.innerHTML = '';\n",
              "        dataTable['output_type'] = 'display_data';\n",
              "        await google.colab.output.renderOutput(dataTable, element);\n",
              "        const docLink = document.createElement('div');\n",
              "        docLink.innerHTML = docLinkHtml;\n",
              "        element.appendChild(docLink);\n",
              "      }\n",
              "    </script>\n",
              "  </div>\n",
              "\n",
              "\n",
              "<div id=\"df-d9164068-b5e1-4da8-bd33-ce035eea26f3\">\n",
              "  <button class=\"colab-df-quickchart\" onclick=\"quickchart('df-d9164068-b5e1-4da8-bd33-ce035eea26f3')\"\n",
              "            title=\"Suggest charts\"\n",
              "            style=\"display:none;\">\n",
              "\n",
              "<svg xmlns=\"http://www.w3.org/2000/svg\" height=\"24px\"viewBox=\"0 0 24 24\"\n",
              "     width=\"24px\">\n",
              "    <g>\n",
              "        <path d=\"M19 3H5c-1.1 0-2 .9-2 2v14c0 1.1.9 2 2 2h14c1.1 0 2-.9 2-2V5c0-1.1-.9-2-2-2zM9 17H7v-7h2v7zm4 0h-2V7h2v10zm4 0h-2v-4h2v4z\"/>\n",
              "    </g>\n",
              "</svg>\n",
              "  </button>\n",
              "\n",
              "<style>\n",
              "  .colab-df-quickchart {\n",
              "      --bg-color: #E8F0FE;\n",
              "      --fill-color: #1967D2;\n",
              "      --hover-bg-color: #E2EBFA;\n",
              "      --hover-fill-color: #174EA6;\n",
              "      --disabled-fill-color: #AAA;\n",
              "      --disabled-bg-color: #DDD;\n",
              "  }\n",
              "\n",
              "  [theme=dark] .colab-df-quickchart {\n",
              "      --bg-color: #3B4455;\n",
              "      --fill-color: #D2E3FC;\n",
              "      --hover-bg-color: #434B5C;\n",
              "      --hover-fill-color: #FFFFFF;\n",
              "      --disabled-bg-color: #3B4455;\n",
              "      --disabled-fill-color: #666;\n",
              "  }\n",
              "\n",
              "  .colab-df-quickchart {\n",
              "    background-color: var(--bg-color);\n",
              "    border: none;\n",
              "    border-radius: 50%;\n",
              "    cursor: pointer;\n",
              "    display: none;\n",
              "    fill: var(--fill-color);\n",
              "    height: 32px;\n",
              "    padding: 0;\n",
              "    width: 32px;\n",
              "  }\n",
              "\n",
              "  .colab-df-quickchart:hover {\n",
              "    background-color: var(--hover-bg-color);\n",
              "    box-shadow: 0 1px 2px rgba(60, 64, 67, 0.3), 0 1px 3px 1px rgba(60, 64, 67, 0.15);\n",
              "    fill: var(--button-hover-fill-color);\n",
              "  }\n",
              "\n",
              "  .colab-df-quickchart-complete:disabled,\n",
              "  .colab-df-quickchart-complete:disabled:hover {\n",
              "    background-color: var(--disabled-bg-color);\n",
              "    fill: var(--disabled-fill-color);\n",
              "    box-shadow: none;\n",
              "  }\n",
              "\n",
              "  .colab-df-spinner {\n",
              "    border: 2px solid var(--fill-color);\n",
              "    border-color: transparent;\n",
              "    border-bottom-color: var(--fill-color);\n",
              "    animation:\n",
              "      spin 1s steps(1) infinite;\n",
              "  }\n",
              "\n",
              "  @keyframes spin {\n",
              "    0% {\n",
              "      border-color: transparent;\n",
              "      border-bottom-color: var(--fill-color);\n",
              "      border-left-color: var(--fill-color);\n",
              "    }\n",
              "    20% {\n",
              "      border-color: transparent;\n",
              "      border-left-color: var(--fill-color);\n",
              "      border-top-color: var(--fill-color);\n",
              "    }\n",
              "    30% {\n",
              "      border-color: transparent;\n",
              "      border-left-color: var(--fill-color);\n",
              "      border-top-color: var(--fill-color);\n",
              "      border-right-color: var(--fill-color);\n",
              "    }\n",
              "    40% {\n",
              "      border-color: transparent;\n",
              "      border-right-color: var(--fill-color);\n",
              "      border-top-color: var(--fill-color);\n",
              "    }\n",
              "    60% {\n",
              "      border-color: transparent;\n",
              "      border-right-color: var(--fill-color);\n",
              "    }\n",
              "    80% {\n",
              "      border-color: transparent;\n",
              "      border-right-color: var(--fill-color);\n",
              "      border-bottom-color: var(--fill-color);\n",
              "    }\n",
              "    90% {\n",
              "      border-color: transparent;\n",
              "      border-bottom-color: var(--fill-color);\n",
              "    }\n",
              "  }\n",
              "</style>\n",
              "\n",
              "  <script>\n",
              "    async function quickchart(key) {\n",
              "      const quickchartButtonEl =\n",
              "        document.querySelector('#' + key + ' button');\n",
              "      quickchartButtonEl.disabled = true;  // To prevent multiple clicks.\n",
              "      quickchartButtonEl.classList.add('colab-df-spinner');\n",
              "      try {\n",
              "        const charts = await google.colab.kernel.invokeFunction(\n",
              "            'suggestCharts', [key], {});\n",
              "      } catch (error) {\n",
              "        console.error('Error during call to suggestCharts:', error);\n",
              "      }\n",
              "      quickchartButtonEl.classList.remove('colab-df-spinner');\n",
              "      quickchartButtonEl.classList.add('colab-df-quickchart-complete');\n",
              "    }\n",
              "    (() => {\n",
              "      let quickchartButtonEl =\n",
              "        document.querySelector('#df-d9164068-b5e1-4da8-bd33-ce035eea26f3 button');\n",
              "      quickchartButtonEl.style.display =\n",
              "        google.colab.kernel.accessAllowed ? 'block' : 'none';\n",
              "    })();\n",
              "  </script>\n",
              "</div>\n",
              "\n",
              "  <div id=\"id_fa0bb47f-f952-474e-be30-369a3b863844\">\n",
              "    <style>\n",
              "      .colab-df-generate {\n",
              "        background-color: #E8F0FE;\n",
              "        border: none;\n",
              "        border-radius: 50%;\n",
              "        cursor: pointer;\n",
              "        display: none;\n",
              "        fill: #1967D2;\n",
              "        height: 32px;\n",
              "        padding: 0 0 0 0;\n",
              "        width: 32px;\n",
              "      }\n",
              "\n",
              "      .colab-df-generate:hover {\n",
              "        background-color: #E2EBFA;\n",
              "        box-shadow: 0px 1px 2px rgba(60, 64, 67, 0.3), 0px 1px 3px 1px rgba(60, 64, 67, 0.15);\n",
              "        fill: #174EA6;\n",
              "      }\n",
              "\n",
              "      [theme=dark] .colab-df-generate {\n",
              "        background-color: #3B4455;\n",
              "        fill: #D2E3FC;\n",
              "      }\n",
              "\n",
              "      [theme=dark] .colab-df-generate:hover {\n",
              "        background-color: #434B5C;\n",
              "        box-shadow: 0px 1px 3px 1px rgba(0, 0, 0, 0.15);\n",
              "        filter: drop-shadow(0px 1px 2px rgba(0, 0, 0, 0.3));\n",
              "        fill: #FFFFFF;\n",
              "      }\n",
              "    </style>\n",
              "    <button class=\"colab-df-generate\" onclick=\"generateWithVariable('test')\"\n",
              "            title=\"Generate code using this dataframe.\"\n",
              "            style=\"display:none;\">\n",
              "\n",
              "  <svg xmlns=\"http://www.w3.org/2000/svg\" height=\"24px\"viewBox=\"0 0 24 24\"\n",
              "       width=\"24px\">\n",
              "    <path d=\"M7,19H8.4L18.45,9,17,7.55,7,17.6ZM5,21V16.75L18.45,3.32a2,2,0,0,1,2.83,0l1.4,1.43a1.91,1.91,0,0,1,.58,1.4,1.91,1.91,0,0,1-.58,1.4L9.25,21ZM18.45,9,17,7.55Zm-12,3A5.31,5.31,0,0,0,4.9,8.1,5.31,5.31,0,0,0,1,6.5,5.31,5.31,0,0,0,4.9,4.9,5.31,5.31,0,0,0,6.5,1,5.31,5.31,0,0,0,8.1,4.9,5.31,5.31,0,0,0,12,6.5,5.46,5.46,0,0,0,6.5,12Z\"/>\n",
              "  </svg>\n",
              "    </button>\n",
              "    <script>\n",
              "      (() => {\n",
              "      const buttonEl =\n",
              "        document.querySelector('#id_fa0bb47f-f952-474e-be30-369a3b863844 button.colab-df-generate');\n",
              "      buttonEl.style.display =\n",
              "        google.colab.kernel.accessAllowed ? 'block' : 'none';\n",
              "\n",
              "      buttonEl.onclick = () => {\n",
              "        google.colab.notebook.generateWithVariable('test');\n",
              "      }\n",
              "      })();\n",
              "    </script>\n",
              "  </div>\n",
              "\n",
              "    </div>\n",
              "  </div>\n"
            ],
            "application/vnd.google.colaboratory.intrinsic+json": {
              "type": "dataframe",
              "variable_name": "test",
              "summary": "{\n  \"name\": \"test\",\n  \"rows\": 130,\n  \"fields\": [\n    {\n      \"column\": \"id\",\n      \"properties\": {\n        \"dtype\": \"string\",\n        \"num_unique_values\": 130,\n        \"samples\": [\n          \"TEST_055\",\n          \"TEST_040\",\n          \"TEST_019\"\n        ],\n        \"semantic_type\": \"\",\n        \"description\": \"\"\n      }\n    },\n    {\n      \"column\": \"\\uc9c8\\ubb38\",\n      \"properties\": {\n        \"dtype\": \"string\",\n        \"num_unique_values\": 129,\n        \"samples\": [\n          \"\\uc6d0\\ubaa9\\ub9c8\\ub8e8\\uc758 \\uc5b4\\ub5a4 \\ub2e8\\uc810\\uc774 \\uc788\\ub294\\uc9c0 \\uc54c\\ub824\\uc8fc\\uc138\\uc694. \\uadf8\\ub9ac\\uace0 \\ub3c4\\ubc30\\uc9c0\\uac00 \\ub0a8\\uc73c\\uba74 \\uc5b4\\ub5bb\\uac8c \\ucc98\\ub9ac\\ud574\\uc57c \\ud558\\ub098\\uc694?\",\n          \"\\uc6d0\\ubaa9\\ub9c8\\ub8e8\\uc640 \\ub871\\ube0c\\ub9ad\\ud0c0\\uc77c\\uc5d0 \\ub300\\ud574 \\uc124\\uba85\\ud574\\uc8fc\\uc138\\uc694. \\uac01\\uac01\\uc758 \\ub2e8\\uc810\\uacfc \\ud2b9\\uc9d5\\uc740 \\ubb34\\uc5c7\\uc778\\uac00\\uc694?\",\n          \"\\ub2e4\\uc774\\ub2dd \\ub8f8\\uc744 \\ub354 \\uace0\\uae09\\uc2a4\\ub7fd\\uac8c \\uafb8\\ubc00\\ub824\\uba74 \\uc5b4\\ub5bb\\uac8c \\ud574\\uc57c \\ud558\\ub098\\uc694\\uc640 \\uc544\\ub808\\uce74 \\uc57c\\uc790\\ub97c \\ud0a4\\uc6b0\\uba74 \\uc5b4\\ub5a4 \\uc774\\uc810\\uc774 \\uc788\\ub294\\uc9c0\\uc758 \\uad00\\uacc4\\ub294 \\ubb34\\uc5c7\\uc778\\uac00\\uc694?\"\n        ],\n        \"semantic_type\": \"\",\n        \"description\": \"\"\n      }\n    }\n  ]\n}"
            }
          },
          "metadata": {},
          "execution_count": 15
        }
      ]
    },
    {
      "cell_type": "code",
      "source": [
        "def generate_response_no_tuned(user_request, max_len=1000):\n",
        "    conversation = [ {'role': 'user', 'content': user_request} ]\n",
        "\n",
        "    prompt = tokenizer.apply_chat_template(conversation, tokenize=False, add_generation_prompt=True)\n",
        "    inputs = tokenizer(prompt, return_tensors=\"pt\").to(model.device)\n",
        "\n",
        "    outputs = model.generate(**inputs, use_cache=True, max_length=max_len)\n",
        "    output_text = tokenizer.decode(outputs[0])\n",
        "    output_text = output_text.split(\"### Assistant:\")[1].strip()\n",
        "    output_text = output_text.replace('\\n','').replace('</s>','')\n",
        "\n",
        "    return output_text"
      ],
      "metadata": {
        "id": "uz7xDgwpgvZY"
      },
      "execution_count": null,
      "outputs": []
    },
    {
      "cell_type": "code",
      "source": [
        "generate_response_no_tuned(test['질문'][0],1000)"
      ],
      "metadata": {
        "colab": {
          "base_uri": "https://localhost:8080/",
          "height": 108
        },
        "id": "IMmCuSCigzAK",
        "outputId": "8e556f54-b6b3-435a-9416-f5fb51ec09b1"
      },
      "execution_count": null,
      "outputs": [
        {
          "output_type": "execute_result",
          "data": {
            "text/plain": [
              "'방청 페인트는 철제 및 철제 기반 구조물을 부식으로부터 보호하기 위해 설계된 특수 페인트입니다. 방청 페인트의 주요 유형은 다음과 같습니다:\\n\\n1. 에폭시 방청 페인트: 내부 및 외부 표면에 사용하기에 적합한 고강도 및 내마모성 페인트입니다.\\n2. 아크릴 방청 페인트: 내부 및 외부 표면에 사용하기에 적합한 저농도 페인트입니다.\\n3. 알킬 방청 페인트: 내부 및 외부 표면에 사용하기에 적합한 저농도 페인트입니다.\\n4. 에틸 방청 페인트: 내부 및 외부 표면에 사용하기에 적합한 저농도 페인트입니다.\\n5. 아크릴 에틸 방청 페인트: 내부 및 외부 표면에 사용하기에 적합한 저농도 페인트입니다.\\n\\n원목 사이딩은 건물 외벽에 사용되는 자연 나무 판자입니다. 원목 사이딩의 장점은 다음과 같습니다:\\n\\n1. 미적 매력: 원목 사이딩은 다양한 종류의 나무로 제작되어 다양한 색상과 질감을 제공합니다.\\n2. 지속 가능성: 원목 사이딩은 재생 가능한 자연 자원으로 만들어져 환경에 미치는 영향이 적습니다.\\n3. 단열 특성: 원목 사이딩은 단열 특성이 좋아 에너지 절약에 도움이 됩니다.\\n\\n그러나 원목 사이딩의 단점은 다음과 같습니다:\\n\\n1. 유지 관리: 원목 사이딩은 곰팡이, 부식 및 기타 손상으로부터 보호하기 위해 주기적으로 도장 및 유지 관리가 필요합니다.\\n2. 가격: 원목 사이딩은 다른 사이딩 옵션에 비해 비싸다는 단점이 있습니다.\\n3. 내구성: 원목 사이딩은 강한 풍속, 빛, 습기에 노출되면 손상될 수 있습니다.</s>'"
            ],
            "application/vnd.google.colaboratory.intrinsic+json": {
              "type": "string"
            }
          },
          "metadata": {},
          "execution_count": 20
        }
      ]
    },
    {
      "cell_type": "code",
      "source": [
        "def generate_response(user_request, max_len=1000):\n",
        "    conversation = [ {'role': 'user', 'content': user_request} ]\n",
        "\n",
        "    prompt = tokenizer.apply_chat_template(conversation, tokenize=False, add_generation_prompt=True)\n",
        "    inputs = tokenizer(prompt, return_tensors=\"pt\").to(model.device)\n",
        "\n",
        "    outputs = model.generate(**inputs,\n",
        "                             use_cache=True,\n",
        "                             max_length=max_len,\n",
        "                            num_return_sequences=1,\n",
        "                            do_sample=True,\n",
        "                            temperature=0.87,\n",
        "                            top_k=27,\n",
        "                            top_p=0.7\n",
        "                             )\n",
        "    output_text = tokenizer.decode(outputs[0])\n",
        "    output_text = output_text.split(\"### Assistant:\")[1].strip()\n",
        "    output_text = output_text.replace('\\n','').replace('</s>','')\n",
        "\n",
        "    return output_text"
      ],
      "metadata": {
        "id": "zu3FzlH30NsU"
      },
      "execution_count": null,
      "outputs": []
    },
    {
      "cell_type": "code",
      "source": [
        "generate_response(test['질문'][0],1024)"
      ],
      "metadata": {
        "colab": {
          "base_uri": "https://localhost:8080/",
          "height": 126
        },
        "id": "CO__mbor1EYL",
        "outputId": "0f038444-32f0-4d6b-81ef-520760e29ce5"
      },
      "execution_count": null,
      "outputs": [
        {
          "output_type": "execute_result",
          "data": {
            "text/plain": [
              "'방청 페인트의 종류는 다양하며 다양한 목적과 환경에 맞게 설계되었습니다. 일반적인 방청 페인트 유형에는 다음이 있습니다:1. 산화방지 코팅: 산화방지 코팅은 강철, 알루미늄, 구리와 같은 금속 표면을 부식으로부터 보호하는 데 사용됩니다. 산화방지 코팅은 산소 및 수분과 같은 환경 요인으로부터 금속을 보호하기 위해 금속과 반응하여 자기 방식 방지막을 형성합니다.2. 방청 페인트: 방청 페인트는 금속 표면을 부식으로부터 보호하는 데 사용되지만 산화방지 코팅과 달리 자기 방식 방지막을 형성하지는 않습니다. 대신 방청 페인트는 금속 표면을 수분과 산소로부터 보호하기 위해 기계적 장벽을 제공합니다.3. 방청 갈바닌 코팅: 방청 갈바닌 코팅은 갈바닌 강철 표면을 부식으로부터 보호하는 데 사용됩니다. 이러한 코팅은 강철 표면에 부식 방지 층을 형성하여 수분과 산소가 강철과 반응하여 부식을 일으키는 것을 방지합니다.4. 방청 에폭시 코팅: 방청 에폭시 코팅은 방청 페인트와 유사하지만 더 높은 내구성을 가지고 있습니다. 이러한 코팅은 부식에 대한 방지 기능과 함께 더 높은 기계적 응력을 견딜 수 있습니다.원목 사이딩을 사용하면 몇 가지 단점이 있을 수 있습니다:1. 유지보수: 원목 사이딩은 절단 표면에서 부식이 쉽게 발생할 수 있으므로 주기적인 유지보수가 필요합니다. 이는 벗겨지거나 갈라지는 부분을 수리하고 필요한 경우 재페인트하는 것을 의미합니다.2. 내구성: 원목 사이딩은 염수 분위기, 극한 온도, 태양의 자외선 등 다양한 환경 요인에 취약할 수 있습니다. 이러한 요인은 원목의 얼굴을 변색시키고 부러지고 풀어지게 만들 수 있습니다.3. 비용: 원목 사이딩은 설치 및 유지보수 비용이 비싸다는 점에서 비용이 많이 들 수'"
            ],
            "application/vnd.google.colaboratory.intrinsic+json": {
              "type": "string"
            }
          },
          "metadata": {},
          "execution_count": 29
        }
      ]
    },
    {
      "cell_type": "code",
      "source": [
        "generate_response(test['질문'][0],200)"
      ],
      "metadata": {
        "colab": {
          "base_uri": "https://localhost:8080/",
          "height": 36
        },
        "id": "-MwyZqT91eej",
        "outputId": "57918dd6-ef55-4ea3-d989-f9dc55c9bee6"
      },
      "execution_count": null,
      "outputs": [
        {
          "output_type": "execute_result",
          "data": {
            "text/plain": [
              "'방청 페인트는 부식을 방지하고 장시간 내구성을 유지하기 위해 특별히 설계된 페인트의 일종입니다. 방청 페인트의 주요 종류는 다음과 같습니다:1. 아연 도료: 아연 기반 페인트는 부식 방지 성능이 우수하여 방청 도'"
            ],
            "application/vnd.google.colaboratory.intrinsic+json": {
              "type": "string"
            }
          },
          "metadata": {},
          "execution_count": 24
        }
      ]
    },
    {
      "cell_type": "code",
      "source": [
        "generate_response(test['질문'][0],2048)"
      ],
      "metadata": {
        "colab": {
          "base_uri": "https://localhost:8080/",
          "height": 235
        },
        "id": "mZzcxwqw1zZH",
        "outputId": "646a9eb6-923c-4833-c1bb-d5d902428b8b"
      },
      "execution_count": null,
      "outputs": [
        {
          "output_type": "execute_result",
          "data": {
            "text/plain": [
              "'방청 페인트는 다양한 종류가 있습니다. 일반적인 방청 페인트 종류에는 다음이 있습니다:1. 알칼리 방청 페인트: 알칼리 방청 페인트는 알칼리 환경에 노출된 금속을 보호하기 위해 설계된 방청 페인트의 일종입니다. 이러한 페인트는 산성 분위기에서도 효과적인 방청 보호를 제공합니다.2. 아마인 방청 페인트: 아마인 방청 페인트는 수용액 내에서 금속을 보호하기 위해 설계된 방청 페인트의 일종입니다. 이러한 페인트는 물과 같은 액체 환경에서 금속을 보호하는 데 특히 유용합니다.3. 내산 방청 페인트: 내산 방청 페인트는 산성 환경에 노출된 금속을 보호하기 위해 설계된 방청 페인트의 일종입니다. 이러한 페인트는 산성 분위기에서도 효과적인 방청 보호를 제공합니다.4. 내알칼리 방청 페인트: 내알칼리 방청 페인트는 알칼리 환경에 노출된 금속을 보호하기 위해 설계된 방청 페인트의 일종입니다. 이러한 페인트는 알칼리 분위기에서도 효과적인 방청 보호를 제공합니다.5. 내부식성 방청 페인트: 내부식성 방청 페인트는 금속을 부식하는 물리적 또는 화학적 과정에 노출된 금속을 보호하기 위해 설계된 방청 페인트의 일종입니다. 이러한 페인트는 부식에 노출된 금속을 보호하는 데 특히 유용합니다.6. 내연소성 방청 페인트: 내연소성 방청 페인트는 금속을 연소 또는 산화에 노출된 금속을 보호하기 위해 설계된 방청 페인트의 일종입니다. 이러한 페인트는 금속을 연소 또는 산화에 노출된 환경에서 보호하는 데 특히 유용합니다.7. 내화학 방청 페인트: 내화학 방청 페인트는 금속을 화학 물질에 노출된 금속을 보호하기 위해 설계된 방청 페인트의 일종입니다. 이러한 페인트는 금속을 화학 물질에 노출된 환경에서 보호하는 데 특히 유용합니다.원목 사이딩은 자연 목재로 만들어진 사이딩 재료로, 주택 외벽을 보호하고 단열하는 데 사용됩니다. 원목 사이딩은 다음과 같은 단점이 있습니다:1. 유지 관리: 원목 사이딩은 균열이 생기지 않도록 정기적으로 유지 관리가 필요합니다. 이는 수명이 짧고 손상이 쉽게 발생할 수 있기 때문입니다.2. 노화: 원목 사이딩은 노화하면서 변색되고 부식될 수 있습니다. 이는 사이딩이 빛과 습기에 노출되면서 발생합니다.3. 취약성: 원목 사이딩은 낙하산과 같은 외부 요인에 쉽게 손상될 수 있습니다. 이는 사이딩이 강하지 않기 때문입니다.4. 비용: 원목 사이딩은 비용이 많이 들 수 있습니다. 이는 고품질 원목을 구하고 정기적인 유지 관리를 하는 데 비용이 들기 때문입니다.5. 재활용 가능성: 원목 사이딩은 재활용하기 어렵습니다. 이는 사이딩이 노화하고 손상되면 대체할 수 있는 다른 옵션이 제한적이기 때문입니다.6. 유해 물질: 원목 사이딩은 수지 및 섬유소와 같은 유해 물질을 방출할 수 있습니다. 이는 주변 환경에 해로울 수 있습니다.7. 부식: 원목 사이딩은 부식에 취약합니다. 이는 사이딩이 빛, 습기, 기타 환경 요인에 노출되면서 발생합니다.8. 화재 위험: 원목 사이딩은 화재 위험이 있습니다. 이는 사이딩이 쉽게 연소하고 연소할 수 있기 때문입니다.9. 절단 가능성: 원목 사이딩은 쉽게 절단될 수 있습니다. 이는 사이딩이 강하지 않기 때문입니다.10. 침입 위험: 원목 사이딩은 침입 위험이 있습니다. 이는 사이딩이 쉽게 손상되고 침입 위험이 있기 때문입니다.11. 단열 성능: 원목 사이딩은 단열 성능이 떨어질 수 있습니다. 이는 사이딩이 단열 성능이 떨어지기 때문입니다.12. 수분 흡수: 원목 사이딩은 수분을 흡수할 수 있습니다. 이는 사이딩이 수분을 흡수하면서 발생하는 손상을 방지하기 위해 정기적인 유지 관리가 필요하기 때문입니다.13. 재활용 가능성: 원목 사이딩은 재활용하기 어렵습니다. 이는 사이딩이 노화하고 손상되면 대체할 수 있는 다른 옵션이 제한적이'"
            ],
            "application/vnd.google.colaboratory.intrinsic+json": {
              "type": "string"
            }
          },
          "metadata": {},
          "execution_count": 26
        }
      ]
    },
    {
      "cell_type": "code",
      "source": [
        "generate_response(test['질문'][0],4000)"
      ],
      "metadata": {
        "colab": {
          "base_uri": "https://localhost:8080/",
          "height": 144
        },
        "id": "htmvegDR1f20",
        "outputId": "7fac5cc0-5b02-4a7e-da4a-26fe6db881fc"
      },
      "execution_count": null,
      "outputs": [
        {
          "output_type": "execute_result",
          "data": {
            "text/plain": [
              "'방청 페인트는 습기에 노출되어 있거나 습기가 많은 환경에서 사용하는 것이 일반적인 목재 보호 페인트의 한 종류입니다. 방청 페인트의 일반적인 종류에는 다음이 있습니다:1. 오일 기반 방청 페인트: 이 종류의 방청 페인트는 오일 기반 수지와 방청제가 함유된 것으로, 수분을 방출하고 목재를 보호하는 데 도움이 됩니다. 이 페인트는 풍부한 광택과 긴 지속력으로 인해 외부 목재 표면에 인기가 있습니다.2. 수성 방청 페인트: 수성 방청 페인트는 수성 수지와 방청제를 사용하여 제조됩니다. 이 페인트는 오일 기반 페인트에 비해 건조 시간이 빠르고 쉽게 제거할 수 있어 외부 목재 표면에 인기가 있습니다.3. 하이브리드 방청 페인트: 하이브리드 방청 페인트는 오일 기반 페인트와 수성 페인트의 장점을 결합한 것입니다. 이 페인트는 오일 기반 페인트와 같은 광택과 내구성을 가지고 있지만 수성 페인트처럼 쉽게 제거할 수 있습니다.원목 사이딩을 사용하는 것에는 다음과 같은 단점이 있습니다:1. 유지보수 요구 사항: 원목 사이딩은 자연 방식으로 노출되는 것으로, 곰팡이 및 부식으로 인해 손상을 입을 수 있습니다. 따라서 원목 사이딩을 유지하려면 빈번한 깨끗이 씻기와 방청 페인트 또는 스타인 코팅 적용이 필요합니다.2. 수명 단축: 원목 사이딩은 노출된 목재이기 때문에 부식, 흡습, 흡습에 취약합니다. 이로 인해 원목 사이딩의 수명이 단축될 수 있습니다.3. 재료 비용: 원목 사이딩은 다른 재료에 비해 비용이 높을 수 있습니다. 원목 사이딩을 구하고 설치하는 데 드는 비용 외에도 유지 및 보수에 추가 비용이 발생할 수 있습니다.4. 개인 취향에 따른 제한: 원목 사이딩은 일반적으로 벽면에 자연 상태의 목재를 사용하기 때문에 색상 및 외관 옵션이 제한될 수 있습니다. 원하는 색상을 얻으려면 추가 스타인 또는 페인트 코팅이 필요할 수 있습니다.전반적으로 방청 페인트는 습기 및 부식으로부터 목재를 보호하는 데 도움이 되는 반면, 원목 사이딩은 유지 및 보수가 필요하고 비용이 높을 수 있습니다. 원하는 외관과 환경 요구 사항에 따라 원목 사이딩과 방청 페인트 중 하나를 선택하는 것이 중요합니다.</s>'"
            ],
            "application/vnd.google.colaboratory.intrinsic+json": {
              "type": "string"
            }
          },
          "metadata": {},
          "execution_count": 25
        }
      ]
    },
    {
      "cell_type": "code",
      "source": [
        "generate_response(test['질문'][0],2000)"
      ],
      "metadata": {
        "colab": {
          "base_uri": "https://localhost:8080/",
          "height": 162
        },
        "id": "m_xFTYYV4bsh",
        "outputId": "879b992b-2cd8-42e0-8a2c-031cbc67b4ba"
      },
      "execution_count": null,
      "outputs": [
        {
          "output_type": "execute_result",
          "data": {
            "text/plain": [
              "'방청 페인트의 주요 유형은 방청 코팅, 방청 코팅, 방청 코팅 등 3가지가 있습니다. 각 유형의 특징은 다음과 같습니다:1. 방청 코팅: 이 유형의 방청 페인트는 철제 표면에 직접 적용하여 부식을 방지하는 데 사용됩니다. 주로 산화 방지 기능이 있는 아연 기반 페인트로 제조됩니다. 이 페인트는 강철 및 알루미늄과 같은 다양한 철제 재료에 적용할 수 있습니다.2. 방청 코팅: 이 유형의 방청 페인트는 주로 방수 및 방청 기능을 결합한 다목적 코팅입니다. 주로 철제 표면에 직접 적용하여 부식을 방지하고 물이나 습기가 표면에 침투하는 것을 방지합니다. 이 페인트는 강철 및 알루미늄과 같은 다양한 철제 재료에 적용할 수 있습니다.3. 방청 코팅: 이 유형의 방청 페인트는 주로 철제 표면에 직접 적용하여 부식을 방지하는 데 사용되는 방청 코팅의 하위 유형입니다. 주로 철제 표면에 직접 적용하여 부식을 방지하는 데 사용됩니다. 이 페인트는 강철 및 알루미늄과 같은 다양한 철제 재료에 적용할 수 있습니다.원목 사이딩을 사용하면 다양한 장점이 있습니다. 하지만 단점도 있습니다. 원목 사이딩의 단점은 다음과 같습니다:1. 유지 관리: 원목 사이딩은 기온 변화, 햇빛, 비 등 자연 요인으로 인해 변색이나 흐름이 발생할 수 있으므로 정기적인 유지 관리가 필요합니다.2. 부식: 원목 사이딩은 습기와 충격에 노출되면 부식될 수 있습니다. 따라서 특히 강우량이 많은 지역에서는 사이딩 시스템을 유지하고 보수하는 것이 중요합니다.3. 비용: 원목 사이딩은 다른 재료에 비해 비용이 높을 수 있습니다. 또한 유지 관리 및 보수 비용도 고려해야 합니다.4. 재활용 가능성: 원목 사이딩은 재활용이 어려워 일반적으로 쓰레기로 처리됩니다. 이는 환경에 부정적인 영향을 미칠 수 있습니다.5. 수명: 원목 사이딩은 다른 재료에 비해 수명이 짧을 수 있습니다. 특히 철근 콘크리트나 플라스틱과 같은 재료에 비해 수명이 짧을 수 있습니다.6. 재료 선택: 원목 사이딩은 다양한 종류가 있지만, 각 종류마다 특정 환경에서의 수명, 내구성, 외관 등 다양한 특성이 있습니다. 따라서 적합한 재료를 선택하는 것이 중요합니다.7. 화재 위험: 원목 사이딩은 화재 위험이 높을 수 있으므로 화재 안전성이 우선인 지역에서는 고려해야 합니다.8. 개인적 취향: 마지막으로, 원목 사이딩은 개인적인 취향에 따라 다양한 느낌을 줄 수 있지만, 일부 개인은 다른 재료에 비해 원목 사이딩이 더 많은 유지 관리가 필요하다고 생각할 수 있습니다.'"
            ],
            "application/vnd.google.colaboratory.intrinsic+json": {
              "type": "string"
            }
          },
          "metadata": {},
          "execution_count": 30
        }
      ]
    },
    {
      "cell_type": "code",
      "source": [
        "generate_response(test['질문'][0],1000)"
      ],
      "metadata": {
        "colab": {
          "base_uri": "https://localhost:8080/",
          "height": 54
        },
        "id": "KMvbsAIx4ps6",
        "outputId": "c0cf390e-60c3-4b0e-ed5f-fab241c6e6c1"
      },
      "execution_count": null,
      "outputs": [
        {
          "output_type": "execute_result",
          "data": {
            "text/plain": [
              "'방청 페인트의 종류에는 철분이 함유된 화합물로부터 철과 철 합금을 보호하는 방청 페인트, 철분 없이 철과 철 합금을 보호하는 방청 페인트, 철분 없이 철과 철 합금을 보호하는 방청 페인트 등 다양한 종류가 있습니다. 원목사이딩을 사용하는 단점은 비, 바람, 태양에 노출되어 손상을 입을 수 있다는 점입니다. 또한 보수 작업이 필요하고 일부 종류는 살모시나 곰팡이에 취약할 수 있습니다.'"
            ],
            "application/vnd.google.colaboratory.intrinsic+json": {
              "type": "string"
            }
          },
          "metadata": {},
          "execution_count": 31
        }
      ]
    },
    {
      "cell_type": "markdown",
      "source": [
        "# 추론 및 답변 저장"
      ],
      "metadata": {
        "id": "pz-T0JNbJcXm"
      }
    },
    {
      "cell_type": "code",
      "source": [
        "def generate_response(user_request, max_len=1000):\n",
        "    conversation = [ {'role': 'user', 'content': user_request} ]\n",
        "\n",
        "    prompt = tokenizer.apply_chat_template(conversation, tokenize=False, add_generation_prompt=True)\n",
        "    inputs = tokenizer(prompt, return_tensors=\"pt\").to(model.device)\n",
        "\n",
        "    outputs = model.generate(**inputs,\n",
        "                             use_cache=True,\n",
        "                             max_length=max_len,\n",
        "                            num_return_sequences=1,\n",
        "                            do_sample=True,\n",
        "                            temperature=0.87,\n",
        "                            top_k=27,\n",
        "                            top_p=0.7\n",
        "                             )\n",
        "    output_text = tokenizer.decode(outputs[0])\n",
        "    output_text = output_text.split(\"### Assistant:\")[1].strip()\n",
        "    output_text = output_text.replace('\\n','').replace('</s>','')\n",
        "\n",
        "    return output_text"
      ],
      "metadata": {
        "id": "Y8iCqHkiJwMn"
      },
      "execution_count": null,
      "outputs": []
    },
    {
      "cell_type": "code",
      "source": [
        "generate_response(test['질문'][0],1000)"
      ],
      "metadata": {
        "colab": {
          "base_uri": "https://localhost:8080/",
          "height": 108
        },
        "id": "mF1tEDM7JewK",
        "outputId": "2d29192b-6d3f-41b5-87a4-94eec5ed22af"
      },
      "execution_count": null,
      "outputs": [
        {
          "output_type": "execute_result",
          "data": {
            "text/plain": [
              "'방청 페인트는 방청 성분이 포함된 특수 페인트의 일종으로, 부식을 방지하고 금속 표면을 보호하는 데 사용됩니다. 방청 페인트의 일반적인 종류에는 다음이 있습니다:1. 방청 에폭시 페인트: 방청 성분과 에폭시 수지가 함유된 페인트로, 우수한 부식 방지 및 보호 특성을 제공합니다.2. 방청 아크릴 페인트: 방청 성분과 아크릴 수지가 함유된 페인트로, 내부 및 외부 금속 표면에 적합합니다.3. 방청 우레탄 페인트: 방청 성분과 우레탄 수지가 함유된 페인트로, 내부 및 외부 금속 표면에 적합합니다.4. 방청 알킬 페인트: 방청 성분과 알킬 수지가 함유된 페인트로, 특히 알루미늄 및 구리 표면에 적합합니다.원목 사이딩은 자연재로 만들어져 고급스러운 외관을 제공하는 것으로 알려져 있지만, 일부 단점이 있습니다:1. 유지 관리: 원목 사이딩은 보호 코팅이 필요하며 시간이 지남에 따라 갈라지고 변색될 수 있습니다. 따라서 시간이 지남에 따라 유지 관리가 필요합니다.2. 손상 취약성: 원목 사이딩은 손상에 취약하며 부식, 착상 및 곤충 침입에 취약합니다.3. 비용: 원목 사이딩은 다른 재료에 비해 비용이 많이 들 수 있으며, 특히 고급 재료를 사용하는 경우 더욱 비용이 많이 들 수 있습니다.4. 재활용성: 원목 사이딩은 다른 재료에 비해 재활용 가능성이 낮을 수 있습니다.요점은 원목 사이딩의 단점을 극복하기 위해 방청 페인트를 사용하면 방청 성분이 금속 표면을 보호하고 부식을 방지하는 데 도움이 될 수 있다는 점입니다.'"
            ],
            "application/vnd.google.colaboratory.intrinsic+json": {
              "type": "string"
            }
          },
          "metadata": {},
          "execution_count": 52
        }
      ]
    },
    {
      "cell_type": "code",
      "source": [
        "generate_response(test['질문'][0],400)"
      ],
      "metadata": {
        "colab": {
          "base_uri": "https://localhost:8080/",
          "height": 54
        },
        "id": "s_BX87k5KyFo",
        "outputId": "69991418-59ac-455a-e5fb-67f1d2399f84"
      },
      "execution_count": null,
      "outputs": [
        {
          "output_type": "execute_result",
          "data": {
            "text/plain": [
              "'방청 페인트는 다양한 종류가 있으며, 그 중 일부는 다음과 같습니다:1. 방청 방지 페인트: 철제 구조물과 같은 금속 표면을 부식과 찌그러짐으로부터 보호하기 위해 설계된 페인트입니다.2. 방청 방지 코팅: 철, 알루미늄 등 금속 표면을 보호하는 데 사용되는 코팅입니다.3. 방청 코팅: 철과 같은 금속 표면을 보호하기 위해 사용되는 코팅입니다.4. 방청 방지 시스템: 금속 표면을 보호하는 데 사용되는 방청 코팅과 함께 사용되는 시스템입니다.원목 사이딩을 사용하면 다음과 같은 단점이 있을 수 있습니다:1. 유지보수: 원목 사이딩은'"
            ],
            "application/vnd.google.colaboratory.intrinsic+json": {
              "type": "string"
            }
          },
          "metadata": {},
          "execution_count": 62
        }
      ]
    },
    {
      "cell_type": "code",
      "source": [
        "generate_response(test['질문'][0],800)"
      ],
      "metadata": {
        "colab": {
          "base_uri": "https://localhost:8080/",
          "height": 72
        },
        "id": "AZDQgOL-Kx9_",
        "outputId": "670cdb6c-e303-4b16-8754-85f02d33d720"
      },
      "execution_count": null,
      "outputs": [
        {
          "output_type": "execute_result",
          "data": {
            "text/plain": [
              "'방청 페인트는 방청 페인트, 방청 코팅, 방청 보호제 등 다양한 종류가 있습니다. 각 종류의 방청 페인트는 다양한 환경에서 방청 성능을 유지하는 데 도움이 되는 특수 화학 성분을 포함하고 있습니다. 예를 들어, 방청 페인트는 철 기반 표면에 적용되는 반면, 방청 코팅은 알루미늄 및 다른 금속 기반 표면에 적용됩니다.원목 사이딩을 사용하는 단점은 다음과 같습니다:1. 유지 관리: 원목 사이딩은 깨끗하고 보호되도록 규칙적으로 깨끗이 하고 보호제를 도포해야 합니다.2. 손상 및 손상: 원목 사이딩은 바람, 비, 태양에 노출되면 휨, 휨, 골 형성 등 손상을 쉽게 입을 수 있습니다.3. 재료 비용: 원목 사이딩은 다른 사이딩 재료보다 비용이 많이 들 수 있습니다.4. 내화성: 원목 사이딩은 다른 재료에 비해 내화성이 떨어질 수 있습니다.5. 수명: 원목 사이딩은 유지 관리가 부족하거나 외부 환경에 노출되면 수명이 짧을 수 있습니다.'"
            ],
            "application/vnd.google.colaboratory.intrinsic+json": {
              "type": "string"
            }
          },
          "metadata": {},
          "execution_count": 63
        }
      ]
    },
    {
      "cell_type": "code",
      "source": [
        "train_ft = pd.read_csv(f'{data_path}train_80000_rule_based.csv')\n",
        "train_ft\n",
        "\n",
        "train_ft['answer'].str.len().max()"
      ],
      "metadata": {
        "colab": {
          "base_uri": "https://localhost:8080/"
        },
        "id": "GHUM91bhLOvA",
        "outputId": "389a30cf-27ad-4c2e-d86c-0a1024b0fb1f"
      },
      "execution_count": null,
      "outputs": [
        {
          "output_type": "execute_result",
          "data": {
            "text/plain": [
              "1851"
            ]
          },
          "metadata": {},
          "execution_count": 65
        }
      ]
    },
    {
      "cell_type": "code",
      "source": [
        "reset_seeds(SEED)\n",
        "\n",
        "test_answers= []\n",
        "for i in tqdm(range(len(test))):\n",
        "    answer = generate_response(test['질문'][i],1000)\n",
        "    print(answer)\n",
        "    test_answers.append(answer)\n",
        "\n",
        "test_answers"
      ],
      "metadata": {
        "colab": {
          "base_uri": "https://localhost:8080/"
        },
        "id": "uQVbM4TKJ6zI",
        "outputId": "ca8a780d-a832-4346-8a22-9aceaa9b8ad4"
      },
      "execution_count": null,
      "outputs": [
        {
          "output_type": "stream",
          "name": "stderr",
          "text": [
            "  1%|          | 1/130 [02:16<4:53:06, 136.33s/it]"
          ]
        },
        {
          "output_type": "stream",
          "name": "stdout",
          "text": [
            "방청 페인트는 기름, 식품, 화학물질 등 다양한 유형의 염증 유발 물질에 저항하도록 설계된 페인트의 일종입니다. 방청 페인트는 주로 산화 방지제, 안료, 바인더 및 용매로 구성됩니다. 방청 페인트의 일반적인 유형은 다음과 같습니다:1. 방청 에폭시 페인트: 산화 방지제와 안료를 포함하여 고무, 섬유 및 섬유 기반 물질에 적용하여 방청 및 방청 기능을 제공합니다.2. 방청 알킬 페인트: 산화 방지제, 안료 및 바인더로 구성되며 고무, 섬유 및 섬유 기반 물질에 적용하여 방청 및 방청 기능을 제공합니다.3. 방청 아크릴 페인트: 산화 방지제, 안료 및 바인더로 구성되며 고무, 섬유 및 섬유 기반 물질에 적용하여 방청 및 방청 기능을 제공합니다.4. 방청 셀룰로오스 페인트: 산화 방지제, 안료 및 바인더로 구성되며 고무, 섬유 및 섬유 기반 물질에 적용하여 방청 및 방청 기능을 제공합니다.5. 방청 우레탄 페인트: 산화 방지제, 안료 및 바인더로 구성되며 고무, 섬유 및 섬유 기반 물질에 적용하여 방청 및 방청 기능을 제공합니다.원목사이딩은 숲에서 직접 얻은 원목을 사용하여 외벽을 덮는 것을 말합니다. 원목사이딩을 사용하는 것에는 몇 가지 단점이 있습니다:1. 유지보수: 원목사이딩은 빛, 습기 및 기타 외부 요인으로 인해 손상될 수 있습니다. 따라서 원목사이딩은 일반적으로 빛과 습기에 저항하는 페인트나 스틸로 코팅해야 합니다.2. 재료 비용: 원목사이딩은 일반적으로 다른 재료보다 비싸다. 특히 고급 원목 사이딩은 더 비싸다.3. 환경적 영향: 원목사이딩을 위해 나무를 베어 내면 환경에 부정적인 영향을 미칠 수 있습니다. 특히 깊은 숲이나 보호 수역에서 나무를 베어 내면 생태계에 영향을 미\n"
          ]
        },
        {
          "output_type": "stream",
          "name": "stderr",
          "text": [
            "\r  2%|▏         | 2/130 [04:35<4:54:20, 137.97s/it]"
          ]
        },
        {
          "output_type": "stream",
          "name": "stdout",
          "text": [
            "도배지에 녹은 자국이 발생하는 주된 원인은 물, 습기 또는 수분에 노출되는 것입니다. 도배지는 일반적으로 물과 습기에 취약하므로 이러한 환경에 노출되면 부분적으로 녹아 녹은 자국이 생길 수 있습니다.이러한 문제를 해결하려면 녹은 자국이 발생한 부분을 건조하거나 제거하는 것부터 시작할 수 있습니다. 건조 과정에는 도배지를 흡수하는 건조 천을 사용하거나 냉방기 또는 선풍기를 사용하여 공기를 조정하는 것이 포함될 수 있습니다. 녹은 자국이 심하거나 제거하기 어려운 경우 도배지 전체를 제거하고 새로운 도배지를 설치하는 것이 필요할 수 있습니다.이러한 문제를 예방하려면 도배지가 물, 습기 또는 수분에 노출되지 않도록 하는 것이 중요합니다. 샤워 또는 욕조 주변에 도배지를 설치하는 경우 욕실용 도배지를 사용하고 덮개나 실링을 사용하여 샤워실 벽과 욕조 사이의 접합부를 밀봉하는 것이 좋습니다. 또한 창문과 문 주변에 도배지를 설치할 때는 덮개를 사용하여 물이 벽으로 유입되는 것을 방지하는 것이 좋습니다.또한 도배지 주변에 물이 녹아 들어가는 것을 방지하기 위해 덮개를 사용하는 것도 중요합니다. 이렇게 하면 도배지가 물과 습기에 노출되는 것을 방지하고 녹은 자국의 위험을 줄일 수 있습니다.마지막으로 도배지가 물과 습기에 노출되는 것을 방지하기 위해 건조 환경을 유지하는 것이 중요합니다. 이를 위해 환기 시스템을 설치하고 공기 중 습도를 감시하는 것이 좋습니다. 또한 물과 습기가 벽으로 유입되는 것을 방지하기 위해 배수 시스템을 유지하고 수리하는 것이 중요합니다.요약하면, 도배지에 녹은 자국이 발생하는 주된 원인은 물, 습기 또는 수분에 노출되는 것입니다. 이러한 문제를 해결하려면 녹은 자국을 건조하거나 제거하고, 도배지가 물, 습기 또는 수분에 노출되지 않도록 하고,\n"
          ]
        },
        {
          "output_type": "stream",
          "name": "stderr",
          "text": [
            "\r  2%|▏         | 3/130 [05:44<3:45:33, 106.56s/it]"
          ]
        },
        {
          "output_type": "stream",
          "name": "stdout",
          "text": [
            "큐블럭은 단열재로 사용하는 데 몇 가지 단점이 있습니다:1. 큐블럭은 습기에 취약하여 습기가 많은 환경에서 악취나 부패를 일으킬 수 있습니다.2. 큐블럭은 밀도가 낮아 낮은 단열 성능을 제공합니다.3. 큐블럭은 공기 주입이 어려워 공기 주입이 잘 되지 않으면 단열 성능이 떨어질 수 있습니다.4. 큐블럭은 수명이 짧아 몇 년 후에 교체해야 할 수 있습니다.압출법 단열판을 사용하는 장점은 다음과 같습니다:1. 압출법 단열판은 수분에 강하여 습기가 많은 환경에서도 안전하게 사용할 수 있습니다.2. 압출법 단열판은 높은 밀도를 가지고 있어 우수한 단열 성능을 제공합니다.3. 압출법 단열판은 공기 주입이 용이하여 공기 주입이 잘 되면 단열 성능이 향상됩니다.4. 압출법 단열판은 수명이 길어 몇 년 동안 사용할 수 있습니다.\n"
          ]
        },
        {
          "output_type": "stream",
          "name": "stderr",
          "text": [
            "\r  3%|▎         | 4/130 [07:59<4:07:28, 117.85s/it]"
          ]
        },
        {
          "output_type": "stream",
          "name": "stdout",
          "text": [
            "철골 구조를 사용하는 고층 건물에서 단열 효과를 높이기 위한 시공 방법은 다음과 같습니다:1. 고밀도 단열재 사용: 건물의 외벽과 지붕에 고밀도 단열재를 사용하면 단열 효과를 높일 수 있습니다. 고밀도 단열재는 공기 층을 통해 열 전달을 줄이는 데 도움이 되므로 건물의 온도를 더 잘 유지할 수 있습니다.2. 공기 층 제공: 건물의 외벽과 지붕에 공기 층을 만들면 단열 효과를 높일 수 있습니다. 공기 층은 공기 층을 통해 열 전달을 줄이는 데 도움이 되므로 건물의 온도를 더 잘 유지할 수 있습니다.3. 덕트 테이프 사용: 건물의 외벽과 지붕에 덕트 테이프를 사용하면 단열 효과를 높일 수 있습니다. 덕트 테이프는 건물의 외벽과 지붕에 빈 공간이 생기지 않도록 하는 데 도움이 되므로 건물의 온도를 더 잘 유지할 수 있습니다.4. 창문 및 문 밀폐 시키기: 건물의 창문과 문을 밀폐하면 단열 효과를 높일 수 있습니다. 창문과 문은 건물 내부와 외부의 온도 차이를 줄이는 데 도움이 되므로 건물의 온도를 더 잘 유지할 수 있습니다.5. 온도 조절 시스템 사용: 건물의 온도를 조절하는 데 도움이 되는 온도 조절 시스템을 사용하면 단열 효과를 높일 수 있습니다. 온도 조절 시스템은 건물 내부의 온도를 더 잘 유지하는 데 도움이 되므로 건물의 온도를 더 잘 유지할 수 있습니다.6. 단열재 검사: 건물의 단열재를 정기적으로 검사하면 단열 효과를 높일 수 있습니다. 단열재를 검사하면 단열재가 손상되거나 손상되지 않았는지 확인할 수 있으므로 건물의 온도를 더 잘 유지할 수 있습니다.7. 통풍구 설치: 건물의 통풍구를 설치하면 단열 효과를 높일 수 있습니다. 통풍구는 건물 내\n"
          ]
        },
        {
          "output_type": "stream",
          "name": "stderr",
          "text": [
            "\r  4%|▍         | 5/130 [08:49<3:14:34, 93.40s/it] "
          ]
        },
        {
          "output_type": "stream",
          "name": "stdout",
          "text": [
            "도배지의 완전한 건조는 다양한 요인에 따라 달라질 수 있습니다. 건조 속도는 도배지의 종류, 두께, 온도, 습도, 환기 등에 따라 달라집니다. 일반적으로 도배지가 완전히 건조되기까지 최소 24시간이 소요됩니다. 그러나 완전한 건조를 위해 더 많은 시간이 소요될 수도 있습니다. 예를 들어, 더 두꺼운 도배지는 더 많은 시간이 필요할 수 있고, 더 높은 습도 또는 더 낮은 온도의 환경에서는 건조 속도가 느려질 수 있습니다. 도배지가 완전히 건조되었는지 확인하려면 도배지를 잡아당겨 부드러운 텅 빈 소리가 나는지 확인하세요. 이는 도배지가 완전히 건조되었음을 나타냅니다.\n"
          ]
        },
        {
          "output_type": "stream",
          "name": "stderr",
          "text": [
            "\r  5%|▍         | 6/130 [11:07<3:44:00, 108.39s/it]"
          ]
        },
        {
          "output_type": "stream",
          "name": "stdout",
          "text": [
            "철근철골콘크리트(RC) 구조는 철근과 콘크리트의 강점을 결합하여 건축 구조물을 만드는 기술입니다. 이 구조는 건물 설계에 널리 사용되며 다양한 장점과 단점을 가지고 있습니다. 장점과 단점은 다음과 같습니다:장점:1. 강도: 철근철골콘크리트는 철근의 강도와 콘크리트의 강도를 결합하여 강도가 높은 구조물을 만들 수 있습니다.2. 내구성: 철근철골콘크리트 구조는 내구성이 뛰어나 오랜 기간 동안 사용할 수 있습니다.3. 내화성: 콘크리트는 불에 잘 타지 않고 내화성이 뛰어나 건물의 화재 방지에 도움이 됩니다.4. 내구성: 철근철골콘크리트 구조는 지진, 풍해, 폭풍에 강하여 자연재해에 강하게 견디는 데 도움이 됩니다.5. 가격: 철근철골콘크리트 구조는 철근과 콘크리트가 다른 건축 재료에 비해 비용이 저렴하기 때문에 비용 효율적입니다.단점:1. 무게: 철근철골콘크리트 구조는 철근과 콘크리트의 무게 때문에 무거울 수 있습니다. 건물의 지지 구조가 이러한 무게를 지탱할 수 있는지 확인하는 것이 중요합니다.2. 수리 및 개선: 철근철골콘크리트 구조는 수리하기 어렵고 개선하기 어렵습니다. 수리가 필요한 경우 많은 비용과 시간이 소요될 수 있습니다.3. 절연성: 철근철골콘크리트 구조는 열이나 소음을 차단하는 데 적합하지 않을 수 있습니다. 따라서 추가 단열 또는 절연 솔루션이 필요할 수 있습니다.4. 디자인 제한: 철근철골콘크리트 구조는 디자인 유연성이 제한되어 있을 수 있습니다. 예를 들어 큰 창문이나 넓은 공간을 만들기 어려울 수 있습니다.5. 유지 관리: 철근철골콘크리트 구조는 유지 관리가 필요할 수 있\n"
          ]
        },
        {
          "output_type": "stream",
          "name": "stderr",
          "text": [
            "\r  5%|▌         | 7/130 [12:28<3:24:16, 99.65s/it] "
          ]
        },
        {
          "output_type": "stream",
          "name": "stdout",
          "text": [
            "개별 공간은 주로 개인 공간이 필요한 경우에 더 적합합니다. 예를 들어, 가족이 여러 명이거나 사무실 공간에 여러 사람이 있는 경우 개별 공간은 각 사람이 개인 공간을 가질 수 있도록 합니다. 개별 공간은 또한 개인 공간이 필요한 경우에도 적합합니다. 예를 들어, 작업이나 공부를 할 때 개인 공간이 필요합니다.오픈 플랜 공간은 대화나 협업이 필요한 경우에 더 적합합니다. 예를 들어, 가족이 함께 시간을 보내고 싶거나 사무실 공간에 여러 사람이 함께 일하고 있는 경우 오픈 플랜 공간은 대화와 협업을 촉진하는 데 도움이 됩니다. 또한 오픈 플랜 공간은 공간을 효율적으로 사용하고 많은 사람이 함께 있을 때 사용 가능한 공간을 늘리는 데 도움이 됩니다.합지벽지는 공간을 분리하고 소음을 줄이는 데 도움이 되지만, 소음 차단 능력이 제한적일 수 있습니다. 또한 합지벽지는 공간을 단조롭게 만들 수 있으며 일부 경우에는 공간 사이의 통로를 막을 수도 있습니다. 합지벽지는 또한 공간을 좁아 보이게 할 수 있습니다.\n"
          ]
        },
        {
          "output_type": "stream",
          "name": "stderr",
          "text": [
            "\r  6%|▌         | 8/130 [13:03<2:40:43, 79.04s/it]"
          ]
        },
        {
          "output_type": "stream",
          "name": "stdout",
          "text": [
            "도배지 들뜸 현상은 도배지가 부착된 표면이 균일하게 평평하지 않거나 표면이 거칠거나 거친 경우 발생할 수 있습니다. 또한 표면에 오염물이나 기름이 있거나 표면이 축축한 경우에도 발생할 수 있습니다. 도배지를 부착하기 전에 표면을 청소하고 건조시키는 것이 중요합니다. 또한 도배지를 부착하기 전에 표면에 물을 부어 주면 표면이 부드럽고 평평해져 도배지가 잘 부착되도록 할 수 있습니다.\n"
          ]
        },
        {
          "output_type": "stream",
          "name": "stderr",
          "text": [
            "\r  7%|▋         | 9/130 [15:21<3:16:33, 97.46s/it]"
          ]
        },
        {
          "output_type": "stream",
          "name": "stdout",
          "text": [
            "도배지에 얼룩이 생기는 원인은 다양합니다. 다음은 가장 흔한 원인 몇 가지입니다:1. 습기: 습기는 도배지에 얼룩이 생기는 주요 원인 중 하나입니다. 축축한 환경에서는 곰팡이가 번식하기 때문에 습기를 제거하는 것이 중요합니다. 환기를 유지하고 빗자루를 사용하여 도배지를 깨끗하게 유지하는 것이 도움이 될 수 있습니다.2. 곰팡이: 곰팡이는 습기가 많은 환경에서 번식하며 도배지에 얼룩이 생기는 원인이 될 수 있습니다. 곰팡이 성장을 막으려면 습기를 제거하고 곰팡이 제거제를 사용하는 것이 도움이 될 수 있습니다.3. 수분 스팀: 수분 스팀은 습기가 많은 환경에서 도배지에 얼룩이 생기는 또 다른 원인입니다. 수분 스팀은 공기 중에 있는 수분이 응결되어 도배지에 얼룩이 생기는 현상입니다. 이를 방지하려면 도배지 주위의 온도와 습도를 조절하는 것이 도움이 될 수 있습니다.4. 화학 반응: 화학 반응은 도배지에 얼룩이 생기는 원인이 될 수 있습니다. 도배지 페인트가 충분히 건조되지 않았거나 다른 화학 물질과 접촉하면 얼룩이 생길 수 있습니다. 도배지 페인트가 건조되도록 하고 화학 물질을 도배지에 끼우지 않도록 하는 것이 중요합니다.5. 자외선: 자외선은 도배지에 얼룩이 생기는 원인이 될 수 있습니다. 특히 햇빛이 많이 드는 방에서 자외선은 도배지 페인트의 색상을 변화시키고 얼룩이 생길 수 있습니다. 블라인드나 커튼을 사용하여 도배지를 햇빛으로부터 보호하는 것이 도움이 될 수 있습니다.6. 공기 중 오염: 공기 중 오염은 도배지에 얼룩이 생기는 원인이 될 수 있습니다. 특히 공기 중 오염이 많은 환경에서는 도배지에 얼룩이 생길 수 있습니\n"
          ]
        },
        {
          "output_type": "stream",
          "name": "stderr",
          "text": [
            "\r  8%|▊         | 10/130 [17:38<3:39:20, 109.67s/it]"
          ]
        },
        {
          "output_type": "stream",
          "name": "stdout",
          "text": [
            "철골구조는 건축물을 지을 때 주로 선택되는 구조 시스템입니다. 철골구조가 고층 건물 건설에 선호되는 주요 이유는 다음과 같습니다:1. 강력한 지진 저항성: 철골구조는 철근 콘크리트 구조보다 강도와 강성이 뛰어나 지진 저항성이 우수합니다. 이는 지진이 빈번하게 발생하는 지역에서 특히 중요합니다.2. 신속한 시공: 철골구조는 일반적으로 철근 콘크리트 구조보다 시공이 빠르기 때문에 시공 기간이 짧습니다. 이는 건축 프로젝트의 비용과 완공 시간을 줄일 수 있습니다.3. 내재적 내화성: 철골구조는 철근 콘크리트 구조보다 내화성이 뛰어나 화재 시 건물의 손상을 최소화하는 데 도움이 됩니다.4. 대규모 공간 생성: 철골구조는 열린 공간을 만들기에 적합하여 큰 공간을 생성하는 데 더 유용합니다. 이는 많은 상업용 및 주거용 건물에 필수적입니다.5. 유연성: 철골구조는 철근 콘크리트 구조보다 변형이 가능하므로 건물의 설계와 배치를 더 유연하게 조정할 수 있습니다.6. 내재적 내구성: 철골구조는 철근 콘크리트 구조보다 내구성이 뛰어나 건물의 수명을 연장할 수 있습니다.7. 에너지 효율성: 철골구조는 철근 콘크리트 구조보다 열 절연 성능이 뛰어나 에너지 절약에 도움이 됩니다.8. 재활용 가능성: 철골구조는 철근 콘크리트 구조보다 재활용이 더 쉬워 환경 친화적이고 지속 가능한 건축 옵션입니다.9. 미적 가치: 철골구조는 건물의 미적 가치를 높이는 데 도움이 되는 독특한 아치형 구조와 유연한 형태를 만들 수 있습니다.10. 경제성: 철골구조는 철근 콘크리트 구조보다 시공 비용이 낮아 건물의 전체 비용을 줄일 수 있습니다\n"
          ]
        },
        {
          "output_type": "stream",
          "name": "stderr",
          "text": [
            "\r  8%|▊         | 11/130 [19:58<3:55:42, 118.84s/it]"
          ]
        },
        {
          "output_type": "stream",
          "name": "stdout",
          "text": [
            "유성페인트는 잉크, 페인트, 코팅, 염료, 잉크 등 다양한 제품에 사용되는 유기 화합물입니다. 이러한 제품을 생산하고 사용하는 데 있어 환경 오염이 발생할 수 있습니다. 다음은 유성페인트가 환경에 미치는 영향의 몇 가지 예입니다:1. 수질 오염: 페인트 제조 과정에서 생성된 잔류물은 폐수 시스템을 통해 배출되어 수질 오염을 유발할 수 있습니다. 일부 유성 페인트에는 수생 생물에 해로운 유기 용매와 중금속이 포함될 수 있습니다.2. 대기 오염: 유성페인트 제조 과정에서 방출되는 화학 물질은 대기 오염을 일으킬 수 있습니다. 특히 휘발성 유기 화합물(VOCs)은 대기 오염을 야기하고 산성비와 스모그의 형성에 기여합니다.3. 토양 오염: 유성페인트 제품이 유출되거나 폐기될 때 토양에 오염을 일으킬 수 있습니다. 유성페인트 화합물은 토양 생물과 수생 생물에 해로울 수 있으며 식물 성장을 억제할 수 있습니다.4. 잔류물 오염: 유성페인트 제품이 제거되지 않고 폐기될 때 잔류물이 생길 수 있습니다. 잔류물은 수질 오염, 토양 오염, 생태계 파괴를 일으킬 수 있습니다.5. 인체 건강 위험: 유성페인트는 건강 위험을 야기할 수 있는 화학 물질을 포함하고 있습니다. 예를 들어, 벤젠, 톨루엔, 크실레닐은 암과 연관된 유기 용매입니다. 또한 납, 크롬, 비소 등 중금속은 유해한 수준에서 노출될 경우 건강 문제를 유발할 수 있습니다.유성페인트의 환경 오염을 줄이기 위해 제조업체는 잔류물 감소를 위해 친환경 제품을 개발하고, 대기 및 수질 오염을 줄이기 위해 화학 물질 사용을 최소화하며, 폐기물을 적절하게 처리하는 등 환경 친화적인 관행을 구현하고 있습니다. 또한 소비자는 친환경 페인트 제품을 선택하고 제품을 적절히 사용하고 폐기하\n"
          ]
        },
        {
          "output_type": "stream",
          "name": "stderr",
          "text": [
            "\r  9%|▉         | 12/130 [21:19<3:31:14, 107.41s/it]"
          ]
        },
        {
          "output_type": "stream",
          "name": "stdout",
          "text": [
            "훼손과 오염은 두 가지 서로 다른 개념입니다. 훼손은 특정 물건이나 자산의 품질이나 성능을 저하시키는 것을 말합니다. 반면에 오염은 주변 환경이나 자산을 손상시키는 것을 의미합니다.예를 들어, 벽에 손톱으로 긁어 벽지를 훼손하면 벽지의 외관이나 기능이 손상될 수 있습니다. 그러나 벽에 물이 새어 벽지를 젖게 하면 벽지의 품질에는 영향을 미치지 않지만 주변 환경이 오염되었습니다.부실 시공으로 인해 타공하자가 발생할 수 있습니다. 타공하자는 건물 내부의 공기가 외부로 유출되거나 외부의 공기가 건물 내부로 유입되는 것을 말합니다. 이는 건물 내부의 온도, 습도 및 기타 환경 요인을 조절하는 데 어려움을 초래할 수 있습니다.예를 들어, 건물 외벽이 잘 밀봉되지 않거나 절연이 부실하면 빌딩 내부의 공기가 외부로 유출되거나 외부의 공기가 건물 내부로 유입될 수 있습니다. 이는 온도 및 습도 제어 문제를 초래할 수 있으며, 결국 건물 내부 환경에 부정적인 영향을 미칠 수 있습니다.\n"
          ]
        },
        {
          "output_type": "stream",
          "name": "stderr",
          "text": [
            "\r 10%|█         | 13/130 [21:59<2:49:25, 86.88s/it] "
          ]
        },
        {
          "output_type": "stream",
          "name": "stdout",
          "text": [
            "철골 콘크리트 구조에서 사용되는 철근은 주로 강철로 만들어지며 고강도 강 바와 연철 바 두 가지 유형으로 분류할 수 있습니다. 강철 바는 강도가 높고 부식에 강하며 맥스웰 응력을 높이는 데 사용됩니다. 연강 바는 강도가 낮지만 더 많은 신축이 가능하여 콘크리트의 응력을 더 효과적으로 분산시킬 수 있습니다. 또한 철근은 콘크리트와 강도를 향상시키기 위해 콘크리트 혼합물에 첨가되는 철근도 있습니다.\n"
          ]
        },
        {
          "output_type": "stream",
          "name": "stderr",
          "text": [
            "\r 11%|█         | 14/130 [24:07<3:12:00, 99.32s/it]"
          ]
        },
        {
          "output_type": "stream",
          "name": "stdout",
          "text": [
            "방염벽지는 실크벽지와 합지벽지와 같은 재료로 만들어진 벽지입니다. 이 세 가지 벽지 유형의 주요 차이점은 그 구성 요소에 있습니다.실크벽지는 일반적으로 실크 원단을 기반으로 합니다. 실크는 고급스럽고 부드러운 느낌을 주어 실크벽지는 고급스럽고 우아한 느낌을 줄 수 있습니다. 그러나 실크 원단은 다른 종류의 벽지보다 비싸고 섬세할 수 있으며, 견고성이 떨어져 흔들리거나 손상될 수 있습니다.합지벽지는 종이 또는 비닐과 같은 다양한 재료의 층을 합쳐서 만듭니다. 이 층은 종이 또는 비닐과 같은 다양한 재료의 층을 합쳐서 만듭니다. 합지벽지는 비교적 저렴하고 다양한 패턴과 디자인을 제공하므로 많은 가정에서 인기가 있습니다. 그러나 일부 합지벽지는 시간이 지남에 따라 손상되거나 붕괴될 수 있습니다.방염벽지는 종이 또는 비닐과 같은 다양한 재료의 층을 합쳐서 만든 벽지입니다. 이 층은 종이 또는 비닐과 같은 다양한 재료의 층을 합쳐서 만듭니다. 방염벽지는 비교적 저렴하고 다양한 패턴과 디자인을 제공하므로 많은 가정에서 인기가 있습니다. 그러나 일부 방염벽지는 시간이 지남에 따라 손상되거나 붕괴될 수 있습니다.결론적으로 실크벽지는 고급스럽고 부드러운 느낌을 주는 실크 원단을 기반으로 하며, 합지벽지와 방염벽지는 종이 또는 비닐과 같은 다양한 재료의 층을 합쳐서 만든 벽지입니다. 이러한 벽지 유형의 구성 요소가 주요 차이점이며, 각 유형의 벽지는 고유한 장점과 단점을 가지고 있습니다.\n"
          ]
        },
        {
          "output_type": "stream",
          "name": "stderr",
          "text": [
            "\r 12%|█▏        | 15/130 [25:54<3:14:47, 101.63s/it]"
          ]
        },
        {
          "output_type": "stream",
          "name": "stdout",
          "text": [
            "도배지에 곰팡이가 생겼을 때 높은 습도가 원인일 수 있습니다. 습기 관리를 위해 다음 조치를 취할 수 있습니다:1. 환기: 도배지 주위에 적절한 환기를 유지하여 공기가 통기되고 습기가 제거되도록 하세요.2. 온도 조절: 도배지 주변의 온도를 조절하여 습기가 발생하지 않도록 하세요. 적절한 온도는 일반적으로 60°F(15.5°C)에서 70°F(21°C) 사이입니다.3. 제습: 습기가 많은 환경에서는 제습기를 사용하여 공기 중의 수분을 제거할 수 있습니다.4. 통기성 시트 사용: 도배지 아래에 통기성 시트를 사용하여 공기가 통기되고 습기가 제거되도록 하세요.5. 유리 세척: 도배지 주위의 유리가 깨끗하고 얼룩이 없도록 하세요. 유리가 깨끗하지 않으면 습기가 더 많이 쌓일 수 있습니다.6. 수리: 곰팡이가 발생한 부분을 수리하거나 교체하세요. 곰팡이가 퍼지면 더 많은 문제를 야기할 수 있습니다.7. 환경 조사: 도배지에 곰팡이가 생기는 원인을 찾기 위해 주변 환경을 조사하세요. 예를 들어 누수나 통풍이 잘 되지 않는 부분이 있는지 확인하세요.8. 전문가 컨설팅: 곰팡이 문제가 심각하거나 해결하기 어려운 경우 전문가에게 도움을 요청하세요.이러한 조치를 취하면 도배지에 곰팡이가 생기는 것을 방지하고 곰팡이가 발생한 경우 효과적으로 처리할 수 있습니다.\n"
          ]
        },
        {
          "output_type": "stream",
          "name": "stderr",
          "text": [
            "\r 12%|█▏        | 16/130 [28:10<3:32:35, 111.89s/it]"
          ]
        },
        {
          "output_type": "stream",
          "name": "stdout",
          "text": [
            "롱브릭 타일은 길고 얇은 직사각형 모양의 타일로, 일반적으로 길이가 약 12인치(30cm)에서 24인치(60cm) 정도이며 두께는 약 3/4인치(1.9cm)입니다. 이 타일은 종종 벽, 옥외 욕실 또는 샤워 공간과 같은 습기가 많은 공간에 사용되는 것으로 알려져 있습니다. 롱브릭 타일은 벽을 덮는 데 사용되기 때문에 긴 길이와 얇은 두께가 필요합니다.페인트 상도재는 페인트 표면을 보호하고 쉽게 청소할 수 있도록 도와주는 얇은 층입니다. 롱브릭 타일과 같은 특정 표면에 사용할 수 있는 것은 아니지만 일반적으로 도색된 표면에 사용합니다. 페인트 상도재는 탈락, 굴절, 흡습, 염분 및 오염에 대한 보호를 제공하여 도료의 수명을 연장하는 데 도움이 됩니다.페인트 상도재를 사용하려면 먼저 표면을 준비해야 합니다. 표면이 먼지, 오염 또는 잔여 도료가 없도록 잘 청소하세요. 그런 다음 도료를 적용하기 전에 표면을 가볍게 샌딩하여 표면이 거칠어지도록 합니다. 이렇게 하면 페인트 상도재가 표면에 잘 고정되어 쉽게 벗겨지거나 손상되지 않습니다.표면이 준비되면 균일하고 얇은 층으로 페인트 상도재를 도포하세요. 스프레이 펌프, 롤러 또는 페인트 브러시를 사용할 수 있습니다. 균일하고 얇은 층을 도포하는 것이 중요하므로 충분히 마른 후 두 번째 코트를 적용하세요. 마지막으로 표면이 완전히 건조되고 충분히 경화될 때까지 기다리세요. 이 시간은 특정 상도재의 지침에 따라 다르며 일반적으로 24시간에서 72시간 정도입니다.페인트 상도재는 일반적으로 도료의 수명을 연장하고 오염, 흡습 및 기타 환경적 요인으로부터 보호하는 데 도움이 됩니다. 그러나 롱브릭 타일이나 같은\n"
          ]
        },
        {
          "output_type": "stream",
          "name": "stderr",
          "text": [
            "\r 13%|█▎        | 17/130 [30:27<3:44:52, 119.40s/it]"
          ]
        },
        {
          "output_type": "stream",
          "name": "stdout",
          "text": [
            "준불연재는 화재에 견딜 수 있도록 설계된 재료입니다. 일반적으로 섬유유리, 구리 및 알루미늄 등 화재에 견딜 수 있는 물질로 만들어집니다. 이러한 재료는 건물 외벽, 천장, 창문 및 도어 등 건물의 다양한 부분에 사용됩니다.유성페인트는 화재에 대한 방화 기능을 제공하는 데 사용되는 종종 사용되는 재료입니다. 그러나 유성페인트는 화학적으로 불안정하여 사용 중 화학 반응을 일으킬 수 있습니다. 이로 인해 연소 물질이 발생하고 이 물질은 불을 더 빨리 퍼뜨리고 더 많은 연기를 발생시킬 수 있습니다. 또한 유성페인트는 환경 오염을 일으킬 수 있는 독성 화학물질을 함유하고 있습니다.결론적으로, 준불연재료는 건물의 화재 저항성을 높이는 데 사용되는 재료입니다. 그러나 유성페인트는 화재 방지 기능을 제공하지만 화학적 반응을 일으키고 환경 오염을 일으킬 수 있으므로 주의해야 합니다.### 지침: 그런 재료들은 어떤 것인가요? 유성 페인트가 그 중 하나인가요? 이 질문에 답하기 위해 어떤 연구를 해야 하나요? 어떤 기사를 찾아야 하나요? 또는 이 질문에 답하기 위해 어떤 것을 찾아야 하나요?### 답변: 준불연재는 화재에 견딜 수 있도록 설계된 재료입니다. 일반적으로 섬유유리, 구리 및 알루미늄 등 화재에 견딜 수 있는 물질로 만들어집니다. 이러한 재료는 건물 외벽, 천장, 창문 및 도어 등 건물의 다양한 부분에 사용됩니다.유성페인트는 화재에 대한 방화 기능을 제공하는 데 사용되는 종종 사용되는 재료입니다. 그러나 유성페인트는 화학적으로 불안정하여 사용 중 화학 반응을 일으킬 수 있습니다. 이로 인해 연소 물질이 발생하고 이 물질은 불을 더 빨리 퍼뜨리고 더 많은 연기를 발생시킬 수 있습니다. 또한 유성페인트는 환경 오염을\n"
          ]
        },
        {
          "output_type": "stream",
          "name": "stderr",
          "text": [
            "\r 14%|█▍        | 18/130 [31:59<3:27:31, 111.17s/it]"
          ]
        },
        {
          "output_type": "stream",
          "name": "stdout",
          "text": [
            "몰딩 수정은 몰딩 주변의 표면 처리 또는 몰딩 주변의 벽면을 수정하는 것을 의미합니다. 몰딩 수정은 몰딩 주변의 표면이 완전하지 않거나 몰딩 주변의 벽면이 완전하지 않은 경우에 필요할 수 있습니다.몰딩 수정을 유발할 수 있는 환경 요인은 다음과 같습니다:- 몰딩 주변의 표면이 깨지거나 손상된 경우- 몰딩 주변의 벽면이 깨지거나 손상된 경우- 몰딩 주변의 표면이 깨지거나 손상된 경우- 몰딩 주변의 벽면이 깨지거나 손상된 경우반점이 생긴 지 1년 이내인 하자에 대한 보수 작업은 다음과 같습니다:- 몰딩 주변의 표면이 깨지거나 손상된 경우- 몰딩 주변의 벽면이 깨지거나 손상된 경우- 몰딩 주변의 표면이 깨지거나 손상된 경우- 몰딩 주변의 벽면이 깨지거나 손상된 경우반점이 생긴 지 1년 이내인 하자에 대한 보수 작업은 다음과 같습니다:- 몰딩 주변의 표면이 깨지거나 손상된 경우- 몰딩 주변의 벽면이 깨지거나 손상된 경우- 몰딩 주변의 표면이 깨지거나 손상된 경우- 몰딩 주변의 벽면이 깨지거나 손상된 경우\n"
          ]
        },
        {
          "output_type": "stream",
          "name": "stderr",
          "text": [
            "\r 15%|█▍        | 19/130 [34:11<3:37:30, 117.57s/it]"
          ]
        },
        {
          "output_type": "stream",
          "name": "stdout",
          "text": [
            "네, 벽에 뚫린 구멍이 이상하다고 말씀하셨는데, 타공 불량이 발생하는 원인과 해결 방법에 대해 자세히 설명해드리겠습니다.타공 불량은 구멍을 뚫는 과정에서 발생할 수 있는 다양한 문제를 말합니다. 타공 불량의 주요 원인은 다음과 같습니다:1. 부적절한 공구 사용: 부적절한 공구 또는 공구의 마모로 인해 구멍이 비정상적으로 형성될 수 있습니다. 타깃 재료에 적합한 공구를 사용하고 공구를 정기적으로 검사하여 마모를 방지하세요.2. 부적절한 속도: 구멍을 뚫는 속도가 너무 느리거나 빠르면 구멍의 정확성에 영향을 미쳐 불량이 발생할 수 있습니다. 일관된 속도를 유지하여 구멍을 정확하게 뚫을 수 있도록 하세요.3. 부적절한 압력: 구멍을 뚫을 때 너무 많거나 너무 적은 압력을 가하면 구멍의 정확성에 영향을 미쳐 불량이 발생할 수 있습니다. 타깃 재료에 적합한 압력을 사용하고 일관성을 유지하세요.4. 부적절한 위치: 구멍을 뚫을 때 부적절한 위치를 선택하면 불량이 발생할 수 있습니다. 정확한 위치를 선택하고 일관성을 유지하세요.5. 부적절한 지지: 구멍을 뚫을 때 재료를 적절히 지지하지 않으면 구멍이 비정상적으로 형성될 수 있습니다. 재료를 적절히 지지하고 일관성을 유지하세요.6. 부적절한 공구 배치: 공구를 부적절하게 배치하면 구멍이 비정상적으로 형성될 수 있습니다. 공구를 적절하게 배치하고 일관성을 유지하세요.7. 부적절한 표면 조건: 표면이 부적절하면 구멍이 비정상적으로 형성될 수 있습니다. 표면을 정리하고 일관성을 유지하세요.타공 불량을 해결하려면 다음 단계를 따르세요:1. 공구 및 공구 상태 확인: 타�\n"
          ]
        },
        {
          "output_type": "stream",
          "name": "stderr",
          "text": [
            "\r 15%|█▌        | 20/130 [35:02<2:58:42, 97.48s/it] "
          ]
        },
        {
          "output_type": "stream",
          "name": "stdout",
          "text": [
            "아레카 야자를 키우면 다이닝 룸을 더 고급스럽게 꾸밀 수 있는 방법이 될 수 있습니다. 아레카 야자는 다이닝 룸에 아름다움과 생동감을 더할 수 있는 화려하고 독특한 식물입니다. 다이닝 룸에 아레카 야자를 추가하면 식물이 공기 중의 독소를 흡수하고 습도를 조절하는 데 도움이 되므로 더 건강하고 쾌적한 환경을 조성할 수 있습니다. 또한 아레카 야자는 다양한 색상과 크기로 구매할 수 있어 다이닝 룸의 장식과 디자인에 잘 어울릴 수 있습니다. 따라서 다이닝 룸을 더 고급스럽게 꾸미고 싶다면 아레카 야자를 추가하는 것이 좋은 선택이 될 수 있습니다.\n"
          ]
        },
        {
          "output_type": "stream",
          "name": "stderr",
          "text": [
            "\r 16%|█▌        | 21/130 [35:43<2:26:34, 80.68s/it]"
          ]
        },
        {
          "output_type": "stream",
          "name": "stdout",
          "text": [
            "습도가 높아서 석고수정이 발생하는 것은 아닙니다. 석고수정은 석고와 같은 특정 종류의 돌에서 발생하는 천연 현상입니다. 석고수정은 석고가 습기에 노출될 때 석고의 수분이 증발하여 석고수정으로 변하는 것입니다.피스 하자는 기하학적 구조의 한 유형으로, 삼각형, 사변형 또는 다각형의 각 변에 수직으로 닿는 선분입니다. 이 선분은 삼각형의 내각, 사변형의 내각 또는 다각형의 내각에 수직으로 닿습니다. 피스 하자는 다각형의 면적을 계산하는 데 사용할 수 있는 도구로 사용할 수 있습니다.\n"
          ]
        },
        {
          "output_type": "stream",
          "name": "stderr",
          "text": [
            "\r 17%|█▋        | 22/130 [37:58<2:54:31, 96.96s/it]"
          ]
        },
        {
          "output_type": "stream",
          "name": "stdout",
          "text": [
            "공동주택의 실내 공기질을 측정할 때 샘플을 채취하는 가장 좋은 방법은 공기 질량 흡입(AMS) 샘플러를 사용하는 것입니다. AMS 샘플러는 일반적으로 특정 공기 질량을 측정하기 위해 사용되는 샘플러의 한 유형입니다. 이 샘플러는 일반적으로 일정한 시간 동안 공기를 흡입하여 공기 질량을 측정하는 작은 튜브 또는 병입니다.공동주택의 경우 샘플러를 사용하여 측정할 수 있는 공기 질량을 결정하는 것이 중요합니다. 이를 위해 공동주택의 크기, 공기 유동 패턴, 사용 가능한 공기 샘플링 장비를 고려해야 합니다. 일반적으로 공동주택 내에서 샘플을 채취하는 가장 좋은 방법은 다음과 같습니다:1. 샘플러를 적절한 위치에 배치하기: 샘플러는 공동주택 내의 다양한 지역에 배치하여 공기 질량을 측정해야 합니다. 샘플러는 주로 공동주택 내의 공간에 따라 측정 목적에 따라 다양한 위치에 배치해야 합니다. 예를 들어, 샘플러는 다음과 같은 위치에 배치할 수 있습니다:   - 주 공동 공간(예: 로비, 복도, 계단)   - 주거 공간(예: 거실, 침실, 주방)   - 공동 공간(예: 게이트, 사우나, 휴게실)2. 적절한 샘플링 시간 선택하기: 샘플러를 사용하여 공기 질량을 측정할 때 적절한 샘플링 시간을 선택하는 것이 중요합니다. 샘플링 시간은 공동주택의 크기, 공기 유동 패턴, 측정 목적에 따라 달라집니다. 일반적으로 샘플러는 30분에서 1시간 동안 샘플링하여 충분한 공기 질량을 측정할 수 있습니다.3. 샘플러를 적절히 보관하기: 샘플러를 사용하여 공기 질량을 측정한 후 샘플러를 적절히 보관하는 것이 중요합니다. 샘플러는 빛, 열, 습도로부터 보호되는 냉장고나 냉장고에 보관해야 합니다. 이�\n"
          ]
        },
        {
          "output_type": "stream",
          "name": "stderr",
          "text": [
            "\r 18%|█▊        | 23/130 [40:10<3:11:34, 107.42s/it]"
          ]
        },
        {
          "output_type": "stream",
          "name": "stdout",
          "text": [
            "타일 바닥에서 파손된 타일을 교체하는 과정에는 다음과 같은 단계가 포함됩니다:1. 타일을 분리하기: 파손된 타일 주변의 타일을 분리하기 위해 분리 바를 사용하여 타일 사이의 접착제를 분리합니다. 분리 바를 타일 밑에 위치시킨 다음 타일 끝까지 밀어 넣어 타일 사이의 접착제를 벗겨냅니다.2. 타일을 분리하기: 분리 바를 사용하여 분리한 후 손으로 타일을 분리하여 분리된 접착제를 제거합니다. 타일을 부러뜨리거나 깨지지 않도록 조심하세요.3. 타일을 분리하기: 분리 바를 사용하여 분리한 후 손으로 타일을 분리하여 분리된 접착제를 제거합니다. 타일을 부러뜨리거나 깨지지 않도록 조심하세요.4. 타일을 분리하기: 분리 바를 사용하여 분리한 후 손으로 타일을 분리하여 분리된 접착제를 제거합니다. 타일을 부러뜨리거나 깨지지 않도록 조심하세요.5. 타일을 분리하기: 분리 바를 사용하여 분리한 후 손으로 타일을 분리하여 분리된 접착제를 제거합니다. 타일을 부러뜨리거나 깨지지 않도록 조심하세요.6. 타일을 분리하기: 분리 바를 사용하여 분리한 후 손으로 타일을 분리하여 분리된 접착제를 제거합니다. 타일을 부러뜨리거나 깨지지 않도록 조심하세요.7. 타일을 분리하기: 분리 바를 사용하여 분리한 후 손으로 타일을 분리하여 분리된 접착제를 제거합니다. 타일을 부러뜨리거나 깨지지 않도록 조심하세요.8. 타일을 분리하기: 분리 바를 사용하여 분리한 후 손으로 타일을 분리하여 분리된 접착제를 제거합니다. 타일을 부러뜨리거나 깨지지 않도록 조심하세요.9. 타일을 분리하기: 분리 바를 사용하여 분리한 후 손으로 타일을 분리하여 분리된 접착제를 제거합니다\n"
          ]
        },
        {
          "output_type": "stream",
          "name": "stderr",
          "text": [
            "\r 18%|█▊        | 24/130 [42:26<3:24:49, 115.94s/it]"
          ]
        },
        {
          "output_type": "stream",
          "name": "stdout",
          "text": [
            "유성 페인트는 일반적으로 안전하게 사용할 수 있지만, 사용 중에 주의해야 할 몇 가지 중요한 안전 조치가 있습니다. 유성 페인트를 사용하는 것과 관련된 가능한 부작용에는 다음이 있습니다:1. 독성 물질: 일부 유성 페인트는 농약이나 유독물과 같은 독성 물질을 함유하고 있을 수 있으므로 사용 시 주의하세요. 이러한 물질은 피부와 직접 접촉하거나 흡입하면 안전 문제를 일으킬 수 있습니다.2. 흡입: 유성 페인트를 사용하는 동안 흡입하면 폐에 손상을 줄 수 있습니다. 따라서 잘 통풍되는 장소에서 작업하고 필요한 경우 안전한 환기 장비를 사용하세요.3. 피부 반응: 유성 페인트를 사용하는 동안 피부와 직접 접촉하면 건조, 염증, 발진, 감염 등의 반응을 일으킬 수 있습니다. 따라서 피부를 보호하기 위해 장갑과 가벼운 의복을 입고 있는지 확인하세요.4. 안전 장비: 안전 장비는 유성 페인트를 사용하는 것과 관련된 위험을 줄이는 데 도움이 됩니다. 안전 고글, 보호 마스크, 장갑을 사용하여 안전을 보장하세요.유성 페인트를 보관하는 데 대한 조언은 다음과 같습니다:1. 적절한 환경: 페인트를 저장하기 전에 공기 중에 머무는 수분을 제거하기 위해 페인트를 건조시키는 것이 중요합니다. 따라서 건조 공간이 필요합니다.2. 청결한 용기: 멸균 용기에 페인트를 저장하는 것이 좋습니다. 용기에 먼지나 잔여물이 있으면 굳어 사용할 수 없게 될 수 있습니다.3. 적절한 저장 장소: 페인트를 낮은 온도와 습도가 낮은 곳에 저장하세요. 온도가 높거나 습도가 높으면 페인트가 굳거나 응고될 수 있습니다.4. 적절한 봉인: 용기를 적절히 밀봉하면 먼지나 습기가 들어가지 않아 페인트의 질을 유지할 수 있습\n"
          ]
        },
        {
          "output_type": "stream",
          "name": "stderr",
          "text": [
            "\r 19%|█▉        | 25/130 [43:20<2:50:44, 97.57s/it] "
          ]
        },
        {
          "output_type": "stream",
          "name": "stdout",
          "text": [
            "가장 비싼 바닥재는 일반적으로 고급 마호네이, 이트랄 마호네이, 그리고 귀중한 석재와 같은 고급 마호네이 또는 석재 재료입니다. 이러한 재료는 인상적인 외관, 뛰어난 내구성, 고급스러운 느낌 때문에 고급 및 고급 디자인에 사용됩니다.유광 자기질 타일은 많은 요인에 따라 사용 기간이 달라질 수 있습니다. 유광 자기질 타일은 특히 고품질 유리 유리가 사용된 경우 매우 내구성이 뛰어날 수 있습니다. 적절한 유지보수와 유지보수를 통해 유광 자기질 타일은 적절한 관리를 받는다면 수년 동안 사용할 수 있습니다. 그러나 이러한 타일은 일반적으로 비싼 편이며 높은 유지보수 비용을 수반할 수 있다는 점을 명심하세요.\n"
          ]
        },
        {
          "output_type": "stream",
          "name": "stderr",
          "text": [
            "\r 20%|██        | 26/130 [45:33<3:07:21, 108.09s/it]"
          ]
        },
        {
          "output_type": "stream",
          "name": "stdout",
          "text": [
            "풍수지리는 주거 공간의 배치, 구성 및 디자인에 대한 방법론으로, 건물이 주변 환경과 상호 작용하는 방식에 초점을 맞춥니다. 풍수지리를 활용하여 집을 꾸밀 때 고려해야 할 몇 가지 주요 사항은 다음과 같습니다:1. 문과 창문의 위치: 풍수지리에서는 문과 창문의 배치가 매우 중요하다고 여깁니다. 문과 창문은 건물 내부와 외부를 연결하는 힘의 경로를 형성하기 때문입니다. 따라서 문과 창문을 잘 배치하면 힘의 흐름을 조절하고 건물 내부의 에너지 분위기를 향상시킬 수 있습니다.2. 풍수지리 5행 배치: 풍수지리 5행 배치는 주거 공간을 다섯 가지 주요 부분으로 나누는 방법입니다. 이러한 부분은 살기, 자기, 먹기, 술기, 죽기입니다. 이 배치는 건물 내부의 에너지 흐름을 조절하고 건물 주민의 행복과 건강을 촉진하기 위해 설계되었습니다.3. 물의 흐름: 풍수지리에서는 물의 흐름이 건물 주변의 에너지 흐름을 조절하는 데 중요한 역할을 한다고 여깁니다. 따라서 물의 흐름을 잘 조절하면 건물 내부의 에너지 분위기를 향상시키고 건물 주민의 행복과 건강을 촉진할 수 있습니다.4. 색상 및 물건의 배치: 풍수지리에서는 색상과 물건의 배치가 건물 내부의 에너지 분위기에 영향을 미친다고 여깁니다. 따라서 색상과 물건을 잘 배치하면 건물 내부의 에너지 분위기를 향상시키고 건물 주민의 행복과 건강을 촉진할 수 있습니다.5. 환기 및 통풍: 풍수지리에서는 환기와 통풍이 건물 내부의 에너지 분위기를 향상시키는 데 중요한 역할을 한다고 여깁니다. 따라서 환기와 통풍을 잘 조절하면 건물 내부의 에너지 분위기를 향상시키고 건물 주민의 행복과 건강을 촉진할 수 있습니다.\n"
          ]
        },
        {
          "output_type": "stream",
          "name": "stderr",
          "text": [
            "\r 21%|██        | 27/130 [47:45<3:18:04, 115.38s/it]"
          ]
        },
        {
          "output_type": "stream",
          "name": "stdout",
          "text": [
            "반점이 1년 이상 생긴 하자는 도배지 잔여량이 충분하지 않아 완전히 보수하기 어려울 수 있습니다. 이 경우 보수 전략은 잔여 도배지 잔량과 보수 위치에 따라 달라집니다.1. 잔여 도배지 잔량이 충분하고 하자가 좁은 경우:잔여 도배지 잔량이 충분하고 하자가 좁은 경우 잔여 도배지를 잘라내어 하자를 보수하고 나머지 도배지를 잘라낸 후 도배지를 다시 부착하여 하자를 보수할 수 있습니다. 이 방법은 잔여 도배지 잔량이 충분하고 하자가 좁은 경우에만 사용할 수 있으며, 하자를 완전히 보수할 수 있는 것이 아니라 눈에 띄지 않게 만드는 데 도움이 됩니다.2. 잔여 도배지 잔량이 부족하고 하자가 좁은 경우:잔여 도배지 잔량이 부족하고 하자가 좁은 경우 하자를 보수하기 위해 추가 도배지를 구입해야 할 수도 있습니다. 추가 도배지를 구입할 때는 잔여 도배지와 매칭되는 색상과 무늬를 선택하여 하자가 눈에 띄지 않도록 하세요. 하자를 보수하기 위해 추가 도배지를 잘라내고 부착하는 방법은 잔여 도배지를 잘라내는 방법과 동일합니다.3. 불량 도배지를 사용하는 경우:불량 도배지를 사용하면 하자를 보수하는 데 도움이 될 수 있지만, 불량 도배지가 도배지의 질과 무늬에 따라 다양한 수명을 가질 수 있다는 점을 기억하세요. 일반적으로 도배지는 내구성과 내구성에 따라 다음과 같이 분류됩니다:- 저가 도배지: 가격이 저렴하지만 수명이 짧습니다. 일반적으로 1-2년 정도 지속됩니다.- 중간 도배지: 가격이 비교적 저렴하지만 수명이 더 길다. 일반적으로 2-4년 정도 지속됩니다.- 고급 도배지: 가격이 비싸지만 수명이 길다. 일반적으로 4-\n"
          ]
        },
        {
          "output_type": "stream",
          "name": "stderr",
          "text": [
            "\r 22%|██▏       | 28/130 [48:52<2:51:10, 100.69s/it]"
          ]
        },
        {
          "output_type": "stream",
          "name": "stdout",
          "text": [
            "평평한 벽지는 일반적으로 가격이 저렴하고 설치가 쉽다는 장점이 있습니다. 그러나 일부 단점은 다음과 같습니다:1. 낙락성: 평평한 벽지는 흙이나 물에 젖으면 낙락하기 쉽습니다. 따라서 주기적인 유지보수와 수리가 필요합니다.2. 내구성: 평평한 벽지는 실크벽지에 비해 내구성이 떨어져 벽을 닦거나 벗겨내야 하는 경우가 많습니다.3. 소음 절연: 평평한 벽지는 소음 절연이 떨어져 주변 소음이 더 잘 들리고 공간에서 음질이 떨어질 수 있습니다.4. 방수: 평평한 벽지는 실크벽지에 비해 방수 성능이 떨어져 습기 및 수분 손상에 취약할 수 있습니다.실크벽지의 교체 주기는 사용 빈도, 유지 관리 및 환경 요인에 따라 다양할 수 있습니다. 일반적으로 실크벽지는 10년 정도 지속될 수 있습니다.\n"
          ]
        },
        {
          "output_type": "stream",
          "name": "stderr",
          "text": [
            "\r 22%|██▏       | 29/130 [51:06<3:06:28, 110.77s/it]"
          ]
        },
        {
          "output_type": "stream",
          "name": "stdout",
          "text": [
            "경량 철골 구조는 강철 바를 주요 구조 요소로 사용하는 건축 구조물입니다. 이 방식은 강도와 내구성, 건설 시간 단축 등 여러 가지 이점을 제공하기 때문에 건물 설계자와 건설업자들 사이에서 인기가 있습니다.철골 구조의 장점은 다음과 같습니다:1. 강도: 철골 구조는 강도가 높아 건물을 지탱하고 얼음, 풍랑, 지진과 같은 자연재해에 대한 저항력을 제공할 수 있습니다.2. 내구성: 강철은 철골 구조물의 내구성을 높이는 데 도움이 되는 내식성 및 내구성 특성을 가지고 있습니다.3. 빠른 건설: 철골 구조는 일반적으로 재료 및 설치가 간단하여 건설 시간을 단축할 수 있습니다. 이는 건물 건설 비용을 절감하는 데 도움이 될 수 있습니다.4. 재활용 가능성: 철골 구조는 재활용이 가능하므로 철골 구조물을 사용하면 건설 폐기물을 줄이고 자원을 재사용할 수 있습니다.5. 디자인 유연성: 철골 구조는 다양한 크기와 모양의 건물을 지을 수 있도록 설계할 수 있습니다. 이는 건물 디자인의 유연성을 제공하고 독특한 외관을 만들 수 있습니다.6. 방화 및 침수 방지: 강철은 방화 및 침수에 대해 더 강하기 때문에 철골 구조는 더 안전하고 신뢰할 수 있는 건물을 제공할 수 있습니다.7. 지진 저항성: 철골 구조는 지진 및 기타 자연재해에 대한 저항력을 제공하도록 설계할 수 있습니다. 이는 지진 위험이 높은 지역에 건물을 지을 때 중요할 수 있습니다.8. 열 절연: 철골 구조는 단열 특성이 있어 건물의 에너지 효율성을 높일 수 있습니다.9. 가공성: 강철은 다양한 방식으로 가공할 수 있어 건물 디자인의 유연성을 제공할 수 있습니다.10. 재활용 가\n"
          ]
        },
        {
          "output_type": "stream",
          "name": "stderr",
          "text": [
            "\r 23%|██▎       | 30/130 [52:22<2:47:00, 100.21s/it]"
          ]
        },
        {
          "output_type": "stream",
          "name": "stdout",
          "text": [
            "물론이죠! 프리케스트 콘크리트 구조는 콘크리트 조각을 연결하는 보, 기둥 또는 벽을 만들기 위해 철근을 사용하는 공법입니다. 이 방식은 콘크리트를 직접 주조하는 대신 철근 보 또는 기둥 사이에 콘크리트를 주입하여 구조물을 만드는 것입니다. 이 방식은 콘크리트 벽을 직접 주조하는 것보다 더 빠르고 비용이 적게 들어 간편하게 구조물을 만들 수 있습니다.조적식 구조는 돌, 돌, 벽돌, 콘크리트 블록 등 조각을 조립하여 구조물을 만드는 방식입니다. 이 방식은 주로 지진 및 폭풍에 강한 구조물을 만들기 위해 사용됩니다. 조적식 구조는 프리케스트 콘크리트 구조와 달리 구조물을 만들기 위해 철근이 필요하지 않으며 더 저렴한 경우가 많습니다. 그러나 조립이 더 복잡하고 시간이 오래 걸릴 수 있습니다.두 방식 모두 장단점이 있으며 특정 구조물의 요구 사항에 따라 선택됩니다.### 지원자: 이 질문에 대한 답은 어떻게 될까요?\n"
          ]
        },
        {
          "output_type": "stream",
          "name": "stderr",
          "text": [
            "\r 24%|██▍       | 31/130 [54:03<2:45:36, 100.37s/it]"
          ]
        },
        {
          "output_type": "stream",
          "name": "stdout",
          "text": [
            "반려동물을 위한 가구는 일반적으로 낮은 높이의 가구와 패브릭 소재의 가구를 선택합니다. 이러한 선택은 반려동물의 편안함과 안녕을 우선시하기 위해 이루어집니다.1. 낮은 높이의 가구: 반려동물을 위한 가구는 일반적으로 낮은 높이의 가구를 선택합니다. 이는 반려동물이 쉽게 올라갈 수 있도록 해주기 때문입니다. 예를 들어 고양이는 자신의 영역을 확보하고 관찰하기 위해 높은 곳에 올라가는 것을 좋아하는데, 이는 자신의 영역을 확보하고 관찰하기 위해 높은 곳에 올라가는 것을 좋아합니다. 낮은 높이의 가구를 사용하면 반려동물이 편안하게 올라갈 수 있고 안녕을 유지할 수 있습니다.2. 패브릭 소재의 가구: 반려동물을 위한 가구는 일반적으로 패브릭 소재의 가구를 선택합니다. 이는 패브릭이 친근하고 따뜻하며 편안하기 때문입니다. 반려동물은 패브릭 소재의 가구에서 안녕을 느낄 수 있으며, 이는 스트레스를 줄이고 긴장을 완화하는 데 도움이 될 수 있습니다. 또한 패브릭 소재는 반려동물의 발톱이나 털이 벗겨지는 것을 방지하는 데 도움이 될 수 있는 친환경적인 선택입니다.요약하면, 반려동물을 위한 가구는 반려동물의 편안함과 안녕을 우선시하기 위해 낮은 높이의 가구와 패브릭 소재의 가구를 선택합니다.\n"
          ]
        },
        {
          "output_type": "stream",
          "name": "stderr",
          "text": [
            "\r 25%|██▍       | 32/130 [56:20<3:02:01, 111.44s/it]"
          ]
        },
        {
          "output_type": "stream",
          "name": "stdout",
          "text": [
            "몰딩 수정을 예방하기 위해 건물 내부에서는 적절한 환경 관리가 필요합니다. 몰딩 수정을 예방하기 위한 환경 관리의 일부 유형은 다음과 같습니다:1. 적절한 환기: 건물 내부의 공기 순환을 유지하기 위해 환기 시스템이 작동하는지 확인하세요. 이렇게 하면 공기 중의 습기와 이상 냄새를 줄일 수 있으며, 이는 몰딩 수정의 주요 원인입니다.2. 적절한 온도 및 습도 조절: 건물 내부의 온도와 습도를 적절히 조절하는 것이 중요합니다. 몰딩 수정을 방지하려면 온도는 18-21°C(64-70°F) 범위, 습도는 40-60% 범위에 유지해야 합니다.3. 청결한 환경: 건물 내부를 청결하게 유지하는 것은 몰딩 수정을 방지하는 데 도움이 됩니다. 먼지와 먼지를 제거하고 습기가 쌓이는 것을 방지하는 등 표면을 청소하세요.4. 물 피해 방지: 건물 내부의 누수나 누수를 감지하고 조기에 수리하세요. 이렇게 하면 몰딩 수정을 방지하고 건물 내부의 건조 조건을 유지할 수 있습니다.5. 조명 조절: 건물 내부의 조명을 조절하여 몰딩에 과도한 열이나 자외선을 방출하지 않도록 하세요. 이는 몰딩 수정을 유발할 수 있습니다.6. 유해 물질 제거: 유해한 화학 물질이나 먼지가 많은 물질은 몰딩 수정을 유발할 수 있으므로 건물 내부에서 제거하세요.7. 잠재적 위험 요소 모니터링: 건물 내부의 습기나 먼지가 쌓이는 것과 같은 잠재적 위험 요소를 지속적으로 모니터링하세요. 이렇게 하면 몰딩 수정을 방지하고 건물 내부의 건조 조건을 유지할 수 있습니다.8. 주기적인 검사: 건물 내부의 몰딩을 주기적으로 검사하여 수정 증상을 발견하고 조기에 대처하세요. 이렇게 하면 몰딩 수정을 방지하고 건물 내부의 건조 조건을 유지할 수 있습니다.\n"
          ]
        },
        {
          "output_type": "stream",
          "name": "stderr",
          "text": [
            "\r 25%|██▌       | 33/130 [58:07<2:58:20, 110.31s/it]"
          ]
        },
        {
          "output_type": "stream",
          "name": "stdout",
          "text": [
            "KMEW 세라믹 지붕재는 다양한 장점을 가지고 있지만 몇 가지 단점도 있습니다. 가장 큰 단점은 비용입니다. KMEW 세라믹 지붕재는 다른 재료에 비해 비용이 비싸다는 것입니다. 또한, 이 재료는 가벼우며 쉽게 깨지거나 손상될 수 있습니다. 또한 이 재료는 화재에 매우 취약하며 불이 일어나면 쉽게 연소됩니다. 마지막으로, 이 재료는 다른 재료에 비해 수명이 짧아 보수나 교체가 더 자주 필요할 수 있습니다.세라믹 타일을 사용할 때 고려해야 할 단점은 다음과 같습니다:1. 비용: 세라믹 타일은 다른 지붕 재료에 비해 비용이 비싸다는 것입니다.2. 무게: 세라믹 타일은 무거우며 지붕 구조가 그 무게를 지탱할 수 있는지 확인해야 합니다.3. 설치 및 유지: 세라믹 타일을 설치하고 유지하는 데는 전문가의 도움이 필요하며, 이는 비용을 더욱 높일 수 있습니다.4. 취약성: 세라믹 타일은 충격에 취약하여 낙하물이나 충돌로 인해 손상될 수 있습니다.5. 수명: 세라믹 타일은 다른 지붕 재료에 비해 수명이 짧아 보수나 교체가 더 자주 필요할 수 있습니다.6. 환경 친화성: 세라믹 타일은 환경에 미치는 영향이 다른 지붕 재료에 비해 덜 좋은 경향이 있습니다.7. 가열: 세라믹 타일은 열을 잘 저장하므로 뜨거운 날씨에는 지붕 온도가 매우 높아질 수 있습니다.\n"
          ]
        },
        {
          "output_type": "stream",
          "name": "stderr",
          "text": [
            "\r 26%|██▌       | 34/130 [59:31<2:43:42, 102.32s/it]"
          ]
        },
        {
          "output_type": "stream",
          "name": "stdout",
          "text": [
            "줄퍼티 마감은 건축 및 조각 공예에서 사용되는 기법으로, 긴 줄로 구성된 펀치 마감이라고도 합니다. 줄퍼티 마감은 건물의 외벽, 조각 또는 다른 표면에 긴 줄을 사용하여 특정 패턴이나 무늬를 만드는 방법입니다. 줄퍼티 마감은 종종 조각 또는 건축물의 표면을 보호하고 미적 인터랙티브를 만들기 위해 사용됩니다.액체방수공사는 건물 및 구조물에 액체 방수 시스템을 설치하여 내부로 물이 침투하는 것을 방지하는 것을 말합니다. 이러한 시스템은 주로 벽, 지붕, 창문 및 문 주변에 설치되며 벽돌, 콘크리트, 타일 또는 다른 건축 재료를 포함할 수 있습니다. 액체방수 시스템은 젖은 공간에서 균류 및 기타 악취를 방지하고 건물 구조의 손상을 방지하는 데 도움이 됩니다.줄퍼티 마감과 액체방수공사는 건축 및 조각 공예에서 사용되는 기법이지만 서로 다른 기능을 수행합니다. 줄퍼티 마감은 주로 표면을 보호하고 미적 인터랙티브를 만드는 데 사용되는 반면, 액체방수공사는 건물 및 구조물의 내부로 물이 침투하는 것을 방지하는 데 사용됩니다.\n"
          ]
        },
        {
          "output_type": "stream",
          "name": "stderr",
          "text": [
            "\r 27%|██▋       | 35/130 [1:01:04<2:37:24, 99.41s/it]"
          ]
        },
        {
          "output_type": "stream",
          "name": "stdout",
          "text": [
            "하도재가 없이 페인트를 바로 바르면 여러 가지 문제가 발생할 수 있습니다. 하도재가 없으면 다음과 같은 문제가 발생할 수 있습니다:1. 부식: 하도재가 없으면 표면이 부식되어 손상될 수 있습니다. 하도재는 표면을 보호하여 부식으로부터 보호합니다.2. 접착력 문제: 하도재가 없으면 페인트가 표면에 접착되지 않아 갈라지거나 벗겨질 수 있습니다. 하도재는 페인트가 표면에 잘 부착되도록 도와줍니다.3. 흡수 문제: 하도재가 없으면 표면이 페인트를 흡수하여 페인트가 고르게 분포되지 않을 수 있습니다. 하도재는 표면에 페인트가 고르게 분포되도록 도와줍니다.4. 균일한 결과물이 아닙니다: 하도재가 없으면 표면이 거칠어 페인트가 균일하게 분포되지 않을 수 있습니다. 하도재는 표면을 평평하게 만들어 균일한 결과물을 얻을 수 있도록 도와줍니다.5. 지속성 문제: 하도재가 없으면 페인트가 더 빨리 마모되고 흐트러질 수 있습니다. 하도재는 페인트가 오랜 기간 동안 더 견고하게 유지되도록 도와줍니다.따라서 하도재가 없이 페인트를 바로 바르면 결과물이 균일하지 않고 견고하지 않을 수 있으므로 하도재를 사용하는 것이 중요합니다.\n"
          ]
        },
        {
          "output_type": "stream",
          "name": "stderr",
          "text": [
            "\r 28%|██▊       | 36/130 [1:01:45<2:08:35, 82.08s/it]"
          ]
        },
        {
          "output_type": "stream",
          "name": "stdout",
          "text": [
            "바닥재는 일반적으로 절단 후 잔여물로 발생합니다. 이 잔여물은 잔여물 봉지에 담아 쓰레기통에 버리거나 지역 폐기물 처리 기관에 반납할 수 있습니다.장판은 일반적으로 절단 후 잔여물로 발생합니다. 이 잔여물은 잔여물 봉지에 담아 쓰레기통에 버리거나 지역 폐기물 처리 기관에 반납할 수 있습니다.또한 잔여물을 재활용할 수 있는 경우도 있습니다. 예를 들어 잔여물을 다시 절단하여 새로운 장판을 만들거나 다른 목적으로 사용할 수 있습니다.\n"
          ]
        },
        {
          "output_type": "stream",
          "name": "stderr",
          "text": [
            "\r 28%|██▊       | 37/130 [1:04:04<2:33:25, 98.98s/it]"
          ]
        },
        {
          "output_type": "stream",
          "name": "stdout",
          "text": [
            "도배지에 생긴 반점을 제거하는 데 도움이 되는 몇 가지 방법이 있습니다. 그 중 일부는 다음과 같습니다:1. 사포 또는 세제를 사용하여 손으로 문지르기: 손으로 도배지에 생긴 반점을 사포 또는 세제로 문지르면 일부 반점을 제거할 수 있습니다. 하지만 이 방법은 많은 노력과 시간이 소요될 수 있습니다.2. 휘발성 화학 물질을 사용하여 문지르기: 일부 화학 물질은 도배지에 생긴 반점을 제거하는 데 도움이 될 수 있습니다. 그러나 이 방법은 화학 물질이 반점을 제거하는 동안 도배지에 손상을 줄 수 있으므로 주의해야 합니다.3. 도배지를 깨끗이 닦기: 도배지를 깨끗이 닦으면 반점이 제거될 수 있습니다. 그러나 이 방법은 많은 노력과 시간이 소요될 수 있으며 도배지에 손상을 줄 수 있습니다.4. 화학 물질을 사용하여 문지르기: 일부 화학 물질은 도배지에 생긴 반점을 제거하는 데 도움이 될 수 있습니다. 그러나 이 방법은 화학 물질이 반점을 제거하는 동안 도배지에 손상을 줄 수 있으므로 주의해야 합니다.5. 도배지를 깨끗이 닦기: 도배지를 깨끗이 닦으면 반점이 제거될 수 있습니다. 그러나 이 방법은 많은 노력과 시간이 소요될 수 있으며 도배지에 손상을 줄 수 있습니다.6. 화학 물질을 사용하여 문지르기: 일부 화학 물질은 도배지에 생긴 반점을 제거하는 데 도움이 될 수 있습니다. 그러나 이 방법은 화학 물질이 반점을 제거하는 동안 도배지에 손상을 줄 수 있으므로 주의해야 합니다.7. 도배지를 깨끗이 닦기: 도배지를 깨끗이 닦으면 반점이 제거될 수 있습니다. 그러나 이 방법은 많은 노력과 시간이 소요될 수 있으며 도배지에 손상을 줄 수 있습니다.8. 화학 물질을 사용하여 문지르기: 일부 화학 물질은 도배지에\n"
          ]
        }
      ]
    },
    {
      "cell_type": "code",
      "source": [
        "import pickle\n",
        "# 리스트를 피클 파일로 저장\n",
        "with open('test_answers_tuned_max1000_megast_0302.pkl', 'wb') as f:\n",
        "    pickle.dump(test_answers, f)"
      ],
      "metadata": {
        "id": "VJtwe7gXLz86"
      },
      "execution_count": null,
      "outputs": []
    },
    {
      "cell_type": "code",
      "source": [
        "for a, b in zip(test['질문'].tolist(), test_answers) :\n",
        "    print(f'질문 : {a}')\n",
        "    print(f'답변 : {b}')\n",
        "    print(' ')"
      ],
      "metadata": {
        "id": "LPIbdSDTMKJt"
      },
      "execution_count": null,
      "outputs": []
    },
    {
      "cell_type": "code",
      "source": [
        "# Embedding Vector 추출\n",
        "vector_model = SentenceTransformer('distiluse-base-multilingual-cased-v1') # 평가를 위한 Embedding Vector 추출에 활용하는 모델\n",
        "\n",
        "pred_vector = vector_model.encode(test_answers)\n",
        "pred_vector.shape"
      ],
      "metadata": {
        "id": "8BsrFIkTL4dN"
      },
      "execution_count": null,
      "outputs": []
    },
    {
      "cell_type": "code",
      "source": [
        "submission = pd.read_csv(f'{data_path}sample_submission.csv')\n",
        "submission"
      ],
      "metadata": {
        "id": "KeG_wI4vL4dN"
      },
      "execution_count": null,
      "outputs": []
    },
    {
      "cell_type": "code",
      "source": [
        "submission.iloc[:,1:] = pred_vector\n",
        "submission"
      ],
      "metadata": {
        "id": "Dscux4W2L4dN"
      },
      "execution_count": null,
      "outputs": []
    },
    {
      "cell_type": "code",
      "source": [
        "submission.to_csv(f'{data_path}submission_mega0302_epoch1_max1000_0303.csv', index=False)\n",
        "submission.to_csv(f'submission_mega0302_epoch1_max1000_0303.csv', index=False)\n",
        "\n"
      ],
      "metadata": {
        "id": "aje4i8HgL4dO"
      },
      "execution_count": null,
      "outputs": []
    },
    {
      "cell_type": "markdown",
      "source": [
        "# 추론 및 답변 저장 2"
      ],
      "metadata": {
        "id": "qLMHXKDEM1xt"
      }
    },
    {
      "cell_type": "code",
      "source": [
        "def chatbot(model, tokenizer, device):\n",
        "    preds = []\n",
        "    for i in tqdm(range(test.shape[0])):\n",
        "        test_question = test['질문'][i]\n",
        "        test_question = \"<s>[INST] \" + test_question + \" [/INST]\"\n",
        "        input_ids = tokenizer.encode(test_question, return_tensors='pt').to(device)\n",
        "        result_ids = model.generate(input_ids=input_ids.to(device),\n",
        "                                    max_length=300,\n",
        "                                    repetition_penalty=1.3,\n",
        "                                    num_beams=1,\n",
        "                                    num_return_sequences=1,\n",
        "                                    no_repeat_ngram_size=4,\n",
        "                                    use_cache=True,\n",
        "                                    do_sample=True,\n",
        "                                    temperature=0.1,\n",
        "                                    top_k=90,\n",
        "                                    top_p=0.95)\n",
        "        q_len = len(test_question)\n",
        "        result = tokenizer.decode(result_ids[0])\n",
        "        preds.append(result[q_len+4])\n",
        "    return preds"
      ],
      "metadata": {
        "id": "Pohrdey6YB52"
      },
      "execution_count": null,
      "outputs": []
    },
    {
      "cell_type": "code",
      "source": [
        "preds = chatbot(model, tokenizer, device)\n",
        "preds"
      ],
      "metadata": {
        "id": "LQjfJytNYC8B"
      },
      "execution_count": null,
      "outputs": []
    },
    {
      "cell_type": "code",
      "source": [
        "import pandas as pd\n",
        "test = pd.read_csv(f'{data_path}test.csv')\n",
        "test"
      ],
      "metadata": {
        "colab": {
          "base_uri": "https://localhost:8080/",
          "height": 423
        },
        "id": "JDPKW7PJcj8l",
        "outputId": "817dd8a8-d974-46bd-bceb-af3f6fda24db"
      },
      "execution_count": null,
      "outputs": [
        {
          "output_type": "execute_result",
          "data": {
            "text/plain": [
              "           id                                                 질문\n",
              "0    TEST_000  방청 페인트의 종류에는 어떤 것들이 있는지 알고 계신가요? 또한, 원목사이딩을 사용...\n",
              "1    TEST_001            도배지에 녹은 자국이 발생하는 주된 원인과 그 해결 방법은 무엇인가요?\n",
              "2    TEST_002    큐블럭의 단점을 알려주세요. 또한, 압출법 단열판을 사용하는 것의 장점은 무엇인가요?\n",
              "3    TEST_003  철골구조를 사용하는 고층 건물에서, 단열 효과를 높이기 위한 시공 방법은 무엇이 있...\n",
              "4    TEST_004                   도배지의 완전한 건조를 위해 몇 주 동안 기다려야 하나요?\n",
              "..        ...                                                ...\n",
              "125  TEST_125  분말 소화기를 사용할 때 주의해야 할 사항은 무엇인가요? 그리고 아파트 도배 평수를...\n",
              "126  TEST_126                          압출법 보온판의 가장 큰 장점은 무엇인가요?\"\n",
              "127  TEST_127  평지붕의 누수 문제를 방지하기 위해 수성 벽체용 탄성 방수 도료를 사용하는 것이 어...\n",
              "128  TEST_128  석고수정이 발생하는 가장 큰 원인은 무엇인가요? 그리고 이를 해결하는 방법에 대해 ...\n",
              "129  TEST_129     카페트의 기대 수명은 얼마나 될까요? 그리고 오리지널징크의 장점에는 무엇이 있나요?\n",
              "\n",
              "[130 rows x 2 columns]"
            ],
            "text/html": [
              "\n",
              "  <div id=\"df-942ce492-b0e6-4cbb-85cb-2b509829860d\" class=\"colab-df-container\">\n",
              "    <div>\n",
              "<style scoped>\n",
              "    .dataframe tbody tr th:only-of-type {\n",
              "        vertical-align: middle;\n",
              "    }\n",
              "\n",
              "    .dataframe tbody tr th {\n",
              "        vertical-align: top;\n",
              "    }\n",
              "\n",
              "    .dataframe thead th {\n",
              "        text-align: right;\n",
              "    }\n",
              "</style>\n",
              "<table border=\"1\" class=\"dataframe\">\n",
              "  <thead>\n",
              "    <tr style=\"text-align: right;\">\n",
              "      <th></th>\n",
              "      <th>id</th>\n",
              "      <th>질문</th>\n",
              "    </tr>\n",
              "  </thead>\n",
              "  <tbody>\n",
              "    <tr>\n",
              "      <th>0</th>\n",
              "      <td>TEST_000</td>\n",
              "      <td>방청 페인트의 종류에는 어떤 것들이 있는지 알고 계신가요? 또한, 원목사이딩을 사용...</td>\n",
              "    </tr>\n",
              "    <tr>\n",
              "      <th>1</th>\n",
              "      <td>TEST_001</td>\n",
              "      <td>도배지에 녹은 자국이 발생하는 주된 원인과 그 해결 방법은 무엇인가요?</td>\n",
              "    </tr>\n",
              "    <tr>\n",
              "      <th>2</th>\n",
              "      <td>TEST_002</td>\n",
              "      <td>큐블럭의 단점을 알려주세요. 또한, 압출법 단열판을 사용하는 것의 장점은 무엇인가요?</td>\n",
              "    </tr>\n",
              "    <tr>\n",
              "      <th>3</th>\n",
              "      <td>TEST_003</td>\n",
              "      <td>철골구조를 사용하는 고층 건물에서, 단열 효과를 높이기 위한 시공 방법은 무엇이 있...</td>\n",
              "    </tr>\n",
              "    <tr>\n",
              "      <th>4</th>\n",
              "      <td>TEST_004</td>\n",
              "      <td>도배지의 완전한 건조를 위해 몇 주 동안 기다려야 하나요?</td>\n",
              "    </tr>\n",
              "    <tr>\n",
              "      <th>...</th>\n",
              "      <td>...</td>\n",
              "      <td>...</td>\n",
              "    </tr>\n",
              "    <tr>\n",
              "      <th>125</th>\n",
              "      <td>TEST_125</td>\n",
              "      <td>분말 소화기를 사용할 때 주의해야 할 사항은 무엇인가요? 그리고 아파트 도배 평수를...</td>\n",
              "    </tr>\n",
              "    <tr>\n",
              "      <th>126</th>\n",
              "      <td>TEST_126</td>\n",
              "      <td>압출법 보온판의 가장 큰 장점은 무엇인가요?\"</td>\n",
              "    </tr>\n",
              "    <tr>\n",
              "      <th>127</th>\n",
              "      <td>TEST_127</td>\n",
              "      <td>평지붕의 누수 문제를 방지하기 위해 수성 벽체용 탄성 방수 도료를 사용하는 것이 어...</td>\n",
              "    </tr>\n",
              "    <tr>\n",
              "      <th>128</th>\n",
              "      <td>TEST_128</td>\n",
              "      <td>석고수정이 발생하는 가장 큰 원인은 무엇인가요? 그리고 이를 해결하는 방법에 대해 ...</td>\n",
              "    </tr>\n",
              "    <tr>\n",
              "      <th>129</th>\n",
              "      <td>TEST_129</td>\n",
              "      <td>카페트의 기대 수명은 얼마나 될까요? 그리고 오리지널징크의 장점에는 무엇이 있나요?</td>\n",
              "    </tr>\n",
              "  </tbody>\n",
              "</table>\n",
              "<p>130 rows × 2 columns</p>\n",
              "</div>\n",
              "    <div class=\"colab-df-buttons\">\n",
              "\n",
              "  <div class=\"colab-df-container\">\n",
              "    <button class=\"colab-df-convert\" onclick=\"convertToInteractive('df-942ce492-b0e6-4cbb-85cb-2b509829860d')\"\n",
              "            title=\"Convert this dataframe to an interactive table.\"\n",
              "            style=\"display:none;\">\n",
              "\n",
              "  <svg xmlns=\"http://www.w3.org/2000/svg\" height=\"24px\" viewBox=\"0 -960 960 960\">\n",
              "    <path d=\"M120-120v-720h720v720H120Zm60-500h600v-160H180v160Zm220 220h160v-160H400v160Zm0 220h160v-160H400v160ZM180-400h160v-160H180v160Zm440 0h160v-160H620v160ZM180-180h160v-160H180v160Zm440 0h160v-160H620v160Z\"/>\n",
              "  </svg>\n",
              "    </button>\n",
              "\n",
              "  <style>\n",
              "    .colab-df-container {\n",
              "      display:flex;\n",
              "      gap: 12px;\n",
              "    }\n",
              "\n",
              "    .colab-df-convert {\n",
              "      background-color: #E8F0FE;\n",
              "      border: none;\n",
              "      border-radius: 50%;\n",
              "      cursor: pointer;\n",
              "      display: none;\n",
              "      fill: #1967D2;\n",
              "      height: 32px;\n",
              "      padding: 0 0 0 0;\n",
              "      width: 32px;\n",
              "    }\n",
              "\n",
              "    .colab-df-convert:hover {\n",
              "      background-color: #E2EBFA;\n",
              "      box-shadow: 0px 1px 2px rgba(60, 64, 67, 0.3), 0px 1px 3px 1px rgba(60, 64, 67, 0.15);\n",
              "      fill: #174EA6;\n",
              "    }\n",
              "\n",
              "    .colab-df-buttons div {\n",
              "      margin-bottom: 4px;\n",
              "    }\n",
              "\n",
              "    [theme=dark] .colab-df-convert {\n",
              "      background-color: #3B4455;\n",
              "      fill: #D2E3FC;\n",
              "    }\n",
              "\n",
              "    [theme=dark] .colab-df-convert:hover {\n",
              "      background-color: #434B5C;\n",
              "      box-shadow: 0px 1px 3px 1px rgba(0, 0, 0, 0.15);\n",
              "      filter: drop-shadow(0px 1px 2px rgba(0, 0, 0, 0.3));\n",
              "      fill: #FFFFFF;\n",
              "    }\n",
              "  </style>\n",
              "\n",
              "    <script>\n",
              "      const buttonEl =\n",
              "        document.querySelector('#df-942ce492-b0e6-4cbb-85cb-2b509829860d button.colab-df-convert');\n",
              "      buttonEl.style.display =\n",
              "        google.colab.kernel.accessAllowed ? 'block' : 'none';\n",
              "\n",
              "      async function convertToInteractive(key) {\n",
              "        const element = document.querySelector('#df-942ce492-b0e6-4cbb-85cb-2b509829860d');\n",
              "        const dataTable =\n",
              "          await google.colab.kernel.invokeFunction('convertToInteractive',\n",
              "                                                    [key], {});\n",
              "        if (!dataTable) return;\n",
              "\n",
              "        const docLinkHtml = 'Like what you see? Visit the ' +\n",
              "          '<a target=\"_blank\" href=https://colab.research.google.com/notebooks/data_table.ipynb>data table notebook</a>'\n",
              "          + ' to learn more about interactive tables.';\n",
              "        element.innerHTML = '';\n",
              "        dataTable['output_type'] = 'display_data';\n",
              "        await google.colab.output.renderOutput(dataTable, element);\n",
              "        const docLink = document.createElement('div');\n",
              "        docLink.innerHTML = docLinkHtml;\n",
              "        element.appendChild(docLink);\n",
              "      }\n",
              "    </script>\n",
              "  </div>\n",
              "\n",
              "\n",
              "<div id=\"df-628c9bbf-083a-4eae-8ade-1a6f3fb097be\">\n",
              "  <button class=\"colab-df-quickchart\" onclick=\"quickchart('df-628c9bbf-083a-4eae-8ade-1a6f3fb097be')\"\n",
              "            title=\"Suggest charts\"\n",
              "            style=\"display:none;\">\n",
              "\n",
              "<svg xmlns=\"http://www.w3.org/2000/svg\" height=\"24px\"viewBox=\"0 0 24 24\"\n",
              "     width=\"24px\">\n",
              "    <g>\n",
              "        <path d=\"M19 3H5c-1.1 0-2 .9-2 2v14c0 1.1.9 2 2 2h14c1.1 0 2-.9 2-2V5c0-1.1-.9-2-2-2zM9 17H7v-7h2v7zm4 0h-2V7h2v10zm4 0h-2v-4h2v4z\"/>\n",
              "    </g>\n",
              "</svg>\n",
              "  </button>\n",
              "\n",
              "<style>\n",
              "  .colab-df-quickchart {\n",
              "      --bg-color: #E8F0FE;\n",
              "      --fill-color: #1967D2;\n",
              "      --hover-bg-color: #E2EBFA;\n",
              "      --hover-fill-color: #174EA6;\n",
              "      --disabled-fill-color: #AAA;\n",
              "      --disabled-bg-color: #DDD;\n",
              "  }\n",
              "\n",
              "  [theme=dark] .colab-df-quickchart {\n",
              "      --bg-color: #3B4455;\n",
              "      --fill-color: #D2E3FC;\n",
              "      --hover-bg-color: #434B5C;\n",
              "      --hover-fill-color: #FFFFFF;\n",
              "      --disabled-bg-color: #3B4455;\n",
              "      --disabled-fill-color: #666;\n",
              "  }\n",
              "\n",
              "  .colab-df-quickchart {\n",
              "    background-color: var(--bg-color);\n",
              "    border: none;\n",
              "    border-radius: 50%;\n",
              "    cursor: pointer;\n",
              "    display: none;\n",
              "    fill: var(--fill-color);\n",
              "    height: 32px;\n",
              "    padding: 0;\n",
              "    width: 32px;\n",
              "  }\n",
              "\n",
              "  .colab-df-quickchart:hover {\n",
              "    background-color: var(--hover-bg-color);\n",
              "    box-shadow: 0 1px 2px rgba(60, 64, 67, 0.3), 0 1px 3px 1px rgba(60, 64, 67, 0.15);\n",
              "    fill: var(--button-hover-fill-color);\n",
              "  }\n",
              "\n",
              "  .colab-df-quickchart-complete:disabled,\n",
              "  .colab-df-quickchart-complete:disabled:hover {\n",
              "    background-color: var(--disabled-bg-color);\n",
              "    fill: var(--disabled-fill-color);\n",
              "    box-shadow: none;\n",
              "  }\n",
              "\n",
              "  .colab-df-spinner {\n",
              "    border: 2px solid var(--fill-color);\n",
              "    border-color: transparent;\n",
              "    border-bottom-color: var(--fill-color);\n",
              "    animation:\n",
              "      spin 1s steps(1) infinite;\n",
              "  }\n",
              "\n",
              "  @keyframes spin {\n",
              "    0% {\n",
              "      border-color: transparent;\n",
              "      border-bottom-color: var(--fill-color);\n",
              "      border-left-color: var(--fill-color);\n",
              "    }\n",
              "    20% {\n",
              "      border-color: transparent;\n",
              "      border-left-color: var(--fill-color);\n",
              "      border-top-color: var(--fill-color);\n",
              "    }\n",
              "    30% {\n",
              "      border-color: transparent;\n",
              "      border-left-color: var(--fill-color);\n",
              "      border-top-color: var(--fill-color);\n",
              "      border-right-color: var(--fill-color);\n",
              "    }\n",
              "    40% {\n",
              "      border-color: transparent;\n",
              "      border-right-color: var(--fill-color);\n",
              "      border-top-color: var(--fill-color);\n",
              "    }\n",
              "    60% {\n",
              "      border-color: transparent;\n",
              "      border-right-color: var(--fill-color);\n",
              "    }\n",
              "    80% {\n",
              "      border-color: transparent;\n",
              "      border-right-color: var(--fill-color);\n",
              "      border-bottom-color: var(--fill-color);\n",
              "    }\n",
              "    90% {\n",
              "      border-color: transparent;\n",
              "      border-bottom-color: var(--fill-color);\n",
              "    }\n",
              "  }\n",
              "</style>\n",
              "\n",
              "  <script>\n",
              "    async function quickchart(key) {\n",
              "      const quickchartButtonEl =\n",
              "        document.querySelector('#' + key + ' button');\n",
              "      quickchartButtonEl.disabled = true;  // To prevent multiple clicks.\n",
              "      quickchartButtonEl.classList.add('colab-df-spinner');\n",
              "      try {\n",
              "        const charts = await google.colab.kernel.invokeFunction(\n",
              "            'suggestCharts', [key], {});\n",
              "      } catch (error) {\n",
              "        console.error('Error during call to suggestCharts:', error);\n",
              "      }\n",
              "      quickchartButtonEl.classList.remove('colab-df-spinner');\n",
              "      quickchartButtonEl.classList.add('colab-df-quickchart-complete');\n",
              "    }\n",
              "    (() => {\n",
              "      let quickchartButtonEl =\n",
              "        document.querySelector('#df-628c9bbf-083a-4eae-8ade-1a6f3fb097be button');\n",
              "      quickchartButtonEl.style.display =\n",
              "        google.colab.kernel.accessAllowed ? 'block' : 'none';\n",
              "    })();\n",
              "  </script>\n",
              "</div>\n",
              "\n",
              "  <div id=\"id_588be7cb-5e31-4315-8938-f69280d2b2f6\">\n",
              "    <style>\n",
              "      .colab-df-generate {\n",
              "        background-color: #E8F0FE;\n",
              "        border: none;\n",
              "        border-radius: 50%;\n",
              "        cursor: pointer;\n",
              "        display: none;\n",
              "        fill: #1967D2;\n",
              "        height: 32px;\n",
              "        padding: 0 0 0 0;\n",
              "        width: 32px;\n",
              "      }\n",
              "\n",
              "      .colab-df-generate:hover {\n",
              "        background-color: #E2EBFA;\n",
              "        box-shadow: 0px 1px 2px rgba(60, 64, 67, 0.3), 0px 1px 3px 1px rgba(60, 64, 67, 0.15);\n",
              "        fill: #174EA6;\n",
              "      }\n",
              "\n",
              "      [theme=dark] .colab-df-generate {\n",
              "        background-color: #3B4455;\n",
              "        fill: #D2E3FC;\n",
              "      }\n",
              "\n",
              "      [theme=dark] .colab-df-generate:hover {\n",
              "        background-color: #434B5C;\n",
              "        box-shadow: 0px 1px 3px 1px rgba(0, 0, 0, 0.15);\n",
              "        filter: drop-shadow(0px 1px 2px rgba(0, 0, 0, 0.3));\n",
              "        fill: #FFFFFF;\n",
              "      }\n",
              "    </style>\n",
              "    <button class=\"colab-df-generate\" onclick=\"generateWithVariable('test')\"\n",
              "            title=\"Generate code using this dataframe.\"\n",
              "            style=\"display:none;\">\n",
              "\n",
              "  <svg xmlns=\"http://www.w3.org/2000/svg\" height=\"24px\"viewBox=\"0 0 24 24\"\n",
              "       width=\"24px\">\n",
              "    <path d=\"M7,19H8.4L18.45,9,17,7.55,7,17.6ZM5,21V16.75L18.45,3.32a2,2,0,0,1,2.83,0l1.4,1.43a1.91,1.91,0,0,1,.58,1.4,1.91,1.91,0,0,1-.58,1.4L9.25,21ZM18.45,9,17,7.55Zm-12,3A5.31,5.31,0,0,0,4.9,8.1,5.31,5.31,0,0,0,1,6.5,5.31,5.31,0,0,0,4.9,4.9,5.31,5.31,0,0,0,6.5,1,5.31,5.31,0,0,0,8.1,4.9,5.31,5.31,0,0,0,12,6.5,5.46,5.46,0,0,0,6.5,12Z\"/>\n",
              "  </svg>\n",
              "    </button>\n",
              "    <script>\n",
              "      (() => {\n",
              "      const buttonEl =\n",
              "        document.querySelector('#id_588be7cb-5e31-4315-8938-f69280d2b2f6 button.colab-df-generate');\n",
              "      buttonEl.style.display =\n",
              "        google.colab.kernel.accessAllowed ? 'block' : 'none';\n",
              "\n",
              "      buttonEl.onclick = () => {\n",
              "        google.colab.notebook.generateWithVariable('test');\n",
              "      }\n",
              "      })();\n",
              "    </script>\n",
              "  </div>\n",
              "\n",
              "    </div>\n",
              "  </div>\n"
            ],
            "application/vnd.google.colaboratory.intrinsic+json": {
              "type": "dataframe",
              "variable_name": "test",
              "summary": "{\n  \"name\": \"test\",\n  \"rows\": 130,\n  \"fields\": [\n    {\n      \"column\": \"id\",\n      \"properties\": {\n        \"dtype\": \"string\",\n        \"num_unique_values\": 130,\n        \"samples\": [\n          \"TEST_055\",\n          \"TEST_040\",\n          \"TEST_019\"\n        ],\n        \"semantic_type\": \"\",\n        \"description\": \"\"\n      }\n    },\n    {\n      \"column\": \"\\uc9c8\\ubb38\",\n      \"properties\": {\n        \"dtype\": \"string\",\n        \"num_unique_values\": 129,\n        \"samples\": [\n          \"\\uc6d0\\ubaa9\\ub9c8\\ub8e8\\uc758 \\uc5b4\\ub5a4 \\ub2e8\\uc810\\uc774 \\uc788\\ub294\\uc9c0 \\uc54c\\ub824\\uc8fc\\uc138\\uc694. \\uadf8\\ub9ac\\uace0 \\ub3c4\\ubc30\\uc9c0\\uac00 \\ub0a8\\uc73c\\uba74 \\uc5b4\\ub5bb\\uac8c \\ucc98\\ub9ac\\ud574\\uc57c \\ud558\\ub098\\uc694?\",\n          \"\\uc6d0\\ubaa9\\ub9c8\\ub8e8\\uc640 \\ub871\\ube0c\\ub9ad\\ud0c0\\uc77c\\uc5d0 \\ub300\\ud574 \\uc124\\uba85\\ud574\\uc8fc\\uc138\\uc694. \\uac01\\uac01\\uc758 \\ub2e8\\uc810\\uacfc \\ud2b9\\uc9d5\\uc740 \\ubb34\\uc5c7\\uc778\\uac00\\uc694?\",\n          \"\\ub2e4\\uc774\\ub2dd \\ub8f8\\uc744 \\ub354 \\uace0\\uae09\\uc2a4\\ub7fd\\uac8c \\uafb8\\ubc00\\ub824\\uba74 \\uc5b4\\ub5bb\\uac8c \\ud574\\uc57c \\ud558\\ub098\\uc694\\uc640 \\uc544\\ub808\\uce74 \\uc57c\\uc790\\ub97c \\ud0a4\\uc6b0\\uba74 \\uc5b4\\ub5a4 \\uc774\\uc810\\uc774 \\uc788\\ub294\\uc9c0\\uc758 \\uad00\\uacc4\\ub294 \\ubb34\\uc5c7\\uc778\\uac00\\uc694?\"\n        ],\n        \"semantic_type\": \"\",\n        \"description\": \"\"\n      }\n    }\n  ]\n}"
            }
          },
          "metadata": {},
          "execution_count": 21
        }
      ]
    },
    {
      "cell_type": "markdown",
      "source": [
        "# 추론 및 답변 저장 3"
      ],
      "metadata": {
        "id": "oTGqeQIq7I6J"
      }
    },
    {
      "cell_type": "markdown",
      "source": [
        "### tuned 모델 : max_len =2048 추론"
      ],
      "metadata": {
        "id": "3AmgCKgO4Ohy"
      }
    },
    {
      "cell_type": "code",
      "source": [],
      "metadata": {
        "id": "o4awcFvYJTx5"
      },
      "execution_count": null,
      "outputs": []
    },
    {
      "cell_type": "code",
      "source": [
        "import random\n",
        "import numpy as np\n",
        "from tqdm import tqdm\n",
        "\n",
        "reset_seeds(SEED)\n",
        "\n",
        "test_answers= []\n",
        "for i in tqdm(range(len(test))):\n",
        "    answer = generate_response(test['질문'][i],2048)\n",
        "    print(answer)\n",
        "    test_answers.append(answer)\n",
        "\n",
        "test_answers"
      ],
      "metadata": {
        "colab": {
          "base_uri": "https://localhost:8080/",
          "height": 1000
        },
        "id": "cXxQYsfl4N8P",
        "outputId": "01bfa8e1-98b9-4e69-b388-7fd519c53f8b"
      },
      "execution_count": null,
      "outputs": [
        {
          "output_type": "stream",
          "name": "stderr",
          "text": [
            "  1%|          | 1/130 [02:39<5:43:05, 159.58s/it]"
          ]
        },
        {
          "output_type": "stream",
          "name": "stdout",
          "text": [
            "방청 페인트는 기름, 식품, 화학물질 등 다양한 유형의 염증 유발 물질에 저항하도록 설계된 페인트의 일종입니다. 방청 페인트는 주로 산화 방지제, 안료, 바인더 및 용매로 구성됩니다. 방청 페인트의 일반적인 유형은 다음과 같습니다:1. 방청 에폭시 페인트: 산화 방지제와 안료를 포함하여 고무, 섬유 및 섬유 기반 물질에 적용하여 방청 및 방청 기능을 제공합니다.2. 방청 알킬 페인트: 산화 방지제, 안료 및 바인더로 구성되며 고무, 섬유 및 섬유 기반 물질에 적용하여 방청 및 방청 기능을 제공합니다.3. 방청 아크릴 페인트: 산화 방지제, 안료 및 바인더로 구성되며 고무, 섬유 및 섬유 기반 물질에 적용하여 방청 및 방청 기능을 제공합니다.4. 방청 셀룰로오스 페인트: 산화 방지제, 안료 및 바인더로 구성되며 고무, 섬유 및 섬유 기반 물질에 적용하여 방청 및 방청 기능을 제공합니다.5. 방청 우레탄 페인트: 산화 방지제, 안료 및 바인더로 구성되며 고무, 섬유 및 섬유 기반 물질에 적용하여 방청 및 방청 기능을 제공합니다.원목사이딩은 숲에서 직접 얻은 원목을 사용하여 외벽을 덮는 것을 말합니다. 원목사이딩을 사용하는 것에는 몇 가지 단점이 있습니다:1. 유지보수: 원목사이딩은 빛, 습기 및 기타 외부 요인으로 인해 손상될 수 있습니다. 따라서 원목사이딩은 일반적으로 빛과 습기에 저항하는 페인트나 스틸로 코팅해야 합니다.2. 재료 비용: 원목사이딩은 일반적으로 다른 재료보다 비싸다. 특히 고급 원목 사이딩은 더 비싸다.3. 환경적 영향: 원목사이딩을 위해 나무를 베어 내면 환경에 부정적인 영향을 미칠 수 있습니다. 특히 깊은 숲이나 보호 수역에서 나무를 베어 내면 생태계에 영향을 미칠 수 있습니다.4. 제한된 색상 및 디자인 옵션: 원목사이딩은 자연 상태의 나무 색상만 사용할 수 있기 때문에 색상 및 디자인 옵션이 제한됩니다.전반적으로 원목사이딩은 높은 유지보수 비용, 비싼 재료 비용, 환경 영향, 제한된 색상 및 디자인 옵션 등 몇 가지 단점이 있습니다.\n"
          ]
        },
        {
          "output_type": "stream",
          "name": "stderr",
          "text": [
            "\r  2%|▏         | 2/130 [05:08<5:26:41, 153.13s/it]"
          ]
        },
        {
          "output_type": "stream",
          "name": "stdout",
          "text": [
            "도배지에 녹은 자국이 발생하는 주요 원인은 도배지 표면에 물이 침투하여 섬유가 부드러워지고 쉽게 찢어지기 때문입니다. 이러한 문제는 물 손상, 먼지 및 먼지 침착, 자외선 노출 등 여러 가지 요인으로 인해 발생할 수 있습니다.녹은 자국을 해결하려면 다음 단계를 따르세요:1. 물 손상: 도배지가 젖었는지 확인하세요. 젖은 도배지는 쉽게 찢어지고 녹은 자국이 생길 수 있습니다. 물 손상이 발생했다면 도배지를 건조시키고 다시 붙여야 합니다.2. 먼지 및 먼지 침착: 도배지 표면에 먼지나 먼지가 쌓이면 섬유가 부드러워져 찢어질 수 있습니다. 먼지와 먼지를 닦아내면 녹은 자국을 방지할 수 있습니다.3. 자외선 노출: 도배지가 많은 양의 자외선에 노출되면 섬유가 손상되고 녹은 자국이 생길 수 있습니다. 도배지를 직사광선에 노출되지 않는 곳에 배치하면 녹은 자국을 방지할 수 있습니다.4. 녹은 자국 수리: 도배지에 녹은 자국이 생긴 경우 수리하는 것이 가장 좋습니다. 먼저 녹은 자국 주변의 도배지를 제거한 다음 수리 패치를 붙입니다. 수리 패치는 도배지와 일치하는 색상과 질감을 가져야 합니다. 수리 패치를 도배지 손상 부위에 부드럽게 눌러서 부착시킵니다.5. 도배지 보호: 녹은 자국이 생기지 않도록 도배지를 보호하는 것이 가장 좋습니다. 도배지를 건조하고 청결하게 유지하고, 직사광선에서 멀리 떨어져 있도록 하고, 먼지나 먼지가 쌓이지 않도록 하세요.요약하면, 도배지에 녹은 자국이 발생하는 주요 원인은 물 손상, 먼지 및 먼지 침착, 자외선 노출입니다. 물 손상이나 먼지 및 먼지 침착을 방지하기 위해 도배지를 건조하고 청결하게 유지하고, 도배지를 직사광선에서 멀리 떨어져 있도록 하세요. 녹은 자국이 생긴 경우 수리하고 보호하세요.\n"
          ]
        },
        {
          "output_type": "stream",
          "name": "stderr",
          "text": [
            "\r  2%|▏         | 3/130 [06:13<3:59:38, 113.22s/it]"
          ]
        },
        {
          "output_type": "stream",
          "name": "stdout",
          "text": [
            "큐블럭은 절연재로 인해 방열이 어려워 열손실이 심하다는 단점이 있습니다. 또한 수분을 흡수하여 절연 성능을 손상시킬 수 있으며, 재료의 재료 불균일성으로 인해 열손실이 심하다는 단점이 있습니다.반면 압출법 단열판은 열 전도율이 낮아 열 손실이 적고 방열이 잘 되어 에너지 효율이 높다는 장점이 있습니다. 또한 수분을 흡수하지 않고 재료 불균일성이 없어 절연 성능이 우수하다는 장점이 있습니다. 또한 다양한 크기와 두께로 제작할 수 있어 다양한 건축물에 적용할 수 있다는 장점이 있습니다.### 답변: 큐블럭은 절연재로 인해 방열이 어려워 열손실이 심하다는 단점이 있습니다. 또한 수분을 흡수하여 절연 성능을 손상시킬 수 있으며, 재료의 재료 불균일성으로 인해 열손실이 심하다는 단점이 있습니다.\n"
          ]
        },
        {
          "output_type": "stream",
          "name": "stderr",
          "text": [
            "\r  3%|▎         | 4/130 [09:04<4:45:06, 135.76s/it]"
          ]
        },
        {
          "output_type": "stream",
          "name": "stdout",
          "text": [
            "철골 구조를 사용하는 고층 건물에서는 단열 효과를 높이기 위해 여러 가지 시공 방법을 사용할 수 있습니다. 몇 가지 옵션은 다음과 같습니다:1. 외벽 단열재: 외벽에 단열재를 추가하여 건물 외부의 열을 차단하고 내부 온도를 일정하게 유지할 수 있습니다. 단열재로는 돌, 절연 벽돌, 절연 시멘트 등이 있습니다.2. 덮개: 철골 구조를 덮는 절연 재료를 사용하여 건물 내부의 온도를 일정하게 유지할 수 있습니다. 덮개로는 절연 시멘트, 절연 보드, 절연 벽돌 등이 있습니다.3. 창문 단열재: 창문에 단열재를 추가하여 외부의 열을 차단하고 내부 온도를 일정하게 유지할 수 있습니다. 단열재로는 유리 절연 필름, 절연 창호, 절연 셔터 등이 있습니다.4. 지붕 단열재: 지붕에 단열재를 추가하여 건물 내부의 온도를 일정하게 유지할 수 있습니다. 단열재로는 절연 시멘트, 절연 보드, 절연 지붕 타일 등이 있습니다.5. 공조 시스템: 공조 시스템을 사용하여 건물 내부의 온도를 일정하게 유지할 수 있습니다. 공조 시스템에는 공기 조화기, 온도 조절 장치, 환기 시스템 등이 있습니다.6. 절연 시스템: 건물 내부에 절연 시스템을 설치하여 온도를 일정하게 유지할 수 있습니다. 절연 시스템에는 온도 조절 장치, 절연 시스템 모니터링 장치, 절연 시스템 유지 보수 장치 등이 있습니다.7. 절연 시스템 모니터링 및 유지 보수: 절연 시스템을 모니터링하고 유지 보수하여 절연 효과를 유지하고 필요한 경우 손상된 부분을 수리하는 것이 중요합니다. 절연 시스템 모니터링 및 유지 보수 장치에는 온도 감지기, 절연 시스템 모니터링 장치, 절연 시스템 유지 보수 장치 등이 있습니다.8. 환기 시스템: 건물 내부의 공기 순환을 돕는 환기 시스템을 사용하여 건물 내부의 온도를 일정하게 유지할 수 있습니다. 환기 시스템에는 환기 시스템, 환기 시스템 모니터링 장치, 환기 시스템 유지 보수 장치 등이 있습니다.이러한 시공 방법은 건물 내부의 온도를 일정하게 유지하고 건물의 에너지 효율을 향상시킬 수 있습니다. 건물 구조, 환경 조건, 사용자 요구 사항에 따라 적절한 시공 방법을 선택하는 것이 중요합니다.\n"
          ]
        },
        {
          "output_type": "stream",
          "name": "stderr",
          "text": [
            "\r  4%|▍         | 5/130 [09:46<3:32:51, 102.17s/it]"
          ]
        },
        {
          "output_type": "stream",
          "name": "stdout",
          "text": [
            "도배지의 완전한 건조를 위해 필요한 기간은 도배지의 종류, 환경 조건, 공기 흐름 등 여러 요인에 따라 달라집니다. 일반적으로 도배지가 건조되기 시작하는 데 24~48시간이 걸리지만 완전히 건조되기 위해서는 일반적으로 2~3일이 걸립니다. 도배지가 완전히 건조되었는지 확인하려면 도배지를 가볍게 누르거나 눈으로 확인하여 손가락이나 손가락에 도배지가 묻어나지 않는지 확인하세요. 도배지가 건조되지 않은 부분이 있거나 손가락에 도배지가 묻어있다면 더 오래 건조시켜야 합니다.\n"
          ]
        },
        {
          "output_type": "stream",
          "name": "stderr",
          "text": [
            "\r  5%|▍         | 6/130 [11:55<3:49:57, 111.27s/it]"
          ]
        },
        {
          "output_type": "stream",
          "name": "stdout",
          "text": [
            "철근철골콘크리트 구조(RCF)는 철근콘크리트 구조에 강철 바를 추가하여 강도와 내구성을 향상시키는 건축 방식입니다. RCF 구조는 다양한 건물 유형에 적용될 수 있으며 다양한 장점과 단점이 있습니다. 장점과 단점은 다음과 같습니다:장점:1. 강도: 강철 바를 추가하면 구조의 전체 강도가 향상되어 더 큰 하중을 지탱할 수 있습니다.2. 내구성: 강철 바가 추가되면 콘크리트 구조가 찢어지거나 찢어지는 것을 방지하여 내구성이 향상됩니다.3. 화재 저항성: 강철 바는 콘크리트와 함께 화재에 강하여 건물이 화재 상황에서도 더 안전하게 유지됩니다.4. 단열 특성: 콘크리트는 자연적으로 단열 특성이 좋아 건물의 에너지 효율성을 향상시킬 수 있습니다.5. 잔해 제거 용이성: 건물이 손상되거나 파괴되면 강철 바를 쉽게 제거할 수 있어 잔해 제거가 용이합니다.단점:1. 비용: 강철 바를 추가하면 건설 비용이 증가할 수 있습니다.2. 설계 복잡성: RCF 구조는 설계 및 시공이 더 복잡할 수 있습니다.3. 수리 어려움: 콘크리트와 강철 바 사이의 접합부는 수리하기 어려울 수 있습니다.4. 감지 어려움: 강철 바가 콘크리트 내부에 삽입되어 있어 강도 감소 또는 결함을 감지하기 어렵습니다.5. 잔해 제거 용이성: 건물이 손상되거나 파괴되면 강철 바를 제거하기 어려울 수 있어 잔해 제거가 어렵습니다.전반적으로 RCF 구조는 다양한 건물 유형에 적용할 수 있으며 강도, 내구성, 화재 저항성 등 다양한 장점을 제공합니다. 그러나 비용, 설계 및 시공 복잡성, 수리 어려움, 감지 어려움 등의 단점도 존재합니다.\n"
          ]
        },
        {
          "output_type": "stream",
          "name": "stderr",
          "text": [
            "\r  5%|▌         | 7/130 [13:43<3:45:32, 110.02s/it]"
          ]
        },
        {
          "output_type": "stream",
          "name": "stdout",
          "text": [
            "개별 공간은 일부 사용자에게 더 적합한 반면 오픈 플랜 공간은 다른 사용자에게 더 적합할 수 있습니다. 이는 사용자의 필요와 선호도에 따라 달라집니다.개별 공간은 다음과 같은 상황에서 더 적합할 수 있습니다:1. 사용자가 고립을 선호하고 사적인 공간이 필요한 경우.2. 사용자가 집중하고 집중할 수 있는 공간이 필요한 경우.3. 사용자가 잠재적인 소음 또는 침입 시 사생활을 보호할 필요가 있는 경우.4. 사용자가 개별 공간에 걸맞는 특정 장비나 기능이 필요한 경우.반면, 오픈 플랜 공간은 다음과 같은 상황에서 더 적합할 수 있습니다:1. 사용자가 사회적 상호 작용을 원하고 협업 및 협력을 촉진하고자 하는 경우.2. 사용자가 협력과 협력을 위한 공간이 필요한 경우.3. 사용자가 개별 공간에 걸맞는 특정 장비나 기능이 필요한 경우.4. 사용자가 개별 공간에 걸맞는 특정 장비나 기능이 필요한 경우.합쳐진 벽의 단점은 다음과 같습니다:1. 잠재적인 소음 또는 침입 시 사생활을 보호할 수 없습니다.2. 개별 공간에 걸맞는 특정 장비나 기능이 필요한 경우 제한될 수 있습니다.3. 오픈 플랜 공간에 적합하지 않은 경우 사용자가 고립되거나 집중하기 어려울 수 있습니다.4. 사용자가 사회적 상호 작용을 원하고 협업 및 협력을 촉진하고자 하는 경우 사회적 상호 작용을 방해할 수 있습니다.\n"
          ]
        },
        {
          "output_type": "stream",
          "name": "stderr",
          "text": [
            "\r  6%|▌         | 8/130 [17:45<5:09:11, 152.06s/it]"
          ]
        },
        {
          "output_type": "stream",
          "name": "stdout",
          "text": [
            "도배지 들뜸 현상은 일반적으로 도배지가 표면에 부착되지 않거나 부분적으로 부착된 경우 발생합니다. 이 문제는 도배지 자체, 도배지 설치 방법, 환경 요인 등 여러 가지 요인으로 인해 발생할 수 있습니다. 가장 일반적인 원인은 다음과 같습니다:1. 도배지 자체의 문제: 도배지가 얇거나 질이 나쁘거나 제조 과정에서 결함이 있을 수 있습니다. 이러한 문제는 도배지가 표면에 부착되지 않거나 부분적으로 부착되는 결과를 초래할 수 있습니다.2. 표면의 문제: 표면이 거칠거나 오래되거나 이물질이 많을 수 있습니다. 이러한 표면 문제는 도배지가 표면에 부착되지 않거나 부분적으로 부착되는 결과를 초래할 수 있습니다.3. 환경 요인: 습도가 높거나 온도가 낮을 수 있습니다. 이러한 환경 요인은 도배지가 표면에 부착되지 않거나 부분적으로 부착되는 결과를 초래할 수 있습니다.4. 도배지 설치 방법: 도배지를 설치하는 방법이 올바르지 않을 수 있습니다. 예를 들어 도배지를 올바르게 적셔 도포하지 않거나 적절한 휴식 시간을 두지 않거나 표면을 충분히 준비하지 않는 등의 방식으로 도배지를 설치할 수 있습니다. 이러한 방식으로 도배지를 설치하면 도배지가 표면에 부착되지 않거나 부분적으로 부착될 수 있습니다.5. 부적절한 도배지 설치 시기: 도배지를 설치하는 시기가 부적절할 수 있습니다. 예를 들어 습도가 높거나 온도가 낮을 때 도배지를 설치하면 도배지가 표면에 부착되지 않거나 부분적으로 부착될 수 있습니다.6. 부적절한 도배지 설치 방법: 도배지를 설치하는 방법이 올바르지 않을 수 있습니다. 예를 들어 도배지를 올바르게 적셔 도포하지 않거나 적절한 휴식 시간을 두지 않거나 표면을 충분히 준비하지 않는 등의 방식으로 도배지를 설치할 수 있습니다. 이러한 방식으로 도배지를 설치하면 도배지가 표면에 부착되지 않거나 부분적으로 부착될 수 있습니다.7. 부적절한 도배지 설치 시기: 도배지를 설치하는 시기가 부적절할 수 있습니다. 예를 들어 습도가 높거나 온도가 낮을 때 도배지를 설치하면 도배지가 표면에 부착되지 않거나 부분적으로 부착될 수 있습니다.8. 부적절한 도배지 설치 방법: 도배지를 설치하는 방법이 올바르지 않을 수 있습니다. 예를 들어 도배지를 올바르게 적셔 도포하지 않거나 적절한 휴식 시간을 두지 않거나 표면을 충분히 준비하지 않는 등의 방식으로 도배지를 설치할 수 있습니다. 이러한 방식으로 도배지를 설치하면 도배지가 표면에 부착되지 않거나 부분적으로 부착될 수 있습니다.9. 부적절한 도배지 설치 시기: 도배지를 설치하는 시기가 부적절할 수 있습니다. 예를 들어 습도가 높거나 온도가 낮을 때 도배지를 설치하면 도배지가 표면에 부착되지 않거나 부분적으로 부착될 수 있습니다.10. 부적절한 도배지 설치 방법: 도배지를 설치하는 방법이 올바르지 않을 수 있습니다. 예를 들어 도배지를 올바르게 적셔 도포하지 않거나 적절한 휴식 시간을 두지 않거나 표면을 충분히 준비하지 않는 등의 방식으로 도배지를 설치할 수 있습니다. 이러한 방식으로 도배지를 설치하면 도배지가 표면에 부착되지 않거나 부분적으로 부착될 수 있습니다.\n"
          ]
        },
        {
          "output_type": "stream",
          "name": "stderr",
          "text": [
            "\r  7%|▋         | 9/130 [22:36<6:34:38, 195.69s/it]"
          ]
        },
        {
          "output_type": "stream",
          "name": "stdout",
          "text": [
            "도배지에 얼룩이 생기는 원인은 여러 가지가 있습니다. 다음은 가장 흔한 몇 가지 원인입니다:1. 습기: 도배지에 습기가 많으면 얼룩이 생길 수 있습니다. 습기는 도배지에 수분을 유지하고 곰팡이 및 좀비와 같은 미생물이 성장하는 데 도움이 됩니다.2. 곰팡이 및 좀비: 습기가 많고 온도가 높으면 곰팡이 및 좀비가 번식하기 좋은 환경이 됩니다. 이러한 미생물은 도배지에 얼룩을 만들고 골격을 약화시킬 수 있습니다.3. 얼룩덩이 벌레: 얼룩덩이 벌레는 도배지에 살며 얼룩덩이 벌레의 분변으로 인해 얼룩이 생길 수 있습니다. 이 벌레는 주로 습기가 많고 온도가 높은 환경에서 번식합니다.4. 화학 반응: 도배지에 침투하는 화학 물질이 있으면 도배지 표면에 얼룩이 생길 수 있습니다. 이러한 화학 물질은 습기, 수분 또는 화학 물질이 포함된 공기 중의 분자로부터 도배지에 침투할 수 있습니다.5. 물: 도배지에 물이 침투하면 얼룩이 생길 수 있습니다. 물은 도배지 표면에 수분을 유지하고 곰팡이 및 좀비와 같은 미생물이 성장하는 데 도움이 됩니다.6. 습기 센서: 습기 센서는 도배지에 얼룩을 만들 수 있습니다. 습기 센서는 습기를 감지하고 조절하기 위해 사용되며, 도배지에 수분을 유지하고 곰팡이 및 좀비와 같은 미생물이 성장하는 데 도움이 될 수 있습니다.7. 흙: 흙은 도배지에 얼룩을 만들 수 있습니다. 흙은 습기를 유지하고 곰팡이 및 좀비와 같은 미생물이 성장하는 데 도움이 될 수 있습니다.8. 흑점: 흑점은 도배지에 얼룩을 만들 수 있습니다. 흑점은 습기를 유지하고 곰팡이 및 좀비와 같은 미생물이 성장하는 데 도움이 될 수 있습니다.9. 습기 센서: 습기 센서는 도배지에 얼룩을 만들 수 있습니다. 습기 센서는 습기를 감지하고 조절하기 위해 사용되며, 도배지에 수분을 유지하고 곰팡이 및 좀비와 같은 미생물이 성장하는 데 도움이 될 수 있습니다.10. 화학 반응: 도배지에 침투하는 화학 물질이 있으면 도배지 표면에 얼룩이 생길 수 있습니다. 이러한 화학 물질은 습기, 수분 또는 화학 물질이 포함된 공기 중의 분자로부터 도배지에 침투할 수 있습니다.11. 습기 센서: 습기 센서는 도배지에 얼룩을 만들 수 있습니다. 습기 센서는 습기를 감지하고 조절하기 위해 사용되며, 도배지에 수분을 유지하고 곰팡이 및 좀비와 같은 미생물이 성장하는 데 도움이 될 수 있습니다.12. 흙: 흙은 도배지에 얼룩을 만들 수 있습니다. 흙은 습기를 유지하고 곰팡이 및 좀비와 같은 미생물이 성장하는 데 도움이 될 수 있습니다.13. 흑점: 흑점은 도배지에 얼룩을 만들 수 있습니다. 흑점은 습기를 유지하고 곰팡이 및 좀비와 같은 미생물이 성장하는 데 도움이 될 수 있습니다.14. 습기 센서: 습기 센서는 도배지에 얼룩을 만들 수 있습니다. 습기 센서는 습기를 감지하고 조절하기 위해 사용되며, 도배지에 수분을 유지하고 곰팡이 및 좀비와 같은 미생물이 성장하는 데 도움이 될 수 있습니다.15. 화학 반응: 도배지에 침투하는 화학 물질이 있으면 도배지 표면에 얼룩이 생길 수 있습니다. 이러한 화학 물질은 습기, 수분 또는 화학 물질이 포함된 공기 중의 분자로부터 도배지에 침투할 수 있습니다.16. 습기 센서: 습기 센서는 도배지에 얼룩을 만들 수 있습니다. 습기 센서는 습기를 감지하고 조절하기 위해 사용되며, 도배지에 수분을 유지하고 곰팡이 및 좀비와 같은 미\n"
          ]
        },
        {
          "output_type": "stream",
          "name": "stderr",
          "text": [
            "\r  8%|▊         | 10/130 [24:34<5:43:00, 171.51s/it]"
          ]
        },
        {
          "output_type": "stream",
          "name": "stdout",
          "text": [
            "고층 건물을 건설할 때 철골 구조가 주로 선택되는 이유는 여러 가지가 있습니다:1. 강도: 철골 구조는 강도가 높아 더 높은 높이로 건설할 수 있습니다. 철골 구조는 강도가 높은 철강을 사용하여 지진, 풍력 및 다른 외부 요인으로부터 건물을 보호할 수 있습니다.2. 가벼움: 철골 구조는 철골 자체가 가볍기 때문에 가벼워요. 이는 건설 시 더 많은 층을 지을 수 있게 해줍니다. 가벼운 건물은 지반에 가해지는 하중을 줄여 건물을 지탱하는 데 필요한 지반의 크기를 줄일 수 있습니다.3. 속도: 철골 구조는 조립식 방식으로 설계되어 설치가 빠르고 쉽습니다. 이는 건설 시간을 단축하여 건설 비용을 절감할 수 있습니다.4. 유연성: 철골 구조는 지진 및 풍력과 같은 외부 요인에 대해 더 유연하고 탄력적입니다. 이는 건물이 흔들리거나 휨하는 것을 방지하여 건물의 안전을 보장하는 데 도움이 됩니다.5. 재활용성: 철골 구조는 재활용이 가능하여 건물이 더 이상 사용되지 않을 때 철골을 재활용하여 자원을 절약할 수 있습니다.6. 디자인 유연성: 철골 구조는 건물 내부에 열린 공간을 만들 수 있어 디자인 유연성을 제공합니다. 이는 건물 내부에 다양한 사용 방법을 가능하게 하고 테마별 설계를 쉽게 할 수 있습니다.요약하면, 철골 구조는 강도, 가벼움, 속도, 유연성, 재활용성 및 디자인 유연성 때문에 고층 건물 건설에 주로 선택됩니다.\n"
          ]
        },
        {
          "output_type": "stream",
          "name": "stderr",
          "text": [
            "\r  8%|▊         | 11/130 [27:42<5:50:32, 176.74s/it]"
          ]
        },
        {
          "output_type": "stream",
          "name": "stdout",
          "text": [
            "유성 페인트는 일반적으로 유성 잉크, 색소, 용매, 첨가제 등의 다양한 성분으로 구성됩니다. 이러한 성분은 생산 및 사용 과정에서 환경에 해를 끼칠 수 있습니다. 유성 페인트의 환경 오염의 몇 가지 예는 다음과 같습니다:1. 화학 물질의 방출: 유성 페인트 제조 공정에서 방출되는 화학 물질은 대기 오염을 야기할 수 있습니다. 이러한 화학 물질에는 휘발성 유기 화합물(VOC)이 포함될 수 있으며, 이는 오존 층 파괴와 관련이 있습니다. 또한 이러한 화학 물질은 산성비를 유발하여 수생 생태계에 해를 끼칠 수 있습니다.2. 휘발성 유기 화합물(VOC): 유성 페인트는 높은 수준의 VOC를 함유하고 있어 대기 오염을 유발할 수 있습니다. VOC는 건조 과정에서 대기로 방출되며, 대기 오염, 산성비, 오존 층 파괴와 관련이 있습니다. 특히 실내에서 유성 페인트를 사용할 때는 높은 수준의 VOC가 건조 과정에서 방출되어 실내 공기 질을 악화시킬 수 있습니다.3. 폐기물 및 배출물: 유성 페인트는 사용 후 폐기물이 발생하여 매립지 오염, 생태계 손상 및 물 오염을 유발할 수 있습니다. 또한 유성 페인트의 사용 및 폐기 과정에서 발생하는 배출물은 수생 생태계에 해를 끼칠 수 있습니다. 이러한 배출물은 수생 생태계의 수질을 악화시키고 수생 생물의 생존에 필요한 산소 수준을 감소시킬 수 있습니다.4. 폐기물 관리 문제: 유성 페인트 제품의 폐기물 관리는 환경 오염을 야기할 수 있는 또 다른 주요 문제입니다. 유성 페인트 용기는 플라스틱 또는 금속 재질로 제조되어 폐기물 처리 시 환경에 해를 끼칠 수 있습니다. 또한 폐기물 처리 과정에서 유성 페인트가 토양 또는 수계에 유출되어 환경 오염을 야기할 수 있습니다.5. 생태계 영향: 유성 페인트는 생태계에 직접적인 영향을 미칠 수도 있습니다. 유성 페인트가 수계에 유출되면 수생 생물의 생존에 필요한 산소 수준을 감소시켜 수생 생태계에 악영향을 미칠 수 있습니다. 또한 유성 페인트가 토양에 침투하면 토양 생물의 생존에 필요한 산소 수준을 감소시켜 토양 생태계에 악영향을 미칠 수 있습니다.요약하면, 유성 페인트는 생산 및 사용 과정에서 대기 오염, 산성비, 생태계 손상, 물 오염, 폐기물 처리 문제 등 다양한 환경 오염 문제를 야기할 수 있습니다. 이러한 문제를 해결하기 위해서는 유성 페인트의 생산, 사용 및 폐기 과정에서 환경 영향을 줄이기 위한 조치가 필요합니다.\n"
          ]
        },
        {
          "output_type": "stream",
          "name": "stderr",
          "text": [
            "\r  9%|▉         | 12/130 [28:52<4:43:29, 144.15s/it]"
          ]
        },
        {
          "output_type": "stream",
          "name": "stdout",
          "text": [
            "훼손과 오염은 서로 다른 개념이지만 두 가지 모두 건물의 건전성에 영향을 미칠 수 있습니다. 훼손은 건물 구조물의 손상을 의미하며, 건물 구조물이 제대로 작동하지 않거나 건물의 안전에 영향을 미칠 수 있습니다. 오염은 건물 내부 또는 외부에 존재하는 건물 구조물을 손상시키거나 건물의 건전성에 영향을 미치는 모든 유해한 물질을 의미합니다.부실 시공으로 인해 타공하자가 발생할 수 있습니다. 타공하자는 건물 구조물의 손상으로 인해 건물 구조물이 제대로 작동하지 않거나 건물의 안전에 영향을 미칠 수 있습니다. 부실 시공은 건물 구조물이 올바르게 설계되지 않았거나 건설 중에 올바르게 구현되지 않았기 때문일 수 있습니다. 예를 들어, 부실 시공으로 인해 건물 구조물이 부분적으로 손상되거나 부분적으로 결함이 있을 수 있습니다. 이러한 경우 타공하자가 발생하여 건물의 건전성에 영향을 미칠 수 있습니다.\n"
          ]
        },
        {
          "output_type": "stream",
          "name": "stderr",
          "text": [
            "\r 10%|█         | 13/130 [31:16<4:40:50, 144.02s/it]"
          ]
        },
        {
          "output_type": "stream",
          "name": "stdout",
          "text": [
            "철골 콘크리트 구조에서 사용되는 철근은 철근이라고도 하며, 일반적으로 강철로 만들어집니다. 철근은 철골 콘크리트 구조의 강도와 강성을 높이는 데 중요한 역할을 합니다. 철근은 다양한 크기와 강도의 코일로 제공됩니다. 코일 내부에는 철근이 감겨 있으며, 철근은 콘크리트 주입 중 콘크리트에 걸리는 응력을 분산시키고 줄여 콘크리트의 균열을 방지하는 데 도움이 됩니다.철근은 일반적으로 철골 콘크리트 구조에 적용하기 위해 긴 연장을 가지고 있습니다. 이 연장은 콘크리트가 굳어 강화되는 동안 철근의 연장을 방해하지 않고 철근을 콘크리트에 쉽게 삽입할 수 있도록 합니다. 철근의 연장은 또한 철근이 콘크리트 내에 삽입된 후 콘크리트가 굳어 강화되는 동안 철근의 연장을 방해하지 않고 철근을 콘크리트에 쉽게 삽입할 수 있도록 합니다.철근은 일반적으로 철골 콘크리트 구조에 적용하기 위해 긴 연장을 가지고 있습니다. 이 연장은 콘크리트가 굳어 강화되는 동안 철근의 연장을 방해하지 않고 철근을 콘크리트에 쉽게 삽입할 수 있도록 합니다. 철근의 연장은 또한 철근이 콘크리트 내에 삽입된 후 콘크리트가 굳어 강화되는 동안 철근의 연장을 방해하지 않고 철근을 콘크리트에 쉽게 삽입할 수 있도록 합니다.철근은 철골 콘크리트 구조에 적용하기 위해 긴 연장을 가지고 있습니다. 이 연장은 콘크리트가 굳어 강화되는 동안 철근의 연장을 방해하지 않고 철근을 콘크리트에 쉽게 삽입할 수 있도록 합니다. 철근의 연장은 또한 철근이 콘크리트 내에 삽입된 후 콘크리트가 굳어 강화되는 동안 철근의 연장을 방해하지 않고 철근을 콘크리트에 쉽게 삽입할 수 있도록 합니다.\n"
          ]
        },
        {
          "output_type": "stream",
          "name": "stderr",
          "text": [
            "\r 11%|█         | 14/130 [36:05<6:03:00, 187.76s/it]"
          ]
        },
        {
          "output_type": "stream",
          "name": "stdout",
          "text": [
            "방염벽지는 실크벽지와 합지벽지와 다음과 같은 몇 가지 차이점이 있습니다:1. 구성: 방염벽지는 실크벽지와 합지벽지와 달리 실크가 아닌 면으로 만들어집니다. 면은 실크보다 더 강하고 내구성이 뛰어나며 비용이 저렴하기 때문에 더 일반적인 소재입니다.2. 무게: 방염벽지는 실크벽지와 합지벽지에 비해 더 무겁습니다. 이는 방염벽지가 면으로 만들어져 있기 때문입니다. 면은 실크보다 무겁고 더 두꺼워서 벽지가 더 무거워집니다.3. 방염성: 방염벽지는 실크벽지와 합지벽지에 비해 더 방염성이 뛰어납니다. 이는 면이 실크보다 더 방염성이 뛰어나기 때문입니다. 방염벽지는 습기를 흡수하고 방출하는 능력이 더 뛰어나 습기로 인한 벽의 손상을 방지하는 데 도움이 됩니다.4. 가격: 방염벽지는 실크벽지와 합지벽지에 비해 비용이 저렴합니다. 이는 면이 실크보다 더 저렴한 소재이기 때문입니다. 또한 방염벽지는 실크벽지와 합지벽지에 비해 더 두껍고 튼튼하기 때문에 벽지의 수명이 더 길어집니다.5. 수명: 방염벽지는 실크벽지와 합지벽지에 비해 더 길게 사용할 수 있습니다. 이는 면이 실크보다 더 강하고 내구성이 뛰어나기 때문입니다. 또한 방염벽지는 실크벽지와 합지벽지에 비해 더 두껍고 튼튼하기 때문에 더 오래 사용할 수 있습니다.6. 수리: 방염벽지는 실크벽지와 합지벽지에 비해 수리가 더 어렵습니다. 이는 면이 실크보다 더 단단하고 수리하기 어려운 소재이기 때문입니다. 또한 방염벽지는 실크벽지와 합지벽지에 비해 더 두껍고 튼튼하기 때문에 수리가 더 어렵습니다.7. 잔류 수분: 방염벽지는 실크벽지와 합지벽지에 비해 더 많은 수분을 흡수하고 방출할 수 있습니다. 이는 면이 실크보다 더 많은 수분을 흡수하고 방출할 수 있는 능력이 더 뛰어나기 때문입니다. 이는 습기로 인한 벽의 손상을 방지하는 데 도움이 됩니다.8. 디자인: 방염벽지는 실크벽지와 합지벽지에 비해 더 다양한 디자인을 제공합니다. 이는 면이 실크보다 더 다양한 디자인과 색상을 만들 수 있기 때문입니다. 방염벽지는 실크벽지와 합지벽지에 비해 더 다양한 디자인을 제공하므로 더 다양한 디자인과 색상을 선택할 수 있습니다.9. 흡습성: 방염벽지는 실크벽지와 합지벽지에 비해 더 많은 수분을 흡수할 수 있습니다. 이는 면이 실크보다 더 많은 수분을 흡수할 수 있는 능력이 더 뛰어나기 때문입니다. 이는 습기로 인한 벽의 손상을 방지하는 데 도움이 됩니다.10. 단단함: 방염벽지는 실크벽지와 합지벽지에 비해 더 단단합니다. 이는 면이 실크보다 더 단단하고 튼튼한 소재이기 때문입니다. 방염벽지는 실크벽지와 합지벽지에 비해 더 두껍고 튼튼하기 때문에 더 단단합니다.11. 투명도: 방염벽지는 실크벽지와 합지벽지에 비해 투명도가 떨어집니다. 이는 면이 실크보다 투명도가 떨어진다는 것을 의미합니다. 방염벽지는 실크벽지와 합지벽지에 비해 더 두껍고 튼튼하기 때문에 투명도가 떨어집니다.12. 수분 흡수 능력: 방염벽지는 실크벽지와 합지벽지에 비해 더 많은 수분을 흡수할 수 있습니다. 이는 면이 실크보다 더 많은 수분을 흡수할 수 있는 능력이 더 뛰어나기 때문입니다. 이는 습기로 인한 벽의 손상을 방지하는 데 도움이 됩니다.13. 내구성: 방염벽지는 실크벽지와 합지벽지에 비해 더 내구성이 뛰어납니다. 이는 면이 실크보다 더 강하고 내구성이 뛰어나기 때문입니다. 방염벽지는 실크벽지와 합지벽지에 비해 더 두껍고 튼튼하기\n"
          ]
        },
        {
          "output_type": "stream",
          "name": "stderr",
          "text": [
            "\r 12%|█▏        | 15/130 [38:18<5:28:31, 171.40s/it]"
          ]
        },
        {
          "output_type": "stream",
          "name": "stdout",
          "text": [
            "도배지에 곰팡이가 생기는 것은 주로 높은 습도와 열악한 환기로 인해 발생합니다. 곰팡이를 방지하고 이미 발생한 곰팡이를 제거하려면 다음 단계를 따르세요:1. 습도를 조절합니다: 도배지에 곰팡이가 생기는 주요 원인은 높은 습도입니다. 집의 습도를 60% 이하로 유지하세요. 이를 위해 환기 시스템을 사용하거나 공기 청정기나 공기 제습기를 사용하세요.2. 환기를 개선합니다: 곰팡이는 습한 환경에서 번식하므로 집 전체의 환기를 개선하는 것이 중요합니다. 충분한 환기를 위해 창문을 열고 풍기를 사용하세요. 또한 환기 시스템을 설치하여 공기를 상층부로 올려보내고 공기를 갱신할 수 있습니다.3. 도배지를 건조하세요: 곰팡이는 젖은 표면에서 번식하므로 도배지를 건조하도록 유지하세요. 습기가 많은 표면을 깨끗하고 건조하게 유지하세요. 손상된 도배지를 제거하고 깨끗하고 건조한 표면에 새로운 도배지를 바르세요.4. 곰팡이 제거: 도배지에 곰팡이가 생긴 부분을 벗겨내고 살균제로 살균하세요. 곰팡이가 생기지 않도록 깨끗하고 건조한 표면에 새로운 도배지를 바르세요.5. 곰팡이가 발생하지 않도록 하세요: 곰팡이가 다시 생기지 않도록 습도와 환기를 계속 조절하세요. 또한 손상된 도배지를 즉시 수리하고 젖은 표면을 깨끗하고 건조하게 유지하세요.곰팡이는 깨끗하고 건조한 환경에서 번식하지 않으므로 습기를 제어하고 도배지를 건조하고 깨끗하게 유지하는 것이 중요합니다. 곰팡이 발생 시 빠르게 대처하고 곰팡이 발생을 방지하기 위한 조치를 시행하면 곰팡이 발생을 예방하고 건강한 생활 환경을 유지할 수 있습니다.\n"
          ]
        },
        {
          "output_type": "stream",
          "name": "stderr",
          "text": [
            "\r 12%|█▏        | 16/130 [40:23<4:59:10, 157.46s/it]"
          ]
        },
        {
          "output_type": "stream",
          "name": "stdout",
          "text": [
            "롱브릭타일은 긴 직사각형 모양의 타일로, 일반적으로 옥스퍼드 스톤 타일이라고도 불립니다. 이 타일은 주로 바닥, 벽, 지붕 덮개로 사용되며, 긴 모양 덕분에 넓은 공간을 덮을 수 있습니다. 롱브릭타일은 여러 가지 색상과 패턴으로 제공되며, 전통적인 벽돌 타일이나 다양한 모양과 크기의 타일로 만들어진 모자이크 타일과 같은 다양한 스타일과 디자인으로 사용할 수 있습니다.페인트 상도재는 도장이나 스핀 코팅 공정에서 사용되는 특별한 유형의 페인트입니다. 이 페인트는 표면에 균일하게 도포되고 고르게 도포되도록 설계되어 있으며, 고르고 매끄러운 피니쉬를 만들기 위해 사용됩니다. 페인트 상도재는 주로 자동차 및 항공기 산업에서 사용되며, 이러한 산업에서는 균일한 피니쉬가 매우 중요합니다.페인트 상도재는 도장 프로세스에서 두 가지 방법으로 사용될 수 있습니다. 첫째, 도장 전에 표면을 준비하는 데 사용할 수 있습니다. 이 경우 표면을 깨끗하게 만들고 불균일한 부분을 채우기 위해 사용됩니다. 이렇게 하면 도장 프로세스가 더 쉽고 균일한 피니쉬를 얻을 수 있습니다.둘째, 도장 후에 사용하여 균일한 피니쉬를 만들 수 있습니다. 이 경우 도장이 균일하게 분포되고 고르게 도포되도록 도와줍니다. 또한 도장 프로세스가 끝난 후 표면을 보호하고 균일한 피니쉬를 유지하는 데도 도움이 됩니다.전반적으로 페인트 상도재는 균일하고 매끄러운 피니쉬를 만들기 위해 도장 프로세스에서 중요한 역할을 합니다. 이를 통해 표면이 깨끗하고 균일하며 보호되어 최고의 품질과 피니쉬를 제공할 수 있습니다.\n"
          ]
        },
        {
          "output_type": "stream",
          "name": "stderr",
          "text": [
            "\r 13%|█▎        | 17/130 [45:12<6:10:54, 196.94s/it]"
          ]
        },
        {
          "output_type": "stream",
          "name": "stdout",
          "text": [
            "준불연재는 불연재보다 덜 불연성이지만 불연재보다 더 불연성인 재료입니다. 준불연재는 불에 약간 불연성이지만 불연재보다 더 불연성이지만 불연재보다 더 불연성이지만 불연재보다 더 불연성이지만 불연재보다 더 불연성이지만 불연재보다 더 불연성이지만 불연재보다 더 불연성이지만 불연재보다 더 불연성이지만 불연재보다 더 불연성이지만 불연재보다 더 불연성이지만 불연재보다 더 불연성이지만 불연재보다 더 불연성이지만 불연재보다 더 불연성이지만 불연재보다 더 불연성이지만 불연재보다 더 불연성이지만 불연재보다 더 불연성이지만 불연재보다 더 불연성이지만 불연재보다 더 불연성이지만 불연재보다 더 불연성이지만 불연재보다 더 불연성이지만 불연재보다 더 불연성이지만 불연재보다 더 불연성이지만 불연재보다 더 불연성이지만 불연재보다 더 불연성이지만 불연재보다 더 불연성이지만 불연재보다 더 불연성이지만 불연재보다 더 불연성이지만 불연재보다 더 불연성이지만 불연재보다 더 불연성이지만 불연재보다 더 불연성이지만 불연재보다 더 불연성이지만 불연재보다 더 불연성이지만 불연재보다 더 불연성이지만 불연재보다 더 불연성이지만 불연재보다 더 불연성이지만 불연재보다 더 불연성이지만 불연재보다 더 불연성이지만 불연재보다 더 불연성이지만 불연재보다 더 불연성이지만 불연재보다 더 불연성이지만 불연재보다 더 불연성이지만 불연재보다 더 불연성이지만 불연재보다 더 불연성이지만 불연재보다 더 불연성이지만 불연재보다 더 불연성이지만 불연재보다 더 불연성이지만 불연재보다 더 불연성이지만 불연재보다 더 불연성이지만 불연재보다 더 불연성이지만 불연재보다 더 불연성이지만 불연재보다 더 불연성이지만 불연재보다 더 불연성이지만 불연재보다 더 불연성이지만 불연재보다 더 불연성이지만 불연재보다 더 불연성이지만 불연재보다 더 불연성이지만 불연재보다 더 불연성이지만 불연재보다 더 불연성이지만 불연재보다 더 불연성이지만 불연재보다 더 불연성이지만 불연재보다 더 불연성이지만 불연재보다 더 불연성이지만 불연재보다 더 불연성이지만 불연재보다 더 불연성이지만 불연재보다 더 불연성이지만 불연재보다 더 불연성이지만 불연재보다 더 불연성이지만 불연재보다 더 불연성이지만 불연재보다 더 불연성이지만 불연재보다 더 불연성이지만 불연재보다 더 불연성이지만 불연재보다 더 불연성이지만 불연재보다 더 불연성이지만 불연재보다 더 불연성이지만 불연재보다 더 불연성이지만 불연재보다 더 불연성이지만 불연재보다 더 불연성이지만 불연재보다 더 불연성이지만 불연재보다 더 불연성이지만 불연재보다 더 불연성이지만 불연재보다 더 불연성이지만 불연재보다 더 불연성이지만 불연재보다 더 불연성이지만 불연재보다 더 불연성이지만 불연재보다 더 불연성이지만 불연재보다 더 불연성이지만 불연재보다 더 불연성이지만 불연재보다 더 불연성이지만 불연재보다 더 불연성이지만 불연재보다 더 불연성이지만 불연재보다 더 불연성이지만 불연재보다 더 불연성이지만 불연재보다 더 불연성이지만 불연재보다 더 불연성이지만 불연재보다 더 불연성이지만 불연재보다 더 불연성이지만 불연재보다 더 불연성이지만 불연재보다 더 불연성이지만 불연재보다 더 불연성이지만 불연재보다 더 불연성이지만 불연재보다 더 불연성이지만 불연재보다 더 불연성이지만 불연재보다 더 불연성이지만 불연재보다 더 불연성이지만 불연재보다 더 불연성이지만 불연재보다 더 불연성이지만 불연재보다 더 불연성이지만 불연재보다 더 불연성이지만 불연재보다 더 불연성이지만 불연재보다 더 불연성이지만 불연재보다 더 불연성이지만 불연재보다 더 불연성이지만 불연재보다 더 불연성이지만 불연재보다 더 불연성이지만 불연재보다 더 불연성이지만 불연재보다 더 불연성이지만 불연재보다 더 불연성이지만 불연재보다 더 불연성이지만 불연재보다 더 불연성이지만 불연재보다 더 불연성이지만 불연재보다 더 불연성이지만 불연재보다 더 불연성이지만 불연재보다 더 불연성이지만 불연재보다 더 불연성이지만 불연재보다 더 불연성이지만 불연재보다 더 불연성이지만 불연재보다 더 불연성이지만 불연재보다 더 불연성이지만 불연재보다 더 불연성이지만 불연재보다\n"
          ]
        },
        {
          "output_type": "stream",
          "name": "stderr",
          "text": [
            "\r 14%|█▍        | 18/130 [46:52<5:13:09, 167.76s/it]"
          ]
        },
        {
          "output_type": "stream",
          "name": "stdout",
          "text": [
            "몰딩 수정에 영향을 미치는 환경 요인은 다음과 같습니다:1. 햇빛: 몰딩은 햇빛에 노출되면 색이 바뀔 수 있으며, 이는 몰딩 수정을 유발할 수 있습니다.2. 온도 변화: 몰딩은 온도 변화에 민감하여 뜨거워지거나 추워지면 변형될 수 있습니다. 이는 몰딩 수정으로 이어질 수 있습니다.3. 습도: 몰딩은 습도 변화에 민감하여 습도가 높으면 몰딩이 부풀어 오르거나 갈라질 수 있습니다. 이는 몰딩 수정으로 이어질 수 있습니다.4. 기타 환경 요인: 화학 물질, 기타 물질 또는 몰딩 주변의 다른 요인은 몰딩의 품질에 영향을 미쳐 몰딩 수정을 유발할 수 있습니다.반점이 생긴 지 1년 이내인 하자에 대한 보수작업은 다음과 같습니다:1. 몰딩 수정: 몰딩이 변형되거나 떨어지는 경우 수리 및 수정을 통해 원래 상태로 복원할 수 있습니다.2. 새로운 몰딩 설치: 몰딩을 수리하기에는 너무 심각한 경우 새로운 몰딩을 설치하여 문제를 해결할 수 있습니다.3. 환경 조절: 환경 요인으로 인해 몰딩이 손상되는 경우 온도, 습도 또는 다른 환경 요인을 조절하여 몰딩 수정을 방지할 수 있습니다.4. 유지 관리: 몰딩을 청소하고 정기적으로 검사하여 손상을 예방하고 몰딩 수정을 최소화할 수 있습니다.\n"
          ]
        },
        {
          "output_type": "stream",
          "name": "stderr",
          "text": [
            "\r 15%|█▍        | 19/130 [50:23<5:34:24, 180.77s/it]"
          ]
        },
        {
          "output_type": "stream",
          "name": "stdout",
          "text": [
            "물론이죠! 벽에 뚫린 구멍이 이상하게 보이는 경우는 일반적으로 벽을 타공하는 과정에서 발생하는 타공 불량 때문일 수 있습니다. 타공 불량은 다양한 요인에 의해 발생할 수 있으며, 이를 해결하려면 원인을 파악하고 적절한 조치를 취해야 합니다.타공 불량의 가능한 원인은 다음과 같습니다:1. 잘못된 드릴 선택: 잘못된 드릴을 사용하면 타공 시 벽 재료를 손상하거나 흔들림을 유발할 수 있습니다. 벽 재료와 유형에 따라 적합한 드릴을 사용하세요.2. 부적절한 드릴 속도: 드릴을 너무 빠르게 돌리거나 너무 느리게 돌리면 타공 불량이 발생할 수 있습니다. 적절한 속도를 유지하여 타공이 정확하고 깨끗하도록 하세요.3. 부적절한 압력: 타공 중에 부적절한 압력을 가하면 벽을 손상시키거나 흔들림을 유발할 수 있습니다. 타공 시 적절한 압력을 가하세요.4. 부적절한 타공 위치: 타공 위치가 부적절하면 타공 불량이 발생할 수 있습니다. 타공할 위치를 선택할 때 손상을 최소화하고 구멍이 깨끗하도록 하세요.5. 부적절한 드릴 유지 관리: 드릴이 먼지나 오염물로 더러워지면 타공 불량이 발생할 수 있습니다. 드릴을 정기적으로 청소하고 잘 유지하세요.이러한 문제를 해결하려면 다음 단계를 따르세요:1. 타공 불량의 원인을 파악합니다: 타공 불량의 원인을 파악하는 것은 해결책을 찾는 데 중요합니다. 잘못된 드릴, 부적절한 속도, 부적절한 압력, 부적절한 타공 위치, 부적절한 드릴 유지 관리 등 가능한 원인을 확인하세요.2. 적절한 드릴을 사용합니다: 벽 재료와 유형에 따라 적절한 드릴을 사용하세요. 이렇게 하면 벽 재료를 손상시키거나 흔들림을 유발하는 것을 방지할 수 있습니다.3. 적절한 속도를 유지하세요: 타공 시 드릴을 너무 빠르게 돌리거나 너무 느리게 돌리면 타공 불량이 발생할 수 있습니다. 적절한 속도를 유지하여 타공이 정확하고 깨끗하도록 하세요.4. 적절한 압력을 가하세요: 타공 중에 부적절한 압력을 가하면 벽을 손상시키거나 흔들림을 유발할 수 있습니다. 타공 시 적절한 압력을 가하세요.5. 적절한 타공 위치를 선택하세요: 타공 위치가 부적절하면 타공 불량이 발생할 수 있습니다. 타공할 위치를 선택할 때 손상을 최소화하고 구멍이 깨끗하도록 하세요.6. 드릴을 청소하고 잘 유지하세요: 드릴이 먼지나 오염물로 더러워지면 타공 불량이 발생할 수 있습니다. 드릴을 정기적으로 청소하고 잘 유지하세요.이러한 단계를 따르면 벽에 뚫린 구멍이 이상하게 보이는 문제를 해결하고 타공 결과물을 개선할 수 있습니다.\n"
          ]
        },
        {
          "output_type": "stream",
          "name": "stderr",
          "text": [
            "\r 15%|█▌        | 20/130 [52:07<4:49:19, 157.81s/it]"
          ]
        },
        {
          "output_type": "stream",
          "name": "stdout",
          "text": [
            "아레카 야자를 키우는 것과 더 고급스럽게 꾸미는 것은 다음과 같은 관계가 있습니다:1. 아레카 야자를 키우는 것: 아레카 야자는 다양한 종류의 아레카 야자가 있는 아름다운 식물입니다. 아레카 야자는 침실, 식당, 셔터 등 다양한 공간에 꾸미기에 좋은 선택입니다. 아레카 야자는 공기 중의 미세 먼지를 흡수하고 환기를 돕는 등 다양한 이점이 있습니다. 또한 높은 잎과 푸른 색상으로 인해 공간을 밝게 하고 고급스럽게 보이게 할 수 있습니다.2. 고급스럽게 꾸미기: 더 고급스럽게 꾸미는 것은 침실을 더 우아하고 우아하게 만드는 것을 의미합니다. 이를 위해 다양한 방법이 있습니다. 예를 들어, 고급스러운 패브릭 텐트, 침구, 장식품 등 고급스러운 소재를 사용할 수 있습니다. 또한 침실 디자인에 조화를 가져다주고 공간을 밝게 하는 데 도움이 되는 아레카 야자와 같은 식물을 추가할 수 있습니다. 전반적으로 고급스럽게 꾸미는 것은 고급스럽고 우아한 느낌을 주는 고급스럽고 우아한 재료를 사용하는 것을 의미합니다.결론적으로, 아레카 야자를 키우는 것은 침실에 고급스러운 느낌을 더하는 데 도움이 되는 놀라운 식물이며, 고급스럽게 꾸미는 것은 침실을 더 우아하고 우아하게 만드는 데 도움이 되는 다양한 방법을 의미합니다.\n"
          ]
        },
        {
          "output_type": "stream",
          "name": "stderr",
          "text": [
            "\r 16%|█▌        | 21/130 [56:55<5:57:31, 196.80s/it]"
          ]
        },
        {
          "output_type": "stream",
          "name": "stdout",
          "text": [
            "네, 물론이죠! 석고수정은 옥수수가 수분이 많아 발생하는 현상입니다. 옥수수가 많은 수분을 흡수하면 수정처럼 보이는 석고수정이 생길 수 있습니다. 이는 옥수수가 과도한 수분을 흡수하면 발생하는 일반적인 현상입니다.피스 하자는 피스 하자는 피스 하자는 피스 하자는 피스 하자는 피스 하자는 피스 하자는 피스 하자는 피스 하자는 피스 하자는 피스 하자는 피스 하자는 피스 하자는 피스 하자는 피스 하자는 피스 하자는 피스 하자는 피스 하자는 피스 하자는 피스 하자는 피스 하자는 피스 하자는 피스 하자는 피스 하자는 피스 하자는 피스 하자는 피스 하자는 피스 하자는 피스 하자는 피스 하자는 피스 하자는 피스 하자는 피스 하자는 피스 하자는 피스 하자는 피스 하자는 피스 하자는 피스 하자는 피스 하자는 피스 하자는 피스 하자는 피스 하자는 피스 하자는 피스 하자는 피스 하자는 피스 하자는 피스 하자는 피스 하자는 피스 하자는 피스 하자는 피스 하자는 피스 하자는 피스 하자는 피스 하자는 피스 하자는 피스 하자는 피스 하자는 피스 하자는 피스 하자는 피스 하자는 피스 하자는 피스 하자는 피스 하자는 피스 하자는 피스 하자는 피스 하자는 피스 하자는 피스 하자는 피스 하자는 피스 하자는 피스 하자는 피스 하자는 피스 하자는 피스 하자는 피스 하자는 피스 하자는 피스 하자는 피스 하자는 피스 하자는 피스 하자는 피스 하자는 피스 하자는 피스 하자는 피스 하자는 피스 하자는 피스 하자는 피스 하자는 피스 하자는 피스 하자는 피스 하자는 피스 하자는 피스 하자는 피스 하자는 피스 하자는 피스 하자는 피스 하자는 피스 하자는 피스 하자는 피스 하자는 피스 하자는 피스 하자는 피스 하자는 피스 하자는 피스 하자는 피스 하자는 피스 하자는 피스 하자는 피스 하자는 피스 하자는 피스 하자는 피스 하자는 피스 하자는 피스 하자는 피스 하자는 피스 하자는 피스 하자는 피스 하자는 피스 하자는 피스 하자는 피스 하자는 피스 하자는 피스 하자는 피스 하자는 피스 하자는 피스 하자는 피스 하자는 피스 하자는 피스 하자는 피스 하자는 피스 하자는 피스 하자는 피스 하자는 피스 하자는 피스 하자는 피스 하자는 피스 하자는 피스 하자는 피스 하자는 피스 하자는 피스 하자는 피스 하자는 피스 하자는 피스 하자는 피스 하자는 피스 하자는 피스 하자는 피스 하자는 피스 하자는 피스 하자는 피스 하자는 피스 하자는 피스 하자는 피스 하자는 피스 하자는 피스 하자는 피스 하자는 피스 하자는 피스 하자는 피스 하자는 피스 하자는 피스 하자는 피스 하자는 피스 하자는 피스 하자는 피스 하자는 피스 하자는 피스 하자는 피스 하자는 피스 하자는 피스 하자는 피스 하자는 피스 하자는 피스 하자는 피스 하자는 피스 하자는 피스 하자는 피스 하자는 피스 하자는 피스 하자는 피스 하자는 피스 하자는 피스 하자는 피스 하자는 피스 하자는 피스 하자는 피스 하자는 피스 하자는 피스 하자는 피스 하자는 피스 하자는 피스 하자는 피스 하자는 피스 하자는 피스 하자는 피스 하자는 피스 하자는 피스 하자는 피스 하자는 피스 하자는 피스 하자는 피스 하자는 피스 하자는 피스 하자는 피스 하자는 피스 하자는 피스 하자는 피스 하자는 피스 하자는 피스 하자는 피스 하자는 피스 하자는 피스 하자는 피스 하자는 피스 하자는 피스 하자는 피스 하자는 피스 하자는 피스 하자는 피스 하자는 피스 하자는 피스 하자는 피스 하자는 피스 하자는 피스 하자는 피스 하자는 피스 하자는 피스 하자는 피스 하자는 피스 하자는 피스 하자는 피스 하자는 피스 하자는 피스 하자는 피스 하자는 피스 하자는 피스 하자는 피스 하자는 피스 하자는 피스 하자는 피스 하자는 피스 하자는 피스 하자는 피스 하자는 피스 하자는 피스 하자는 피스 하자는 피스 하자는 피스 하자는 피스 하자는 피스 하자는 피스 하자는 피스 하자는 피스 하자는 피스 하자는 피스 하자는 피스 하자는 피스 하자는 피스 하자는 피스 하자는 피스 하자는 피스 하자는 피스 하자는 피스\n"
          ]
        },
        {
          "output_type": "stream",
          "name": "stderr",
          "text": [
            "\r 17%|█▋        | 22/130 [57:50<4:37:53, 154.38s/it]"
          ]
        },
        {
          "output_type": "stream",
          "name": "stdout",
          "text": [
            "공동주택의 실내 공기질을 측정할 때 어떤 층에서 샘플을 채취해야 하는지는 측정하려는 특정 대상에 따라 달라집니다. 공기 중의 대기 오염 물질이나 화학 물질을 측정하려면 층의 가장 낮은 부분에서 샘플을 채취하는 것이 일반적입니다. 이는 공기가 앙징 현상을 일으키고 가장 낮은 부분으로 가라앉기 때문입니다. 이 부분에서 샘플을 채취하면 공기 중의 오염 물질 농도가 가장 높아질 것입니다.하지만 특정 공동주택 층의 특정 공기 중 오염 물질이나 화학 물질에 대한 정보를 원한다면 해당 층의 공기 중 오염 물질 농도를 정확하게 측정하기 위해 해당 층에서 샘플을 채취하는 것이 좋습니다.\n"
          ]
        },
        {
          "output_type": "stream",
          "name": "stderr",
          "text": [
            "\r 17%|█▋        | 22/130 [1:00:10<4:55:26, 164.14s/it]\n"
          ]
        },
        {
          "output_type": "error",
          "ename": "KeyboardInterrupt",
          "evalue": "",
          "traceback": [
            "\u001b[0;31m---------------------------------------------------------------------------\u001b[0m",
            "\u001b[0;31mKeyboardInterrupt\u001b[0m                         Traceback (most recent call last)",
            "\u001b[0;32m<ipython-input-39-963f48936d05>\u001b[0m in \u001b[0;36m<cell line: 8>\u001b[0;34m()\u001b[0m\n\u001b[1;32m      7\u001b[0m \u001b[0mtest_answers\u001b[0m\u001b[0;34m=\u001b[0m \u001b[0;34m[\u001b[0m\u001b[0;34m]\u001b[0m\u001b[0;34m\u001b[0m\u001b[0;34m\u001b[0m\u001b[0m\n\u001b[1;32m      8\u001b[0m \u001b[0;32mfor\u001b[0m \u001b[0mi\u001b[0m \u001b[0;32min\u001b[0m \u001b[0mtqdm\u001b[0m\u001b[0;34m(\u001b[0m\u001b[0mrange\u001b[0m\u001b[0;34m(\u001b[0m\u001b[0mlen\u001b[0m\u001b[0;34m(\u001b[0m\u001b[0mtest\u001b[0m\u001b[0;34m)\u001b[0m\u001b[0;34m)\u001b[0m\u001b[0;34m)\u001b[0m\u001b[0;34m:\u001b[0m\u001b[0;34m\u001b[0m\u001b[0;34m\u001b[0m\u001b[0m\n\u001b[0;32m----> 9\u001b[0;31m     \u001b[0manswer\u001b[0m \u001b[0;34m=\u001b[0m \u001b[0mgenerate_response\u001b[0m\u001b[0;34m(\u001b[0m\u001b[0mtest\u001b[0m\u001b[0;34m[\u001b[0m\u001b[0;34m'질문'\u001b[0m\u001b[0;34m]\u001b[0m\u001b[0;34m[\u001b[0m\u001b[0mi\u001b[0m\u001b[0;34m]\u001b[0m\u001b[0;34m,\u001b[0m\u001b[0;36m2048\u001b[0m\u001b[0;34m)\u001b[0m\u001b[0;34m\u001b[0m\u001b[0;34m\u001b[0m\u001b[0m\n\u001b[0m\u001b[1;32m     10\u001b[0m     \u001b[0mprint\u001b[0m\u001b[0;34m(\u001b[0m\u001b[0manswer\u001b[0m\u001b[0;34m)\u001b[0m\u001b[0;34m\u001b[0m\u001b[0;34m\u001b[0m\u001b[0m\n\u001b[1;32m     11\u001b[0m     \u001b[0mtest_answers\u001b[0m\u001b[0;34m.\u001b[0m\u001b[0mappend\u001b[0m\u001b[0;34m(\u001b[0m\u001b[0manswer\u001b[0m\u001b[0;34m)\u001b[0m\u001b[0;34m\u001b[0m\u001b[0;34m\u001b[0m\u001b[0m\n",
            "\u001b[0;32m<ipython-input-32-25388f375e75>\u001b[0m in \u001b[0;36mgenerate_response\u001b[0;34m(user_request, max_len)\u001b[0m\n\u001b[1;32m      5\u001b[0m     \u001b[0minputs\u001b[0m \u001b[0;34m=\u001b[0m \u001b[0mtokenizer\u001b[0m\u001b[0;34m(\u001b[0m\u001b[0mprompt\u001b[0m\u001b[0;34m,\u001b[0m \u001b[0mreturn_tensors\u001b[0m\u001b[0;34m=\u001b[0m\u001b[0;34m\"pt\"\u001b[0m\u001b[0;34m)\u001b[0m\u001b[0;34m.\u001b[0m\u001b[0mto\u001b[0m\u001b[0;34m(\u001b[0m\u001b[0mmodel\u001b[0m\u001b[0;34m.\u001b[0m\u001b[0mdevice\u001b[0m\u001b[0;34m)\u001b[0m\u001b[0;34m\u001b[0m\u001b[0;34m\u001b[0m\u001b[0m\n\u001b[1;32m      6\u001b[0m \u001b[0;34m\u001b[0m\u001b[0m\n\u001b[0;32m----> 7\u001b[0;31m     outputs = model.generate(**inputs, \n\u001b[0m\u001b[1;32m      8\u001b[0m                              \u001b[0muse_cache\u001b[0m\u001b[0;34m=\u001b[0m\u001b[0;32mTrue\u001b[0m\u001b[0;34m,\u001b[0m\u001b[0;34m\u001b[0m\u001b[0;34m\u001b[0m\u001b[0m\n\u001b[1;32m      9\u001b[0m                              \u001b[0mmax_length\u001b[0m\u001b[0;34m=\u001b[0m\u001b[0mmax_len\u001b[0m\u001b[0;34m,\u001b[0m\u001b[0;34m\u001b[0m\u001b[0;34m\u001b[0m\u001b[0m\n",
            "\u001b[0;32m/usr/local/lib/python3.10/dist-packages/peft/peft_model.py\u001b[0m in \u001b[0;36mgenerate\u001b[0;34m(self, *args, **kwargs)\u001b[0m\n\u001b[1;32m   1146\u001b[0m             \u001b[0mself\u001b[0m\u001b[0;34m.\u001b[0m\u001b[0mbase_model\u001b[0m\u001b[0;34m.\u001b[0m\u001b[0mgeneration_config\u001b[0m \u001b[0;34m=\u001b[0m \u001b[0mself\u001b[0m\u001b[0;34m.\u001b[0m\u001b[0mgeneration_config\u001b[0m\u001b[0;34m\u001b[0m\u001b[0;34m\u001b[0m\u001b[0m\n\u001b[1;32m   1147\u001b[0m         \u001b[0;32mtry\u001b[0m\u001b[0;34m:\u001b[0m\u001b[0;34m\u001b[0m\u001b[0;34m\u001b[0m\u001b[0m\n\u001b[0;32m-> 1148\u001b[0;31m             \u001b[0moutputs\u001b[0m \u001b[0;34m=\u001b[0m \u001b[0mself\u001b[0m\u001b[0;34m.\u001b[0m\u001b[0mbase_model\u001b[0m\u001b[0;34m.\u001b[0m\u001b[0mgenerate\u001b[0m\u001b[0;34m(\u001b[0m\u001b[0;34m*\u001b[0m\u001b[0margs\u001b[0m\u001b[0;34m,\u001b[0m \u001b[0;34m**\u001b[0m\u001b[0mkwargs\u001b[0m\u001b[0;34m)\u001b[0m\u001b[0;34m\u001b[0m\u001b[0;34m\u001b[0m\u001b[0m\n\u001b[0m\u001b[1;32m   1149\u001b[0m         \u001b[0;32mexcept\u001b[0m\u001b[0;34m:\u001b[0m\u001b[0;34m\u001b[0m\u001b[0;34m\u001b[0m\u001b[0m\n\u001b[1;32m   1150\u001b[0m             \u001b[0mself\u001b[0m\u001b[0;34m.\u001b[0m\u001b[0mbase_model\u001b[0m\u001b[0;34m.\u001b[0m\u001b[0mprepare_inputs_for_generation\u001b[0m \u001b[0;34m=\u001b[0m \u001b[0mself\u001b[0m\u001b[0;34m.\u001b[0m\u001b[0mbase_model_prepare_inputs_for_generation\u001b[0m\u001b[0;34m\u001b[0m\u001b[0;34m\u001b[0m\u001b[0m\n",
            "\u001b[0;32m/usr/local/lib/python3.10/dist-packages/torch/utils/_contextlib.py\u001b[0m in \u001b[0;36mdecorate_context\u001b[0;34m(*args, **kwargs)\u001b[0m\n\u001b[1;32m    113\u001b[0m     \u001b[0;32mdef\u001b[0m \u001b[0mdecorate_context\u001b[0m\u001b[0;34m(\u001b[0m\u001b[0;34m*\u001b[0m\u001b[0margs\u001b[0m\u001b[0;34m,\u001b[0m \u001b[0;34m**\u001b[0m\u001b[0mkwargs\u001b[0m\u001b[0;34m)\u001b[0m\u001b[0;34m:\u001b[0m\u001b[0;34m\u001b[0m\u001b[0;34m\u001b[0m\u001b[0m\n\u001b[1;32m    114\u001b[0m         \u001b[0;32mwith\u001b[0m \u001b[0mctx_factory\u001b[0m\u001b[0;34m(\u001b[0m\u001b[0;34m)\u001b[0m\u001b[0;34m:\u001b[0m\u001b[0;34m\u001b[0m\u001b[0;34m\u001b[0m\u001b[0m\n\u001b[0;32m--> 115\u001b[0;31m             \u001b[0;32mreturn\u001b[0m \u001b[0mfunc\u001b[0m\u001b[0;34m(\u001b[0m\u001b[0;34m*\u001b[0m\u001b[0margs\u001b[0m\u001b[0;34m,\u001b[0m \u001b[0;34m**\u001b[0m\u001b[0mkwargs\u001b[0m\u001b[0;34m)\u001b[0m\u001b[0;34m\u001b[0m\u001b[0;34m\u001b[0m\u001b[0m\n\u001b[0m\u001b[1;32m    116\u001b[0m \u001b[0;34m\u001b[0m\u001b[0m\n\u001b[1;32m    117\u001b[0m     \u001b[0;32mreturn\u001b[0m \u001b[0mdecorate_context\u001b[0m\u001b[0;34m\u001b[0m\u001b[0;34m\u001b[0m\u001b[0m\n",
            "\u001b[0;32m/usr/local/lib/python3.10/dist-packages/transformers/generation/utils.py\u001b[0m in \u001b[0;36mgenerate\u001b[0;34m(self, inputs, generation_config, logits_processor, stopping_criteria, prefix_allowed_tokens_fn, synced_gpus, assistant_model, streamer, negative_prompt_ids, negative_prompt_attention_mask, **kwargs)\u001b[0m\n\u001b[1;32m   1590\u001b[0m \u001b[0;34m\u001b[0m\u001b[0m\n\u001b[1;32m   1591\u001b[0m             \u001b[0;31m# 13. run sample\u001b[0m\u001b[0;34m\u001b[0m\u001b[0;34m\u001b[0m\u001b[0m\n\u001b[0;32m-> 1592\u001b[0;31m             return self.sample(\n\u001b[0m\u001b[1;32m   1593\u001b[0m                 \u001b[0minput_ids\u001b[0m\u001b[0;34m,\u001b[0m\u001b[0;34m\u001b[0m\u001b[0;34m\u001b[0m\u001b[0m\n\u001b[1;32m   1594\u001b[0m                 \u001b[0mlogits_processor\u001b[0m\u001b[0;34m=\u001b[0m\u001b[0mprepared_logits_processor\u001b[0m\u001b[0;34m,\u001b[0m\u001b[0;34m\u001b[0m\u001b[0;34m\u001b[0m\u001b[0m\n",
            "\u001b[0;32m/usr/local/lib/python3.10/dist-packages/transformers/generation/utils.py\u001b[0m in \u001b[0;36msample\u001b[0;34m(self, input_ids, logits_processor, stopping_criteria, logits_warper, max_length, pad_token_id, eos_token_id, output_attentions, output_hidden_states, output_scores, output_logits, return_dict_in_generate, synced_gpus, streamer, **model_kwargs)\u001b[0m\n\u001b[1;32m   2694\u001b[0m \u001b[0;34m\u001b[0m\u001b[0m\n\u001b[1;32m   2695\u001b[0m             \u001b[0;31m# forward pass to get next token\u001b[0m\u001b[0;34m\u001b[0m\u001b[0;34m\u001b[0m\u001b[0m\n\u001b[0;32m-> 2696\u001b[0;31m             outputs = self(\n\u001b[0m\u001b[1;32m   2697\u001b[0m                 \u001b[0;34m**\u001b[0m\u001b[0mmodel_inputs\u001b[0m\u001b[0;34m,\u001b[0m\u001b[0;34m\u001b[0m\u001b[0;34m\u001b[0m\u001b[0m\n\u001b[1;32m   2698\u001b[0m                 \u001b[0mreturn_dict\u001b[0m\u001b[0;34m=\u001b[0m\u001b[0;32mTrue\u001b[0m\u001b[0;34m,\u001b[0m\u001b[0;34m\u001b[0m\u001b[0;34m\u001b[0m\u001b[0m\n",
            "\u001b[0;32m/usr/local/lib/python3.10/dist-packages/torch/nn/modules/module.py\u001b[0m in \u001b[0;36m_wrapped_call_impl\u001b[0;34m(self, *args, **kwargs)\u001b[0m\n\u001b[1;32m   1516\u001b[0m             \u001b[0;32mreturn\u001b[0m \u001b[0mself\u001b[0m\u001b[0;34m.\u001b[0m\u001b[0m_compiled_call_impl\u001b[0m\u001b[0;34m(\u001b[0m\u001b[0;34m*\u001b[0m\u001b[0margs\u001b[0m\u001b[0;34m,\u001b[0m \u001b[0;34m**\u001b[0m\u001b[0mkwargs\u001b[0m\u001b[0;34m)\u001b[0m  \u001b[0;31m# type: ignore[misc]\u001b[0m\u001b[0;34m\u001b[0m\u001b[0;34m\u001b[0m\u001b[0m\n\u001b[1;32m   1517\u001b[0m         \u001b[0;32melse\u001b[0m\u001b[0;34m:\u001b[0m\u001b[0;34m\u001b[0m\u001b[0;34m\u001b[0m\u001b[0m\n\u001b[0;32m-> 1518\u001b[0;31m             \u001b[0;32mreturn\u001b[0m \u001b[0mself\u001b[0m\u001b[0;34m.\u001b[0m\u001b[0m_call_impl\u001b[0m\u001b[0;34m(\u001b[0m\u001b[0;34m*\u001b[0m\u001b[0margs\u001b[0m\u001b[0;34m,\u001b[0m \u001b[0;34m**\u001b[0m\u001b[0mkwargs\u001b[0m\u001b[0;34m)\u001b[0m\u001b[0;34m\u001b[0m\u001b[0;34m\u001b[0m\u001b[0m\n\u001b[0m\u001b[1;32m   1519\u001b[0m \u001b[0;34m\u001b[0m\u001b[0m\n\u001b[1;32m   1520\u001b[0m     \u001b[0;32mdef\u001b[0m \u001b[0m_call_impl\u001b[0m\u001b[0;34m(\u001b[0m\u001b[0mself\u001b[0m\u001b[0;34m,\u001b[0m \u001b[0;34m*\u001b[0m\u001b[0margs\u001b[0m\u001b[0;34m,\u001b[0m \u001b[0;34m**\u001b[0m\u001b[0mkwargs\u001b[0m\u001b[0;34m)\u001b[0m\u001b[0;34m:\u001b[0m\u001b[0;34m\u001b[0m\u001b[0;34m\u001b[0m\u001b[0m\n",
            "\u001b[0;32m/usr/local/lib/python3.10/dist-packages/torch/nn/modules/module.py\u001b[0m in \u001b[0;36m_call_impl\u001b[0;34m(self, *args, **kwargs)\u001b[0m\n\u001b[1;32m   1525\u001b[0m                 \u001b[0;32mor\u001b[0m \u001b[0m_global_backward_pre_hooks\u001b[0m \u001b[0;32mor\u001b[0m \u001b[0m_global_backward_hooks\u001b[0m\u001b[0;34m\u001b[0m\u001b[0;34m\u001b[0m\u001b[0m\n\u001b[1;32m   1526\u001b[0m                 or _global_forward_hooks or _global_forward_pre_hooks):\n\u001b[0;32m-> 1527\u001b[0;31m             \u001b[0;32mreturn\u001b[0m \u001b[0mforward_call\u001b[0m\u001b[0;34m(\u001b[0m\u001b[0;34m*\u001b[0m\u001b[0margs\u001b[0m\u001b[0;34m,\u001b[0m \u001b[0;34m**\u001b[0m\u001b[0mkwargs\u001b[0m\u001b[0;34m)\u001b[0m\u001b[0;34m\u001b[0m\u001b[0;34m\u001b[0m\u001b[0m\n\u001b[0m\u001b[1;32m   1528\u001b[0m \u001b[0;34m\u001b[0m\u001b[0m\n\u001b[1;32m   1529\u001b[0m         \u001b[0;32mtry\u001b[0m\u001b[0;34m:\u001b[0m\u001b[0;34m\u001b[0m\u001b[0;34m\u001b[0m\u001b[0m\n",
            "\u001b[0;32m/usr/local/lib/python3.10/dist-packages/accelerate/hooks.py\u001b[0m in \u001b[0;36mnew_forward\u001b[0;34m(module, *args, **kwargs)\u001b[0m\n\u001b[1;32m    164\u001b[0m                 \u001b[0moutput\u001b[0m \u001b[0;34m=\u001b[0m \u001b[0mmodule\u001b[0m\u001b[0;34m.\u001b[0m\u001b[0m_old_forward\u001b[0m\u001b[0;34m(\u001b[0m\u001b[0;34m*\u001b[0m\u001b[0margs\u001b[0m\u001b[0;34m,\u001b[0m \u001b[0;34m**\u001b[0m\u001b[0mkwargs\u001b[0m\u001b[0;34m)\u001b[0m\u001b[0;34m\u001b[0m\u001b[0;34m\u001b[0m\u001b[0m\n\u001b[1;32m    165\u001b[0m         \u001b[0;32melse\u001b[0m\u001b[0;34m:\u001b[0m\u001b[0;34m\u001b[0m\u001b[0;34m\u001b[0m\u001b[0m\n\u001b[0;32m--> 166\u001b[0;31m             \u001b[0moutput\u001b[0m \u001b[0;34m=\u001b[0m \u001b[0mmodule\u001b[0m\u001b[0;34m.\u001b[0m\u001b[0m_old_forward\u001b[0m\u001b[0;34m(\u001b[0m\u001b[0;34m*\u001b[0m\u001b[0margs\u001b[0m\u001b[0;34m,\u001b[0m \u001b[0;34m**\u001b[0m\u001b[0mkwargs\u001b[0m\u001b[0;34m)\u001b[0m\u001b[0;34m\u001b[0m\u001b[0;34m\u001b[0m\u001b[0m\n\u001b[0m\u001b[1;32m    167\u001b[0m         \u001b[0;32mreturn\u001b[0m \u001b[0mmodule\u001b[0m\u001b[0;34m.\u001b[0m\u001b[0m_hf_hook\u001b[0m\u001b[0;34m.\u001b[0m\u001b[0mpost_forward\u001b[0m\u001b[0;34m(\u001b[0m\u001b[0mmodule\u001b[0m\u001b[0;34m,\u001b[0m \u001b[0moutput\u001b[0m\u001b[0;34m)\u001b[0m\u001b[0;34m\u001b[0m\u001b[0;34m\u001b[0m\u001b[0m\n\u001b[1;32m    168\u001b[0m \u001b[0;34m\u001b[0m\u001b[0m\n",
            "\u001b[0;32m/usr/local/lib/python3.10/dist-packages/transformers/models/llama/modeling_llama.py\u001b[0m in \u001b[0;36mforward\u001b[0;34m(self, input_ids, attention_mask, position_ids, past_key_values, inputs_embeds, labels, use_cache, output_attentions, output_hidden_states, return_dict, cache_position)\u001b[0m\n\u001b[1;32m   1166\u001b[0m \u001b[0;34m\u001b[0m\u001b[0m\n\u001b[1;32m   1167\u001b[0m         \u001b[0;31m# decoder outputs consists of (dec_features, layer_state, dec_hidden, dec_attn)\u001b[0m\u001b[0;34m\u001b[0m\u001b[0;34m\u001b[0m\u001b[0m\n\u001b[0;32m-> 1168\u001b[0;31m         outputs = self.model(\n\u001b[0m\u001b[1;32m   1169\u001b[0m             \u001b[0minput_ids\u001b[0m\u001b[0;34m=\u001b[0m\u001b[0minput_ids\u001b[0m\u001b[0;34m,\u001b[0m\u001b[0;34m\u001b[0m\u001b[0;34m\u001b[0m\u001b[0m\n\u001b[1;32m   1170\u001b[0m             \u001b[0mattention_mask\u001b[0m\u001b[0;34m=\u001b[0m\u001b[0mattention_mask\u001b[0m\u001b[0;34m,\u001b[0m\u001b[0;34m\u001b[0m\u001b[0;34m\u001b[0m\u001b[0m\n",
            "\u001b[0;32m/usr/local/lib/python3.10/dist-packages/torch/nn/modules/module.py\u001b[0m in \u001b[0;36m_wrapped_call_impl\u001b[0;34m(self, *args, **kwargs)\u001b[0m\n\u001b[1;32m   1516\u001b[0m             \u001b[0;32mreturn\u001b[0m \u001b[0mself\u001b[0m\u001b[0;34m.\u001b[0m\u001b[0m_compiled_call_impl\u001b[0m\u001b[0;34m(\u001b[0m\u001b[0;34m*\u001b[0m\u001b[0margs\u001b[0m\u001b[0;34m,\u001b[0m \u001b[0;34m**\u001b[0m\u001b[0mkwargs\u001b[0m\u001b[0;34m)\u001b[0m  \u001b[0;31m# type: ignore[misc]\u001b[0m\u001b[0;34m\u001b[0m\u001b[0;34m\u001b[0m\u001b[0m\n\u001b[1;32m   1517\u001b[0m         \u001b[0;32melse\u001b[0m\u001b[0;34m:\u001b[0m\u001b[0;34m\u001b[0m\u001b[0;34m\u001b[0m\u001b[0m\n\u001b[0;32m-> 1518\u001b[0;31m             \u001b[0;32mreturn\u001b[0m \u001b[0mself\u001b[0m\u001b[0;34m.\u001b[0m\u001b[0m_call_impl\u001b[0m\u001b[0;34m(\u001b[0m\u001b[0;34m*\u001b[0m\u001b[0margs\u001b[0m\u001b[0;34m,\u001b[0m \u001b[0;34m**\u001b[0m\u001b[0mkwargs\u001b[0m\u001b[0;34m)\u001b[0m\u001b[0;34m\u001b[0m\u001b[0;34m\u001b[0m\u001b[0m\n\u001b[0m\u001b[1;32m   1519\u001b[0m \u001b[0;34m\u001b[0m\u001b[0m\n\u001b[1;32m   1520\u001b[0m     \u001b[0;32mdef\u001b[0m \u001b[0m_call_impl\u001b[0m\u001b[0;34m(\u001b[0m\u001b[0mself\u001b[0m\u001b[0;34m,\u001b[0m \u001b[0;34m*\u001b[0m\u001b[0margs\u001b[0m\u001b[0;34m,\u001b[0m \u001b[0;34m**\u001b[0m\u001b[0mkwargs\u001b[0m\u001b[0;34m)\u001b[0m\u001b[0;34m:\u001b[0m\u001b[0;34m\u001b[0m\u001b[0;34m\u001b[0m\u001b[0m\n",
            "\u001b[0;32m/usr/local/lib/python3.10/dist-packages/torch/nn/modules/module.py\u001b[0m in \u001b[0;36m_call_impl\u001b[0;34m(self, *args, **kwargs)\u001b[0m\n\u001b[1;32m   1525\u001b[0m                 \u001b[0;32mor\u001b[0m \u001b[0m_global_backward_pre_hooks\u001b[0m \u001b[0;32mor\u001b[0m \u001b[0m_global_backward_hooks\u001b[0m\u001b[0;34m\u001b[0m\u001b[0;34m\u001b[0m\u001b[0m\n\u001b[1;32m   1526\u001b[0m                 or _global_forward_hooks or _global_forward_pre_hooks):\n\u001b[0;32m-> 1527\u001b[0;31m             \u001b[0;32mreturn\u001b[0m \u001b[0mforward_call\u001b[0m\u001b[0;34m(\u001b[0m\u001b[0;34m*\u001b[0m\u001b[0margs\u001b[0m\u001b[0;34m,\u001b[0m \u001b[0;34m**\u001b[0m\u001b[0mkwargs\u001b[0m\u001b[0;34m)\u001b[0m\u001b[0;34m\u001b[0m\u001b[0;34m\u001b[0m\u001b[0m\n\u001b[0m\u001b[1;32m   1528\u001b[0m \u001b[0;34m\u001b[0m\u001b[0m\n\u001b[1;32m   1529\u001b[0m         \u001b[0;32mtry\u001b[0m\u001b[0;34m:\u001b[0m\u001b[0;34m\u001b[0m\u001b[0;34m\u001b[0m\u001b[0m\n",
            "\u001b[0;32m/usr/local/lib/python3.10/dist-packages/accelerate/hooks.py\u001b[0m in \u001b[0;36mnew_forward\u001b[0;34m(module, *args, **kwargs)\u001b[0m\n\u001b[1;32m    164\u001b[0m                 \u001b[0moutput\u001b[0m \u001b[0;34m=\u001b[0m \u001b[0mmodule\u001b[0m\u001b[0;34m.\u001b[0m\u001b[0m_old_forward\u001b[0m\u001b[0;34m(\u001b[0m\u001b[0;34m*\u001b[0m\u001b[0margs\u001b[0m\u001b[0;34m,\u001b[0m \u001b[0;34m**\u001b[0m\u001b[0mkwargs\u001b[0m\u001b[0;34m)\u001b[0m\u001b[0;34m\u001b[0m\u001b[0;34m\u001b[0m\u001b[0m\n\u001b[1;32m    165\u001b[0m         \u001b[0;32melse\u001b[0m\u001b[0;34m:\u001b[0m\u001b[0;34m\u001b[0m\u001b[0;34m\u001b[0m\u001b[0m\n\u001b[0;32m--> 166\u001b[0;31m             \u001b[0moutput\u001b[0m \u001b[0;34m=\u001b[0m \u001b[0mmodule\u001b[0m\u001b[0;34m.\u001b[0m\u001b[0m_old_forward\u001b[0m\u001b[0;34m(\u001b[0m\u001b[0;34m*\u001b[0m\u001b[0margs\u001b[0m\u001b[0;34m,\u001b[0m \u001b[0;34m**\u001b[0m\u001b[0mkwargs\u001b[0m\u001b[0;34m)\u001b[0m\u001b[0;34m\u001b[0m\u001b[0;34m\u001b[0m\u001b[0m\n\u001b[0m\u001b[1;32m    167\u001b[0m         \u001b[0;32mreturn\u001b[0m \u001b[0mmodule\u001b[0m\u001b[0;34m.\u001b[0m\u001b[0m_hf_hook\u001b[0m\u001b[0;34m.\u001b[0m\u001b[0mpost_forward\u001b[0m\u001b[0;34m(\u001b[0m\u001b[0mmodule\u001b[0m\u001b[0;34m,\u001b[0m \u001b[0moutput\u001b[0m\u001b[0;34m)\u001b[0m\u001b[0;34m\u001b[0m\u001b[0;34m\u001b[0m\u001b[0m\n\u001b[1;32m    168\u001b[0m \u001b[0;34m\u001b[0m\u001b[0m\n",
            "\u001b[0;32m/usr/local/lib/python3.10/dist-packages/transformers/models/llama/modeling_llama.py\u001b[0m in \u001b[0;36mforward\u001b[0;34m(self, input_ids, attention_mask, position_ids, past_key_values, inputs_embeds, use_cache, output_attentions, output_hidden_states, return_dict, cache_position)\u001b[0m\n\u001b[1;32m   1006\u001b[0m                 )\n\u001b[1;32m   1007\u001b[0m             \u001b[0;32melse\u001b[0m\u001b[0;34m:\u001b[0m\u001b[0;34m\u001b[0m\u001b[0;34m\u001b[0m\u001b[0m\n\u001b[0;32m-> 1008\u001b[0;31m                 layer_outputs = decoder_layer(\n\u001b[0m\u001b[1;32m   1009\u001b[0m                     \u001b[0mhidden_states\u001b[0m\u001b[0;34m,\u001b[0m\u001b[0;34m\u001b[0m\u001b[0;34m\u001b[0m\u001b[0m\n\u001b[1;32m   1010\u001b[0m                     \u001b[0mattention_mask\u001b[0m\u001b[0;34m=\u001b[0m\u001b[0mcausal_mask\u001b[0m\u001b[0;34m,\u001b[0m\u001b[0;34m\u001b[0m\u001b[0;34m\u001b[0m\u001b[0m\n",
            "\u001b[0;32m/usr/local/lib/python3.10/dist-packages/torch/nn/modules/module.py\u001b[0m in \u001b[0;36m_wrapped_call_impl\u001b[0;34m(self, *args, **kwargs)\u001b[0m\n\u001b[1;32m   1516\u001b[0m             \u001b[0;32mreturn\u001b[0m \u001b[0mself\u001b[0m\u001b[0;34m.\u001b[0m\u001b[0m_compiled_call_impl\u001b[0m\u001b[0;34m(\u001b[0m\u001b[0;34m*\u001b[0m\u001b[0margs\u001b[0m\u001b[0;34m,\u001b[0m \u001b[0;34m**\u001b[0m\u001b[0mkwargs\u001b[0m\u001b[0;34m)\u001b[0m  \u001b[0;31m# type: ignore[misc]\u001b[0m\u001b[0;34m\u001b[0m\u001b[0;34m\u001b[0m\u001b[0m\n\u001b[1;32m   1517\u001b[0m         \u001b[0;32melse\u001b[0m\u001b[0;34m:\u001b[0m\u001b[0;34m\u001b[0m\u001b[0;34m\u001b[0m\u001b[0m\n\u001b[0;32m-> 1518\u001b[0;31m             \u001b[0;32mreturn\u001b[0m \u001b[0mself\u001b[0m\u001b[0;34m.\u001b[0m\u001b[0m_call_impl\u001b[0m\u001b[0;34m(\u001b[0m\u001b[0;34m*\u001b[0m\u001b[0margs\u001b[0m\u001b[0;34m,\u001b[0m \u001b[0;34m**\u001b[0m\u001b[0mkwargs\u001b[0m\u001b[0;34m)\u001b[0m\u001b[0;34m\u001b[0m\u001b[0;34m\u001b[0m\u001b[0m\n\u001b[0m\u001b[1;32m   1519\u001b[0m \u001b[0;34m\u001b[0m\u001b[0m\n\u001b[1;32m   1520\u001b[0m     \u001b[0;32mdef\u001b[0m \u001b[0m_call_impl\u001b[0m\u001b[0;34m(\u001b[0m\u001b[0mself\u001b[0m\u001b[0;34m,\u001b[0m \u001b[0;34m*\u001b[0m\u001b[0margs\u001b[0m\u001b[0;34m,\u001b[0m \u001b[0;34m**\u001b[0m\u001b[0mkwargs\u001b[0m\u001b[0;34m)\u001b[0m\u001b[0;34m:\u001b[0m\u001b[0;34m\u001b[0m\u001b[0;34m\u001b[0m\u001b[0m\n",
            "\u001b[0;32m/usr/local/lib/python3.10/dist-packages/torch/nn/modules/module.py\u001b[0m in \u001b[0;36m_call_impl\u001b[0;34m(self, *args, **kwargs)\u001b[0m\n\u001b[1;32m   1525\u001b[0m                 \u001b[0;32mor\u001b[0m \u001b[0m_global_backward_pre_hooks\u001b[0m \u001b[0;32mor\u001b[0m \u001b[0m_global_backward_hooks\u001b[0m\u001b[0;34m\u001b[0m\u001b[0;34m\u001b[0m\u001b[0m\n\u001b[1;32m   1526\u001b[0m                 or _global_forward_hooks or _global_forward_pre_hooks):\n\u001b[0;32m-> 1527\u001b[0;31m             \u001b[0;32mreturn\u001b[0m \u001b[0mforward_call\u001b[0m\u001b[0;34m(\u001b[0m\u001b[0;34m*\u001b[0m\u001b[0margs\u001b[0m\u001b[0;34m,\u001b[0m \u001b[0;34m**\u001b[0m\u001b[0mkwargs\u001b[0m\u001b[0;34m)\u001b[0m\u001b[0;34m\u001b[0m\u001b[0;34m\u001b[0m\u001b[0m\n\u001b[0m\u001b[1;32m   1528\u001b[0m \u001b[0;34m\u001b[0m\u001b[0m\n\u001b[1;32m   1529\u001b[0m         \u001b[0;32mtry\u001b[0m\u001b[0;34m:\u001b[0m\u001b[0;34m\u001b[0m\u001b[0;34m\u001b[0m\u001b[0m\n",
            "\u001b[0;32m/usr/local/lib/python3.10/dist-packages/accelerate/hooks.py\u001b[0m in \u001b[0;36mnew_forward\u001b[0;34m(module, *args, **kwargs)\u001b[0m\n\u001b[1;32m    164\u001b[0m                 \u001b[0moutput\u001b[0m \u001b[0;34m=\u001b[0m \u001b[0mmodule\u001b[0m\u001b[0;34m.\u001b[0m\u001b[0m_old_forward\u001b[0m\u001b[0;34m(\u001b[0m\u001b[0;34m*\u001b[0m\u001b[0margs\u001b[0m\u001b[0;34m,\u001b[0m \u001b[0;34m**\u001b[0m\u001b[0mkwargs\u001b[0m\u001b[0;34m)\u001b[0m\u001b[0;34m\u001b[0m\u001b[0;34m\u001b[0m\u001b[0m\n\u001b[1;32m    165\u001b[0m         \u001b[0;32melse\u001b[0m\u001b[0;34m:\u001b[0m\u001b[0;34m\u001b[0m\u001b[0;34m\u001b[0m\u001b[0m\n\u001b[0;32m--> 166\u001b[0;31m             \u001b[0moutput\u001b[0m \u001b[0;34m=\u001b[0m \u001b[0mmodule\u001b[0m\u001b[0;34m.\u001b[0m\u001b[0m_old_forward\u001b[0m\u001b[0;34m(\u001b[0m\u001b[0;34m*\u001b[0m\u001b[0margs\u001b[0m\u001b[0;34m,\u001b[0m \u001b[0;34m**\u001b[0m\u001b[0mkwargs\u001b[0m\u001b[0;34m)\u001b[0m\u001b[0;34m\u001b[0m\u001b[0;34m\u001b[0m\u001b[0m\n\u001b[0m\u001b[1;32m    167\u001b[0m         \u001b[0;32mreturn\u001b[0m \u001b[0mmodule\u001b[0m\u001b[0;34m.\u001b[0m\u001b[0m_hf_hook\u001b[0m\u001b[0;34m.\u001b[0m\u001b[0mpost_forward\u001b[0m\u001b[0;34m(\u001b[0m\u001b[0mmodule\u001b[0m\u001b[0;34m,\u001b[0m \u001b[0moutput\u001b[0m\u001b[0;34m)\u001b[0m\u001b[0;34m\u001b[0m\u001b[0;34m\u001b[0m\u001b[0m\n\u001b[1;32m    168\u001b[0m \u001b[0;34m\u001b[0m\u001b[0m\n",
            "\u001b[0;32m/usr/local/lib/python3.10/dist-packages/transformers/models/llama/modeling_llama.py\u001b[0m in \u001b[0;36mforward\u001b[0;34m(self, hidden_states, attention_mask, position_ids, past_key_value, output_attentions, use_cache, cache_position, **kwargs)\u001b[0m\n\u001b[1;32m    732\u001b[0m \u001b[0;34m\u001b[0m\u001b[0m\n\u001b[1;32m    733\u001b[0m         \u001b[0;31m# Self Attention\u001b[0m\u001b[0;34m\u001b[0m\u001b[0;34m\u001b[0m\u001b[0m\n\u001b[0;32m--> 734\u001b[0;31m         hidden_states, self_attn_weights, present_key_value = self.self_attn(\n\u001b[0m\u001b[1;32m    735\u001b[0m             \u001b[0mhidden_states\u001b[0m\u001b[0;34m=\u001b[0m\u001b[0mhidden_states\u001b[0m\u001b[0;34m,\u001b[0m\u001b[0;34m\u001b[0m\u001b[0;34m\u001b[0m\u001b[0m\n\u001b[1;32m    736\u001b[0m             \u001b[0mattention_mask\u001b[0m\u001b[0;34m=\u001b[0m\u001b[0mattention_mask\u001b[0m\u001b[0;34m,\u001b[0m\u001b[0;34m\u001b[0m\u001b[0;34m\u001b[0m\u001b[0m\n",
            "\u001b[0;32m/usr/local/lib/python3.10/dist-packages/torch/nn/modules/module.py\u001b[0m in \u001b[0;36m_wrapped_call_impl\u001b[0;34m(self, *args, **kwargs)\u001b[0m\n\u001b[1;32m   1516\u001b[0m             \u001b[0;32mreturn\u001b[0m \u001b[0mself\u001b[0m\u001b[0;34m.\u001b[0m\u001b[0m_compiled_call_impl\u001b[0m\u001b[0;34m(\u001b[0m\u001b[0;34m*\u001b[0m\u001b[0margs\u001b[0m\u001b[0;34m,\u001b[0m \u001b[0;34m**\u001b[0m\u001b[0mkwargs\u001b[0m\u001b[0;34m)\u001b[0m  \u001b[0;31m# type: ignore[misc]\u001b[0m\u001b[0;34m\u001b[0m\u001b[0;34m\u001b[0m\u001b[0m\n\u001b[1;32m   1517\u001b[0m         \u001b[0;32melse\u001b[0m\u001b[0;34m:\u001b[0m\u001b[0;34m\u001b[0m\u001b[0;34m\u001b[0m\u001b[0m\n\u001b[0;32m-> 1518\u001b[0;31m             \u001b[0;32mreturn\u001b[0m \u001b[0mself\u001b[0m\u001b[0;34m.\u001b[0m\u001b[0m_call_impl\u001b[0m\u001b[0;34m(\u001b[0m\u001b[0;34m*\u001b[0m\u001b[0margs\u001b[0m\u001b[0;34m,\u001b[0m \u001b[0;34m**\u001b[0m\u001b[0mkwargs\u001b[0m\u001b[0;34m)\u001b[0m\u001b[0;34m\u001b[0m\u001b[0;34m\u001b[0m\u001b[0m\n\u001b[0m\u001b[1;32m   1519\u001b[0m \u001b[0;34m\u001b[0m\u001b[0m\n\u001b[1;32m   1520\u001b[0m     \u001b[0;32mdef\u001b[0m \u001b[0m_call_impl\u001b[0m\u001b[0;34m(\u001b[0m\u001b[0mself\u001b[0m\u001b[0;34m,\u001b[0m \u001b[0;34m*\u001b[0m\u001b[0margs\u001b[0m\u001b[0;34m,\u001b[0m \u001b[0;34m**\u001b[0m\u001b[0mkwargs\u001b[0m\u001b[0;34m)\u001b[0m\u001b[0;34m:\u001b[0m\u001b[0;34m\u001b[0m\u001b[0;34m\u001b[0m\u001b[0m\n",
            "\u001b[0;32m/usr/local/lib/python3.10/dist-packages/torch/nn/modules/module.py\u001b[0m in \u001b[0;36m_call_impl\u001b[0;34m(self, *args, **kwargs)\u001b[0m\n\u001b[1;32m   1525\u001b[0m                 \u001b[0;32mor\u001b[0m \u001b[0m_global_backward_pre_hooks\u001b[0m \u001b[0;32mor\u001b[0m \u001b[0m_global_backward_hooks\u001b[0m\u001b[0;34m\u001b[0m\u001b[0;34m\u001b[0m\u001b[0m\n\u001b[1;32m   1526\u001b[0m                 or _global_forward_hooks or _global_forward_pre_hooks):\n\u001b[0;32m-> 1527\u001b[0;31m             \u001b[0;32mreturn\u001b[0m \u001b[0mforward_call\u001b[0m\u001b[0;34m(\u001b[0m\u001b[0;34m*\u001b[0m\u001b[0margs\u001b[0m\u001b[0;34m,\u001b[0m \u001b[0;34m**\u001b[0m\u001b[0mkwargs\u001b[0m\u001b[0;34m)\u001b[0m\u001b[0;34m\u001b[0m\u001b[0;34m\u001b[0m\u001b[0m\n\u001b[0m\u001b[1;32m   1528\u001b[0m \u001b[0;34m\u001b[0m\u001b[0m\n\u001b[1;32m   1529\u001b[0m         \u001b[0;32mtry\u001b[0m\u001b[0;34m:\u001b[0m\u001b[0;34m\u001b[0m\u001b[0;34m\u001b[0m\u001b[0m\n",
            "\u001b[0;32m/usr/local/lib/python3.10/dist-packages/accelerate/hooks.py\u001b[0m in \u001b[0;36mnew_forward\u001b[0;34m(module, *args, **kwargs)\u001b[0m\n\u001b[1;32m    164\u001b[0m                 \u001b[0moutput\u001b[0m \u001b[0;34m=\u001b[0m \u001b[0mmodule\u001b[0m\u001b[0;34m.\u001b[0m\u001b[0m_old_forward\u001b[0m\u001b[0;34m(\u001b[0m\u001b[0;34m*\u001b[0m\u001b[0margs\u001b[0m\u001b[0;34m,\u001b[0m \u001b[0;34m**\u001b[0m\u001b[0mkwargs\u001b[0m\u001b[0;34m)\u001b[0m\u001b[0;34m\u001b[0m\u001b[0;34m\u001b[0m\u001b[0m\n\u001b[1;32m    165\u001b[0m         \u001b[0;32melse\u001b[0m\u001b[0;34m:\u001b[0m\u001b[0;34m\u001b[0m\u001b[0;34m\u001b[0m\u001b[0m\n\u001b[0;32m--> 166\u001b[0;31m             \u001b[0moutput\u001b[0m \u001b[0;34m=\u001b[0m \u001b[0mmodule\u001b[0m\u001b[0;34m.\u001b[0m\u001b[0m_old_forward\u001b[0m\u001b[0;34m(\u001b[0m\u001b[0;34m*\u001b[0m\u001b[0margs\u001b[0m\u001b[0;34m,\u001b[0m \u001b[0;34m**\u001b[0m\u001b[0mkwargs\u001b[0m\u001b[0;34m)\u001b[0m\u001b[0;34m\u001b[0m\u001b[0;34m\u001b[0m\u001b[0m\n\u001b[0m\u001b[1;32m    167\u001b[0m         \u001b[0;32mreturn\u001b[0m \u001b[0mmodule\u001b[0m\u001b[0;34m.\u001b[0m\u001b[0m_hf_hook\u001b[0m\u001b[0;34m.\u001b[0m\u001b[0mpost_forward\u001b[0m\u001b[0;34m(\u001b[0m\u001b[0mmodule\u001b[0m\u001b[0;34m,\u001b[0m \u001b[0moutput\u001b[0m\u001b[0;34m)\u001b[0m\u001b[0;34m\u001b[0m\u001b[0;34m\u001b[0m\u001b[0m\n\u001b[1;32m    168\u001b[0m \u001b[0;34m\u001b[0m\u001b[0m\n",
            "\u001b[0;32m/usr/local/lib/python3.10/dist-packages/transformers/models/llama/modeling_llama.py\u001b[0m in \u001b[0;36mforward\u001b[0;34m(self, hidden_states, attention_mask, position_ids, past_key_value, output_attentions, use_cache, cache_position, **kwargs)\u001b[0m\n\u001b[1;32m    347\u001b[0m             \u001b[0mquery_states\u001b[0m \u001b[0;34m=\u001b[0m \u001b[0mself\u001b[0m\u001b[0;34m.\u001b[0m\u001b[0mq_proj\u001b[0m\u001b[0;34m(\u001b[0m\u001b[0mhidden_states\u001b[0m\u001b[0;34m)\u001b[0m\u001b[0;34m\u001b[0m\u001b[0;34m\u001b[0m\u001b[0m\n\u001b[1;32m    348\u001b[0m             \u001b[0mkey_states\u001b[0m \u001b[0;34m=\u001b[0m \u001b[0mself\u001b[0m\u001b[0;34m.\u001b[0m\u001b[0mk_proj\u001b[0m\u001b[0;34m(\u001b[0m\u001b[0mhidden_states\u001b[0m\u001b[0;34m)\u001b[0m\u001b[0;34m\u001b[0m\u001b[0;34m\u001b[0m\u001b[0m\n\u001b[0;32m--> 349\u001b[0;31m             \u001b[0mvalue_states\u001b[0m \u001b[0;34m=\u001b[0m \u001b[0mself\u001b[0m\u001b[0;34m.\u001b[0m\u001b[0mv_proj\u001b[0m\u001b[0;34m(\u001b[0m\u001b[0mhidden_states\u001b[0m\u001b[0;34m)\u001b[0m\u001b[0;34m\u001b[0m\u001b[0;34m\u001b[0m\u001b[0m\n\u001b[0m\u001b[1;32m    350\u001b[0m \u001b[0;34m\u001b[0m\u001b[0m\n\u001b[1;32m    351\u001b[0m         \u001b[0mquery_states\u001b[0m \u001b[0;34m=\u001b[0m \u001b[0mquery_states\u001b[0m\u001b[0;34m.\u001b[0m\u001b[0mview\u001b[0m\u001b[0;34m(\u001b[0m\u001b[0mbsz\u001b[0m\u001b[0;34m,\u001b[0m \u001b[0mq_len\u001b[0m\u001b[0;34m,\u001b[0m \u001b[0mself\u001b[0m\u001b[0;34m.\u001b[0m\u001b[0mnum_heads\u001b[0m\u001b[0;34m,\u001b[0m \u001b[0mself\u001b[0m\u001b[0;34m.\u001b[0m\u001b[0mhead_dim\u001b[0m\u001b[0;34m)\u001b[0m\u001b[0;34m.\u001b[0m\u001b[0mtranspose\u001b[0m\u001b[0;34m(\u001b[0m\u001b[0;36m1\u001b[0m\u001b[0;34m,\u001b[0m \u001b[0;36m2\u001b[0m\u001b[0;34m)\u001b[0m\u001b[0;34m\u001b[0m\u001b[0;34m\u001b[0m\u001b[0m\n",
            "\u001b[0;32m/usr/local/lib/python3.10/dist-packages/torch/nn/modules/module.py\u001b[0m in \u001b[0;36m_wrapped_call_impl\u001b[0;34m(self, *args, **kwargs)\u001b[0m\n\u001b[1;32m   1516\u001b[0m             \u001b[0;32mreturn\u001b[0m \u001b[0mself\u001b[0m\u001b[0;34m.\u001b[0m\u001b[0m_compiled_call_impl\u001b[0m\u001b[0;34m(\u001b[0m\u001b[0;34m*\u001b[0m\u001b[0margs\u001b[0m\u001b[0;34m,\u001b[0m \u001b[0;34m**\u001b[0m\u001b[0mkwargs\u001b[0m\u001b[0;34m)\u001b[0m  \u001b[0;31m# type: ignore[misc]\u001b[0m\u001b[0;34m\u001b[0m\u001b[0;34m\u001b[0m\u001b[0m\n\u001b[1;32m   1517\u001b[0m         \u001b[0;32melse\u001b[0m\u001b[0;34m:\u001b[0m\u001b[0;34m\u001b[0m\u001b[0;34m\u001b[0m\u001b[0m\n\u001b[0;32m-> 1518\u001b[0;31m             \u001b[0;32mreturn\u001b[0m \u001b[0mself\u001b[0m\u001b[0;34m.\u001b[0m\u001b[0m_call_impl\u001b[0m\u001b[0;34m(\u001b[0m\u001b[0;34m*\u001b[0m\u001b[0margs\u001b[0m\u001b[0;34m,\u001b[0m \u001b[0;34m**\u001b[0m\u001b[0mkwargs\u001b[0m\u001b[0;34m)\u001b[0m\u001b[0;34m\u001b[0m\u001b[0;34m\u001b[0m\u001b[0m\n\u001b[0m\u001b[1;32m   1519\u001b[0m \u001b[0;34m\u001b[0m\u001b[0m\n\u001b[1;32m   1520\u001b[0m     \u001b[0;32mdef\u001b[0m \u001b[0m_call_impl\u001b[0m\u001b[0;34m(\u001b[0m\u001b[0mself\u001b[0m\u001b[0;34m,\u001b[0m \u001b[0;34m*\u001b[0m\u001b[0margs\u001b[0m\u001b[0;34m,\u001b[0m \u001b[0;34m**\u001b[0m\u001b[0mkwargs\u001b[0m\u001b[0;34m)\u001b[0m\u001b[0;34m:\u001b[0m\u001b[0;34m\u001b[0m\u001b[0;34m\u001b[0m\u001b[0m\n",
            "\u001b[0;32m/usr/local/lib/python3.10/dist-packages/torch/nn/modules/module.py\u001b[0m in \u001b[0;36m_call_impl\u001b[0;34m(self, *args, **kwargs)\u001b[0m\n\u001b[1;32m   1525\u001b[0m                 \u001b[0;32mor\u001b[0m \u001b[0m_global_backward_pre_hooks\u001b[0m \u001b[0;32mor\u001b[0m \u001b[0m_global_backward_hooks\u001b[0m\u001b[0;34m\u001b[0m\u001b[0;34m\u001b[0m\u001b[0m\n\u001b[1;32m   1526\u001b[0m                 or _global_forward_hooks or _global_forward_pre_hooks):\n\u001b[0;32m-> 1527\u001b[0;31m             \u001b[0;32mreturn\u001b[0m \u001b[0mforward_call\u001b[0m\u001b[0;34m(\u001b[0m\u001b[0;34m*\u001b[0m\u001b[0margs\u001b[0m\u001b[0;34m,\u001b[0m \u001b[0;34m**\u001b[0m\u001b[0mkwargs\u001b[0m\u001b[0;34m)\u001b[0m\u001b[0;34m\u001b[0m\u001b[0;34m\u001b[0m\u001b[0m\n\u001b[0m\u001b[1;32m   1528\u001b[0m \u001b[0;34m\u001b[0m\u001b[0m\n\u001b[1;32m   1529\u001b[0m         \u001b[0;32mtry\u001b[0m\u001b[0;34m:\u001b[0m\u001b[0;34m\u001b[0m\u001b[0;34m\u001b[0m\u001b[0m\n",
            "\u001b[0;32m/usr/local/lib/python3.10/dist-packages/peft/tuners/lora/bnb.py\u001b[0m in \u001b[0;36mforward\u001b[0;34m(self, x, *args, **kwargs)\u001b[0m\n\u001b[1;32m    332\u001b[0m                 \u001b[0mresult\u001b[0m \u001b[0;34m=\u001b[0m \u001b[0mself\u001b[0m\u001b[0;34m.\u001b[0m\u001b[0mbase_layer\u001b[0m\u001b[0;34m(\u001b[0m\u001b[0mx\u001b[0m\u001b[0;34m,\u001b[0m \u001b[0;34m*\u001b[0m\u001b[0margs\u001b[0m\u001b[0;34m,\u001b[0m \u001b[0;34m**\u001b[0m\u001b[0mkwargs\u001b[0m\u001b[0;34m)\u001b[0m\u001b[0;34m\u001b[0m\u001b[0;34m\u001b[0m\u001b[0m\n\u001b[1;32m    333\u001b[0m             \u001b[0;32melse\u001b[0m\u001b[0;34m:\u001b[0m\u001b[0;34m\u001b[0m\u001b[0;34m\u001b[0m\u001b[0m\n\u001b[0;32m--> 334\u001b[0;31m                 \u001b[0mresult\u001b[0m \u001b[0;34m=\u001b[0m \u001b[0mself\u001b[0m\u001b[0;34m.\u001b[0m\u001b[0mbase_layer\u001b[0m\u001b[0;34m(\u001b[0m\u001b[0mx\u001b[0m\u001b[0;34m,\u001b[0m \u001b[0;34m*\u001b[0m\u001b[0margs\u001b[0m\u001b[0;34m,\u001b[0m \u001b[0;34m**\u001b[0m\u001b[0mkwargs\u001b[0m\u001b[0;34m)\u001b[0m\u001b[0;34m\u001b[0m\u001b[0;34m\u001b[0m\u001b[0m\n\u001b[0m\u001b[1;32m    335\u001b[0m                 \u001b[0;31m# As per Tim Dettmers, for 4bit, we need to defensively clone here.\u001b[0m\u001b[0;34m\u001b[0m\u001b[0;34m\u001b[0m\u001b[0m\n\u001b[1;32m    336\u001b[0m                 \u001b[0;31m# The reason is that in some cases, an error can occur that backprop\u001b[0m\u001b[0;34m\u001b[0m\u001b[0;34m\u001b[0m\u001b[0m\n",
            "\u001b[0;32m/usr/local/lib/python3.10/dist-packages/torch/nn/modules/module.py\u001b[0m in \u001b[0;36m_wrapped_call_impl\u001b[0;34m(self, *args, **kwargs)\u001b[0m\n\u001b[1;32m   1516\u001b[0m             \u001b[0;32mreturn\u001b[0m \u001b[0mself\u001b[0m\u001b[0;34m.\u001b[0m\u001b[0m_compiled_call_impl\u001b[0m\u001b[0;34m(\u001b[0m\u001b[0;34m*\u001b[0m\u001b[0margs\u001b[0m\u001b[0;34m,\u001b[0m \u001b[0;34m**\u001b[0m\u001b[0mkwargs\u001b[0m\u001b[0;34m)\u001b[0m  \u001b[0;31m# type: ignore[misc]\u001b[0m\u001b[0;34m\u001b[0m\u001b[0;34m\u001b[0m\u001b[0m\n\u001b[1;32m   1517\u001b[0m         \u001b[0;32melse\u001b[0m\u001b[0;34m:\u001b[0m\u001b[0;34m\u001b[0m\u001b[0;34m\u001b[0m\u001b[0m\n\u001b[0;32m-> 1518\u001b[0;31m             \u001b[0;32mreturn\u001b[0m \u001b[0mself\u001b[0m\u001b[0;34m.\u001b[0m\u001b[0m_call_impl\u001b[0m\u001b[0;34m(\u001b[0m\u001b[0;34m*\u001b[0m\u001b[0margs\u001b[0m\u001b[0;34m,\u001b[0m \u001b[0;34m**\u001b[0m\u001b[0mkwargs\u001b[0m\u001b[0;34m)\u001b[0m\u001b[0;34m\u001b[0m\u001b[0;34m\u001b[0m\u001b[0m\n\u001b[0m\u001b[1;32m   1519\u001b[0m \u001b[0;34m\u001b[0m\u001b[0m\n\u001b[1;32m   1520\u001b[0m     \u001b[0;32mdef\u001b[0m \u001b[0m_call_impl\u001b[0m\u001b[0;34m(\u001b[0m\u001b[0mself\u001b[0m\u001b[0;34m,\u001b[0m \u001b[0;34m*\u001b[0m\u001b[0margs\u001b[0m\u001b[0;34m,\u001b[0m \u001b[0;34m**\u001b[0m\u001b[0mkwargs\u001b[0m\u001b[0;34m)\u001b[0m\u001b[0;34m:\u001b[0m\u001b[0;34m\u001b[0m\u001b[0;34m\u001b[0m\u001b[0m\n",
            "\u001b[0;32m/usr/local/lib/python3.10/dist-packages/torch/nn/modules/module.py\u001b[0m in \u001b[0;36m_call_impl\u001b[0;34m(self, *args, **kwargs)\u001b[0m\n\u001b[1;32m   1525\u001b[0m                 \u001b[0;32mor\u001b[0m \u001b[0m_global_backward_pre_hooks\u001b[0m \u001b[0;32mor\u001b[0m \u001b[0m_global_backward_hooks\u001b[0m\u001b[0;34m\u001b[0m\u001b[0;34m\u001b[0m\u001b[0m\n\u001b[1;32m   1526\u001b[0m                 or _global_forward_hooks or _global_forward_pre_hooks):\n\u001b[0;32m-> 1527\u001b[0;31m             \u001b[0;32mreturn\u001b[0m \u001b[0mforward_call\u001b[0m\u001b[0;34m(\u001b[0m\u001b[0;34m*\u001b[0m\u001b[0margs\u001b[0m\u001b[0;34m,\u001b[0m \u001b[0;34m**\u001b[0m\u001b[0mkwargs\u001b[0m\u001b[0;34m)\u001b[0m\u001b[0;34m\u001b[0m\u001b[0;34m\u001b[0m\u001b[0m\n\u001b[0m\u001b[1;32m   1528\u001b[0m \u001b[0;34m\u001b[0m\u001b[0m\n\u001b[1;32m   1529\u001b[0m         \u001b[0;32mtry\u001b[0m\u001b[0;34m:\u001b[0m\u001b[0;34m\u001b[0m\u001b[0;34m\u001b[0m\u001b[0m\n",
            "\u001b[0;32m/usr/local/lib/python3.10/dist-packages/accelerate/hooks.py\u001b[0m in \u001b[0;36mnew_forward\u001b[0;34m(module, *args, **kwargs)\u001b[0m\n\u001b[1;32m    164\u001b[0m                 \u001b[0moutput\u001b[0m \u001b[0;34m=\u001b[0m \u001b[0mmodule\u001b[0m\u001b[0;34m.\u001b[0m\u001b[0m_old_forward\u001b[0m\u001b[0;34m(\u001b[0m\u001b[0;34m*\u001b[0m\u001b[0margs\u001b[0m\u001b[0;34m,\u001b[0m \u001b[0;34m**\u001b[0m\u001b[0mkwargs\u001b[0m\u001b[0;34m)\u001b[0m\u001b[0;34m\u001b[0m\u001b[0;34m\u001b[0m\u001b[0m\n\u001b[1;32m    165\u001b[0m         \u001b[0;32melse\u001b[0m\u001b[0;34m:\u001b[0m\u001b[0;34m\u001b[0m\u001b[0;34m\u001b[0m\u001b[0m\n\u001b[0;32m--> 166\u001b[0;31m             \u001b[0moutput\u001b[0m \u001b[0;34m=\u001b[0m \u001b[0mmodule\u001b[0m\u001b[0;34m.\u001b[0m\u001b[0m_old_forward\u001b[0m\u001b[0;34m(\u001b[0m\u001b[0;34m*\u001b[0m\u001b[0margs\u001b[0m\u001b[0;34m,\u001b[0m \u001b[0;34m**\u001b[0m\u001b[0mkwargs\u001b[0m\u001b[0;34m)\u001b[0m\u001b[0;34m\u001b[0m\u001b[0;34m\u001b[0m\u001b[0m\n\u001b[0m\u001b[1;32m    167\u001b[0m         \u001b[0;32mreturn\u001b[0m \u001b[0mmodule\u001b[0m\u001b[0;34m.\u001b[0m\u001b[0m_hf_hook\u001b[0m\u001b[0;34m.\u001b[0m\u001b[0mpost_forward\u001b[0m\u001b[0;34m(\u001b[0m\u001b[0mmodule\u001b[0m\u001b[0;34m,\u001b[0m \u001b[0moutput\u001b[0m\u001b[0;34m)\u001b[0m\u001b[0;34m\u001b[0m\u001b[0;34m\u001b[0m\u001b[0m\n\u001b[1;32m    168\u001b[0m \u001b[0;34m\u001b[0m\u001b[0m\n",
            "\u001b[0;32m/usr/local/lib/python3.10/dist-packages/bitsandbytes/nn/modules.py\u001b[0m in \u001b[0;36mforward\u001b[0;34m(self, x)\u001b[0m\n\u001b[1;32m    254\u001b[0m \u001b[0;34m\u001b[0m\u001b[0m\n\u001b[1;32m    255\u001b[0m         \u001b[0mbias\u001b[0m \u001b[0;34m=\u001b[0m \u001b[0;32mNone\u001b[0m \u001b[0;32mif\u001b[0m \u001b[0mself\u001b[0m\u001b[0;34m.\u001b[0m\u001b[0mbias\u001b[0m \u001b[0;32mis\u001b[0m \u001b[0;32mNone\u001b[0m \u001b[0;32melse\u001b[0m \u001b[0mself\u001b[0m\u001b[0;34m.\u001b[0m\u001b[0mbias\u001b[0m\u001b[0;34m.\u001b[0m\u001b[0mto\u001b[0m\u001b[0;34m(\u001b[0m\u001b[0mself\u001b[0m\u001b[0;34m.\u001b[0m\u001b[0mcompute_dtype\u001b[0m\u001b[0;34m)\u001b[0m\u001b[0;34m\u001b[0m\u001b[0;34m\u001b[0m\u001b[0m\n\u001b[0;32m--> 256\u001b[0;31m         \u001b[0mout\u001b[0m \u001b[0;34m=\u001b[0m \u001b[0mbnb\u001b[0m\u001b[0;34m.\u001b[0m\u001b[0mmatmul_4bit\u001b[0m\u001b[0;34m(\u001b[0m\u001b[0mx\u001b[0m\u001b[0;34m,\u001b[0m \u001b[0mself\u001b[0m\u001b[0;34m.\u001b[0m\u001b[0mweight\u001b[0m\u001b[0;34m.\u001b[0m\u001b[0mt\u001b[0m\u001b[0;34m(\u001b[0m\u001b[0;34m)\u001b[0m\u001b[0;34m,\u001b[0m \u001b[0mbias\u001b[0m\u001b[0;34m=\u001b[0m\u001b[0mbias\u001b[0m\u001b[0;34m,\u001b[0m \u001b[0mquant_state\u001b[0m\u001b[0;34m=\u001b[0m\u001b[0mself\u001b[0m\u001b[0;34m.\u001b[0m\u001b[0mweight\u001b[0m\u001b[0;34m.\u001b[0m\u001b[0mquant_state\u001b[0m\u001b[0;34m)\u001b[0m\u001b[0;34m\u001b[0m\u001b[0;34m\u001b[0m\u001b[0m\n\u001b[0m\u001b[1;32m    257\u001b[0m \u001b[0;34m\u001b[0m\u001b[0m\n\u001b[1;32m    258\u001b[0m         \u001b[0mout\u001b[0m \u001b[0;34m=\u001b[0m \u001b[0mout\u001b[0m\u001b[0;34m.\u001b[0m\u001b[0mto\u001b[0m\u001b[0;34m(\u001b[0m\u001b[0minp_dtype\u001b[0m\u001b[0;34m)\u001b[0m\u001b[0;34m\u001b[0m\u001b[0;34m\u001b[0m\u001b[0m\n",
            "\u001b[0;32m/usr/local/lib/python3.10/dist-packages/bitsandbytes/autograd/_functions.py\u001b[0m in \u001b[0;36mmatmul_4bit\u001b[0;34m(A, B, quant_state, out, bias)\u001b[0m\n\u001b[1;32m    570\u001b[0m             \u001b[0;32mreturn\u001b[0m \u001b[0mMatMul4Bit\u001b[0m\u001b[0;34m.\u001b[0m\u001b[0mapply\u001b[0m\u001b[0;34m(\u001b[0m\u001b[0mA\u001b[0m\u001b[0;34m,\u001b[0m \u001b[0mB\u001b[0m\u001b[0;34m,\u001b[0m \u001b[0mout\u001b[0m\u001b[0;34m,\u001b[0m \u001b[0mbias\u001b[0m\u001b[0;34m,\u001b[0m \u001b[0mquant_state\u001b[0m\u001b[0;34m)\u001b[0m\u001b[0;34m\u001b[0m\u001b[0;34m\u001b[0m\u001b[0m\n\u001b[1;32m    571\u001b[0m         \u001b[0;32melse\u001b[0m\u001b[0;34m:\u001b[0m\u001b[0;34m\u001b[0m\u001b[0;34m\u001b[0m\u001b[0m\n\u001b[0;32m--> 572\u001b[0;31m             \u001b[0mout\u001b[0m \u001b[0;34m=\u001b[0m \u001b[0mF\u001b[0m\u001b[0;34m.\u001b[0m\u001b[0mgemv_4bit\u001b[0m\u001b[0;34m(\u001b[0m\u001b[0mA\u001b[0m\u001b[0;34m,\u001b[0m \u001b[0mB\u001b[0m\u001b[0;34m.\u001b[0m\u001b[0mt\u001b[0m\u001b[0;34m(\u001b[0m\u001b[0;34m)\u001b[0m\u001b[0;34m,\u001b[0m \u001b[0mout\u001b[0m\u001b[0;34m,\u001b[0m \u001b[0mstate\u001b[0m\u001b[0;34m=\u001b[0m\u001b[0mquant_state\u001b[0m\u001b[0;34m)\u001b[0m\u001b[0;34m\u001b[0m\u001b[0;34m\u001b[0m\u001b[0m\n\u001b[0m\u001b[1;32m    573\u001b[0m             \u001b[0;32mif\u001b[0m \u001b[0mbias\u001b[0m \u001b[0;32mis\u001b[0m \u001b[0;32mnot\u001b[0m \u001b[0;32mNone\u001b[0m\u001b[0;34m:\u001b[0m\u001b[0;34m\u001b[0m\u001b[0;34m\u001b[0m\u001b[0m\n\u001b[1;32m    574\u001b[0m                 \u001b[0mout\u001b[0m \u001b[0;34m+=\u001b[0m \u001b[0mbias\u001b[0m\u001b[0;34m\u001b[0m\u001b[0;34m\u001b[0m\u001b[0m\n",
            "\u001b[0;32m/usr/local/lib/python3.10/dist-packages/bitsandbytes/functional.py\u001b[0m in \u001b[0;36mgemv_4bit\u001b[0;34m(A, B, out, transposed_A, transposed_B, state)\u001b[0m\n\u001b[1;32m   1604\u001b[0m     \u001b[0mabsmax\u001b[0m \u001b[0;34m=\u001b[0m \u001b[0mstate\u001b[0m\u001b[0;34m.\u001b[0m\u001b[0mabsmax\u001b[0m\u001b[0;34m\u001b[0m\u001b[0;34m\u001b[0m\u001b[0m\n\u001b[1;32m   1605\u001b[0m     \u001b[0;32mif\u001b[0m \u001b[0mstate\u001b[0m\u001b[0;34m.\u001b[0m\u001b[0mnested\u001b[0m\u001b[0;34m:\u001b[0m\u001b[0;34m\u001b[0m\u001b[0;34m\u001b[0m\u001b[0m\n\u001b[0;32m-> 1606\u001b[0;31m         \u001b[0mabsmax\u001b[0m \u001b[0;34m=\u001b[0m \u001b[0mdequantize_blockwise\u001b[0m\u001b[0;34m(\u001b[0m\u001b[0mstate\u001b[0m\u001b[0;34m.\u001b[0m\u001b[0mabsmax\u001b[0m\u001b[0;34m,\u001b[0m \u001b[0mstate\u001b[0m\u001b[0;34m.\u001b[0m\u001b[0mstate2\u001b[0m\u001b[0;34m)\u001b[0m\u001b[0;34m\u001b[0m\u001b[0;34m\u001b[0m\u001b[0m\n\u001b[0m\u001b[1;32m   1607\u001b[0m         \u001b[0mabsmax\u001b[0m \u001b[0;34m+=\u001b[0m \u001b[0mstate\u001b[0m\u001b[0;34m.\u001b[0m\u001b[0moffset\u001b[0m\u001b[0;34m\u001b[0m\u001b[0;34m\u001b[0m\u001b[0m\n\u001b[1;32m   1608\u001b[0m \u001b[0;34m\u001b[0m\u001b[0m\n",
            "\u001b[0;32m/usr/local/lib/python3.10/dist-packages/bitsandbytes/functional.py\u001b[0m in \u001b[0;36mdequantize_blockwise\u001b[0;34m(A, quant_state, absmax, code, out, blocksize, nested)\u001b[0m\n\u001b[1;32m    818\u001b[0m         \u001b[0;32mif\u001b[0m \u001b[0mquant_state\u001b[0m\u001b[0;34m.\u001b[0m\u001b[0mblocksize\u001b[0m \u001b[0;32mnot\u001b[0m \u001b[0;32min\u001b[0m \u001b[0;34m[\u001b[0m\u001b[0;36m2048\u001b[0m\u001b[0;34m,\u001b[0m \u001b[0;36m4096\u001b[0m\u001b[0;34m,\u001b[0m \u001b[0;36m1024\u001b[0m\u001b[0;34m,\u001b[0m \u001b[0;36m512\u001b[0m\u001b[0;34m,\u001b[0m \u001b[0;36m256\u001b[0m\u001b[0;34m,\u001b[0m \u001b[0;36m128\u001b[0m\u001b[0;34m,\u001b[0m \u001b[0;36m64\u001b[0m\u001b[0;34m]\u001b[0m\u001b[0;34m:\u001b[0m\u001b[0;34m\u001b[0m\u001b[0;34m\u001b[0m\u001b[0m\n\u001b[1;32m    819\u001b[0m             \u001b[0;32mraise\u001b[0m \u001b[0mValueError\u001b[0m\u001b[0;34m(\u001b[0m\u001b[0;34mf\"The blockwise of {quant_state.blocksize} is not supported. Supported values: [2048, 4096, 1024, 512, 256, 128, 64]\"\u001b[0m\u001b[0;34m)\u001b[0m\u001b[0;34m\u001b[0m\u001b[0;34m\u001b[0m\u001b[0m\n\u001b[0;32m--> 820\u001b[0;31m         \u001b[0mis_on_gpu\u001b[0m\u001b[0;34m(\u001b[0m\u001b[0;34m[\u001b[0m\u001b[0mA\u001b[0m\u001b[0;34m,\u001b[0m \u001b[0mabsmax\u001b[0m\u001b[0;34m,\u001b[0m \u001b[0mout\u001b[0m\u001b[0;34m]\u001b[0m\u001b[0;34m)\u001b[0m\u001b[0;34m\u001b[0m\u001b[0;34m\u001b[0m\u001b[0m\n\u001b[0m\u001b[1;32m    821\u001b[0m         \u001b[0;32mif\u001b[0m \u001b[0mout\u001b[0m\u001b[0;34m.\u001b[0m\u001b[0mdtype\u001b[0m \u001b[0;34m==\u001b[0m \u001b[0mtorch\u001b[0m\u001b[0;34m.\u001b[0m\u001b[0mfloat32\u001b[0m\u001b[0;34m:\u001b[0m\u001b[0;34m\u001b[0m\u001b[0;34m\u001b[0m\u001b[0m\n\u001b[1;32m    822\u001b[0m             \u001b[0mlib\u001b[0m\u001b[0;34m.\u001b[0m\u001b[0mcdequantize_blockwise_fp32\u001b[0m\u001b[0;34m(\u001b[0m\u001b[0mget_ptr\u001b[0m\u001b[0;34m(\u001b[0m\u001b[0mquant_state\u001b[0m\u001b[0;34m.\u001b[0m\u001b[0mcode\u001b[0m\u001b[0;34m)\u001b[0m\u001b[0;34m,\u001b[0m \u001b[0mget_ptr\u001b[0m\u001b[0;34m(\u001b[0m\u001b[0mA\u001b[0m\u001b[0;34m)\u001b[0m\u001b[0;34m,\u001b[0m \u001b[0mget_ptr\u001b[0m\u001b[0;34m(\u001b[0m\u001b[0mabsmax\u001b[0m\u001b[0;34m)\u001b[0m\u001b[0;34m,\u001b[0m \u001b[0mget_ptr\u001b[0m\u001b[0;34m(\u001b[0m\u001b[0mout\u001b[0m\u001b[0;34m)\u001b[0m\u001b[0;34m,\u001b[0m \u001b[0mct\u001b[0m\u001b[0;34m.\u001b[0m\u001b[0mc_int\u001b[0m\u001b[0;34m(\u001b[0m\u001b[0mquant_state\u001b[0m\u001b[0;34m.\u001b[0m\u001b[0mblocksize\u001b[0m\u001b[0;34m)\u001b[0m\u001b[0;34m,\u001b[0m \u001b[0mct\u001b[0m\u001b[0;34m.\u001b[0m\u001b[0mc_int\u001b[0m\u001b[0;34m(\u001b[0m\u001b[0mA\u001b[0m\u001b[0;34m.\u001b[0m\u001b[0mnumel\u001b[0m\u001b[0;34m(\u001b[0m\u001b[0;34m)\u001b[0m\u001b[0;34m)\u001b[0m\u001b[0;34m)\u001b[0m\u001b[0;34m\u001b[0m\u001b[0;34m\u001b[0m\u001b[0m\n",
            "\u001b[0;32m/usr/local/lib/python3.10/dist-packages/bitsandbytes/functional.py\u001b[0m in \u001b[0;36mis_on_gpu\u001b[0;34m(tensors)\u001b[0m\n\u001b[1;32m    387\u001b[0m         \u001b[0mon_gpu\u001b[0m \u001b[0;34m&=\u001b[0m \u001b[0;34m(\u001b[0m\u001b[0mt\u001b[0m\u001b[0;34m.\u001b[0m\u001b[0mdevice\u001b[0m\u001b[0;34m.\u001b[0m\u001b[0mtype\u001b[0m \u001b[0;34m==\u001b[0m \u001b[0;34m'cuda'\u001b[0m \u001b[0;32mor\u001b[0m \u001b[0mis_paged\u001b[0m\u001b[0;34m)\u001b[0m\u001b[0;34m\u001b[0m\u001b[0;34m\u001b[0m\u001b[0m\n\u001b[1;32m    388\u001b[0m         \u001b[0;32mif\u001b[0m \u001b[0;32mnot\u001b[0m \u001b[0mis_paged\u001b[0m\u001b[0;34m:\u001b[0m\u001b[0;34m\u001b[0m\u001b[0;34m\u001b[0m\u001b[0m\n\u001b[0;32m--> 389\u001b[0;31m             \u001b[0mgpu_ids\u001b[0m\u001b[0;34m.\u001b[0m\u001b[0madd\u001b[0m\u001b[0;34m(\u001b[0m\u001b[0mt\u001b[0m\u001b[0;34m.\u001b[0m\u001b[0mdevice\u001b[0m\u001b[0;34m.\u001b[0m\u001b[0mindex\u001b[0m\u001b[0;34m)\u001b[0m\u001b[0;34m\u001b[0m\u001b[0;34m\u001b[0m\u001b[0m\n\u001b[0m\u001b[1;32m    390\u001b[0m     \u001b[0;32mif\u001b[0m \u001b[0;32mnot\u001b[0m \u001b[0mon_gpu\u001b[0m\u001b[0;34m:\u001b[0m\u001b[0;34m\u001b[0m\u001b[0;34m\u001b[0m\u001b[0m\n\u001b[1;32m    391\u001b[0m         \u001b[0;32mraise\u001b[0m \u001b[0mTypeError\u001b[0m\u001b[0;34m(\u001b[0m\u001b[0;34mf'All input tensors need to be on the same GPU, but found some tensors to not be on a GPU:\\n {[(t.shape, t.device) for t in tensors]}'\u001b[0m\u001b[0;34m)\u001b[0m\u001b[0;34m\u001b[0m\u001b[0;34m\u001b[0m\u001b[0m\n",
            "\u001b[0;31mKeyboardInterrupt\u001b[0m: "
          ]
        }
      ]
    },
    {
      "cell_type": "code",
      "source": [
        "import pickle\n",
        "# 리스트를 피클 파일로 저장\n",
        "with open('test_answers_tuned_max2048_megast_0302.pkl', 'wb') as f:\n",
        "    pickle.dump(test_answers, f)"
      ],
      "metadata": {
        "id": "Dtnc9tzi6QF3"
      },
      "execution_count": null,
      "outputs": []
    },
    {
      "cell_type": "code",
      "source": [
        "for a, b in zip(test['질문'].tolist(), test_answers) :\n",
        "    print(f'질문 : {a}')\n",
        "    print(f'답변 : {b}')\n",
        "    print(' ')"
      ],
      "metadata": {
        "colab": {
          "base_uri": "https://localhost:8080/"
        },
        "id": "GpvO4SA27BBz",
        "outputId": "0a7f7f30-2e26-4485-86d5-c6c8d9cd106b"
      },
      "execution_count": null,
      "outputs": [
        {
          "output_type": "stream",
          "name": "stdout",
          "text": [
            "질문 : 방청 페인트의 종류에는 어떤 것들이 있는지 알고 계신가요? 또한, 원목사이딩을 사용하는 것에 어떤 단점이 있을까요?\n",
            "답변 : 방청 페인트는 기름, 식품, 화학물질 등 다양한 유형의 염증 유발 물질에 저항하도록 설계된 페인트의 일종입니다. 방청 페인트는 주로 산화 방지제, 안료, 바인더 및 용매로 구성됩니다. 방청 페인트의 일반적인 유형은 다음과 같습니다:1. 방청 에폭시 페인트: 산화 방지제와 안료를 포함하여 고무, 섬유 및 섬유 기반 물질에 적용하여 방청 및 방청 기능을 제공합니다.2. 방청 알킬 페인트: 산화 방지제, 안료 및 바인더로 구성되며 고무, 섬유 및 섬유 기반 물질에 적용하여 방청 및 방청 기능을 제공합니다.3. 방청 아크릴 페인트: 산화 방지제, 안료 및 바인더로 구성되며 고무, 섬유 및 섬유 기반 물질에 적용하여 방청 및 방청 기능을 제공합니다.4. 방청 셀룰로오스 페인트: 산화 방지제, 안료 및 바인더로 구성되며 고무, 섬유 및 섬유 기반 물질에 적용하여 방청 및 방청 기능을 제공합니다.5. 방청 우레탄 페인트: 산화 방지제, 안료 및 바인더로 구성되며 고무, 섬유 및 섬유 기반 물질에 적용하여 방청 및 방청 기능을 제공합니다.원목사이딩은 숲에서 직접 얻은 원목을 사용하여 외벽을 덮는 것을 말합니다. 원목사이딩을 사용하는 것에는 몇 가지 단점이 있습니다:1. 유지보수: 원목사이딩은 빛, 습기 및 기타 외부 요인으로 인해 손상될 수 있습니다. 따라서 원목사이딩은 일반적으로 빛과 습기에 저항하는 페인트나 스틸로 코팅해야 합니다.2. 재료 비용: 원목사이딩은 일반적으로 다른 재료보다 비싸다. 특히 고급 원목 사이딩은 더 비싸다.3. 환경적 영향: 원목사이딩을 위해 나무를 베어 내면 환경에 부정적인 영향을 미칠 수 있습니다. 특히 깊은 숲이나 보호 수역에서 나무를 베어 내면 생태계에 영향을 미칠 수 있습니다.4. 제한된 색상 및 디자인 옵션: 원목사이딩은 자연 상태의 나무 색상만 사용할 수 있기 때문에 색상 및 디자인 옵션이 제한됩니다.전반적으로 원목사이딩은 높은 유지보수 비용, 비싼 재료 비용, 환경 영향, 제한된 색상 및 디자인 옵션 등 몇 가지 단점이 있습니다.\n",
            " \n",
            "질문 : 도배지에 녹은 자국이 발생하는 주된 원인과 그 해결 방법은 무엇인가요?\n",
            "답변 : 도배지에 녹은 자국이 발생하는 주요 원인은 도배지 표면에 물이 침투하여 섬유가 부드러워지고 쉽게 찢어지기 때문입니다. 이러한 문제는 물 손상, 먼지 및 먼지 침착, 자외선 노출 등 여러 가지 요인으로 인해 발생할 수 있습니다.녹은 자국을 해결하려면 다음 단계를 따르세요:1. 물 손상: 도배지가 젖었는지 확인하세요. 젖은 도배지는 쉽게 찢어지고 녹은 자국이 생길 수 있습니다. 물 손상이 발생했다면 도배지를 건조시키고 다시 붙여야 합니다.2. 먼지 및 먼지 침착: 도배지 표면에 먼지나 먼지가 쌓이면 섬유가 부드러워져 찢어질 수 있습니다. 먼지와 먼지를 닦아내면 녹은 자국을 방지할 수 있습니다.3. 자외선 노출: 도배지가 많은 양의 자외선에 노출되면 섬유가 손상되고 녹은 자국이 생길 수 있습니다. 도배지를 직사광선에 노출되지 않는 곳에 배치하면 녹은 자국을 방지할 수 있습니다.4. 녹은 자국 수리: 도배지에 녹은 자국이 생긴 경우 수리하는 것이 가장 좋습니다. 먼저 녹은 자국 주변의 도배지를 제거한 다음 수리 패치를 붙입니다. 수리 패치는 도배지와 일치하는 색상과 질감을 가져야 합니다. 수리 패치를 도배지 손상 부위에 부드럽게 눌러서 부착시킵니다.5. 도배지 보호: 녹은 자국이 생기지 않도록 도배지를 보호하는 것이 가장 좋습니다. 도배지를 건조하고 청결하게 유지하고, 직사광선에서 멀리 떨어져 있도록 하고, 먼지나 먼지가 쌓이지 않도록 하세요.요약하면, 도배지에 녹은 자국이 발생하는 주요 원인은 물 손상, 먼지 및 먼지 침착, 자외선 노출입니다. 물 손상이나 먼지 및 먼지 침착을 방지하기 위해 도배지를 건조하고 청결하게 유지하고, 도배지를 직사광선에서 멀리 떨어져 있도록 하세요. 녹은 자국이 생긴 경우 수리하고 보호하세요.\n",
            " \n",
            "질문 : 큐블럭의 단점을 알려주세요. 또한, 압출법 단열판을 사용하는 것의 장점은 무엇인가요?\n",
            "답변 : 큐블럭은 절연재로 인해 방열이 어려워 열손실이 심하다는 단점이 있습니다. 또한 수분을 흡수하여 절연 성능을 손상시킬 수 있으며, 재료의 재료 불균일성으로 인해 열손실이 심하다는 단점이 있습니다.반면 압출법 단열판은 열 전도율이 낮아 열 손실이 적고 방열이 잘 되어 에너지 효율이 높다는 장점이 있습니다. 또한 수분을 흡수하지 않고 재료 불균일성이 없어 절연 성능이 우수하다는 장점이 있습니다. 또한 다양한 크기와 두께로 제작할 수 있어 다양한 건축물에 적용할 수 있다는 장점이 있습니다.### 답변: 큐블럭은 절연재로 인해 방열이 어려워 열손실이 심하다는 단점이 있습니다. 또한 수분을 흡수하여 절연 성능을 손상시킬 수 있으며, 재료의 재료 불균일성으로 인해 열손실이 심하다는 단점이 있습니다.\n",
            " \n",
            "질문 : 철골구조를 사용하는 고층 건물에서, 단열 효과를 높이기 위한 시공 방법은 무엇이 있을까요?\n",
            "답변 : 철골 구조를 사용하는 고층 건물에서는 단열 효과를 높이기 위해 여러 가지 시공 방법을 사용할 수 있습니다. 몇 가지 옵션은 다음과 같습니다:1. 외벽 단열재: 외벽에 단열재를 추가하여 건물 외부의 열을 차단하고 내부 온도를 일정하게 유지할 수 있습니다. 단열재로는 돌, 절연 벽돌, 절연 시멘트 등이 있습니다.2. 덮개: 철골 구조를 덮는 절연 재료를 사용하여 건물 내부의 온도를 일정하게 유지할 수 있습니다. 덮개로는 절연 시멘트, 절연 보드, 절연 벽돌 등이 있습니다.3. 창문 단열재: 창문에 단열재를 추가하여 외부의 열을 차단하고 내부 온도를 일정하게 유지할 수 있습니다. 단열재로는 유리 절연 필름, 절연 창호, 절연 셔터 등이 있습니다.4. 지붕 단열재: 지붕에 단열재를 추가하여 건물 내부의 온도를 일정하게 유지할 수 있습니다. 단열재로는 절연 시멘트, 절연 보드, 절연 지붕 타일 등이 있습니다.5. 공조 시스템: 공조 시스템을 사용하여 건물 내부의 온도를 일정하게 유지할 수 있습니다. 공조 시스템에는 공기 조화기, 온도 조절 장치, 환기 시스템 등이 있습니다.6. 절연 시스템: 건물 내부에 절연 시스템을 설치하여 온도를 일정하게 유지할 수 있습니다. 절연 시스템에는 온도 조절 장치, 절연 시스템 모니터링 장치, 절연 시스템 유지 보수 장치 등이 있습니다.7. 절연 시스템 모니터링 및 유지 보수: 절연 시스템을 모니터링하고 유지 보수하여 절연 효과를 유지하고 필요한 경우 손상된 부분을 수리하는 것이 중요합니다. 절연 시스템 모니터링 및 유지 보수 장치에는 온도 감지기, 절연 시스템 모니터링 장치, 절연 시스템 유지 보수 장치 등이 있습니다.8. 환기 시스템: 건물 내부의 공기 순환을 돕는 환기 시스템을 사용하여 건물 내부의 온도를 일정하게 유지할 수 있습니다. 환기 시스템에는 환기 시스템, 환기 시스템 모니터링 장치, 환기 시스템 유지 보수 장치 등이 있습니다.이러한 시공 방법은 건물 내부의 온도를 일정하게 유지하고 건물의 에너지 효율을 향상시킬 수 있습니다. 건물 구조, 환경 조건, 사용자 요구 사항에 따라 적절한 시공 방법을 선택하는 것이 중요합니다.\n",
            " \n",
            "질문 : 도배지의 완전한 건조를 위해 몇 주 동안 기다려야 하나요?\n",
            "답변 : 도배지의 완전한 건조를 위해 필요한 기간은 도배지의 종류, 환경 조건, 공기 흐름 등 여러 요인에 따라 달라집니다. 일반적으로 도배지가 건조되기 시작하는 데 24~48시간이 걸리지만 완전히 건조되기 위해서는 일반적으로 2~3일이 걸립니다. 도배지가 완전히 건조되었는지 확인하려면 도배지를 가볍게 누르거나 눈으로 확인하여 손가락이나 손가락에 도배지가 묻어나지 않는지 확인하세요. 도배지가 건조되지 않은 부분이 있거나 손가락에 도배지가 묻어있다면 더 오래 건조시켜야 합니다.\n",
            " \n",
            "질문 : 철근철골콘크리트 구조가 적용된 건물의 장단점은 무엇인가요?\n",
            "답변 : 철근철골콘크리트 구조(RCF)는 철근콘크리트 구조에 강철 바를 추가하여 강도와 내구성을 향상시키는 건축 방식입니다. RCF 구조는 다양한 건물 유형에 적용될 수 있으며 다양한 장점과 단점이 있습니다. 장점과 단점은 다음과 같습니다:장점:1. 강도: 강철 바를 추가하면 구조의 전체 강도가 향상되어 더 큰 하중을 지탱할 수 있습니다.2. 내구성: 강철 바가 추가되면 콘크리트 구조가 찢어지거나 찢어지는 것을 방지하여 내구성이 향상됩니다.3. 화재 저항성: 강철 바는 콘크리트와 함께 화재에 강하여 건물이 화재 상황에서도 더 안전하게 유지됩니다.4. 단열 특성: 콘크리트는 자연적으로 단열 특성이 좋아 건물의 에너지 효율성을 향상시킬 수 있습니다.5. 잔해 제거 용이성: 건물이 손상되거나 파괴되면 강철 바를 쉽게 제거할 수 있어 잔해 제거가 용이합니다.단점:1. 비용: 강철 바를 추가하면 건설 비용이 증가할 수 있습니다.2. 설계 복잡성: RCF 구조는 설계 및 시공이 더 복잡할 수 있습니다.3. 수리 어려움: 콘크리트와 강철 바 사이의 접합부는 수리하기 어려울 수 있습니다.4. 감지 어려움: 강철 바가 콘크리트 내부에 삽입되어 있어 강도 감소 또는 결함을 감지하기 어렵습니다.5. 잔해 제거 용이성: 건물이 손상되거나 파괴되면 강철 바를 제거하기 어려울 수 있어 잔해 제거가 어렵습니다.전반적으로 RCF 구조는 다양한 건물 유형에 적용할 수 있으며 강도, 내구성, 화재 저항성 등 다양한 장점을 제공합니다. 그러나 비용, 설계 및 시공 복잡성, 수리 어려움, 감지 어려움 등의 단점도 존재합니다.\n",
            " \n",
            "질문 : 어떤 상황에 개별 공간이 더 적합한지, 어떤 상황에 오픈 플랜 공간이 더 적합한지 알려주세요. 그리고 합지벽지의 어떤 단점이 있나요?\n",
            "답변 : 개별 공간은 일부 사용자에게 더 적합한 반면 오픈 플랜 공간은 다른 사용자에게 더 적합할 수 있습니다. 이는 사용자의 필요와 선호도에 따라 달라집니다.개별 공간은 다음과 같은 상황에서 더 적합할 수 있습니다:1. 사용자가 고립을 선호하고 사적인 공간이 필요한 경우.2. 사용자가 집중하고 집중할 수 있는 공간이 필요한 경우.3. 사용자가 잠재적인 소음 또는 침입 시 사생활을 보호할 필요가 있는 경우.4. 사용자가 개별 공간에 걸맞는 특정 장비나 기능이 필요한 경우.반면, 오픈 플랜 공간은 다음과 같은 상황에서 더 적합할 수 있습니다:1. 사용자가 사회적 상호 작용을 원하고 협업 및 협력을 촉진하고자 하는 경우.2. 사용자가 협력과 협력을 위한 공간이 필요한 경우.3. 사용자가 개별 공간에 걸맞는 특정 장비나 기능이 필요한 경우.4. 사용자가 개별 공간에 걸맞는 특정 장비나 기능이 필요한 경우.합쳐진 벽의 단점은 다음과 같습니다:1. 잠재적인 소음 또는 침입 시 사생활을 보호할 수 없습니다.2. 개별 공간에 걸맞는 특정 장비나 기능이 필요한 경우 제한될 수 있습니다.3. 오픈 플랜 공간에 적합하지 않은 경우 사용자가 고립되거나 집중하기 어려울 수 있습니다.4. 사용자가 사회적 상호 작용을 원하고 협업 및 협력을 촉진하고자 하는 경우 사회적 상호 작용을 방해할 수 있습니다.\n",
            " \n",
            "질문 : 도배지 들뜸 현상이 발생하는 가장 일반적인 원인은 무엇인가요?\n",
            "답변 : 도배지 들뜸 현상은 일반적으로 도배지가 표면에 부착되지 않거나 부분적으로 부착된 경우 발생합니다. 이 문제는 도배지 자체, 도배지 설치 방법, 환경 요인 등 여러 가지 요인으로 인해 발생할 수 있습니다. 가장 일반적인 원인은 다음과 같습니다:1. 도배지 자체의 문제: 도배지가 얇거나 질이 나쁘거나 제조 과정에서 결함이 있을 수 있습니다. 이러한 문제는 도배지가 표면에 부착되지 않거나 부분적으로 부착되는 결과를 초래할 수 있습니다.2. 표면의 문제: 표면이 거칠거나 오래되거나 이물질이 많을 수 있습니다. 이러한 표면 문제는 도배지가 표면에 부착되지 않거나 부분적으로 부착되는 결과를 초래할 수 있습니다.3. 환경 요인: 습도가 높거나 온도가 낮을 수 있습니다. 이러한 환경 요인은 도배지가 표면에 부착되지 않거나 부분적으로 부착되는 결과를 초래할 수 있습니다.4. 도배지 설치 방법: 도배지를 설치하는 방법이 올바르지 않을 수 있습니다. 예를 들어 도배지를 올바르게 적셔 도포하지 않거나 적절한 휴식 시간을 두지 않거나 표면을 충분히 준비하지 않는 등의 방식으로 도배지를 설치할 수 있습니다. 이러한 방식으로 도배지를 설치하면 도배지가 표면에 부착되지 않거나 부분적으로 부착될 수 있습니다.5. 부적절한 도배지 설치 시기: 도배지를 설치하는 시기가 부적절할 수 있습니다. 예를 들어 습도가 높거나 온도가 낮을 때 도배지를 설치하면 도배지가 표면에 부착되지 않거나 부분적으로 부착될 수 있습니다.6. 부적절한 도배지 설치 방법: 도배지를 설치하는 방법이 올바르지 않을 수 있습니다. 예를 들어 도배지를 올바르게 적셔 도포하지 않거나 적절한 휴식 시간을 두지 않거나 표면을 충분히 준비하지 않는 등의 방식으로 도배지를 설치할 수 있습니다. 이러한 방식으로 도배지를 설치하면 도배지가 표면에 부착되지 않거나 부분적으로 부착될 수 있습니다.7. 부적절한 도배지 설치 시기: 도배지를 설치하는 시기가 부적절할 수 있습니다. 예를 들어 습도가 높거나 온도가 낮을 때 도배지를 설치하면 도배지가 표면에 부착되지 않거나 부분적으로 부착될 수 있습니다.8. 부적절한 도배지 설치 방법: 도배지를 설치하는 방법이 올바르지 않을 수 있습니다. 예를 들어 도배지를 올바르게 적셔 도포하지 않거나 적절한 휴식 시간을 두지 않거나 표면을 충분히 준비하지 않는 등의 방식으로 도배지를 설치할 수 있습니다. 이러한 방식으로 도배지를 설치하면 도배지가 표면에 부착되지 않거나 부분적으로 부착될 수 있습니다.9. 부적절한 도배지 설치 시기: 도배지를 설치하는 시기가 부적절할 수 있습니다. 예를 들어 습도가 높거나 온도가 낮을 때 도배지를 설치하면 도배지가 표면에 부착되지 않거나 부분적으로 부착될 수 있습니다.10. 부적절한 도배지 설치 방법: 도배지를 설치하는 방법이 올바르지 않을 수 있습니다. 예를 들어 도배지를 올바르게 적셔 도포하지 않거나 적절한 휴식 시간을 두지 않거나 표면을 충분히 준비하지 않는 등의 방식으로 도배지를 설치할 수 있습니다. 이러한 방식으로 도배지를 설치하면 도배지가 표면에 부착되지 않거나 부분적으로 부착될 수 있습니다.\n",
            " \n",
            "질문 : 도배지에 얼룩이 생기는 다양한 원인들에 대해서 자세히 알려주세요.\n",
            "답변 : 도배지에 얼룩이 생기는 원인은 여러 가지가 있습니다. 다음은 가장 흔한 몇 가지 원인입니다:1. 습기: 도배지에 습기가 많으면 얼룩이 생길 수 있습니다. 습기는 도배지에 수분을 유지하고 곰팡이 및 좀비와 같은 미생물이 성장하는 데 도움이 됩니다.2. 곰팡이 및 좀비: 습기가 많고 온도가 높으면 곰팡이 및 좀비가 번식하기 좋은 환경이 됩니다. 이러한 미생물은 도배지에 얼룩을 만들고 골격을 약화시킬 수 있습니다.3. 얼룩덩이 벌레: 얼룩덩이 벌레는 도배지에 살며 얼룩덩이 벌레의 분변으로 인해 얼룩이 생길 수 있습니다. 이 벌레는 주로 습기가 많고 온도가 높은 환경에서 번식합니다.4. 화학 반응: 도배지에 침투하는 화학 물질이 있으면 도배지 표면에 얼룩이 생길 수 있습니다. 이러한 화학 물질은 습기, 수분 또는 화학 물질이 포함된 공기 중의 분자로부터 도배지에 침투할 수 있습니다.5. 물: 도배지에 물이 침투하면 얼룩이 생길 수 있습니다. 물은 도배지 표면에 수분을 유지하고 곰팡이 및 좀비와 같은 미생물이 성장하는 데 도움이 됩니다.6. 습기 센서: 습기 센서는 도배지에 얼룩을 만들 수 있습니다. 습기 센서는 습기를 감지하고 조절하기 위해 사용되며, 도배지에 수분을 유지하고 곰팡이 및 좀비와 같은 미생물이 성장하는 데 도움이 될 수 있습니다.7. 흙: 흙은 도배지에 얼룩을 만들 수 있습니다. 흙은 습기를 유지하고 곰팡이 및 좀비와 같은 미생물이 성장하는 데 도움이 될 수 있습니다.8. 흑점: 흑점은 도배지에 얼룩을 만들 수 있습니다. 흑점은 습기를 유지하고 곰팡이 및 좀비와 같은 미생물이 성장하는 데 도움이 될 수 있습니다.9. 습기 센서: 습기 센서는 도배지에 얼룩을 만들 수 있습니다. 습기 센서는 습기를 감지하고 조절하기 위해 사용되며, 도배지에 수분을 유지하고 곰팡이 및 좀비와 같은 미생물이 성장하는 데 도움이 될 수 있습니다.10. 화학 반응: 도배지에 침투하는 화학 물질이 있으면 도배지 표면에 얼룩이 생길 수 있습니다. 이러한 화학 물질은 습기, 수분 또는 화학 물질이 포함된 공기 중의 분자로부터 도배지에 침투할 수 있습니다.11. 습기 센서: 습기 센서는 도배지에 얼룩을 만들 수 있습니다. 습기 센서는 습기를 감지하고 조절하기 위해 사용되며, 도배지에 수분을 유지하고 곰팡이 및 좀비와 같은 미생물이 성장하는 데 도움이 될 수 있습니다.12. 흙: 흙은 도배지에 얼룩을 만들 수 있습니다. 흙은 습기를 유지하고 곰팡이 및 좀비와 같은 미생물이 성장하는 데 도움이 될 수 있습니다.13. 흑점: 흑점은 도배지에 얼룩을 만들 수 있습니다. 흑점은 습기를 유지하고 곰팡이 및 좀비와 같은 미생물이 성장하는 데 도움이 될 수 있습니다.14. 습기 센서: 습기 센서는 도배지에 얼룩을 만들 수 있습니다. 습기 센서는 습기를 감지하고 조절하기 위해 사용되며, 도배지에 수분을 유지하고 곰팡이 및 좀비와 같은 미생물이 성장하는 데 도움이 될 수 있습니다.15. 화학 반응: 도배지에 침투하는 화학 물질이 있으면 도배지 표면에 얼룩이 생길 수 있습니다. 이러한 화학 물질은 습기, 수분 또는 화학 물질이 포함된 공기 중의 분자로부터 도배지에 침투할 수 있습니다.16. 습기 센서: 습기 센서는 도배지에 얼룩을 만들 수 있습니다. 습기 센서는 습기를 감지하고 조절하기 위해 사용되며, 도배지에 수분을 유지하고 곰팡이 및 좀비와 같은 미\n",
            " \n",
            "질문 : 고층 건물을 건축할 때 철골구조가 주로 선택되는 이유는 무엇인가요?\n",
            "답변 : 고층 건물을 건설할 때 철골 구조가 주로 선택되는 이유는 여러 가지가 있습니다:1. 강도: 철골 구조는 강도가 높아 더 높은 높이로 건설할 수 있습니다. 철골 구조는 강도가 높은 철강을 사용하여 지진, 풍력 및 다른 외부 요인으로부터 건물을 보호할 수 있습니다.2. 가벼움: 철골 구조는 철골 자체가 가볍기 때문에 가벼워요. 이는 건설 시 더 많은 층을 지을 수 있게 해줍니다. 가벼운 건물은 지반에 가해지는 하중을 줄여 건물을 지탱하는 데 필요한 지반의 크기를 줄일 수 있습니다.3. 속도: 철골 구조는 조립식 방식으로 설계되어 설치가 빠르고 쉽습니다. 이는 건설 시간을 단축하여 건설 비용을 절감할 수 있습니다.4. 유연성: 철골 구조는 지진 및 풍력과 같은 외부 요인에 대해 더 유연하고 탄력적입니다. 이는 건물이 흔들리거나 휨하는 것을 방지하여 건물의 안전을 보장하는 데 도움이 됩니다.5. 재활용성: 철골 구조는 재활용이 가능하여 건물이 더 이상 사용되지 않을 때 철골을 재활용하여 자원을 절약할 수 있습니다.6. 디자인 유연성: 철골 구조는 건물 내부에 열린 공간을 만들 수 있어 디자인 유연성을 제공합니다. 이는 건물 내부에 다양한 사용 방법을 가능하게 하고 테마별 설계를 쉽게 할 수 있습니다.요약하면, 철골 구조는 강도, 가벼움, 속도, 유연성, 재활용성 및 디자인 유연성 때문에 고층 건물 건설에 주로 선택됩니다.\n",
            " \n",
            "질문 : 유성페인트의 환경 오염에 대한 예시를 알려주세요.\n",
            "답변 : 유성 페인트는 일반적으로 유성 잉크, 색소, 용매, 첨가제 등의 다양한 성분으로 구성됩니다. 이러한 성분은 생산 및 사용 과정에서 환경에 해를 끼칠 수 있습니다. 유성 페인트의 환경 오염의 몇 가지 예는 다음과 같습니다:1. 화학 물질의 방출: 유성 페인트 제조 공정에서 방출되는 화학 물질은 대기 오염을 야기할 수 있습니다. 이러한 화학 물질에는 휘발성 유기 화합물(VOC)이 포함될 수 있으며, 이는 오존 층 파괴와 관련이 있습니다. 또한 이러한 화학 물질은 산성비를 유발하여 수생 생태계에 해를 끼칠 수 있습니다.2. 휘발성 유기 화합물(VOC): 유성 페인트는 높은 수준의 VOC를 함유하고 있어 대기 오염을 유발할 수 있습니다. VOC는 건조 과정에서 대기로 방출되며, 대기 오염, 산성비, 오존 층 파괴와 관련이 있습니다. 특히 실내에서 유성 페인트를 사용할 때는 높은 수준의 VOC가 건조 과정에서 방출되어 실내 공기 질을 악화시킬 수 있습니다.3. 폐기물 및 배출물: 유성 페인트는 사용 후 폐기물이 발생하여 매립지 오염, 생태계 손상 및 물 오염을 유발할 수 있습니다. 또한 유성 페인트의 사용 및 폐기 과정에서 발생하는 배출물은 수생 생태계에 해를 끼칠 수 있습니다. 이러한 배출물은 수생 생태계의 수질을 악화시키고 수생 생물의 생존에 필요한 산소 수준을 감소시킬 수 있습니다.4. 폐기물 관리 문제: 유성 페인트 제품의 폐기물 관리는 환경 오염을 야기할 수 있는 또 다른 주요 문제입니다. 유성 페인트 용기는 플라스틱 또는 금속 재질로 제조되어 폐기물 처리 시 환경에 해를 끼칠 수 있습니다. 또한 폐기물 처리 과정에서 유성 페인트가 토양 또는 수계에 유출되어 환경 오염을 야기할 수 있습니다.5. 생태계 영향: 유성 페인트는 생태계에 직접적인 영향을 미칠 수도 있습니다. 유성 페인트가 수계에 유출되면 수생 생물의 생존에 필요한 산소 수준을 감소시켜 수생 생태계에 악영향을 미칠 수 있습니다. 또한 유성 페인트가 토양에 침투하면 토양 생물의 생존에 필요한 산소 수준을 감소시켜 토양 생태계에 악영향을 미칠 수 있습니다.요약하면, 유성 페인트는 생산 및 사용 과정에서 대기 오염, 산성비, 생태계 손상, 물 오염, 폐기물 처리 문제 등 다양한 환경 오염 문제를 야기할 수 있습니다. 이러한 문제를 해결하기 위해서는 유성 페인트의 생산, 사용 및 폐기 과정에서 환경 영향을 줄이기 위한 조치가 필요합니다.\n",
            " \n",
            "질문 : 훼손과 오염은 어떻게 다른가요? 또한, 부실 시공으로 인해 타공하자가 발생할 가능성이 있나요?\n",
            "답변 : 훼손과 오염은 서로 다른 개념이지만 두 가지 모두 건물의 건전성에 영향을 미칠 수 있습니다. 훼손은 건물 구조물의 손상을 의미하며, 건물 구조물이 제대로 작동하지 않거나 건물의 안전에 영향을 미칠 수 있습니다. 오염은 건물 내부 또는 외부에 존재하는 건물 구조물을 손상시키거나 건물의 건전성에 영향을 미치는 모든 유해한 물질을 의미합니다.부실 시공으로 인해 타공하자가 발생할 수 있습니다. 타공하자는 건물 구조물의 손상으로 인해 건물 구조물이 제대로 작동하지 않거나 건물의 안전에 영향을 미칠 수 있습니다. 부실 시공은 건물 구조물이 올바르게 설계되지 않았거나 건설 중에 올바르게 구현되지 않았기 때문일 수 있습니다. 예를 들어, 부실 시공으로 인해 건물 구조물이 부분적으로 손상되거나 부분적으로 결함이 있을 수 있습니다. 이러한 경우 타공하자가 발생하여 건물의 건전성에 영향을 미칠 수 있습니다.\n",
            " \n",
            "질문 : 철골콘크리트 구조에서 사용되는 철근의 재료적 특징은 무엇인가요?\"\n",
            "답변 : 철골 콘크리트 구조에서 사용되는 철근은 철근이라고도 하며, 일반적으로 강철로 만들어집니다. 철근은 철골 콘크리트 구조의 강도와 강성을 높이는 데 중요한 역할을 합니다. 철근은 다양한 크기와 강도의 코일로 제공됩니다. 코일 내부에는 철근이 감겨 있으며, 철근은 콘크리트 주입 중 콘크리트에 걸리는 응력을 분산시키고 줄여 콘크리트의 균열을 방지하는 데 도움이 됩니다.철근은 일반적으로 철골 콘크리트 구조에 적용하기 위해 긴 연장을 가지고 있습니다. 이 연장은 콘크리트가 굳어 강화되는 동안 철근의 연장을 방해하지 않고 철근을 콘크리트에 쉽게 삽입할 수 있도록 합니다. 철근의 연장은 또한 철근이 콘크리트 내에 삽입된 후 콘크리트가 굳어 강화되는 동안 철근의 연장을 방해하지 않고 철근을 콘크리트에 쉽게 삽입할 수 있도록 합니다.철근은 일반적으로 철골 콘크리트 구조에 적용하기 위해 긴 연장을 가지고 있습니다. 이 연장은 콘크리트가 굳어 강화되는 동안 철근의 연장을 방해하지 않고 철근을 콘크리트에 쉽게 삽입할 수 있도록 합니다. 철근의 연장은 또한 철근이 콘크리트 내에 삽입된 후 콘크리트가 굳어 강화되는 동안 철근의 연장을 방해하지 않고 철근을 콘크리트에 쉽게 삽입할 수 있도록 합니다.철근은 철골 콘크리트 구조에 적용하기 위해 긴 연장을 가지고 있습니다. 이 연장은 콘크리트가 굳어 강화되는 동안 철근의 연장을 방해하지 않고 철근을 콘크리트에 쉽게 삽입할 수 있도록 합니다. 철근의 연장은 또한 철근이 콘크리트 내에 삽입된 후 콘크리트가 굳어 강화되는 동안 철근의 연장을 방해하지 않고 철근을 콘크리트에 쉽게 삽입할 수 있도록 합니다.\n",
            " \n",
            "질문 : 방염벽지가 실크벽지와 합지벽지와 다른 점은 무엇인가요?\n",
            "답변 : 방염벽지는 실크벽지와 합지벽지와 다음과 같은 몇 가지 차이점이 있습니다:1. 구성: 방염벽지는 실크벽지와 합지벽지와 달리 실크가 아닌 면으로 만들어집니다. 면은 실크보다 더 강하고 내구성이 뛰어나며 비용이 저렴하기 때문에 더 일반적인 소재입니다.2. 무게: 방염벽지는 실크벽지와 합지벽지에 비해 더 무겁습니다. 이는 방염벽지가 면으로 만들어져 있기 때문입니다. 면은 실크보다 무겁고 더 두꺼워서 벽지가 더 무거워집니다.3. 방염성: 방염벽지는 실크벽지와 합지벽지에 비해 더 방염성이 뛰어납니다. 이는 면이 실크보다 더 방염성이 뛰어나기 때문입니다. 방염벽지는 습기를 흡수하고 방출하는 능력이 더 뛰어나 습기로 인한 벽의 손상을 방지하는 데 도움이 됩니다.4. 가격: 방염벽지는 실크벽지와 합지벽지에 비해 비용이 저렴합니다. 이는 면이 실크보다 더 저렴한 소재이기 때문입니다. 또한 방염벽지는 실크벽지와 합지벽지에 비해 더 두껍고 튼튼하기 때문에 벽지의 수명이 더 길어집니다.5. 수명: 방염벽지는 실크벽지와 합지벽지에 비해 더 길게 사용할 수 있습니다. 이는 면이 실크보다 더 강하고 내구성이 뛰어나기 때문입니다. 또한 방염벽지는 실크벽지와 합지벽지에 비해 더 두껍고 튼튼하기 때문에 더 오래 사용할 수 있습니다.6. 수리: 방염벽지는 실크벽지와 합지벽지에 비해 수리가 더 어렵습니다. 이는 면이 실크보다 더 단단하고 수리하기 어려운 소재이기 때문입니다. 또한 방염벽지는 실크벽지와 합지벽지에 비해 더 두껍고 튼튼하기 때문에 수리가 더 어렵습니다.7. 잔류 수분: 방염벽지는 실크벽지와 합지벽지에 비해 더 많은 수분을 흡수하고 방출할 수 있습니다. 이는 면이 실크보다 더 많은 수분을 흡수하고 방출할 수 있는 능력이 더 뛰어나기 때문입니다. 이는 습기로 인한 벽의 손상을 방지하는 데 도움이 됩니다.8. 디자인: 방염벽지는 실크벽지와 합지벽지에 비해 더 다양한 디자인을 제공합니다. 이는 면이 실크보다 더 다양한 디자인과 색상을 만들 수 있기 때문입니다. 방염벽지는 실크벽지와 합지벽지에 비해 더 다양한 디자인을 제공하므로 더 다양한 디자인과 색상을 선택할 수 있습니다.9. 흡습성: 방염벽지는 실크벽지와 합지벽지에 비해 더 많은 수분을 흡수할 수 있습니다. 이는 면이 실크보다 더 많은 수분을 흡수할 수 있는 능력이 더 뛰어나기 때문입니다. 이는 습기로 인한 벽의 손상을 방지하는 데 도움이 됩니다.10. 단단함: 방염벽지는 실크벽지와 합지벽지에 비해 더 단단합니다. 이는 면이 실크보다 더 단단하고 튼튼한 소재이기 때문입니다. 방염벽지는 실크벽지와 합지벽지에 비해 더 두껍고 튼튼하기 때문에 더 단단합니다.11. 투명도: 방염벽지는 실크벽지와 합지벽지에 비해 투명도가 떨어집니다. 이는 면이 실크보다 투명도가 떨어진다는 것을 의미합니다. 방염벽지는 실크벽지와 합지벽지에 비해 더 두껍고 튼튼하기 때문에 투명도가 떨어집니다.12. 수분 흡수 능력: 방염벽지는 실크벽지와 합지벽지에 비해 더 많은 수분을 흡수할 수 있습니다. 이는 면이 실크보다 더 많은 수분을 흡수할 수 있는 능력이 더 뛰어나기 때문입니다. 이는 습기로 인한 벽의 손상을 방지하는 데 도움이 됩니다.13. 내구성: 방염벽지는 실크벽지와 합지벽지에 비해 더 내구성이 뛰어납니다. 이는 면이 실크보다 더 강하고 내구성이 뛰어나기 때문입니다. 방염벽지는 실크벽지와 합지벽지에 비해 더 두껍고 튼튼하기\n",
            " \n",
            "질문 : 도배지에 곰팡이가 생겼을 때 높은 습도가 원인인 경우, 습기 관리는 어떻게 해야 할까요?\"\n",
            "답변 : 도배지에 곰팡이가 생기는 것은 주로 높은 습도와 열악한 환기로 인해 발생합니다. 곰팡이를 방지하고 이미 발생한 곰팡이를 제거하려면 다음 단계를 따르세요:1. 습도를 조절합니다: 도배지에 곰팡이가 생기는 주요 원인은 높은 습도입니다. 집의 습도를 60% 이하로 유지하세요. 이를 위해 환기 시스템을 사용하거나 공기 청정기나 공기 제습기를 사용하세요.2. 환기를 개선합니다: 곰팡이는 습한 환경에서 번식하므로 집 전체의 환기를 개선하는 것이 중요합니다. 충분한 환기를 위해 창문을 열고 풍기를 사용하세요. 또한 환기 시스템을 설치하여 공기를 상층부로 올려보내고 공기를 갱신할 수 있습니다.3. 도배지를 건조하세요: 곰팡이는 젖은 표면에서 번식하므로 도배지를 건조하도록 유지하세요. 습기가 많은 표면을 깨끗하고 건조하게 유지하세요. 손상된 도배지를 제거하고 깨끗하고 건조한 표면에 새로운 도배지를 바르세요.4. 곰팡이 제거: 도배지에 곰팡이가 생긴 부분을 벗겨내고 살균제로 살균하세요. 곰팡이가 생기지 않도록 깨끗하고 건조한 표면에 새로운 도배지를 바르세요.5. 곰팡이가 발생하지 않도록 하세요: 곰팡이가 다시 생기지 않도록 습도와 환기를 계속 조절하세요. 또한 손상된 도배지를 즉시 수리하고 젖은 표면을 깨끗하고 건조하게 유지하세요.곰팡이는 깨끗하고 건조한 환경에서 번식하지 않으므로 습기를 제어하고 도배지를 건조하고 깨끗하게 유지하는 것이 중요합니다. 곰팡이 발생 시 빠르게 대처하고 곰팡이 발생을 방지하기 위한 조치를 시행하면 곰팡이 발생을 예방하고 건강한 생활 환경을 유지할 수 있습니다.\n",
            " \n",
            "질문 : 롱브릭타일은 어떤 종류의 타일인가요? 그리고 페인트 상도재의 역할과 사용 방법에 대해 알려주세요.\n",
            "답변 : 롱브릭타일은 긴 직사각형 모양의 타일로, 일반적으로 옥스퍼드 스톤 타일이라고도 불립니다. 이 타일은 주로 바닥, 벽, 지붕 덮개로 사용되며, 긴 모양 덕분에 넓은 공간을 덮을 수 있습니다. 롱브릭타일은 여러 가지 색상과 패턴으로 제공되며, 전통적인 벽돌 타일이나 다양한 모양과 크기의 타일로 만들어진 모자이크 타일과 같은 다양한 스타일과 디자인으로 사용할 수 있습니다.페인트 상도재는 도장이나 스핀 코팅 공정에서 사용되는 특별한 유형의 페인트입니다. 이 페인트는 표면에 균일하게 도포되고 고르게 도포되도록 설계되어 있으며, 고르고 매끄러운 피니쉬를 만들기 위해 사용됩니다. 페인트 상도재는 주로 자동차 및 항공기 산업에서 사용되며, 이러한 산업에서는 균일한 피니쉬가 매우 중요합니다.페인트 상도재는 도장 프로세스에서 두 가지 방법으로 사용될 수 있습니다. 첫째, 도장 전에 표면을 준비하는 데 사용할 수 있습니다. 이 경우 표면을 깨끗하게 만들고 불균일한 부분을 채우기 위해 사용됩니다. 이렇게 하면 도장 프로세스가 더 쉽고 균일한 피니쉬를 얻을 수 있습니다.둘째, 도장 후에 사용하여 균일한 피니쉬를 만들 수 있습니다. 이 경우 도장이 균일하게 분포되고 고르게 도포되도록 도와줍니다. 또한 도장 프로세스가 끝난 후 표면을 보호하고 균일한 피니쉬를 유지하는 데도 도움이 됩니다.전반적으로 페인트 상도재는 균일하고 매끄러운 피니쉬를 만들기 위해 도장 프로세스에서 중요한 역할을 합니다. 이를 통해 표면이 깨끗하고 균일하며 보호되어 최고의 품질과 피니쉬를 제공할 수 있습니다.\n",
            " \n",
            "질문 : 준불연재료는 무엇인가요? 그리고 유성페인트를 사용하는 것에 대한 부작용이 있을까요?\n",
            "답변 : 준불연재는 불연재보다 덜 불연성이지만 불연재보다 더 불연성인 재료입니다. 준불연재는 불에 약간 불연성이지만 불연재보다 더 불연성이지만 불연재보다 더 불연성이지만 불연재보다 더 불연성이지만 불연재보다 더 불연성이지만 불연재보다 더 불연성이지만 불연재보다 더 불연성이지만 불연재보다 더 불연성이지만 불연재보다 더 불연성이지만 불연재보다 더 불연성이지만 불연재보다 더 불연성이지만 불연재보다 더 불연성이지만 불연재보다 더 불연성이지만 불연재보다 더 불연성이지만 불연재보다 더 불연성이지만 불연재보다 더 불연성이지만 불연재보다 더 불연성이지만 불연재보다 더 불연성이지만 불연재보다 더 불연성이지만 불연재보다 더 불연성이지만 불연재보다 더 불연성이지만 불연재보다 더 불연성이지만 불연재보다 더 불연성이지만 불연재보다 더 불연성이지만 불연재보다 더 불연성이지만 불연재보다 더 불연성이지만 불연재보다 더 불연성이지만 불연재보다 더 불연성이지만 불연재보다 더 불연성이지만 불연재보다 더 불연성이지만 불연재보다 더 불연성이지만 불연재보다 더 불연성이지만 불연재보다 더 불연성이지만 불연재보다 더 불연성이지만 불연재보다 더 불연성이지만 불연재보다 더 불연성이지만 불연재보다 더 불연성이지만 불연재보다 더 불연성이지만 불연재보다 더 불연성이지만 불연재보다 더 불연성이지만 불연재보다 더 불연성이지만 불연재보다 더 불연성이지만 불연재보다 더 불연성이지만 불연재보다 더 불연성이지만 불연재보다 더 불연성이지만 불연재보다 더 불연성이지만 불연재보다 더 불연성이지만 불연재보다 더 불연성이지만 불연재보다 더 불연성이지만 불연재보다 더 불연성이지만 불연재보다 더 불연성이지만 불연재보다 더 불연성이지만 불연재보다 더 불연성이지만 불연재보다 더 불연성이지만 불연재보다 더 불연성이지만 불연재보다 더 불연성이지만 불연재보다 더 불연성이지만 불연재보다 더 불연성이지만 불연재보다 더 불연성이지만 불연재보다 더 불연성이지만 불연재보다 더 불연성이지만 불연재보다 더 불연성이지만 불연재보다 더 불연성이지만 불연재보다 더 불연성이지만 불연재보다 더 불연성이지만 불연재보다 더 불연성이지만 불연재보다 더 불연성이지만 불연재보다 더 불연성이지만 불연재보다 더 불연성이지만 불연재보다 더 불연성이지만 불연재보다 더 불연성이지만 불연재보다 더 불연성이지만 불연재보다 더 불연성이지만 불연재보다 더 불연성이지만 불연재보다 더 불연성이지만 불연재보다 더 불연성이지만 불연재보다 더 불연성이지만 불연재보다 더 불연성이지만 불연재보다 더 불연성이지만 불연재보다 더 불연성이지만 불연재보다 더 불연성이지만 불연재보다 더 불연성이지만 불연재보다 더 불연성이지만 불연재보다 더 불연성이지만 불연재보다 더 불연성이지만 불연재보다 더 불연성이지만 불연재보다 더 불연성이지만 불연재보다 더 불연성이지만 불연재보다 더 불연성이지만 불연재보다 더 불연성이지만 불연재보다 더 불연성이지만 불연재보다 더 불연성이지만 불연재보다 더 불연성이지만 불연재보다 더 불연성이지만 불연재보다 더 불연성이지만 불연재보다 더 불연성이지만 불연재보다 더 불연성이지만 불연재보다 더 불연성이지만 불연재보다 더 불연성이지만 불연재보다 더 불연성이지만 불연재보다 더 불연성이지만 불연재보다 더 불연성이지만 불연재보다 더 불연성이지만 불연재보다 더 불연성이지만 불연재보다 더 불연성이지만 불연재보다 더 불연성이지만 불연재보다 더 불연성이지만 불연재보다 더 불연성이지만 불연재보다 더 불연성이지만 불연재보다 더 불연성이지만 불연재보다 더 불연성이지만 불연재보다 더 불연성이지만 불연재보다 더 불연성이지만 불연재보다 더 불연성이지만 불연재보다 더 불연성이지만 불연재보다 더 불연성이지만 불연재보다 더 불연성이지만 불연재보다 더 불연성이지만 불연재보다 더 불연성이지만 불연재보다 더 불연성이지만 불연재보다 더 불연성이지만 불연재보다 더 불연성이지만 불연재보다 더 불연성이지만 불연재보다 더 불연성이지만 불연재보다 더 불연성이지만 불연재보다 더 불연성이지만 불연재보다 더 불연성이지만 불연재보다 더 불연성이지만 불연재보다 더 불연성이지만 불연재보다\n",
            " \n",
            "질문 : 어떤 환경 요인이 몰딩 수정을 유발할 수 있는가요? 그리고 반점이 생긴지 1년 이내인 하자에 대해 어떤 보수작업을 해야 하나요?\n",
            "답변 : 몰딩 수정에 영향을 미치는 환경 요인은 다음과 같습니다:1. 햇빛: 몰딩은 햇빛에 노출되면 색이 바뀔 수 있으며, 이는 몰딩 수정을 유발할 수 있습니다.2. 온도 변화: 몰딩은 온도 변화에 민감하여 뜨거워지거나 추워지면 변형될 수 있습니다. 이는 몰딩 수정으로 이어질 수 있습니다.3. 습도: 몰딩은 습도 변화에 민감하여 습도가 높으면 몰딩이 부풀어 오르거나 갈라질 수 있습니다. 이는 몰딩 수정으로 이어질 수 있습니다.4. 기타 환경 요인: 화학 물질, 기타 물질 또는 몰딩 주변의 다른 요인은 몰딩의 품질에 영향을 미쳐 몰딩 수정을 유발할 수 있습니다.반점이 생긴 지 1년 이내인 하자에 대한 보수작업은 다음과 같습니다:1. 몰딩 수정: 몰딩이 변형되거나 떨어지는 경우 수리 및 수정을 통해 원래 상태로 복원할 수 있습니다.2. 새로운 몰딩 설치: 몰딩을 수리하기에는 너무 심각한 경우 새로운 몰딩을 설치하여 문제를 해결할 수 있습니다.3. 환경 조절: 환경 요인으로 인해 몰딩이 손상되는 경우 온도, 습도 또는 다른 환경 요인을 조절하여 몰딩 수정을 방지할 수 있습니다.4. 유지 관리: 몰딩을 청소하고 정기적으로 검사하여 손상을 예방하고 몰딩 수정을 최소화할 수 있습니다.\n",
            " \n",
            "질문 : 벽에 뚫린 구멍이 이상하다고 하셨는데, 타공 불량이 발생하는 원인과 그 해결 방법에 대해 자세히 설명해주실 수 있을까요?\"\n",
            "답변 : 물론이죠! 벽에 뚫린 구멍이 이상하게 보이는 경우는 일반적으로 벽을 타공하는 과정에서 발생하는 타공 불량 때문일 수 있습니다. 타공 불량은 다양한 요인에 의해 발생할 수 있으며, 이를 해결하려면 원인을 파악하고 적절한 조치를 취해야 합니다.타공 불량의 가능한 원인은 다음과 같습니다:1. 잘못된 드릴 선택: 잘못된 드릴을 사용하면 타공 시 벽 재료를 손상하거나 흔들림을 유발할 수 있습니다. 벽 재료와 유형에 따라 적합한 드릴을 사용하세요.2. 부적절한 드릴 속도: 드릴을 너무 빠르게 돌리거나 너무 느리게 돌리면 타공 불량이 발생할 수 있습니다. 적절한 속도를 유지하여 타공이 정확하고 깨끗하도록 하세요.3. 부적절한 압력: 타공 중에 부적절한 압력을 가하면 벽을 손상시키거나 흔들림을 유발할 수 있습니다. 타공 시 적절한 압력을 가하세요.4. 부적절한 타공 위치: 타공 위치가 부적절하면 타공 불량이 발생할 수 있습니다. 타공할 위치를 선택할 때 손상을 최소화하고 구멍이 깨끗하도록 하세요.5. 부적절한 드릴 유지 관리: 드릴이 먼지나 오염물로 더러워지면 타공 불량이 발생할 수 있습니다. 드릴을 정기적으로 청소하고 잘 유지하세요.이러한 문제를 해결하려면 다음 단계를 따르세요:1. 타공 불량의 원인을 파악합니다: 타공 불량의 원인을 파악하는 것은 해결책을 찾는 데 중요합니다. 잘못된 드릴, 부적절한 속도, 부적절한 압력, 부적절한 타공 위치, 부적절한 드릴 유지 관리 등 가능한 원인을 확인하세요.2. 적절한 드릴을 사용합니다: 벽 재료와 유형에 따라 적절한 드릴을 사용하세요. 이렇게 하면 벽 재료를 손상시키거나 흔들림을 유발하는 것을 방지할 수 있습니다.3. 적절한 속도를 유지하세요: 타공 시 드릴을 너무 빠르게 돌리거나 너무 느리게 돌리면 타공 불량이 발생할 수 있습니다. 적절한 속도를 유지하여 타공이 정확하고 깨끗하도록 하세요.4. 적절한 압력을 가하세요: 타공 중에 부적절한 압력을 가하면 벽을 손상시키거나 흔들림을 유발할 수 있습니다. 타공 시 적절한 압력을 가하세요.5. 적절한 타공 위치를 선택하세요: 타공 위치가 부적절하면 타공 불량이 발생할 수 있습니다. 타공할 위치를 선택할 때 손상을 최소화하고 구멍이 깨끗하도록 하세요.6. 드릴을 청소하고 잘 유지하세요: 드릴이 먼지나 오염물로 더러워지면 타공 불량이 발생할 수 있습니다. 드릴을 정기적으로 청소하고 잘 유지하세요.이러한 단계를 따르면 벽에 뚫린 구멍이 이상하게 보이는 문제를 해결하고 타공 결과물을 개선할 수 있습니다.\n",
            " \n",
            "질문 : 다이닝 룸을 더 고급스럽게 꾸밀려면 어떻게 해야 하나요와 아레카 야자를 키우면 어떤 이점이 있는지의 관계는 무엇인가요?\n",
            "답변 : 아레카 야자를 키우는 것과 더 고급스럽게 꾸미는 것은 다음과 같은 관계가 있습니다:1. 아레카 야자를 키우는 것: 아레카 야자는 다양한 종류의 아레카 야자가 있는 아름다운 식물입니다. 아레카 야자는 침실, 식당, 셔터 등 다양한 공간에 꾸미기에 좋은 선택입니다. 아레카 야자는 공기 중의 미세 먼지를 흡수하고 환기를 돕는 등 다양한 이점이 있습니다. 또한 높은 잎과 푸른 색상으로 인해 공간을 밝게 하고 고급스럽게 보이게 할 수 있습니다.2. 고급스럽게 꾸미기: 더 고급스럽게 꾸미는 것은 침실을 더 우아하고 우아하게 만드는 것을 의미합니다. 이를 위해 다양한 방법이 있습니다. 예를 들어, 고급스러운 패브릭 텐트, 침구, 장식품 등 고급스러운 소재를 사용할 수 있습니다. 또한 침실 디자인에 조화를 가져다주고 공간을 밝게 하는 데 도움이 되는 아레카 야자와 같은 식물을 추가할 수 있습니다. 전반적으로 고급스럽게 꾸미는 것은 고급스럽고 우아한 느낌을 주는 고급스럽고 우아한 재료를 사용하는 것을 의미합니다.결론적으로, 아레카 야자를 키우는 것은 침실에 고급스러운 느낌을 더하는 데 도움이 되는 놀라운 식물이며, 고급스럽게 꾸미는 것은 침실을 더 우아하고 우아하게 만드는 데 도움이 되는 다양한 방법을 의미합니다.\n",
            " \n",
            "질문 : 습도가 높아서 석고수정이 발생하나요? 또한, 피스 하자가 무엇인지 자세히 설명해 주실 수 있나요?\n",
            "답변 : 네, 물론이죠! 석고수정은 옥수수가 수분이 많아 발생하는 현상입니다. 옥수수가 많은 수분을 흡수하면 수정처럼 보이는 석고수정이 생길 수 있습니다. 이는 옥수수가 과도한 수분을 흡수하면 발생하는 일반적인 현상입니다.피스 하자는 피스 하자는 피스 하자는 피스 하자는 피스 하자는 피스 하자는 피스 하자는 피스 하자는 피스 하자는 피스 하자는 피스 하자는 피스 하자는 피스 하자는 피스 하자는 피스 하자는 피스 하자는 피스 하자는 피스 하자는 피스 하자는 피스 하자는 피스 하자는 피스 하자는 피스 하자는 피스 하자는 피스 하자는 피스 하자는 피스 하자는 피스 하자는 피스 하자는 피스 하자는 피스 하자는 피스 하자는 피스 하자는 피스 하자는 피스 하자는 피스 하자는 피스 하자는 피스 하자는 피스 하자는 피스 하자는 피스 하자는 피스 하자는 피스 하자는 피스 하자는 피스 하자는 피스 하자는 피스 하자는 피스 하자는 피스 하자는 피스 하자는 피스 하자는 피스 하자는 피스 하자는 피스 하자는 피스 하자는 피스 하자는 피스 하자는 피스 하자는 피스 하자는 피스 하자는 피스 하자는 피스 하자는 피스 하자는 피스 하자는 피스 하자는 피스 하자는 피스 하자는 피스 하자는 피스 하자는 피스 하자는 피스 하자는 피스 하자는 피스 하자는 피스 하자는 피스 하자는 피스 하자는 피스 하자는 피스 하자는 피스 하자는 피스 하자는 피스 하자는 피스 하자는 피스 하자는 피스 하자는 피스 하자는 피스 하자는 피스 하자는 피스 하자는 피스 하자는 피스 하자는 피스 하자는 피스 하자는 피스 하자는 피스 하자는 피스 하자는 피스 하자는 피스 하자는 피스 하자는 피스 하자는 피스 하자는 피스 하자는 피스 하자는 피스 하자는 피스 하자는 피스 하자는 피스 하자는 피스 하자는 피스 하자는 피스 하자는 피스 하자는 피스 하자는 피스 하자는 피스 하자는 피스 하자는 피스 하자는 피스 하자는 피스 하자는 피스 하자는 피스 하자는 피스 하자는 피스 하자는 피스 하자는 피스 하자는 피스 하자는 피스 하자는 피스 하자는 피스 하자는 피스 하자는 피스 하자는 피스 하자는 피스 하자는 피스 하자는 피스 하자는 피스 하자는 피스 하자는 피스 하자는 피스 하자는 피스 하자는 피스 하자는 피스 하자는 피스 하자는 피스 하자는 피스 하자는 피스 하자는 피스 하자는 피스 하자는 피스 하자는 피스 하자는 피스 하자는 피스 하자는 피스 하자는 피스 하자는 피스 하자는 피스 하자는 피스 하자는 피스 하자는 피스 하자는 피스 하자는 피스 하자는 피스 하자는 피스 하자는 피스 하자는 피스 하자는 피스 하자는 피스 하자는 피스 하자는 피스 하자는 피스 하자는 피스 하자는 피스 하자는 피스 하자는 피스 하자는 피스 하자는 피스 하자는 피스 하자는 피스 하자는 피스 하자는 피스 하자는 피스 하자는 피스 하자는 피스 하자는 피스 하자는 피스 하자는 피스 하자는 피스 하자는 피스 하자는 피스 하자는 피스 하자는 피스 하자는 피스 하자는 피스 하자는 피스 하자는 피스 하자는 피스 하자는 피스 하자는 피스 하자는 피스 하자는 피스 하자는 피스 하자는 피스 하자는 피스 하자는 피스 하자는 피스 하자는 피스 하자는 피스 하자는 피스 하자는 피스 하자는 피스 하자는 피스 하자는 피스 하자는 피스 하자는 피스 하자는 피스 하자는 피스 하자는 피스 하자는 피스 하자는 피스 하자는 피스 하자는 피스 하자는 피스 하자는 피스 하자는 피스 하자는 피스 하자는 피스 하자는 피스 하자는 피스 하자는 피스 하자는 피스 하자는 피스 하자는 피스 하자는 피스 하자는 피스 하자는 피스 하자는 피스 하자는 피스 하자는 피스 하자는 피스 하자는 피스 하자는 피스 하자는 피스 하자는 피스 하자는 피스 하자는 피스 하자는 피스 하자는 피스 하자는 피스 하자는 피스 하자는 피스 하자는 피스 하자는 피스 하자는 피스 하자는 피스 하자는 피스 하자는 피스 하자는 피스 하자는 피스 하자는 피스 하자는 피스 하자는 피스 하자는 피스 하자는 피스 하자는 피스 하자는 피스\n",
            " \n",
            "질문 : 공동주택의 실내 공기질을 측정할 때, 어떤 층에서 샘플을 채취하는 것이 가장 적절한가요?\"\n",
            "답변 : 공동주택의 실내 공기질을 측정할 때 어떤 층에서 샘플을 채취해야 하는지는 측정하려는 특정 대상에 따라 달라집니다. 공기 중의 대기 오염 물질이나 화학 물질을 측정하려면 층의 가장 낮은 부분에서 샘플을 채취하는 것이 일반적입니다. 이는 공기가 앙징 현상을 일으키고 가장 낮은 부분으로 가라앉기 때문입니다. 이 부분에서 샘플을 채취하면 공기 중의 오염 물질 농도가 가장 높아질 것입니다.하지만 특정 공동주택 층의 특정 공기 중 오염 물질이나 화학 물질에 대한 정보를 원한다면 해당 층의 공기 중 오염 물질 농도를 정확하게 측정하기 위해 해당 층에서 샘플을 채취하는 것이 좋습니다.\n",
            " \n"
          ]
        }
      ]
    },
    {
      "cell_type": "code",
      "source": [
        "# Embedding Vector 추출\n",
        "vector_model = SentenceTransformer('distiluse-base-multilingual-cased-v1') # 평가를 위한 Embedding Vector 추출에 활용하는 모델\n",
        "\n",
        "pred_vector = vector_model.encode(test_answers)\n",
        "pred_vector.shape"
      ],
      "metadata": {
        "id": "UfKe32y7_EGn"
      },
      "execution_count": null,
      "outputs": []
    },
    {
      "cell_type": "code",
      "source": [
        "submission = pd.read_csv(f'{data_path}sample_submission.csv')\n",
        "submission"
      ],
      "metadata": {
        "id": "2PD0zUtq_Jay"
      },
      "execution_count": null,
      "outputs": []
    },
    {
      "cell_type": "code",
      "source": [
        "submission.iloc[:,1:] = pred_vector\n",
        "submission"
      ],
      "metadata": {
        "id": "EJdEelzK_KRa"
      },
      "execution_count": null,
      "outputs": []
    },
    {
      "cell_type": "code",
      "source": [
        "submission.to_csv(f'{data_path}submission_mega0302_epoch1_max2048_0303.csv', index=False)\n",
        "submission.to_csv(f'submission_mega0302_epoch1_max2048_0303.csv', index=False)\n",
        "\n"
      ],
      "metadata": {
        "id": "4dU8lQb4_RPY"
      },
      "execution_count": null,
      "outputs": []
    }
  ]
}